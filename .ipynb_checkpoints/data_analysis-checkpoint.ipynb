{
 "cells": [
  {
   "cell_type": "markdown",
   "metadata": {},
   "source": [
    "# 数据分析"
   ]
  },
  {
   "cell_type": "code",
   "execution_count": 236,
   "metadata": {
    "ExecuteTime": {
     "end_time": "2023-05-20T16:32:15.250153600Z",
     "start_time": "2023-05-20T16:32:15.163135300Z"
    },
    "collapsed": true
   },
   "outputs": [],
   "source": [
    "import pandas as pd\n",
    "import numpy as np\n",
    "import statsmodels.api as sm\n",
    "from linearmodels import PanelOLS"
   ]
  },
  {
   "cell_type": "markdown",
   "metadata": {},
   "source": [
    "## 读取数据"
   ]
  },
  {
   "cell_type": "code",
   "execution_count": 237,
   "metadata": {
    "ExecuteTime": {
     "end_time": "2023-05-20T16:32:15.428194100Z",
     "start_time": "2023-05-20T16:32:15.178139Z"
    }
   },
   "outputs": [
    {
     "name": "stdout",
     "output_type": "stream",
     "text": [
      "<class 'pandas.core.frame.DataFrame'>\n",
      "RangeIndex: 10265 entries, 0 to 10264\n",
      "Data columns (total 10 columns):\n",
      " #   Column  Non-Null Count  Dtype  \n",
      "---  ------  --------------  -----  \n",
      " 0   Stk_cd  10265 non-null  int64  \n",
      " 1   CSR     10265 non-null  float64\n",
      " 2   BP      10265 non-null  float64\n",
      " 3   SOE     10265 non-null  float64\n",
      " 4   SIZE    10265 non-null  float64\n",
      " 5   LEV     10265 non-null  float64\n",
      " 6   YEAR    10265 non-null  int64  \n",
      " 7   TOBINQ  10265 non-null  float64\n",
      " 8   TOP10   10265 non-null  float64\n",
      " 9   IND     10265 non-null  int64  \n",
      "dtypes: float64(7), int64(3)\n",
      "memory usage: 802.1 KB\n"
     ]
    }
   ],
   "source": [
    "# 读取数据\n",
    "df = pd.read_excel(\"./final_data.xls\")\n",
    "# 查看数据概况\n",
    "df.info()"
   ]
  },
  {
   "cell_type": "code",
   "execution_count": 238,
   "metadata": {
    "ExecuteTime": {
     "end_time": "2023-05-20T16:32:15.519215200Z",
     "start_time": "2023-05-20T16:32:15.434196600Z"
    }
   },
   "outputs": [
    {
     "name": "stdout",
     "output_type": "stream",
     "text": [
      "       Stk_cd    CSR       BP       SOE       SIZE       LEV  YEAR    TOBINQ  \\\n",
      "0           2  76.52   8.2292  0.000000  27.351214  0.810123  2016  1.171128   \n",
      "1           6  63.26   0.2853  0.000000  23.359293  0.681010  2016  1.613125   \n",
      "2           8  21.29   3.0131  0.010889  22.692695  0.182457  2016  4.443183   \n",
      "3           9  60.48   4.6359  0.000000  23.693515  0.626512  2016  1.875035   \n",
      "4          11  38.97  -0.0955  0.663507  22.617843  0.692242  2016  1.414112   \n",
      "...       ...    ...      ...       ...        ...       ...   ...       ...   \n",
      "10260  603979  22.04   6.1719  0.000000  22.642601  0.332358  2020  1.310231   \n",
      "10261  603988  28.11  22.5746  0.000000  21.002087  0.426588  2020  2.977210   \n",
      "10262  603989  25.51  10.5181  0.000000  22.078823  0.334527  2020  3.133070   \n",
      "10263  603998  27.31   5.2548  0.000000  21.448076  0.408192  2020  2.269079   \n",
      "10264  603999  16.20   3.2931  0.000000  21.472300  0.167235  2020  1.768729   \n",
      "\n",
      "       TOP10  IND  \n",
      "0      57.40    0  \n",
      "1      40.86    0  \n",
      "2      40.42    1  \n",
      "3      21.41    0  \n",
      "4      66.55    0  \n",
      "...      ...  ...  \n",
      "10260  56.97    0  \n",
      "10261  67.87    1  \n",
      "10262  74.30    1  \n",
      "10263  51.93    1  \n",
      "10264  64.62    0  \n",
      "\n",
      "[10265 rows x 10 columns]\n"
     ]
    }
   ],
   "source": [
    "from scipy.stats.mstats import winsorize\n",
    "\n",
    "df['BP'] = winsorize(df['BP'], limits=[0.01, 0.01])\n",
    "print(df)"
   ]
  },
  {
   "cell_type": "code",
   "execution_count": 239,
   "metadata": {
    "ExecuteTime": {
     "end_time": "2023-05-20T16:32:15.549221100Z",
     "start_time": "2023-05-20T16:32:15.466203800Z"
    }
   },
   "outputs": [],
   "source": [
    "# 创建虚拟变量（年份）\n",
    "year_dummies = pd.get_dummies(df['YEAR'], prefix='YEAR', drop_first=True)\n",
    "# 合并虚拟变量到原始数据\n",
    "data_with_dummies = pd.concat([df, year_dummies], axis=1)\n",
    "# 设置双重索引\n",
    "data_with_dummies = data_with_dummies.set_index([\"Stk_cd\", \"YEAR\"])"
   ]
  },
  {
   "cell_type": "code",
   "execution_count": 240,
   "metadata": {
    "ExecuteTime": {
     "end_time": "2023-05-20T16:32:15.549221100Z",
     "start_time": "2023-05-20T16:32:15.480205900Z"
    }
   },
   "outputs": [
    {
     "name": "stdout",
     "output_type": "stream",
     "text": [
      "               CSR       BP       SOE       SIZE       LEV    TOBINQ  TOP10  \\\n",
      "Stk_cd YEAR                                                                   \n",
      "2      2016  76.52   8.2292  0.000000  27.351214  0.810123  1.171128  57.40   \n",
      "6      2016  63.26   0.2853  0.000000  23.359293  0.681010  1.613125  40.86   \n",
      "8      2016  21.29   3.0131  0.010889  22.692695  0.182457  4.443183  40.42   \n",
      "9      2016  60.48   4.6359  0.000000  23.693515  0.626512  1.875035  21.41   \n",
      "11     2016  38.97  -0.0955  0.663507  22.617843  0.692242  1.414112  66.55   \n",
      "...            ...      ...       ...        ...       ...       ...    ...   \n",
      "603979 2020  22.04   6.1719  0.000000  22.642601  0.332358  1.310231  56.97   \n",
      "603988 2020  28.11  22.5746  0.000000  21.002087  0.426588  2.977210  67.87   \n",
      "603989 2020  25.51  10.5181  0.000000  22.078823  0.334527  3.133070  74.30   \n",
      "603998 2020  27.31   5.2548  0.000000  21.448076  0.408192  2.269079  51.93   \n",
      "603999 2020  16.20   3.2931  0.000000  21.472300  0.167235  1.768729  64.62   \n",
      "\n",
      "             IND  YEAR_2017  YEAR_2018  YEAR_2019  YEAR_2020  \n",
      "Stk_cd YEAR                                                   \n",
      "2      2016    0          0          0          0          0  \n",
      "6      2016    0          0          0          0          0  \n",
      "8      2016    1          0          0          0          0  \n",
      "9      2016    0          0          0          0          0  \n",
      "11     2016    0          0          0          0          0  \n",
      "...          ...        ...        ...        ...        ...  \n",
      "603979 2020    0          0          0          0          1  \n",
      "603988 2020    1          0          0          0          1  \n",
      "603989 2020    1          0          0          0          1  \n",
      "603998 2020    1          0          0          0          1  \n",
      "603999 2020    0          0          0          0          1  \n",
      "\n",
      "[10265 rows x 12 columns]\n"
     ]
    }
   ],
   "source": [
    "print(data_with_dummies)"
   ]
  },
  {
   "cell_type": "markdown",
   "metadata": {},
   "source": [
    "## 描述性分析和相关性分析"
   ]
  },
  {
   "cell_type": "code",
   "execution_count": 241,
   "metadata": {
    "ExecuteTime": {
     "end_time": "2023-05-20T16:32:15.646242300Z",
     "start_time": "2023-05-20T16:32:15.519215200Z"
    }
   },
   "outputs": [
    {
     "name": "stdout",
     "output_type": "stream",
     "text": [
      "                CSR            BP           SOE          SIZE           LEV  \\\n",
      "count  10265.000000  10265.000000  10265.000000  10265.000000  10265.000000   \n",
      "mean      21.702242      4.726922      0.022438     22.543426      0.421333   \n",
      "std       12.093262      5.207078      0.087845      1.324199      0.198116   \n",
      "min      -18.450000    -10.202400      0.000000     15.921008      0.006171   \n",
      "25%       16.020000      1.501500      0.000000     21.628259      0.264822   \n",
      "50%       21.430000      3.800100      0.000000     22.357550      0.415233   \n",
      "75%       26.460000      7.263000      0.000000     23.272548      0.565955   \n",
      "max       87.020000     22.574600      0.807999     28.624722      1.230893   \n",
      "\n",
      "             TOBINQ         TOP10           IND  \n",
      "count  10265.000000  10265.000000  10265.000000  \n",
      "mean       2.318369     56.804785      0.633512  \n",
      "std        5.433116     14.604796      0.481868  \n",
      "min        0.679844      8.260000      0.000000  \n",
      "25%        1.305141     46.430000      0.000000  \n",
      "50%        1.810023     56.900000      1.000000  \n",
      "75%        2.655971     67.000000      1.000000  \n",
      "max      526.984917    100.970000      1.000000  \n",
      "             CSR        BP       SOE      SIZE       LEV    TOBINQ     TOP10  \\\n",
      "CSR     1.000000  0.396297  0.051686  0.219163 -0.020749  0.007477  0.192654   \n",
      "BP      0.396297  1.000000 -0.013354  0.173416 -0.048696  0.017925  0.190002   \n",
      "SOE     0.051686 -0.013354  1.000000  0.139526  0.107269 -0.034333  0.180717   \n",
      "SIZE    0.219163  0.173416  0.139526  1.000000  0.552033 -0.168401  0.254091   \n",
      "LEV    -0.020749 -0.048696  0.107269  0.552033  1.000000 -0.095123  0.045241   \n",
      "TOBINQ  0.007477  0.017925 -0.034333 -0.168401 -0.095123  1.000000 -0.022287   \n",
      "TOP10   0.192654  0.190002  0.180717  0.254091  0.045241 -0.022287  1.000000   \n",
      "IND    -0.091997  0.043337 -0.113559 -0.230979 -0.206253  0.013553 -0.050729   \n",
      "\n",
      "             IND  \n",
      "CSR    -0.091997  \n",
      "BP      0.043337  \n",
      "SOE    -0.113559  \n",
      "SIZE   -0.230979  \n",
      "LEV    -0.206253  \n",
      "TOBINQ  0.013553  \n",
      "TOP10  -0.050729  \n",
      "IND     1.000000  \n"
     ]
    }
   ],
   "source": [
    "df = df.set_index([\"Stk_cd\", \"YEAR\"])\n",
    "# 描述性分析\n",
    "print(df.describe())\n",
    "# 相关性分析\n",
    "print(df.corr())\n",
    "# # 绘制相关性热图\n",
    "# import seaborn as sns\n",
    "# sns.heatmap(df.corr(), annot=True, cmap=\"Blues\")\n",
    "# # 描述性分析\n",
    "# print(data_with_dummies.describe())\n",
    "# # 相关性分析\n",
    "# print(data_with_dummies.corr())\n",
    "# # 绘制相关性热图\n",
    "# import seaborn as sns\n",
    "#\n",
    "# sns.heatmap(data_with_dummies.corr(), annot=True, cmap=\"Blues\")"
   ]
  },
  {
   "cell_type": "code",
   "execution_count": 242,
   "metadata": {
    "ExecuteTime": {
     "end_time": "2023-05-20T16:32:16.528463100Z",
     "start_time": "2023-05-20T16:32:15.560224Z"
    }
   },
   "outputs": [
    {
     "data": {
      "image/png": "[encoded data removed]",
      "text/plain": [
       "<Figure size 453.543x340.157 with 2 Axes>"
      ]
     },
     "metadata": {},
     "output_type": "display_data"
    }
   ],
   "source": [
    "# here put the import lib\n",
    "import pandas as pd\n",
    "import seaborn as sns\n",
    "import matplotlib.pyplot as plt\n",
    "import numpy as np\n",
    "from scipy.stats import pearsonr\n",
    "import matplotlib as mpl\n",
    "\n",
    "\n",
    "def cm2inch(x, y):\n",
    "    return x / 2.54, y / 2.54\n",
    "\n",
    "\n",
    "size1 = 10.5\n",
    "mpl.rcParams.update(\n",
    "    {\n",
    "        'text.usetex': False,\n",
    "        'font.family': 'stixgeneral',\n",
    "        'mathtext.fontset': 'stix',\n",
    "        \"font.family\": 'serif',\n",
    "        \"font.size\": size1,\n",
    "        \"font.serif\": ['Times New Roman'],\n",
    "    }\n",
    ")\n",
    "fontdict = {'weight': 'bold', 'size': size1, 'family': 'SimHei'}\n",
    "\n",
    "df_coor = df.corr()\n",
    "fig = plt.figure(figsize=(cm2inch(16, 12)))\n",
    "ax1 = plt.gca()\n",
    "\n",
    "#构造mask，去除重复数据显示\n",
    "mask = np.zeros_like(df_coor)\n",
    "mask[np.triu_indices_from(mask)] = True\n",
    "mask2 = mask\n",
    "mask = (np.flipud(mask) - 1) * (-1)\n",
    "mask = np.rot90(mask, k=-1)\n",
    "\n",
    "im1 = sns.heatmap(df_coor, annot=True, cmap=\"RdBu\"\n",
    "                  , mask=mask  #构造mask，去除重复数据显示\n",
    "                  , vmax=1, vmin=-1\n",
    "                  , fmt='.2f', ax=ax1)\n",
    "\n",
    "ax1.tick_params(axis='both', length=0)\n",
    "\n",
    "#计算相关性显著性并显示\n",
    "rlist = []\n",
    "plist = []\n",
    "for i in df.columns.values:\n",
    "    for j in df.columns.values:\n",
    "        r, p = pearsonr(df[i], df[j])\n",
    "        rlist.append(r)\n",
    "        plist.append(p)\n",
    "\n",
    "rarr = np.asarray(rlist).reshape(len(df.columns.values), len(df.columns.values))\n",
    "parr = np.asarray(plist).reshape(len(df.columns.values), len(df.columns.values))\n",
    "xlist = ax1.get_xticks()\n",
    "ylist = ax1.get_yticks()\n",
    "\n",
    "widthx = 0\n",
    "widthy = -0.15\n",
    "\n",
    "for m in ax1.get_xticks():\n",
    "    for n in ax1.get_yticks():\n",
    "        pv = (parr[int(m), int(n)])\n",
    "        rv = (rarr[int(m), int(n)])\n",
    "        if mask2[int(m), int(n)] < 1.:\n",
    "            if abs(rv) > 0.5:\n",
    "                if pv < 0.05 and pv >= 0.01:\n",
    "                    ax1.text(n + widthx, m + widthy, '*', ha='center', color='white')\n",
    "                if pv < 0.01 and pv >= 0.001:\n",
    "                    ax1.text(n + widthx, m + widthy, '**', ha='center', color='white')\n",
    "                if pv < 0.001:\n",
    "                    # print([int(m),int(n)])\n",
    "                    ax1.text(n + widthx, m + widthy, '***', ha='center', color='white')\n",
    "            else:\n",
    "                if pv < 0.05 and pv >= 0.01:\n",
    "                    ax1.text(n + widthx, m + widthy, '*', ha='center', color='k')\n",
    "                elif pv < 0.01 and pv >= 0.001:\n",
    "                    ax1.text(n + widthx, m + widthy, '**', ha='center', color='k')\n",
    "                elif pv < 0.001:\n",
    "                    ax1.text(n + widthx, m + widthy, '***', ha='center', color='k')\n",
    "plt.savefig(r'D:\\学期\\大三春\\计量经济学\\大作业\\成品\\fig\\r_demo.png', dpi=600)\n",
    "plt.show()"
   ]
  },
  {
   "cell_type": "markdown",
   "metadata": {},
   "source": [
    "## 固定效应模型"
   ]
  },
  {
   "cell_type": "code",
   "execution_count": 255,
   "metadata": {
    "ExecuteTime": {
     "end_time": "2023-05-20T16:36:14.703188400Z",
     "start_time": "2023-05-20T16:36:14.563158300Z"
    }
   },
   "outputs": [
    {
     "data": {
      "text/html": [
       "<table class=\"simpletable\">\n",
       "<caption>PanelOLS Estimation Summary</caption>\n",
       "<tr>\n",
       "  <th>Dep. Variable:</th>           <td>BP</td>        <th>  R-squared:         </th>     <td>0.0614</td>  \n",
       "</tr>\n",
       "<tr>\n",
       "  <th>Estimator:</th>            <td>PanelOLS</td>     <th>  R-squared (Between):</th>    <td>-33.936</td> \n",
       "</tr>\n",
       "<tr>\n",
       "  <th>No. Observations:</th>       <td>10265</td>      <th>  R-squared (Within):</th>     <td>0.0614</td>  \n",
       "</tr>\n",
       "<tr>\n",
       "  <th>Date:</th>             <td>Sun, May 21 2023</td> <th>  R-squared (Overall):</th>    <td>-25.704</td> \n",
       "</tr>\n",
       "<tr>\n",
       "  <th>Time:</th>                 <td>00:38:08</td>     <th>  Log-likelihood     </th>   <td>-2.698e+04</td>\n",
       "</tr>\n",
       "<tr>\n",
       "  <th>Cov. Estimator:</th>      <td>Unadjusted</td>    <th>                     </th>        <td></td>     \n",
       "</tr>\n",
       "<tr>\n",
       "  <th></th>                          <td></td>         <th>  F-statistic:       </th>     <td>76.733</td>  \n",
       "</tr>\n",
       "<tr>\n",
       "  <th>Entities:</th>               <td>2053</td>       <th>  P-value            </th>     <td>0.0000</td>  \n",
       "</tr>\n",
       "<tr>\n",
       "  <th>Avg Obs:</th>               <td>5.0000</td>      <th>  Distribution:      </th>    <td>F(7,8205)</td>\n",
       "</tr>\n",
       "<tr>\n",
       "  <th>Min Obs:</th>               <td>5.0000</td>      <th>                     </th>        <td></td>     \n",
       "</tr>\n",
       "<tr>\n",
       "  <th>Max Obs:</th>               <td>5.0000</td>      <th>  F-statistic (robust):</th>   <td>76.733</td>  \n",
       "</tr>\n",
       "<tr>\n",
       "  <th></th>                          <td></td>         <th>  P-value            </th>     <td>0.0000</td>  \n",
       "</tr>\n",
       "<tr>\n",
       "  <th>Time periods:</th>             <td>5</td>        <th>  Distribution:      </th>    <td>F(7,8205)</td>\n",
       "</tr>\n",
       "<tr>\n",
       "  <th>Avg Obs:</th>               <td>2053.0</td>      <th>                     </th>        <td></td>     \n",
       "</tr>\n",
       "<tr>\n",
       "  <th>Min Obs:</th>               <td>2053.0</td>      <th>                     </th>        <td></td>     \n",
       "</tr>\n",
       "<tr>\n",
       "  <th>Max Obs:</th>               <td>2053.0</td>      <th>                     </th>        <td></td>     \n",
       "</tr>\n",
       "<tr>\n",
       "  <th></th>                          <td></td>         <th>                     </th>        <td></td>     \n",
       "</tr>\n",
       "</table>\n",
       "<table class=\"simpletable\">\n",
       "<caption>Parameter Estimates</caption>\n",
       "<tr>\n",
       "     <td></td>    <th>Parameter</th> <th>Std. Err.</th> <th>T-stat</th>  <th>P-value</th> <th>Lower CI</th> <th>Upper CI</th>\n",
       "</tr>\n",
       "<tr>\n",
       "  <th>CSR</th>     <td>0.0838</td>    <td>0.0041</td>   <td>20.206</td>  <td>0.0000</td>   <td>0.0757</td>   <td>0.0920</td> \n",
       "</tr>\n",
       "<tr>\n",
       "  <th>SIZE</th>    <td>1.7045</td>    <td>0.1609</td>   <td>10.593</td>  <td>0.0000</td>   <td>1.3891</td>   <td>2.0199</td> \n",
       "</tr>\n",
       "<tr>\n",
       "  <th>LEV</th>     <td>-4.2567</td>   <td>0.6154</td>   <td>-6.9166</td> <td>0.0000</td>   <td>-5.4631</td>  <td>-3.0503</td>\n",
       "</tr>\n",
       "<tr>\n",
       "  <th>TOBINQ</th>  <td>0.0107</td>    <td>0.0082</td>   <td>1.3080</td>  <td>0.1909</td>   <td>-0.0053</td>  <td>0.0267</td> \n",
       "</tr>\n",
       "<tr>\n",
       "  <th>TOP10</th>   <td>0.0339</td>    <td>0.0091</td>   <td>3.7177</td>  <td>0.0002</td>   <td>0.0160</td>   <td>0.0518</td> \n",
       "</tr>\n",
       "<tr>\n",
       "  <th>SOE</th>     <td>-0.0596</td>   <td>0.6979</td>   <td>-0.0853</td> <td>0.9320</td>   <td>-1.4276</td>  <td>1.3085</td> \n",
       "</tr>\n",
       "<tr>\n",
       "  <th>IND</th>     <td>0.5326</td>    <td>0.4471</td>   <td>1.1912</td>  <td>0.2336</td>   <td>-0.3438</td>  <td>1.4090</td> \n",
       "</tr>\n",
       "</table><br/><br/>F-test for Poolability: 3.7512<br/>P-value: 0.0000<br/>Distribution: F(2052,8205)<br/><br/>Included effects: Entity"
      ],
      "text/latex": [
       "\\begin{center}\n",
       "\\begin{tabular}{lclc}\n",
       "\\toprule\n",
       "\\textbf{Dep. Variable:}    &         BP         & \\textbf{  R-squared:         }   &      0.0614      \\\\\n",
       "\\textbf{Estimator:}        &      PanelOLS      & \\textbf{  R-squared (Between):}  &     -33.936      \\\\\n",
       "\\textbf{No. Observations:} &       10265        & \\textbf{  R-squared (Within):}   &      0.0614      \\\\\n",
       "\\textbf{Date:}             &  Sun, May 21 2023  & \\textbf{  R-squared (Overall):}  &     -25.704      \\\\\n",
       "\\textbf{Time:}             &      00:38:08      & \\textbf{  Log-likelihood     }   &    -2.698e+04    \\\\\n",
       "\\textbf{Cov. Estimator:}   &     Unadjusted     & \\textbf{                     }   &                  \\\\\n",
       "\\textbf{}                  &                    & \\textbf{  F-statistic:       }   &      76.733      \\\\\n",
       "\\textbf{Entities:}         &        2053        & \\textbf{  P-value            }   &      0.0000      \\\\\n",
       "\\textbf{Avg Obs:}          &       5.0000       & \\textbf{  Distribution:      }   &    F(7,8205)     \\\\\n",
       "\\textbf{Min Obs:}          &       5.0000       & \\textbf{                     }   &                  \\\\\n",
       "\\textbf{Max Obs:}          &       5.0000       & \\textbf{  F-statistic (robust):} &      76.733      \\\\\n",
       "\\textbf{}                  &                    & \\textbf{  P-value            }   &      0.0000      \\\\\n",
       "\\textbf{Time periods:}     &         5          & \\textbf{  Distribution:      }   &    F(7,8205)     \\\\\n",
       "\\textbf{Avg Obs:}          &       2053.0       & \\textbf{                     }   &                  \\\\\n",
       "\\textbf{Min Obs:}          &       2053.0       & \\textbf{                     }   &                  \\\\\n",
       "\\textbf{Max Obs:}          &       2053.0       & \\textbf{                     }   &                  \\\\\n",
       "\\textbf{}                  &                    & \\textbf{                     }   &                  \\\\\n",
       "\\bottomrule\n",
       "\\end{tabular}\n",
       "\\begin{tabular}{lcccccc}\n",
       "                & \\textbf{Parameter} & \\textbf{Std. Err.} & \\textbf{T-stat} & \\textbf{P-value} & \\textbf{Lower CI} & \\textbf{Upper CI}  \\\\\n",
       "\\midrule\n",
       "\\textbf{CSR}    &       0.0838       &       0.0041       &      20.206     &      0.0000      &       0.0757      &       0.0920       \\\\\n",
       "\\textbf{SIZE}   &       1.7045       &       0.1609       &      10.593     &      0.0000      &       1.3891      &       2.0199       \\\\\n",
       "\\textbf{LEV}    &      -4.2567       &       0.6154       &     -6.9166     &      0.0000      &      -5.4631      &      -3.0503       \\\\\n",
       "\\textbf{TOBINQ} &       0.0107       &       0.0082       &      1.3080     &      0.1909      &      -0.0053      &       0.0267       \\\\\n",
       "\\textbf{TOP10}  &       0.0339       &       0.0091       &      3.7177     &      0.0002      &       0.0160      &       0.0518       \\\\\n",
       "\\textbf{SOE}    &      -0.0596       &       0.6979       &     -0.0853     &      0.9320      &      -1.4276      &       1.3085       \\\\\n",
       "\\textbf{IND}    &       0.5326       &       0.4471       &      1.1912     &      0.2336      &      -0.3438      &       1.4090       \\\\\n",
       "\\bottomrule\n",
       "\\end{tabular}\n",
       "%\\caption{PanelOLS Estimation Summary}\n",
       "\\end{center}\n",
       "\n",
       "F-test for Poolability: 3.7512 \\newline\n",
       " P-value: 0.0000 \\newline\n",
       " Distribution: F(2052,8205) \\newline\n",
       "  \\newline\n",
       " Included effects: Entity"
      ],
      "text/plain": [
       "<class 'linearmodels.compat.statsmodels.Summary'>\n",
       "\"\"\"\n",
       "                          PanelOLS Estimation Summary                           \n",
       "================================================================================\n",
       "Dep. Variable:                     BP   R-squared:                        0.0614\n",
       "Estimator:                   PanelOLS   R-squared (Between):             -33.936\n",
       "No. Observations:               10265   R-squared (Within):               0.0614\n",
       "Date:                Sun, May 21 2023   R-squared (Overall):             -25.704\n",
       "Time:                        00:38:08   Log-likelihood                -2.698e+04\n",
       "Cov. Estimator:            Unadjusted                                           \n",
       "                                        F-statistic:                      76.733\n",
       "Entities:                        2053   P-value                           0.0000\n",
       "Avg Obs:                       5.0000   Distribution:                  F(7,8205)\n",
       "Min Obs:                       5.0000                                           \n",
       "Max Obs:                       5.0000   F-statistic (robust):             76.733\n",
       "                                        P-value                           0.0000\n",
       "Time periods:                       5   Distribution:                  F(7,8205)\n",
       "Avg Obs:                       2053.0                                           \n",
       "Min Obs:                       2053.0                                           \n",
       "Max Obs:                       2053.0                                           \n",
       "                                                                                \n",
       "                             Parameter Estimates                              \n",
       "==============================================================================\n",
       "            Parameter  Std. Err.     T-stat    P-value    Lower CI    Upper CI\n",
       "------------------------------------------------------------------------------\n",
       "CSR            0.0838     0.0041     20.206     0.0000      0.0757      0.0920\n",
       "SIZE           1.7045     0.1609     10.593     0.0000      1.3891      2.0199\n",
       "LEV           -4.2567     0.6154    -6.9166     0.0000     -5.4631     -3.0503\n",
       "TOBINQ         0.0107     0.0082     1.3080     0.1909     -0.0053      0.0267\n",
       "TOP10          0.0339     0.0091     3.7177     0.0002      0.0160      0.0518\n",
       "SOE           -0.0596     0.6979    -0.0853     0.9320     -1.4276      1.3085\n",
       "IND            0.5326     0.4471     1.1912     0.2336     -0.3438      1.4090\n",
       "==============================================================================\n",
       "\n",
       "F-test for Poolability: 3.7512\n",
       "P-value: 0.0000\n",
       "Distribution: F(2052,8205)\n",
       "\n",
       "Included effects: Entity\n",
       "\"\"\""
      ]
     },
     "execution_count": 255,
     "metadata": {},
     "output_type": "execute_result"
    }
   ],
   "source": [
    "# 建立固定效应模型\n",
    "model_fe = PanelOLS(data_with_dummies['BP'],\n",
    "                    data_with_dummies[\n",
    "                        ['CSR', 'SIZE', 'LEV', 'TOBINQ', 'TOP10', 'SOE', 'IND']],\n",
    "                    entity_effects=True,time_eff)  # 使用entity_effects参数启用固定效应\n",
    "# 拟合模型\n",
    "results_fe = model_fe.fit()\n",
    "# 查看回归结果\n",
    "results_fe.summary"
   ]
  },
  {
   "cell_type": "markdown",
   "metadata": {},
   "source": [
    "## 随机效应模型"
   ]
  },
  {
   "cell_type": "code",
   "execution_count": 244,
   "metadata": {
    "ExecuteTime": {
     "end_time": "2023-05-20T16:32:16.783520900Z",
     "start_time": "2023-05-20T16:32:16.643488600Z"
    }
   },
   "outputs": [
    {
     "data": {
      "text/html": [
       "<table class=\"simpletable\">\n",
       "<caption>RandomEffects Estimation Summary</caption>\n",
       "<tr>\n",
       "  <th>Dep. Variable:</th>           <td>BP</td>        <th>  R-squared:         </th>     <td>0.3769</td>   \n",
       "</tr>\n",
       "<tr>\n",
       "  <th>Estimator:</th>          <td>RandomEffects</td>  <th>  R-squared (Between):</th>    <td>0.7106</td>   \n",
       "</tr>\n",
       "<tr>\n",
       "  <th>No. Observations:</th>       <td>10265</td>      <th>  R-squared (Within):</th>     <td>0.0636</td>   \n",
       "</tr>\n",
       "<tr>\n",
       "  <th>Date:</th>             <td>Sun, May 21 2023</td> <th>  R-squared (Overall):</th>    <td>0.5539</td>   \n",
       "</tr>\n",
       "<tr>\n",
       "  <th>Time:</th>                 <td>00:32:16</td>     <th>  Log-likelihood     </th>   <td>-2.828e+04</td> \n",
       "</tr>\n",
       "<tr>\n",
       "  <th>Cov. Estimator:</th>      <td>Unadjusted</td>    <th>                     </th>        <td></td>      \n",
       "</tr>\n",
       "<tr>\n",
       "  <th></th>                          <td></td>         <th>  F-statistic:       </th>     <td>563.94</td>   \n",
       "</tr>\n",
       "<tr>\n",
       "  <th>Entities:</th>               <td>2053</td>       <th>  P-value            </th>     <td>0.0000</td>   \n",
       "</tr>\n",
       "<tr>\n",
       "  <th>Avg Obs:</th>               <td>5.0000</td>      <th>  Distribution:      </th>   <td>F(11,10254)</td>\n",
       "</tr>\n",
       "<tr>\n",
       "  <th>Min Obs:</th>               <td>5.0000</td>      <th>                     </th>        <td></td>      \n",
       "</tr>\n",
       "<tr>\n",
       "  <th>Max Obs:</th>               <td>5.0000</td>      <th>  F-statistic (robust):</th>   <td>563.94</td>   \n",
       "</tr>\n",
       "<tr>\n",
       "  <th></th>                          <td></td>         <th>  P-value            </th>     <td>0.0000</td>   \n",
       "</tr>\n",
       "<tr>\n",
       "  <th>Time periods:</th>             <td>5</td>        <th>  Distribution:      </th>   <td>F(11,10254)</td>\n",
       "</tr>\n",
       "<tr>\n",
       "  <th>Avg Obs:</th>               <td>2053.0</td>      <th>                     </th>        <td></td>      \n",
       "</tr>\n",
       "<tr>\n",
       "  <th>Min Obs:</th>               <td>2053.0</td>      <th>                     </th>        <td></td>      \n",
       "</tr>\n",
       "<tr>\n",
       "  <th>Max Obs:</th>               <td>2053.0</td>      <th>                     </th>        <td></td>      \n",
       "</tr>\n",
       "<tr>\n",
       "  <th></th>                          <td></td>         <th>                     </th>        <td></td>      \n",
       "</tr>\n",
       "</table>\n",
       "<table class=\"simpletable\">\n",
       "<caption>Parameter Estimates</caption>\n",
       "<tr>\n",
       "      <td></td>      <th>Parameter</th> <th>Std. Err.</th> <th>T-stat</th>  <th>P-value</th> <th>Lower CI</th> <th>Upper CI</th>\n",
       "</tr>\n",
       "<tr>\n",
       "  <th>CSR</th>        <td>0.1331</td>    <td>0.0041</td>   <td>32.745</td>  <td>0.0000</td>   <td>0.1251</td>   <td>0.1411</td> \n",
       "</tr>\n",
       "<tr>\n",
       "  <th>SIZE</th>       <td>-0.0587</td>   <td>0.0164</td>   <td>-3.5895</td> <td>0.0003</td>   <td>-0.0908</td>  <td>-0.0266</td>\n",
       "</tr>\n",
       "<tr>\n",
       "  <th>LEV</th>        <td>-1.4820</td>   <td>0.3377</td>   <td>-4.3886</td> <td>0.0000</td>   <td>-2.1439</td>  <td>-0.8200</td>\n",
       "</tr>\n",
       "<tr>\n",
       "  <th>TOBINQ</th>     <td>0.0011</td>    <td>0.0076</td>   <td>0.1460</td>  <td>0.8839</td>   <td>-0.0138</td>  <td>0.0160</td> \n",
       "</tr>\n",
       "<tr>\n",
       "  <th>TOP10</th>      <td>0.0401</td>    <td>0.0046</td>   <td>8.7504</td>  <td>0.0000</td>   <td>0.0311</td>   <td>0.0490</td> \n",
       "</tr>\n",
       "<tr>\n",
       "  <th>SOE</th>        <td>-0.8623</td>   <td>0.5798</td>   <td>-1.4871</td> <td>0.1370</td>   <td>-1.9988</td>  <td>0.2743</td> \n",
       "</tr>\n",
       "<tr>\n",
       "  <th>IND</th>        <td>0.5143</td>    <td>0.1383</td>   <td>3.7189</td>  <td>0.0002</td>   <td>0.2432</td>   <td>0.7854</td> \n",
       "</tr>\n",
       "<tr>\n",
       "  <th>YEAR_2017</th>  <td>1.6061</td>    <td>0.1238</td>   <td>12.978</td>  <td>0.0000</td>   <td>1.3635</td>   <td>1.8487</td> \n",
       "</tr>\n",
       "<tr>\n",
       "  <th>YEAR_2018</th>  <td>1.7605</td>    <td>0.1254</td>   <td>14.035</td>  <td>0.0000</td>   <td>1.5147</td>   <td>2.0064</td> \n",
       "</tr>\n",
       "<tr>\n",
       "  <th>YEAR_2019</th>  <td>1.6786</td>    <td>0.1265</td>   <td>13.271</td>  <td>0.0000</td>   <td>1.4306</td>   <td>1.9265</td> \n",
       "</tr>\n",
       "<tr>\n",
       "  <th>YEAR_2020</th>  <td>1.1872</td>    <td>0.1281</td>   <td>9.2697</td>  <td>0.0000</td>   <td>0.9361</td>   <td>1.4382</td> \n",
       "</tr>\n",
       "</table>"
      ],
      "text/latex": [
       "\\begin{center}\n",
       "\\begin{tabular}{lclc}\n",
       "\\toprule\n",
       "\\textbf{Dep. Variable:}    &         BP         & \\textbf{  R-squared:         }   &      0.3769      \\\\\n",
       "\\textbf{Estimator:}        &   RandomEffects    & \\textbf{  R-squared (Between):}  &      0.7106      \\\\\n",
       "\\textbf{No. Observations:} &       10265        & \\textbf{  R-squared (Within):}   &      0.0636      \\\\\n",
       "\\textbf{Date:}             &  Sun, May 21 2023  & \\textbf{  R-squared (Overall):}  &      0.5539      \\\\\n",
       "\\textbf{Time:}             &      00:32:16      & \\textbf{  Log-likelihood     }   &    -2.828e+04    \\\\\n",
       "\\textbf{Cov. Estimator:}   &     Unadjusted     & \\textbf{                     }   &                  \\\\\n",
       "\\textbf{}                  &                    & \\textbf{  F-statistic:       }   &      563.94      \\\\\n",
       "\\textbf{Entities:}         &        2053        & \\textbf{  P-value            }   &      0.0000      \\\\\n",
       "\\textbf{Avg Obs:}          &       5.0000       & \\textbf{  Distribution:      }   &   F(11,10254)    \\\\\n",
       "\\textbf{Min Obs:}          &       5.0000       & \\textbf{                     }   &                  \\\\\n",
       "\\textbf{Max Obs:}          &       5.0000       & \\textbf{  F-statistic (robust):} &      563.94      \\\\\n",
       "\\textbf{}                  &                    & \\textbf{  P-value            }   &      0.0000      \\\\\n",
       "\\textbf{Time periods:}     &         5          & \\textbf{  Distribution:      }   &   F(11,10254)    \\\\\n",
       "\\textbf{Avg Obs:}          &       2053.0       & \\textbf{                     }   &                  \\\\\n",
       "\\textbf{Min Obs:}          &       2053.0       & \\textbf{                     }   &                  \\\\\n",
       "\\textbf{Max Obs:}          &       2053.0       & \\textbf{                     }   &                  \\\\\n",
       "\\textbf{}                  &                    & \\textbf{                     }   &                  \\\\\n",
       "\\bottomrule\n",
       "\\end{tabular}\n",
       "\\begin{tabular}{lcccccc}\n",
       "                    & \\textbf{Parameter} & \\textbf{Std. Err.} & \\textbf{T-stat} & \\textbf{P-value} & \\textbf{Lower CI} & \\textbf{Upper CI}  \\\\\n",
       "\\midrule\n",
       "\\textbf{CSR}        &       0.1331       &       0.0041       &      32.745     &      0.0000      &       0.1251      &       0.1411       \\\\\n",
       "\\textbf{SIZE}       &      -0.0587       &       0.0164       &     -3.5895     &      0.0003      &      -0.0908      &      -0.0266       \\\\\n",
       "\\textbf{LEV}        &      -1.4820       &       0.3377       &     -4.3886     &      0.0000      &      -2.1439      &      -0.8200       \\\\\n",
       "\\textbf{TOBINQ}     &       0.0011       &       0.0076       &      0.1460     &      0.8839      &      -0.0138      &       0.0160       \\\\\n",
       "\\textbf{TOP10}      &       0.0401       &       0.0046       &      8.7504     &      0.0000      &       0.0311      &       0.0490       \\\\\n",
       "\\textbf{SOE}        &      -0.8623       &       0.5798       &     -1.4871     &      0.1370      &      -1.9988      &       0.2743       \\\\\n",
       "\\textbf{IND}        &       0.5143       &       0.1383       &      3.7189     &      0.0002      &       0.2432      &       0.7854       \\\\\n",
       "\\textbf{YEAR\\_2017} &       1.6061       &       0.1238       &      12.978     &      0.0000      &       1.3635      &       1.8487       \\\\\n",
       "\\textbf{YEAR\\_2018} &       1.7605       &       0.1254       &      14.035     &      0.0000      &       1.5147      &       2.0064       \\\\\n",
       "\\textbf{YEAR\\_2019} &       1.6786       &       0.1265       &      13.271     &      0.0000      &       1.4306      &       1.9265       \\\\\n",
       "\\textbf{YEAR\\_2020} &       1.1872       &       0.1281       &      9.2697     &      0.0000      &       0.9361      &       1.4382       \\\\\n",
       "\\bottomrule\n",
       "\\end{tabular}\n",
       "%\\caption{RandomEffects Estimation Summary}\n",
       "\\end{center}"
      ],
      "text/plain": [
       "<class 'linearmodels.compat.statsmodels.Summary'>\n",
       "\"\"\"\n",
       "                        RandomEffects Estimation Summary                        \n",
       "================================================================================\n",
       "Dep. Variable:                     BP   R-squared:                        0.3769\n",
       "Estimator:              RandomEffects   R-squared (Between):              0.7106\n",
       "No. Observations:               10265   R-squared (Within):               0.0636\n",
       "Date:                Sun, May 21 2023   R-squared (Overall):              0.5539\n",
       "Time:                        00:32:16   Log-likelihood                -2.828e+04\n",
       "Cov. Estimator:            Unadjusted                                           \n",
       "                                        F-statistic:                      563.94\n",
       "Entities:                        2053   P-value                           0.0000\n",
       "Avg Obs:                       5.0000   Distribution:                F(11,10254)\n",
       "Min Obs:                       5.0000                                           \n",
       "Max Obs:                       5.0000   F-statistic (robust):             563.94\n",
       "                                        P-value                           0.0000\n",
       "Time periods:                       5   Distribution:                F(11,10254)\n",
       "Avg Obs:                       2053.0                                           \n",
       "Min Obs:                       2053.0                                           \n",
       "Max Obs:                       2053.0                                           \n",
       "                                                                                \n",
       "                             Parameter Estimates                              \n",
       "==============================================================================\n",
       "            Parameter  Std. Err.     T-stat    P-value    Lower CI    Upper CI\n",
       "------------------------------------------------------------------------------\n",
       "CSR            0.1331     0.0041     32.745     0.0000      0.1251      0.1411\n",
       "SIZE          -0.0587     0.0164    -3.5895     0.0003     -0.0908     -0.0266\n",
       "LEV           -1.4820     0.3377    -4.3886     0.0000     -2.1439     -0.8200\n",
       "TOBINQ         0.0011     0.0076     0.1460     0.8839     -0.0138      0.0160\n",
       "TOP10          0.0401     0.0046     8.7504     0.0000      0.0311      0.0490\n",
       "SOE           -0.8623     0.5798    -1.4871     0.1370     -1.9988      0.2743\n",
       "IND            0.5143     0.1383     3.7189     0.0002      0.2432      0.7854\n",
       "YEAR_2017      1.6061     0.1238     12.978     0.0000      1.3635      1.8487\n",
       "YEAR_2018      1.7605     0.1254     14.035     0.0000      1.5147      2.0064\n",
       "YEAR_2019      1.6786     0.1265     13.271     0.0000      1.4306      1.9265\n",
       "YEAR_2020      1.1872     0.1281     9.2697     0.0000      0.9361      1.4382\n",
       "==============================================================================\n",
       "\"\"\""
      ]
     },
     "execution_count": 244,
     "metadata": {},
     "output_type": "execute_result"
    }
   ],
   "source": [
    "from linearmodels import RandomEffects\n",
    "\n",
    "# 建立随机效应模型\n",
    "model_re = RandomEffects(data_with_dummies['BP'],\n",
    "                         data_with_dummies[\n",
    "                             ['CSR', 'SIZE', 'LEV', 'TOBINQ', 'TOP10', 'SOE', 'IND', 'YEAR_2017', 'YEAR_2018',\n",
    "                              'YEAR_2019',\n",
    "                              'YEAR_2020']])\n",
    "# 拟合模型\n",
    "results_re = model_re.fit()\n",
    "# 查看回归结果\n",
    "results_re.summary"
   ]
  },
  {
   "cell_type": "markdown",
   "metadata": {},
   "source": [
    "## 稳健性检验"
   ]
  },
  {
   "cell_type": "code",
   "execution_count": 245,
   "metadata": {
    "ExecuteTime": {
     "end_time": "2023-05-20T16:32:16.807524600Z",
     "start_time": "2023-05-20T16:32:16.787520500Z"
    }
   },
   "outputs": [],
   "source": [
    "# robust_fe_results = model_fe.fit(cov_type='robust')\n",
    "# print(robust_fe_results)"
   ]
  },
  {
   "cell_type": "markdown",
   "metadata": {},
   "source": [
    "## B-P 检验"
   ]
  },
  {
   "cell_type": "code",
   "execution_count": 246,
   "metadata": {
    "ExecuteTime": {
     "end_time": "2023-05-20T16:32:16.857537200Z",
     "start_time": "2023-05-20T16:32:16.801524600Z"
    }
   },
   "outputs": [
    {
     "name": "stdout",
     "output_type": "stream",
     "text": [
      "BP Test Statistic: 194.13725321124102\n",
      "BP p-value: 3.9747312840963504e-44\n",
      "BP Test Results: (197.8411065469318, 1.5993089323343972e-44)\n"
     ]
    }
   ],
   "source": [
    "from statsmodels.stats.diagnostic import het_breuschpagan\n",
    "import statsmodels.formula.api as smf\n",
    "\n",
    "# 读取回归模型的残差和预测值读取回归模型的残差和预测值\n",
    "results_ols = smf.ols('BP ~ CSR + SIZE + LEV + SOE + IND + YEAR_2017 + YEAR_2018 + YEAR_2019 + YEAR_2020',\n",
    "                      data=data_with_dummies).fit()\n",
    "residuals = results_ols.resid\n",
    "# residuals = results_re.resids\n",
    "\n",
    "# 获取预测值\n",
    "predicted_values = results_ols.predict()\n",
    "# predicted_values = results_re.predict()\n",
    "\n",
    "# 进行B-P检验\n",
    "bp_test = het_breuschpagan(residuals, sm.add_constant(predicted_values))\n",
    "\n",
    "# 输出B-P检验结果\n",
    "print(\"BP Test Statistic:\", bp_test[0])\n",
    "print(\"BP p-value:\", bp_test[1])\n",
    "print(\"BP Test Results:\", bp_test[2:])"
   ]
  },
  {
   "cell_type": "markdown",
   "metadata": {},
   "source": [
    "## 进行Hausman检验"
   ]
  },
  {
   "cell_type": "code",
   "execution_count": 247,
   "metadata": {
    "ExecuteTime": {
     "end_time": "2023-05-20T16:32:16.916405Z",
     "start_time": "2023-05-20T16:32:16.853536600Z"
    }
   },
   "outputs": [
    {
     "name": "stdout",
     "output_type": "stream",
     "text": [
      "                    Model Comparison                    \n",
      "========================================================\n",
      "                                    FE                RE\n",
      "--------------------------------------------------------\n",
      "Dep. Variable                       BP                BP\n",
      "Estimator                     PanelOLS     RandomEffects\n",
      "No. Observations                 10265             10265\n",
      "Cov. Est.                   Unadjusted        Unadjusted\n",
      "R-squared                       0.0781            0.3769\n",
      "R-Squared (Within)              0.0781            0.0636\n",
      "R-Squared (Between)            -23.507            0.7106\n",
      "R-Squared (Overall)            -17.796            0.5539\n",
      "F-statistic                     63.159            563.94\n",
      "P-value (F-stat)                0.0000            0.0000\n",
      "=====================     ============   ===============\n",
      "CSR                             0.0971            0.1331\n",
      "                              (22.093)          (32.745)\n",
      "SIZE                            1.4101           -0.0587\n",
      "                              (7.4118)         (-3.5895)\n",
      "LEV                            -4.0490           -1.4820\n",
      "                             (-6.6039)         (-4.3886)\n",
      "TOBINQ                          0.0125            0.0011\n",
      "                              (1.5339)          (0.1460)\n",
      "TOP10                           0.0273            0.0401\n",
      "                              (2.8576)          (8.7504)\n",
      "SOE                             0.1194           -0.8623\n",
      "                              (0.1719)         (-1.4871)\n",
      "IND                             0.5265            0.5143\n",
      "                              (1.1871)          (3.7189)\n",
      "YEAR_2017                       1.1734            1.6061\n",
      "                              (9.3794)          (12.978)\n",
      "YEAR_2018                       1.1648            1.7605\n",
      "                              (8.7791)          (14.035)\n",
      "YEAR_2019                       0.9810            1.6786\n",
      "                              (7.0457)          (13.271)\n",
      "YEAR_2020                       0.3670            1.1872\n",
      "                              (2.4465)          (9.2697)\n",
      "======================= ============== =================\n",
      "Effects                         Entity                  \n",
      "--------------------------------------------------------\n",
      "\n",
      "T-stats reported in parentheses\n"
     ]
    }
   ],
   "source": [
    "# Hausman检验\n",
    "from linearmodels.panel import compare\n",
    "\n",
    "comparison = compare({'FE': results_fe, 'RE': results_re})\n",
    "print(comparison.summary)"
   ]
  },
  {
   "cell_type": "code",
   "execution_count": 248,
   "metadata": {
    "ExecuteTime": {
     "end_time": "2023-05-20T16:32:16.917403Z",
     "start_time": "2023-05-20T16:32:16.891396200Z"
    }
   },
   "outputs": [
    {
     "name": "stdout",
     "output_type": "stream",
     "text": [
      "chi-Squared: 559.2232443941067\n",
      "degrees of freedom: 11\n",
      "p-Value: 7.309333416900797e-113\n"
     ]
    }
   ],
   "source": [
    "# 1. 运用计量书本上的公式，自编函数， 因为目前 Python 里面没有现成的模块\n",
    "import numpy.linalg as la\n",
    "from scipy import stats\n",
    "\n",
    "\n",
    "def hausman(fe, re):\n",
    "    b = fe.params\n",
    "    B = re.params\n",
    "    v_b = fe.cov\n",
    "    v_B = re.cov\n",
    "    df = b[np.abs(b) < 1e8].size\n",
    "    chi2 = np.dot((b - B).T, la.inv(v_b - v_B).dot(b - B))\n",
    "\n",
    "    pval = stats.chi2.sf(chi2, df)\n",
    "    return chi2, df, pval\n",
    "\n",
    "\n",
    "# 2. 将fe,re结果带入自编函数之中。\n",
    "hausman_results = hausman(results_fe, results_re)\n",
    "print('chi-Squared: ' + str(hausman_results[0]))\n",
    "print('degrees of freedom: ' + str(hausman_results[1]))\n",
    "print('p-Value: ' + str(hausman_results[2]))\n",
    "\n",
    "# 3. 看结果，如果这儿的 p-Value 小于 10%，则支持 固定效应 模型。"
   ]
  },
  {
   "cell_type": "code",
   "execution_count": 249,
   "metadata": {
    "ExecuteTime": {
     "end_time": "2023-05-20T16:32:16.917403Z",
     "start_time": "2023-05-20T16:32:16.899400500Z"
    }
   },
   "outputs": [
    {
     "name": "stdout",
     "output_type": "stream",
     "text": [
      "                 FE        RE  Difference  sqrt(diag(v_fe-v_re))\n",
      "CSR        0.097073  0.133094   -0.036021               0.001669\n",
      "SIZE       1.410137 -0.058702    1.468839               0.189551\n",
      "LEV       -4.049015 -1.481959   -2.567056               0.511757\n",
      "TOBINQ     0.012475  0.001110    0.011365               0.002882\n",
      "TOP10      0.027252  0.040056   -0.012804               0.008366\n",
      "SOE        0.119386 -0.862250    0.981636               0.382277\n",
      "IND        0.526495  0.514332    0.012163               0.421401\n",
      "YEAR_2017  1.173373  1.606106   -0.432733               0.018265\n",
      "YEAR_2018  1.164783  1.760546   -0.595763               0.043224\n",
      "YEAR_2019  0.981031  1.678560   -0.697528               0.058226\n",
      "YEAR_2020  0.367047  1.187151   -0.820103               0.078145\n",
      "\n",
      "chi-Squared: 559.22\n",
      "degrees of freedom: 11\n",
      "p-Value:0.00000\n"
     ]
    }
   ],
   "source": [
    "b_fe = results_fe.params\n",
    "b_re = results_re.params\n",
    "b_diff = b_fe - b_re\n",
    "v_fe = results_fe.cov\n",
    "v_re = results_re.cov\n",
    "v_diff = v_fe - v_re\n",
    "df = len(b_fe)\n",
    "\n",
    "table = pd.DataFrame({'FE': b_fe, 'RE': b_re, 'Difference': b_diff, 'sqrt(diag(v_fe-v_re))': np.sqrt(np.diag(v_diff))})\n",
    "chi2 = np.dot(b_diff.T, np.linalg.inv(v_diff).dot(b_diff))\n",
    "pval = 1 - stats.chi2.cdf(chi2, df)\n",
    "\n",
    "print(table)\n",
    "print()\n",
    "print(f'chi-Squared: {chi2:.2f}')\n",
    "print(f'degrees of freedom: {df}')\n",
    "print(f'p-Value:{pval:.5f}')"
   ]
  }
 ],
 "metadata": {
  "kernelspec": {
   "display_name": "Python 3 (ipykernel)",
   "language": "python",
   "name": "python3"
  },
  "language_info": {
   "codemirror_mode": {
    "name": "ipython",
    "version": 3
   },
   "file_extension": ".py",
   "mimetype": "text/x-python",
   "name": "python",
   "nbconvert_exporter": "python",
   "pygments_lexer": "ipython3",
   "version": "3.9.5"
  }
 },
 "nbformat": 4,
 "nbformat_minor": 1
}
