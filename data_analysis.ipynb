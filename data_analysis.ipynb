{
 "cells": [
  {
   "cell_type": "markdown",
   "metadata": {},
   "source": [
    "# 数据分析"
   ]
  },
  {
   "cell_type": "code",
   "execution_count": 149,
   "metadata": {
    "collapsed": true,
    "ExecuteTime": {
     "end_time": "2023-05-20T05:56:05.164519600Z",
     "start_time": "2023-05-20T05:56:05.079501700Z"
    }
   },
   "outputs": [],
   "source": [
    "import pandas as pd\n",
    "import numpy as np\n",
    "import statsmodels.api as sm\n",
    "from linearmodels import PanelOLS"
   ]
  },
  {
   "cell_type": "markdown",
   "metadata": {},
   "source": [
    "## 读取数据"
   ]
  },
  {
   "cell_type": "code",
   "execution_count": 150,
   "metadata": {
    "ExecuteTime": {
     "end_time": "2023-05-20T05:56:05.388571Z",
     "start_time": "2023-05-20T05:56:05.095505200Z"
    }
   },
   "outputs": [
    {
     "name": "stdout",
     "output_type": "stream",
     "text": [
      "<class 'pandas.core.frame.DataFrame'>\n",
      "RangeIndex: 11700 entries, 0 to 11699\n",
      "Data columns (total 8 columns):\n",
      " #   Column  Non-Null Count  Dtype  \n",
      "---  ------  --------------  -----  \n",
      " 0   Stk_cd  11700 non-null  int64  \n",
      " 1   CSR     11700 non-null  float64\n",
      " 2   BP      11700 non-null  float64\n",
      " 3   SOE     11700 non-null  float64\n",
      " 4   SIZE    11700 non-null  float64\n",
      " 5   LEV     11700 non-null  float64\n",
      " 6   YEAR    11700 non-null  int64  \n",
      " 7   IND     11700 non-null  int64  \n",
      "dtypes: float64(5), int64(3)\n",
      "memory usage: 731.4 KB\n"
     ]
    }
   ],
   "source": [
    "# 读取数据\n",
    "df = pd.read_excel(\"./final_data.xls\")\n",
    "# 查看数据概况\n",
    "df.info()"
   ]
  },
  {
   "cell_type": "code",
   "execution_count": 151,
   "outputs": [],
   "source": [
    "# 创建虚拟变量（年份）\n",
    "year_dummies = pd.get_dummies(df['YEAR'], prefix='YEAR', drop_first=True)\n",
    "# 合并虚拟变量到原始数据\n",
    "data_with_dummies = pd.concat([df, year_dummies], axis=1)\n",
    "# 设置双重索引\n",
    "data_with_dummies = data_with_dummies.set_index([\"Stk_cd\", \"YEAR\"])"
   ],
   "metadata": {
    "collapsed": false,
    "ExecuteTime": {
     "end_time": "2023-05-20T05:56:05.400573300Z",
     "start_time": "2023-05-20T05:56:05.379568800Z"
    }
   }
  },
  {
   "cell_type": "code",
   "execution_count": 152,
   "outputs": [
    {
     "name": "stdout",
     "output_type": "stream",
     "text": [
      "               CSR        BP  SOE       SIZE       LEV  IND  YEAR_2017  \\\n",
      "Stk_cd YEAR                                                              \n",
      "2      2016  76.52  0.824792  0.0  27.351214  0.810123    0          0   \n",
      "4      2016  21.30  0.330957  0.0  19.759923  0.552979    1          0   \n",
      "5      2016  16.33  0.015196  0.0  21.647456  0.462232    0          0   \n",
      "6      2016  63.26  0.012753  0.0  23.359293  0.681010    0          0   \n",
      "7      2016  10.14  0.124470  0.0  20.069592  0.195184    0          0   \n",
      "...            ...       ...  ...        ...       ...  ...        ...   \n",
      "603988 2020  28.11  0.950113  0.0  21.002087  0.426588    1          0   \n",
      "603989 2020  25.51  0.778381  0.0  22.078823  0.334527    1          0   \n",
      "603997 2020   7.29 -0.361137  0.0  23.579522  0.754537    1          0   \n",
      "603998 2020  27.31  0.191148  0.0  21.448076  0.408192    1          0   \n",
      "603999 2020  16.20  0.131931  0.0  21.472300  0.167235    0          0   \n",
      "\n",
      "             YEAR_2018  YEAR_2019  YEAR_2020  \n",
      "Stk_cd YEAR                                   \n",
      "2      2016          0          0          0  \n",
      "4      2016          0          0          0  \n",
      "5      2016          0          0          0  \n",
      "6      2016          0          0          0  \n",
      "7      2016          0          0          0  \n",
      "...                ...        ...        ...  \n",
      "603988 2020          0          0          1  \n",
      "603989 2020          0          0          1  \n",
      "603997 2020          0          0          1  \n",
      "603998 2020          0          0          1  \n",
      "603999 2020          0          0          1  \n",
      "\n",
      "[11700 rows x 10 columns]\n"
     ]
    }
   ],
   "source": [
    "print(data_with_dummies)"
   ],
   "metadata": {
    "collapsed": false,
    "ExecuteTime": {
     "end_time": "2023-05-20T05:56:05.424579300Z",
     "start_time": "2023-05-20T05:56:05.398572900Z"
    }
   }
  },
  {
   "cell_type": "markdown",
   "metadata": {},
   "source": [
    "## 描述性分析和相关性分析"
   ]
  },
  {
   "cell_type": "code",
   "execution_count": 153,
   "metadata": {
    "ExecuteTime": {
     "end_time": "2023-05-20T05:56:05.889260200Z",
     "start_time": "2023-05-20T05:56:05.422579200Z"
    }
   },
   "outputs": [
    {
     "name": "stdout",
     "output_type": "stream",
     "text": [
      "                CSR            BP           SOE          SIZE           LEV  \\\n",
      "count  11700.000000  11700.000000  11700.000000  11700.000000  11700.000000   \n",
      "mean      21.238702      0.273970      0.023168     22.525740      0.424409   \n",
      "std       12.172811      0.691802      0.089715      1.323044      0.200783   \n",
      "min      -18.450000    -21.777783      0.000000     15.921008      0.006171   \n",
      "25%       15.540000      0.059975      0.000000     21.618876      0.266016   \n",
      "50%       21.065000      0.177736      0.000000     22.350151      0.417116   \n",
      "75%       26.180000      0.386080      0.000000     23.243055      0.571146   \n",
      "max       87.020000     26.888565      0.841543     28.624722      1.230893   \n",
      "\n",
      "                IND     YEAR_2017     YEAR_2018     YEAR_2019     YEAR_2020  \n",
      "count  11700.000000  11700.000000  11700.000000  11700.000000  11700.000000  \n",
      "mean       0.630171      0.200000      0.200000      0.200000      0.200000  \n",
      "std        0.482779      0.400017      0.400017      0.400017      0.400017  \n",
      "min        0.000000      0.000000      0.000000      0.000000      0.000000  \n",
      "25%        0.000000      0.000000      0.000000      0.000000      0.000000  \n",
      "50%        1.000000      0.000000      0.000000      0.000000      0.000000  \n",
      "75%        1.000000      0.000000      0.000000      0.000000      0.000000  \n",
      "max        1.000000      1.000000      1.000000      1.000000      1.000000  \n",
      "                CSR        BP       SOE      SIZE       LEV       IND  \\\n",
      "CSR        1.000000  0.243191  0.052706  0.224028 -0.024646 -0.094102   \n",
      "BP         0.243191  1.000000  0.010201  0.187074 -0.072618  0.020447   \n",
      "SOE        0.052706  0.010201  1.000000  0.145945  0.100441 -0.102871   \n",
      "SIZE       0.224028  0.187074  0.145945  1.000000  0.538712 -0.226358   \n",
      "LEV       -0.024646 -0.072618  0.100441  0.538712  1.000000 -0.205003   \n",
      "IND       -0.094102  0.020447 -0.102871 -0.226358 -0.205003  1.000000   \n",
      "YEAR_2017 -0.028357  0.010305  0.022577 -0.029028 -0.016526  0.005931   \n",
      "YEAR_2018 -0.064403  0.011359 -0.002264  0.016283  0.004878 -0.000266   \n",
      "YEAR_2019 -0.082905  0.016885 -0.017029  0.039896  0.016965 -0.007347   \n",
      "YEAR_2020 -0.109958 -0.004396 -0.029374  0.067622  0.043476 -0.008675   \n",
      "\n",
      "           YEAR_2017  YEAR_2018  YEAR_2019  YEAR_2020  \n",
      "CSR        -0.028357  -0.064403  -0.082905  -0.109958  \n",
      "BP          0.010305   0.011359   0.016885  -0.004396  \n",
      "SOE         0.022577  -0.002264  -0.017029  -0.029374  \n",
      "SIZE       -0.029028   0.016283   0.039896   0.067622  \n",
      "LEV        -0.016526   0.004878   0.016965   0.043476  \n",
      "IND         0.005931  -0.000266  -0.007347  -0.008675  \n",
      "YEAR_2017   1.000000  -0.250000  -0.250000  -0.250000  \n",
      "YEAR_2018  -0.250000   1.000000  -0.250000  -0.250000  \n",
      "YEAR_2019  -0.250000  -0.250000   1.000000  -0.250000  \n",
      "YEAR_2020  -0.250000  -0.250000  -0.250000   1.000000  \n"
     ]
    },
    {
     "data": {
      "text/plain": "<AxesSubplot:>"
     },
     "execution_count": 153,
     "metadata": {},
     "output_type": "execute_result"
    },
    {
     "data": {
      "text/plain": "<Figure size 432x288 with 2 Axes>",
      "image/png": "[encoded data removed]"
     },
     "metadata": {},
     "output_type": "display_data"
    }
   ],
   "source": [
    "# # 描述性分析\n",
    "# print(df.describe())\n",
    "# # 相关性分析\n",
    "# print(df.corr())\n",
    "# # 绘制相关性热图\n",
    "# import seaborn as sns\n",
    "# sns.heatmap(df.corr(), annot=True, cmap=\"Blues\")\n",
    "# 描述性分析\n",
    "print(data_with_dummies.describe())\n",
    "# 相关性分析\n",
    "print(data_with_dummies.corr())\n",
    "# 绘制相关性热图\n",
    "import seaborn as sns\n",
    "sns.heatmap(data_with_dummies.corr(), annot=True, cmap=\"Blues\")"
   ]
  },
  {
   "cell_type": "markdown",
   "metadata": {},
   "source": [
    "## 固定效应模型"
   ]
  },
  {
   "cell_type": "code",
   "execution_count": 154,
   "metadata": {
    "ExecuteTime": {
     "end_time": "2023-05-20T05:56:06.000795400Z",
     "start_time": "2023-05-20T05:56:05.891259700Z"
    }
   },
   "outputs": [
    {
     "data": {
      "text/plain": "<class 'linearmodels.compat.statsmodels.Summary'>\n\"\"\"\n                          PanelOLS Estimation Summary                           \n================================================================================\nDep. Variable:                     BP   R-squared:                        0.0462\nEstimator:                   PanelOLS   R-squared (Between):             -29.057\nNo. Observations:               11700   R-squared (Within):               0.0462\nDate:                Sat, May 20 2023   R-squared (Overall):             -19.067\nTime:                        13:56:05   Log-likelihood                   -6610.5\nCov. Estimator:            Unadjusted                                           \n                                        F-statistic:                      50.288\nEntities:                        2340   P-value                           0.0000\nAvg Obs:                       5.0000   Distribution:                  F(9,9351)\nMin Obs:                       5.0000                                           \nMax Obs:                       5.0000   F-statistic (robust):             50.288\n                                        P-value                           0.0000\nTime periods:                       5   Distribution:                  F(9,9351)\nAvg Obs:                       2340.0                                           \nMin Obs:                       2340.0                                           \nMax Obs:                       2340.0                                           \n                                                                                \n                             Parameter Estimates                              \n==============================================================================\n            Parameter  Std. Err.     T-stat    P-value    Lower CI    Upper CI\n------------------------------------------------------------------------------\nCSR            0.0061     0.0005     11.712     0.0000      0.0051      0.0071\nSIZE           0.1635     0.0196     8.3559     0.0000      0.1251      0.2018\nLEV           -1.0461     0.0687    -15.232     0.0000     -1.1807     -0.9115\nSOE            0.1096     0.0816     1.3427     0.1794     -0.0504      0.2695\nIND            0.1577     0.0499     3.1627     0.0016      0.0600      0.2555\nYEAR_2017      0.0941     0.0149     6.3224     0.0000      0.0649      0.1233\nYEAR_2018      0.0917     0.0157     5.8472     0.0000      0.0610      0.1225\nYEAR_2019      0.0984     0.0162     6.0619     0.0000      0.0666      0.1302\nYEAR_2020      0.0725     0.0169     4.2793     0.0000      0.0393      0.1058\n==============================================================================\n\nF-test for Poolability: 5.3300\nP-value: 0.0000\nDistribution: F(2339,9351)\n\nIncluded effects: Entity\n\"\"\"",
      "text/html": "<table class=\"simpletable\">\n<caption>PanelOLS Estimation Summary</caption>\n<tr>\n  <th>Dep. Variable:</th>           <td>BP</td>        <th>  R-squared:         </th>    <td>0.0462</td>  \n</tr>\n<tr>\n  <th>Estimator:</th>            <td>PanelOLS</td>     <th>  R-squared (Between):</th>   <td>-29.057</td> \n</tr>\n<tr>\n  <th>No. Observations:</th>       <td>11700</td>      <th>  R-squared (Within):</th>    <td>0.0462</td>  \n</tr>\n<tr>\n  <th>Date:</th>             <td>Sat, May 20 2023</td> <th>  R-squared (Overall):</th>   <td>-19.067</td> \n</tr>\n<tr>\n  <th>Time:</th>                 <td>13:56:05</td>     <th>  Log-likelihood     </th>    <td>-6610.5</td> \n</tr>\n<tr>\n  <th>Cov. Estimator:</th>      <td>Unadjusted</td>    <th>                     </th>       <td></td>     \n</tr>\n<tr>\n  <th></th>                          <td></td>         <th>  F-statistic:       </th>    <td>50.288</td>  \n</tr>\n<tr>\n  <th>Entities:</th>               <td>2340</td>       <th>  P-value            </th>    <td>0.0000</td>  \n</tr>\n<tr>\n  <th>Avg Obs:</th>               <td>5.0000</td>      <th>  Distribution:      </th>   <td>F(9,9351)</td>\n</tr>\n<tr>\n  <th>Min Obs:</th>               <td>5.0000</td>      <th>                     </th>       <td></td>     \n</tr>\n<tr>\n  <th>Max Obs:</th>               <td>5.0000</td>      <th>  F-statistic (robust):</th>  <td>50.288</td>  \n</tr>\n<tr>\n  <th></th>                          <td></td>         <th>  P-value            </th>    <td>0.0000</td>  \n</tr>\n<tr>\n  <th>Time periods:</th>             <td>5</td>        <th>  Distribution:      </th>   <td>F(9,9351)</td>\n</tr>\n<tr>\n  <th>Avg Obs:</th>               <td>2340.0</td>      <th>                     </th>       <td></td>     \n</tr>\n<tr>\n  <th>Min Obs:</th>               <td>2340.0</td>      <th>                     </th>       <td></td>     \n</tr>\n<tr>\n  <th>Max Obs:</th>               <td>2340.0</td>      <th>                     </th>       <td></td>     \n</tr>\n<tr>\n  <th></th>                          <td></td>         <th>                     </th>       <td></td>     \n</tr>\n</table>\n<table class=\"simpletable\">\n<caption>Parameter Estimates</caption>\n<tr>\n      <td></td>      <th>Parameter</th> <th>Std. Err.</th> <th>T-stat</th>  <th>P-value</th> <th>Lower CI</th> <th>Upper CI</th>\n</tr>\n<tr>\n  <th>CSR</th>        <td>0.0061</td>    <td>0.0005</td>   <td>11.712</td>  <td>0.0000</td>   <td>0.0051</td>   <td>0.0071</td> \n</tr>\n<tr>\n  <th>SIZE</th>       <td>0.1635</td>    <td>0.0196</td>   <td>8.3559</td>  <td>0.0000</td>   <td>0.1251</td>   <td>0.2018</td> \n</tr>\n<tr>\n  <th>LEV</th>        <td>-1.0461</td>   <td>0.0687</td>   <td>-15.232</td> <td>0.0000</td>   <td>-1.1807</td>  <td>-0.9115</td>\n</tr>\n<tr>\n  <th>SOE</th>        <td>0.1096</td>    <td>0.0816</td>   <td>1.3427</td>  <td>0.1794</td>   <td>-0.0504</td>  <td>0.2695</td> \n</tr>\n<tr>\n  <th>IND</th>        <td>0.1577</td>    <td>0.0499</td>   <td>3.1627</td>  <td>0.0016</td>   <td>0.0600</td>   <td>0.2555</td> \n</tr>\n<tr>\n  <th>YEAR_2017</th>  <td>0.0941</td>    <td>0.0149</td>   <td>6.3224</td>  <td>0.0000</td>   <td>0.0649</td>   <td>0.1233</td> \n</tr>\n<tr>\n  <th>YEAR_2018</th>  <td>0.0917</td>    <td>0.0157</td>   <td>5.8472</td>  <td>0.0000</td>   <td>0.0610</td>   <td>0.1225</td> \n</tr>\n<tr>\n  <th>YEAR_2019</th>  <td>0.0984</td>    <td>0.0162</td>   <td>6.0619</td>  <td>0.0000</td>   <td>0.0666</td>   <td>0.1302</td> \n</tr>\n<tr>\n  <th>YEAR_2020</th>  <td>0.0725</td>    <td>0.0169</td>   <td>4.2793</td>  <td>0.0000</td>   <td>0.0393</td>   <td>0.1058</td> \n</tr>\n</table><br/><br/>F-test for Poolability: 5.3300<br/>P-value: 0.0000<br/>Distribution: F(2339,9351)<br/><br/>Included effects: Entity",
      "text/latex": "\\begin{center}\n\\begin{tabular}{lclc}\n\\toprule\n\\textbf{Dep. Variable:}    &         BP         & \\textbf{  R-squared:         }   &      0.0462      \\\\\n\\textbf{Estimator:}        &      PanelOLS      & \\textbf{  R-squared (Between):}  &     -29.057      \\\\\n\\textbf{No. Observations:} &       11700        & \\textbf{  R-squared (Within):}   &      0.0462      \\\\\n\\textbf{Date:}             &  Sat, May 20 2023  & \\textbf{  R-squared (Overall):}  &     -19.067      \\\\\n\\textbf{Time:}             &      13:56:05      & \\textbf{  Log-likelihood     }   &     -6610.5      \\\\\n\\textbf{Cov. Estimator:}   &     Unadjusted     & \\textbf{                     }   &                  \\\\\n\\textbf{}                  &                    & \\textbf{  F-statistic:       }   &      50.288      \\\\\n\\textbf{Entities:}         &        2340        & \\textbf{  P-value            }   &      0.0000      \\\\\n\\textbf{Avg Obs:}          &       5.0000       & \\textbf{  Distribution:      }   &    F(9,9351)     \\\\\n\\textbf{Min Obs:}          &       5.0000       & \\textbf{                     }   &                  \\\\\n\\textbf{Max Obs:}          &       5.0000       & \\textbf{  F-statistic (robust):} &      50.288      \\\\\n\\textbf{}                  &                    & \\textbf{  P-value            }   &      0.0000      \\\\\n\\textbf{Time periods:}     &         5          & \\textbf{  Distribution:      }   &    F(9,9351)     \\\\\n\\textbf{Avg Obs:}          &       2340.0       & \\textbf{                     }   &                  \\\\\n\\textbf{Min Obs:}          &       2340.0       & \\textbf{                     }   &                  \\\\\n\\textbf{Max Obs:}          &       2340.0       & \\textbf{                     }   &                  \\\\\n\\textbf{}                  &                    & \\textbf{                     }   &                  \\\\\n\\bottomrule\n\\end{tabular}\n\\begin{tabular}{lcccccc}\n                    & \\textbf{Parameter} & \\textbf{Std. Err.} & \\textbf{T-stat} & \\textbf{P-value} & \\textbf{Lower CI} & \\textbf{Upper CI}  \\\\\n\\midrule\n\\textbf{CSR}        &       0.0061       &       0.0005       &      11.712     &      0.0000      &       0.0051      &       0.0071       \\\\\n\\textbf{SIZE}       &       0.1635       &       0.0196       &      8.3559     &      0.0000      &       0.1251      &       0.2018       \\\\\n\\textbf{LEV}        &      -1.0461       &       0.0687       &     -15.232     &      0.0000      &      -1.1807      &      -0.9115       \\\\\n\\textbf{SOE}        &       0.1096       &       0.0816       &      1.3427     &      0.1794      &      -0.0504      &       0.2695       \\\\\n\\textbf{IND}        &       0.1577       &       0.0499       &      3.1627     &      0.0016      &       0.0600      &       0.2555       \\\\\n\\textbf{YEAR\\_2017} &       0.0941       &       0.0149       &      6.3224     &      0.0000      &       0.0649      &       0.1233       \\\\\n\\textbf{YEAR\\_2018} &       0.0917       &       0.0157       &      5.8472     &      0.0000      &       0.0610      &       0.1225       \\\\\n\\textbf{YEAR\\_2019} &       0.0984       &       0.0162       &      6.0619     &      0.0000      &       0.0666      &       0.1302       \\\\\n\\textbf{YEAR\\_2020} &       0.0725       &       0.0169       &      4.2793     &      0.0000      &       0.0393      &       0.1058       \\\\\n\\bottomrule\n\\end{tabular}\n%\\caption{PanelOLS Estimation Summary}\n\\end{center}\n\nF-test for Poolability: 5.3300 \\newline\n P-value: 0.0000 \\newline\n Distribution: F(2339,9351) \\newline\n  \\newline\n Included effects: Entity"
     },
     "execution_count": 154,
     "metadata": {},
     "output_type": "execute_result"
    }
   ],
   "source": [
    "# 建立固定效应模型\n",
    "model_fe = PanelOLS(data_with_dummies['BP'],\n",
    "                    data_with_dummies[\n",
    "                        ['CSR', 'SIZE', 'LEV', 'SOE', 'IND', 'YEAR_2017', 'YEAR_2018', 'YEAR_2019', 'YEAR_2020']],\n",
    "                    entity_effects=True)  # 使用entity_effects参数启用固定效应\n",
    "# 拟合模型\n",
    "results_fe = model_fe.fit()\n",
    "# 查看回归结果\n",
    "results_fe.summary"
   ]
  },
  {
   "cell_type": "markdown",
   "metadata": {},
   "source": [
    "## 随机效应模型"
   ]
  },
  {
   "cell_type": "code",
   "execution_count": 155,
   "metadata": {
    "ExecuteTime": {
     "end_time": "2023-05-20T05:56:06.141991500Z",
     "start_time": "2023-05-20T05:56:06.006796600Z"
    }
   },
   "outputs": [
    {
     "data": {
      "text/plain": "<class 'linearmodels.compat.statsmodels.Summary'>\n\"\"\"\n                        RandomEffects Estimation Summary                        \n================================================================================\nDep. Variable:                     BP   R-squared:                        0.0986\nEstimator:              RandomEffects   R-squared (Between):              0.2713\nNo. Observations:               11700   R-squared (Within):               0.0350\nDate:                Sat, May 20 2023   R-squared (Overall):              0.1902\nTime:                        13:56:06   Log-likelihood                   -8113.7\nCov. Estimator:            Unadjusted                                           \n                                        F-statistic:                      142.09\nEntities:                        2340   P-value                           0.0000\nAvg Obs:                       5.0000   Distribution:                 F(9,11691)\nMin Obs:                       5.0000                                           \nMax Obs:                       5.0000   F-statistic (robust):             142.09\n                                        P-value                           0.0000\nTime periods:                       5   Distribution:                 F(9,11691)\nAvg Obs:                       2340.0                                           \nMin Obs:                       2340.0                                           \nMax Obs:                       2340.0                                           \n                                                                                \n                             Parameter Estimates                              \n==============================================================================\n            Parameter  Std. Err.     T-stat    P-value    Lower CI    Upper CI\n------------------------------------------------------------------------------\nCSR            0.0086     0.0005     17.307     0.0000      0.0076      0.0095\nSIZE           0.0096     0.0014     6.7218     0.0000      0.0068      0.0124\nLEV           -0.5427     0.0446    -12.160     0.0000     -0.6302     -0.4552\nSOE            0.1552     0.0715     2.1698     0.0300      0.0150      0.2953\nIND            0.0041     0.0198     0.2083     0.8350     -0.0347      0.0429\nYEAR_2017      0.1233     0.0147     8.3666     0.0000      0.0944      0.1522\nYEAR_2018      0.1365     0.0149     9.1462     0.0000      0.1072      0.1657\nYEAR_2019      0.1505     0.0150     10.008     0.0000      0.1210      0.1799\nYEAR_2020      0.1321     0.0152     8.6917     0.0000      0.1023      0.1619\n==============================================================================\n\"\"\"",
      "text/html": "<table class=\"simpletable\">\n<caption>RandomEffects Estimation Summary</caption>\n<tr>\n  <th>Dep. Variable:</th>           <td>BP</td>        <th>  R-squared:         </th>     <td>0.0986</td>  \n</tr>\n<tr>\n  <th>Estimator:</th>          <td>RandomEffects</td>  <th>  R-squared (Between):</th>    <td>0.2713</td>  \n</tr>\n<tr>\n  <th>No. Observations:</th>       <td>11700</td>      <th>  R-squared (Within):</th>     <td>0.0350</td>  \n</tr>\n<tr>\n  <th>Date:</th>             <td>Sat, May 20 2023</td> <th>  R-squared (Overall):</th>    <td>0.1902</td>  \n</tr>\n<tr>\n  <th>Time:</th>                 <td>13:56:06</td>     <th>  Log-likelihood     </th>     <td>-8113.7</td> \n</tr>\n<tr>\n  <th>Cov. Estimator:</th>      <td>Unadjusted</td>    <th>                     </th>        <td></td>     \n</tr>\n<tr>\n  <th></th>                          <td></td>         <th>  F-statistic:       </th>     <td>142.09</td>  \n</tr>\n<tr>\n  <th>Entities:</th>               <td>2340</td>       <th>  P-value            </th>     <td>0.0000</td>  \n</tr>\n<tr>\n  <th>Avg Obs:</th>               <td>5.0000</td>      <th>  Distribution:      </th>   <td>F(9,11691)</td>\n</tr>\n<tr>\n  <th>Min Obs:</th>               <td>5.0000</td>      <th>                     </th>        <td></td>     \n</tr>\n<tr>\n  <th>Max Obs:</th>               <td>5.0000</td>      <th>  F-statistic (robust):</th>   <td>142.09</td>  \n</tr>\n<tr>\n  <th></th>                          <td></td>         <th>  P-value            </th>     <td>0.0000</td>  \n</tr>\n<tr>\n  <th>Time periods:</th>             <td>5</td>        <th>  Distribution:      </th>   <td>F(9,11691)</td>\n</tr>\n<tr>\n  <th>Avg Obs:</th>               <td>2340.0</td>      <th>                     </th>        <td></td>     \n</tr>\n<tr>\n  <th>Min Obs:</th>               <td>2340.0</td>      <th>                     </th>        <td></td>     \n</tr>\n<tr>\n  <th>Max Obs:</th>               <td>2340.0</td>      <th>                     </th>        <td></td>     \n</tr>\n<tr>\n  <th></th>                          <td></td>         <th>                     </th>        <td></td>     \n</tr>\n</table>\n<table class=\"simpletable\">\n<caption>Parameter Estimates</caption>\n<tr>\n      <td></td>      <th>Parameter</th> <th>Std. Err.</th> <th>T-stat</th>  <th>P-value</th> <th>Lower CI</th> <th>Upper CI</th>\n</tr>\n<tr>\n  <th>CSR</th>        <td>0.0086</td>    <td>0.0005</td>   <td>17.307</td>  <td>0.0000</td>   <td>0.0076</td>   <td>0.0095</td> \n</tr>\n<tr>\n  <th>SIZE</th>       <td>0.0096</td>    <td>0.0014</td>   <td>6.7218</td>  <td>0.0000</td>   <td>0.0068</td>   <td>0.0124</td> \n</tr>\n<tr>\n  <th>LEV</th>        <td>-0.5427</td>   <td>0.0446</td>   <td>-12.160</td> <td>0.0000</td>   <td>-0.6302</td>  <td>-0.4552</td>\n</tr>\n<tr>\n  <th>SOE</th>        <td>0.1552</td>    <td>0.0715</td>   <td>2.1698</td>  <td>0.0300</td>   <td>0.0150</td>   <td>0.2953</td> \n</tr>\n<tr>\n  <th>IND</th>        <td>0.0041</td>    <td>0.0198</td>   <td>0.2083</td>  <td>0.8350</td>   <td>-0.0347</td>  <td>0.0429</td> \n</tr>\n<tr>\n  <th>YEAR_2017</th>  <td>0.1233</td>    <td>0.0147</td>   <td>8.3666</td>  <td>0.0000</td>   <td>0.0944</td>   <td>0.1522</td> \n</tr>\n<tr>\n  <th>YEAR_2018</th>  <td>0.1365</td>    <td>0.0149</td>   <td>9.1462</td>  <td>0.0000</td>   <td>0.1072</td>   <td>0.1657</td> \n</tr>\n<tr>\n  <th>YEAR_2019</th>  <td>0.1505</td>    <td>0.0150</td>   <td>10.008</td>  <td>0.0000</td>   <td>0.1210</td>   <td>0.1799</td> \n</tr>\n<tr>\n  <th>YEAR_2020</th>  <td>0.1321</td>    <td>0.0152</td>   <td>8.6917</td>  <td>0.0000</td>   <td>0.1023</td>   <td>0.1619</td> \n</tr>\n</table>",
      "text/latex": "\\begin{center}\n\\begin{tabular}{lclc}\n\\toprule\n\\textbf{Dep. Variable:}    &         BP         & \\textbf{  R-squared:         }   &      0.0986      \\\\\n\\textbf{Estimator:}        &   RandomEffects    & \\textbf{  R-squared (Between):}  &      0.2713      \\\\\n\\textbf{No. Observations:} &       11700        & \\textbf{  R-squared (Within):}   &      0.0350      \\\\\n\\textbf{Date:}             &  Sat, May 20 2023  & \\textbf{  R-squared (Overall):}  &      0.1902      \\\\\n\\textbf{Time:}             &      13:56:06      & \\textbf{  Log-likelihood     }   &     -8113.7      \\\\\n\\textbf{Cov. Estimator:}   &     Unadjusted     & \\textbf{                     }   &                  \\\\\n\\textbf{}                  &                    & \\textbf{  F-statistic:       }   &      142.09      \\\\\n\\textbf{Entities:}         &        2340        & \\textbf{  P-value            }   &      0.0000      \\\\\n\\textbf{Avg Obs:}          &       5.0000       & \\textbf{  Distribution:      }   &    F(9,11691)    \\\\\n\\textbf{Min Obs:}          &       5.0000       & \\textbf{                     }   &                  \\\\\n\\textbf{Max Obs:}          &       5.0000       & \\textbf{  F-statistic (robust):} &      142.09      \\\\\n\\textbf{}                  &                    & \\textbf{  P-value            }   &      0.0000      \\\\\n\\textbf{Time periods:}     &         5          & \\textbf{  Distribution:      }   &    F(9,11691)    \\\\\n\\textbf{Avg Obs:}          &       2340.0       & \\textbf{                     }   &                  \\\\\n\\textbf{Min Obs:}          &       2340.0       & \\textbf{                     }   &                  \\\\\n\\textbf{Max Obs:}          &       2340.0       & \\textbf{                     }   &                  \\\\\n\\textbf{}                  &                    & \\textbf{                     }   &                  \\\\\n\\bottomrule\n\\end{tabular}\n\\begin{tabular}{lcccccc}\n                    & \\textbf{Parameter} & \\textbf{Std. Err.} & \\textbf{T-stat} & \\textbf{P-value} & \\textbf{Lower CI} & \\textbf{Upper CI}  \\\\\n\\midrule\n\\textbf{CSR}        &       0.0086       &       0.0005       &      17.307     &      0.0000      &       0.0076      &       0.0095       \\\\\n\\textbf{SIZE}       &       0.0096       &       0.0014       &      6.7218     &      0.0000      &       0.0068      &       0.0124       \\\\\n\\textbf{LEV}        &      -0.5427       &       0.0446       &     -12.160     &      0.0000      &      -0.6302      &      -0.4552       \\\\\n\\textbf{SOE}        &       0.1552       &       0.0715       &      2.1698     &      0.0300      &       0.0150      &       0.2953       \\\\\n\\textbf{IND}        &       0.0041       &       0.0198       &      0.2083     &      0.8350      &      -0.0347      &       0.0429       \\\\\n\\textbf{YEAR\\_2017} &       0.1233       &       0.0147       &      8.3666     &      0.0000      &       0.0944      &       0.1522       \\\\\n\\textbf{YEAR\\_2018} &       0.1365       &       0.0149       &      9.1462     &      0.0000      &       0.1072      &       0.1657       \\\\\n\\textbf{YEAR\\_2019} &       0.1505       &       0.0150       &      10.008     &      0.0000      &       0.1210      &       0.1799       \\\\\n\\textbf{YEAR\\_2020} &       0.1321       &       0.0152       &      8.6917     &      0.0000      &       0.1023      &       0.1619       \\\\\n\\bottomrule\n\\end{tabular}\n%\\caption{RandomEffects Estimation Summary}\n\\end{center}"
     },
     "execution_count": 155,
     "metadata": {},
     "output_type": "execute_result"
    }
   ],
   "source": [
    "from linearmodels import RandomEffects\n",
    "\n",
    "# 建立随机效应模型\n",
    "model_re = RandomEffects(data_with_dummies['BP'],\n",
    "                         data_with_dummies[\n",
    "                             ['CSR', 'SIZE', 'LEV', 'SOE', 'IND', 'YEAR_2017', 'YEAR_2018', 'YEAR_2019', 'YEAR_2020']])\n",
    "# 拟合模型\n",
    "results_re = model_re.fit()\n",
    "# 查看回归结果\n",
    "results_re.summary"
   ]
  },
  {
   "cell_type": "markdown",
   "source": [
    "## 稳健性检验"
   ],
   "metadata": {
    "collapsed": false
   }
  },
  {
   "cell_type": "code",
   "execution_count": 156,
   "outputs": [
    {
     "name": "stdout",
     "output_type": "stream",
     "text": [
      "                          PanelOLS Estimation Summary                           \n",
      "================================================================================\n",
      "Dep. Variable:                     BP   R-squared:                        0.0462\n",
      "Estimator:                   PanelOLS   R-squared (Between):             -29.057\n",
      "No. Observations:               11700   R-squared (Within):               0.0462\n",
      "Date:                Sat, May 20 2023   R-squared (Overall):             -19.067\n",
      "Time:                        13:56:06   Log-likelihood                   -6610.5\n",
      "Cov. Estimator:                Robust                                           \n",
      "                                        F-statistic:                      50.288\n",
      "Entities:                        2340   P-value                           0.0000\n",
      "Avg Obs:                       5.0000   Distribution:                  F(9,9351)\n",
      "Min Obs:                       5.0000                                           \n",
      "Max Obs:                       5.0000   F-statistic (robust):             30.790\n",
      "                                        P-value                           0.0000\n",
      "Time periods:                       5   Distribution:                  F(9,9351)\n",
      "Avg Obs:                       2340.0                                           \n",
      "Min Obs:                       2340.0                                           \n",
      "Max Obs:                       2340.0                                           \n",
      "                                                                                \n",
      "                             Parameter Estimates                              \n",
      "==============================================================================\n",
      "            Parameter  Std. Err.     T-stat    P-value    Lower CI    Upper CI\n",
      "------------------------------------------------------------------------------\n",
      "CSR            0.0061     0.0007     8.9144     0.0000      0.0048      0.0075\n",
      "SIZE           0.1635     0.0395     4.1373     0.0000      0.0860      0.2409\n",
      "LEV           -1.0461     0.1747    -5.9877     0.0000     -1.3886     -0.7036\n",
      "SOE            0.1096     0.0831     1.3192     0.1871     -0.0532      0.2724\n",
      "IND            0.1577     0.1737     0.9079     0.3640     -0.1828      0.4982\n",
      "YEAR_2017      0.0941     0.0159     5.9020     0.0000      0.0628      0.1253\n",
      "YEAR_2018      0.0917     0.0189     4.8598     0.0000      0.0547      0.1287\n",
      "YEAR_2019      0.0984     0.0240     4.1017     0.0000      0.0514      0.1454\n",
      "YEAR_2020      0.0725     0.0271     2.6730     0.0075      0.0193      0.1257\n",
      "==============================================================================\n",
      "\n",
      "F-test for Poolability: 5.3300\n",
      "P-value: 0.0000\n",
      "Distribution: F(2339,9351)\n",
      "\n",
      "Included effects: Entity\n"
     ]
    }
   ],
   "source": [
    "robust_fe_results = model_fe.fit(cov_type='robust')\n",
    "print(robust_fe_results)"
   ],
   "metadata": {
    "collapsed": false,
    "ExecuteTime": {
     "end_time": "2023-05-20T05:56:06.277541400Z",
     "start_time": "2023-05-20T05:56:06.145991200Z"
    }
   }
  },
  {
   "cell_type": "markdown",
   "source": [
    "## B-P 检验"
   ],
   "metadata": {
    "collapsed": false
   }
  },
  {
   "cell_type": "code",
   "execution_count": 157,
   "outputs": [
    {
     "name": "stdout",
     "output_type": "stream",
     "text": [
      "BP Test Statistic: 21.576969639301915\n",
      "BP p-value: 3.3990899584386606e-06\n",
      "BP Test Results: (21.61313990633554, 3.3720717389842964e-06)\n"
     ]
    }
   ],
   "source": [
    "from statsmodels.stats.diagnostic import het_breuschpagan\n",
    "\n",
    "# 读取回归模型的残差和预测值\n",
    "residuals = results_fe.resids\n",
    "\n",
    "# 获取预测值\n",
    "predicted_values = results_fe.predict()\n",
    "\n",
    "# 进行B-P检验\n",
    "bp_test = het_breuschpagan(residuals, sm.add_constant(predicted_values))\n",
    "\n",
    "# 输出B-P检验结果\n",
    "print(\"BP Test Statistic:\", bp_test[0])\n",
    "print(\"BP p-value:\", bp_test[1])\n",
    "print(\"BP Test Results:\", bp_test[2:])"
   ],
   "metadata": {
    "collapsed": false,
    "ExecuteTime": {
     "end_time": "2023-05-20T05:56:06.277541400Z",
     "start_time": "2023-05-20T05:56:06.266536900Z"
    }
   }
  },
  {
   "cell_type": "markdown",
   "metadata": {},
   "source": [
    "## 进行Hausman检验"
   ]
  },
  {
   "cell_type": "code",
   "execution_count": 158,
   "metadata": {
    "ExecuteTime": {
     "end_time": "2023-05-20T05:56:06.373214100Z",
     "start_time": "2023-05-20T05:56:06.277541400Z"
    }
   },
   "outputs": [
    {
     "name": "stdout",
     "output_type": "stream",
     "text": [
      "                    Model Comparison                    \n",
      "========================================================\n",
      "                                    FE                RE\n",
      "--------------------------------------------------------\n",
      "Dep. Variable                       BP                BP\n",
      "Estimator                     PanelOLS     RandomEffects\n",
      "No. Observations                 11700             11700\n",
      "Cov. Est.                   Unadjusted        Unadjusted\n",
      "R-squared                       0.0462            0.0986\n",
      "R-Squared (Within)              0.0462            0.0350\n",
      "R-Squared (Between)            -29.057            0.2713\n",
      "R-Squared (Overall)            -19.067            0.1902\n",
      "F-statistic                     50.288            142.09\n",
      "P-value (F-stat)                0.0000            0.0000\n",
      "=====================     ============   ===============\n",
      "CSR                             0.0061            0.0086\n",
      "                              (11.712)          (17.307)\n",
      "SIZE                            0.1635            0.0096\n",
      "                              (8.3559)          (6.7218)\n",
      "LEV                            -1.0461           -0.5427\n",
      "                             (-15.232)         (-12.160)\n",
      "SOE                             0.1096            0.1552\n",
      "                              (1.3427)          (2.1698)\n",
      "IND                             0.1577            0.0041\n",
      "                              (3.1627)          (0.2083)\n",
      "YEAR_2017                       0.0941            0.1233\n",
      "                              (6.3224)          (8.3666)\n",
      "YEAR_2018                       0.0917            0.1365\n",
      "                              (5.8472)          (9.1462)\n",
      "YEAR_2019                       0.0984            0.1505\n",
      "                              (6.0619)          (10.008)\n",
      "YEAR_2020                       0.0725            0.1321\n",
      "                              (4.2793)          (8.6917)\n",
      "======================= ============== =================\n",
      "Effects                         Entity                  \n",
      "--------------------------------------------------------\n",
      "\n",
      "T-stats reported in parentheses\n"
     ]
    }
   ],
   "source": [
    "# Hausman检验\n",
    "from linearmodels.panel import compare\n",
    "\n",
    "comparison = compare({'FE': results_fe, 'RE': results_re})\n",
    "print(comparison.summary)"
   ]
  },
  {
   "cell_type": "code",
   "execution_count": 159,
   "outputs": [
    {
     "name": "stdout",
     "output_type": "stream",
     "text": [
      "chi-Squared: 324.6296616958815\n",
      "degrees of freedom: 9\n",
      "p-Value: 1.540216379345982e-64\n"
     ]
    }
   ],
   "source": [
    "# 1. 运用计量书本上的公式，自编函数， 因为目前 Python 里面没有现成的模块\n",
    "import numpy.linalg as la\n",
    "from scipy import stats\n",
    "\n",
    "\n",
    "def hausman(fe, re):\n",
    "    b = fe.params\n",
    "    B = re.params\n",
    "    v_b = fe.cov\n",
    "    v_B = re.cov\n",
    "    df = b[np.abs(b) < 1e8].size\n",
    "    chi2 = np.dot((b - B).T, la.inv(v_b - v_B).dot(b - B))\n",
    "\n",
    "    pval = stats.chi2.sf(chi2, df)\n",
    "    return chi2, df, pval\n",
    "\n",
    "\n",
    "# 2. 将fe,re结果带入自编函数之中。\n",
    "hausman_results = hausman(results_fe, results_re)\n",
    "print('chi-Squared: ' + str(hausman_results[0]))\n",
    "print('degrees of freedom: ' + str(hausman_results[1]))\n",
    "print('p-Value: ' + str(hausman_results[2]))\n",
    "\n",
    "# 3. 看结果，如果这儿的 p-Value 小于 10%，则支持 固定效应 模型。"
   ],
   "metadata": {
    "collapsed": false,
    "ExecuteTime": {
     "end_time": "2023-05-20T05:56:06.373214100Z",
     "start_time": "2023-05-20T05:56:06.307547200Z"
    }
   }
  }
 ],
 "metadata": {
  "kernelspec": {
   "display_name": "Python 3 (ipykernel)",
   "language": "python",
   "name": "python3"
  },
  "language_info": {
   "codemirror_mode": {
    "name": "ipython",
    "version": 3
   },
   "file_extension": ".py",
   "mimetype": "text/x-python",
   "name": "python",
   "nbconvert_exporter": "python",
   "pygments_lexer": "ipython3",
   "version": "3.9.5"
  }
 },
 "nbformat": 4,
 "nbformat_minor": 1
}
