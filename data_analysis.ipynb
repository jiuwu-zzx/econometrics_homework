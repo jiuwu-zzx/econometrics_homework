{
 "cells": [
  {
   "cell_type": "markdown",
   "metadata": {},
   "source": [
    "# 数据分析"
   ]
  },
  {
   "cell_type": "code",
   "execution_count": 353,
   "metadata": {
    "collapsed": true,
    "ExecuteTime": {
     "end_time": "2023-05-21T02:04:49.115411Z",
     "start_time": "2023-05-21T02:04:49.071399100Z"
    }
   },
   "outputs": [],
   "source": [
    "import pandas as pd\n",
    "import numpy as np\n",
    "import statsmodels.api as sm\n",
    "from linearmodels import PanelOLS"
   ]
  },
  {
   "cell_type": "markdown",
   "metadata": {},
   "source": [
    "## 读取数据"
   ]
  },
  {
   "cell_type": "code",
   "execution_count": 354,
   "metadata": {
    "ExecuteTime": {
     "end_time": "2023-05-21T02:04:49.355540600Z",
     "start_time": "2023-05-21T02:04:49.093404200Z"
    }
   },
   "outputs": [
    {
     "name": "stdout",
     "output_type": "stream",
     "text": [
      "<class 'pandas.core.frame.DataFrame'>\n",
      "RangeIndex: 10795 entries, 0 to 10794\n",
      "Data columns (total 10 columns):\n",
      " #   Column  Non-Null Count  Dtype  \n",
      "---  ------  --------------  -----  \n",
      " 0   Stk_cd  10795 non-null  int64  \n",
      " 1   CSR     10795 non-null  float64\n",
      " 2   YEAR    10795 non-null  int64  \n",
      " 3   TOP10   10795 non-null  float64\n",
      " 4   BP      10795 non-null  float64\n",
      " 5   TOBINQ  10795 non-null  float64\n",
      " 6   LEV     10795 non-null  float64\n",
      " 7   SIZE    10795 non-null  float64\n",
      " 8   SOE     10795 non-null  float64\n",
      " 9   IND     10795 non-null  int64  \n",
      "dtypes: float64(7), int64(3)\n",
      "memory usage: 843.5 KB\n"
     ]
    }
   ],
   "source": [
    "# 读取数据\n",
    "df = pd.read_excel(\"./final_data.xls\")\n",
    "# 查看数据概况\n",
    "df.info()"
   ]
  },
  {
   "cell_type": "code",
   "execution_count": 355,
   "metadata": {
    "ExecuteTime": {
     "end_time": "2023-05-21T02:04:49.423071Z",
     "start_time": "2023-05-21T02:04:49.361544600Z"
    }
   },
   "outputs": [
    {
     "name": "stdout",
     "output_type": "stream",
     "text": [
      "       Stk_cd    CSR  YEAR  TOP10        BP    TOBINQ       LEV       SIZE  \\\n",
      "0           2  76.52  2016  57.40  0.175352  1.069010  0.805367  27.445504   \n",
      "1           8  21.29  2016  40.42  0.085953  2.299946  0.246583  22.826504   \n",
      "2          10  15.97  2016  44.33  0.017621  1.419832  0.544721  22.302922   \n",
      "3          11  38.97  2016  66.55  0.147164  1.421490  0.637636  22.618538   \n",
      "4          12  72.45  2016  32.13  0.098931  1.631295  0.525907  23.565078   \n",
      "...       ...    ...   ...    ...       ...       ...       ...        ...   \n",
      "10790  603989  25.51  2020  74.30  0.142083  2.821724  0.379898  22.193237   \n",
      "10791  603993  19.34  2020  79.28  0.052364  1.585558  0.613408  25.530897   \n",
      "10792  603997   7.29  2020  85.63 -0.074551  1.138218  0.736398  23.575464   \n",
      "10793  603998  27.31  2020  51.93  0.042487  1.582559  0.435642  21.530982   \n",
      "10794  603999  16.20  2020  64.62  0.042065  1.654336  0.166607  21.482746   \n",
      "\n",
      "            SOE  IND  \n",
      "0      0.000000    0  \n",
      "1      0.010889    1  \n",
      "2      0.018431    0  \n",
      "3      0.588242    0  \n",
      "4      0.000000    1  \n",
      "...         ...  ...  \n",
      "10790  0.000000    1  \n",
      "10791  0.000000    0  \n",
      "10792  0.000000    1  \n",
      "10793  0.000000    1  \n",
      "10794  0.000000    0  \n",
      "\n",
      "[10795 rows x 10 columns]\n"
     ]
    }
   ],
   "source": [
    "from scipy.stats.mstats import winsorize\n",
    "\n",
    "df['BP'] = winsorize(df['BP'], limits=[0.01, 0.01])\n",
    "print(df)"
   ]
  },
  {
   "cell_type": "code",
   "execution_count": 356,
   "metadata": {
    "ExecuteTime": {
     "end_time": "2023-05-21T02:04:49.424084200Z",
     "start_time": "2023-05-21T02:04:49.380539900Z"
    }
   },
   "outputs": [],
   "source": [
    "# 创建虚拟变量（年份）\n",
    "year_dummies = pd.get_dummies(df['YEAR'], prefix='YEAR', drop_first=True)\n",
    "# 合并虚拟变量到原始数据\n",
    "data_with_dummies = pd.concat([df, year_dummies], axis=1)\n",
    "# 设置双重索引\n",
    "data_with_dummies = data_with_dummies.set_index([\"Stk_cd\", \"YEAR\"])"
   ]
  },
  {
   "cell_type": "code",
   "execution_count": 357,
   "metadata": {
    "ExecuteTime": {
     "end_time": "2023-05-21T02:04:49.424084200Z",
     "start_time": "2023-05-21T02:04:49.401066400Z"
    }
   },
   "outputs": [
    {
     "name": "stdout",
     "output_type": "stream",
     "text": [
      "               CSR  TOP10        BP    TOBINQ       LEV       SIZE       SOE  \\\n",
      "Stk_cd YEAR                                                                    \n",
      "2      2016  76.52  57.40  0.175352  1.069010  0.805367  27.445504  0.000000   \n",
      "8      2016  21.29  40.42  0.085953  2.299946  0.246583  22.826504  0.010889   \n",
      "10     2016  15.97  44.33  0.017621  1.419832  0.544721  22.302922  0.018431   \n",
      "11     2016  38.97  66.55  0.147164  1.421490  0.637636  22.618538  0.588242   \n",
      "12     2016  72.45  32.13  0.098931  1.631295  0.525907  23.565078  0.000000   \n",
      "...            ...    ...       ...       ...       ...        ...       ...   \n",
      "603989 2020  25.51  74.30  0.142083  2.821724  0.379898  22.193237  0.000000   \n",
      "603993 2020  19.34  79.28  0.052364  1.585558  0.613408  25.530897  0.000000   \n",
      "603997 2020   7.29  85.63 -0.074551  1.138218  0.736398  23.575464  0.000000   \n",
      "603998 2020  27.31  51.93  0.042487  1.582559  0.435642  21.530982  0.000000   \n",
      "603999 2020  16.20  64.62  0.042065  1.654336  0.166607  21.482746  0.000000   \n",
      "\n",
      "             IND  YEAR_2017  YEAR_2018  YEAR_2019  YEAR_2020  \n",
      "Stk_cd YEAR                                                   \n",
      "2      2016    0          0          0          0          0  \n",
      "8      2016    1          0          0          0          0  \n",
      "10     2016    0          0          0          0          0  \n",
      "11     2016    0          0          0          0          0  \n",
      "12     2016    1          0          0          0          0  \n",
      "...          ...        ...        ...        ...        ...  \n",
      "603989 2020    1          0          0          0          1  \n",
      "603993 2020    0          0          0          0          1  \n",
      "603997 2020    1          0          0          0          1  \n",
      "603998 2020    1          0          0          0          1  \n",
      "603999 2020    0          0          0          0          1  \n",
      "\n",
      "[10795 rows x 12 columns]\n"
     ]
    }
   ],
   "source": [
    "print(data_with_dummies)"
   ]
  },
  {
   "cell_type": "markdown",
   "metadata": {},
   "source": [
    "## 描述性分析和相关性分析"
   ]
  },
  {
   "cell_type": "code",
   "execution_count": 358,
   "metadata": {
    "ExecuteTime": {
     "end_time": "2023-05-21T02:04:49.513091200Z",
     "start_time": "2023-05-21T02:04:49.411068200Z"
    }
   },
   "outputs": [
    {
     "name": "stdout",
     "output_type": "stream",
     "text": [
      "                CSR         TOP10            BP        TOBINQ           LEV  \\\n",
      "count  10795.000000  10795.000000  10795.000000  10795.000000  10795.000000   \n",
      "mean      21.034719     57.030764      0.049697      2.007117      0.432658   \n",
      "std       12.232101     14.610519      0.142087      1.887513      0.197734   \n",
      "min      -18.450000     14.590000     -0.819441      0.673522      0.008359   \n",
      "25%       15.220000     46.490000      0.025854      1.170746      0.278299   \n",
      "50%       20.950000     57.100000      0.062828      1.555917      0.426855   \n",
      "75%       26.160000     67.365000      0.108193      2.231669      0.578399   \n",
      "max       87.020000    100.970000      0.314425     78.751176      0.994273   \n",
      "\n",
      "               SIZE           SOE           IND  \n",
      "count  10795.000000  10795.000000  10795.000000  \n",
      "mean      22.540144      0.025238      0.637054  \n",
      "std        1.331718      0.093531      0.480872  \n",
      "min       17.654202      0.000000      0.000000  \n",
      "25%       21.641957      0.000000      0.000000  \n",
      "50%       22.364880      0.000000      1.000000  \n",
      "75%       23.291026      0.000000      1.000000  \n",
      "max       28.636491      0.874563      1.000000  \n",
      "             CSR     TOP10        BP    TOBINQ       LEV      SIZE       SOE  \\\n",
      "CSR     1.000000  0.220947  0.524304 -0.003687 -0.078143  0.253733  0.063062   \n",
      "TOP10   0.220947  1.000000  0.193158 -0.051758 -0.008249  0.286073  0.197864   \n",
      "BP      0.524304  0.193158  1.000000  0.027193 -0.155950  0.165874  0.037027   \n",
      "TOBINQ -0.003687 -0.051758  0.027193  1.000000 -0.204063 -0.358961 -0.087785   \n",
      "LEV    -0.078143 -0.008249 -0.155950 -0.204063  1.000000  0.492756  0.104317   \n",
      "SIZE    0.253733  0.286073  0.165874 -0.358961  0.492756  1.000000  0.165915   \n",
      "SOE     0.063062  0.197864  0.037027 -0.087785  0.104317  0.165915  1.000000   \n",
      "IND    -0.095678 -0.059966  0.031909  0.070088 -0.206007 -0.218147 -0.111598   \n",
      "\n",
      "             IND  \n",
      "CSR    -0.095678  \n",
      "TOP10  -0.059966  \n",
      "BP      0.031909  \n",
      "TOBINQ  0.070088  \n",
      "LEV    -0.206007  \n",
      "SIZE   -0.218147  \n",
      "SOE    -0.111598  \n",
      "IND     1.000000  \n"
     ]
    }
   ],
   "source": [
    "df = df.set_index([\"Stk_cd\", \"YEAR\"])\n",
    "# 描述性分析\n",
    "print(df.describe())\n",
    "# 相关性分析\n",
    "print(df.corr())\n",
    "# # 绘制相关性热图\n",
    "# import seaborn as sns\n",
    "# sns.heatmap(df.corr(), annot=True, cmap=\"Blues\")\n",
    "# # 描述性分析\n",
    "# print(data_with_dummies.describe())\n",
    "# # 相关性分析\n",
    "# print(data_with_dummies.corr())\n",
    "# # 绘制相关性热图\n",
    "# import seaborn as sns\n",
    "#\n",
    "# sns.heatmap(data_with_dummies.corr(), annot=True, cmap=\"Blues\")"
   ]
  },
  {
   "cell_type": "code",
   "execution_count": 359,
   "metadata": {
    "ExecuteTime": {
     "end_time": "2023-05-21T02:04:50.427301Z",
     "start_time": "2023-05-21T02:04:49.447076800Z"
    }
   },
   "outputs": [
    {
     "data": {
      "text/plain": "<Figure size 453.543x340.157 with 2 Axes>",
      "image/png": "[encoded data removed]"
     },
     "metadata": {},
     "output_type": "display_data"
    }
   ],
   "source": [
    "# here put the import lib\n",
    "import pandas as pd\n",
    "import seaborn as sns\n",
    "import matplotlib.pyplot as plt\n",
    "import numpy as np\n",
    "from scipy.stats import pearsonr\n",
    "import matplotlib as mpl\n",
    "\n",
    "\n",
    "def cm2inch(x, y):\n",
    "    return x / 2.54, y / 2.54\n",
    "\n",
    "\n",
    "size1 = 10.5\n",
    "mpl.rcParams.update(\n",
    "    {\n",
    "        'text.usetex': False,\n",
    "        'font.family': 'stixgeneral',\n",
    "        'mathtext.fontset': 'stix',\n",
    "        \"font.family\": 'serif',\n",
    "        \"font.size\": size1,\n",
    "        \"font.serif\": ['Times New Roman'],\n",
    "    }\n",
    ")\n",
    "fontdict = {'weight': 'bold', 'size': size1, 'family': 'SimHei'}\n",
    "\n",
    "df_coor = df.corr()\n",
    "fig = plt.figure(figsize=(cm2inch(16, 12)))\n",
    "ax1 = plt.gca()\n",
    "\n",
    "#构造mask，去除重复数据显示\n",
    "mask = np.zeros_like(df_coor)\n",
    "mask[np.triu_indices_from(mask)] = True\n",
    "mask2 = mask\n",
    "mask = (np.flipud(mask) - 1) * (-1)\n",
    "mask = np.rot90(mask, k=-1)\n",
    "\n",
    "im1 = sns.heatmap(df_coor, annot=True, cmap=\"RdBu\"\n",
    "                  , mask=mask  #构造mask，去除重复数据显示\n",
    "                  , vmax=1, vmin=-1\n",
    "                  , fmt='.2f', ax=ax1)\n",
    "\n",
    "ax1.tick_params(axis='both', length=0)\n",
    "\n",
    "#计算相关性显著性并显示\n",
    "rlist = []\n",
    "plist = []\n",
    "for i in df.columns.values:\n",
    "    for j in df.columns.values:\n",
    "        r, p = pearsonr(df[i], df[j])\n",
    "        rlist.append(r)\n",
    "        plist.append(p)\n",
    "\n",
    "rarr = np.asarray(rlist).reshape(len(df.columns.values), len(df.columns.values))\n",
    "parr = np.asarray(plist).reshape(len(df.columns.values), len(df.columns.values))\n",
    "xlist = ax1.get_xticks()\n",
    "ylist = ax1.get_yticks()\n",
    "\n",
    "widthx = 0\n",
    "widthy = -0.15\n",
    "\n",
    "for m in ax1.get_xticks():\n",
    "    for n in ax1.get_yticks():\n",
    "        pv = (parr[int(m), int(n)])\n",
    "        rv = (rarr[int(m), int(n)])\n",
    "        if mask2[int(m), int(n)] < 1.:\n",
    "            if abs(rv) > 0.5:\n",
    "                if pv < 0.05 and pv >= 0.01:\n",
    "                    ax1.text(n + widthx, m + widthy, '*', ha='center', color='white')\n",
    "                if pv < 0.01 and pv >= 0.001:\n",
    "                    ax1.text(n + widthx, m + widthy, '**', ha='center', color='white')\n",
    "                if pv < 0.001:\n",
    "                    # print([int(m),int(n)])\n",
    "                    ax1.text(n + widthx, m + widthy, '***', ha='center', color='white')\n",
    "            else:\n",
    "                if pv < 0.05 and pv >= 0.01:\n",
    "                    ax1.text(n + widthx, m + widthy, '*', ha='center', color='k')\n",
    "                elif pv < 0.01 and pv >= 0.001:\n",
    "                    ax1.text(n + widthx, m + widthy, '**', ha='center', color='k')\n",
    "                elif pv < 0.001:\n",
    "                    ax1.text(n + widthx, m + widthy, '***', ha='center', color='k')\n",
    "plt.savefig(r'D:\\学期\\大三春\\计量经济学\\大作业\\成品\\fig\\r_demo.png', dpi=600)\n",
    "plt.show()"
   ]
  },
  {
   "cell_type": "markdown",
   "metadata": {},
   "source": [
    "## 固定效应模型"
   ]
  },
  {
   "cell_type": "code",
   "execution_count": 360,
   "metadata": {
    "ExecuteTime": {
     "end_time": "2023-05-21T02:04:50.540322700Z",
     "start_time": "2023-05-21T02:04:50.431297Z"
    }
   },
   "outputs": [
    {
     "data": {
      "text/plain": "<class 'linearmodels.compat.statsmodels.Summary'>\n\"\"\"\n                          PanelOLS Estimation Summary                           \n================================================================================\nDep. Variable:                     BP   R-squared:                        0.2709\nEstimator:                   PanelOLS   R-squared (Between):             -475.30\nNo. Observations:               10795   R-squared (Within):               0.2709\nDate:                Sun, May 21 2023   R-squared (Overall):             -217.73\nTime:                        10:04:50   Log-likelihood                 1.014e+04\nCov. Estimator:            Unadjusted                                           \n                                        F-statistic:                      291.39\nEntities:                        2159   P-value                           0.0000\nAvg Obs:                       5.0000   Distribution:                 F(11,8625)\nMin Obs:                       5.0000                                           \nMax Obs:                       5.0000   F-statistic (robust):             291.39\n                                        P-value                           0.0000\nTime periods:                       5   Distribution:                 F(11,8625)\nAvg Obs:                       2159.0                                           \nMin Obs:                       2159.0                                           \nMax Obs:                       2159.0                                           \n                                                                                \n                             Parameter Estimates                              \n==============================================================================\n            Parameter  Std. Err.     T-stat    P-value    Lower CI    Upper CI\n------------------------------------------------------------------------------\nCSR            0.0046     0.0001     37.198     0.0000      0.0044      0.0048\nSIZE           0.1026     0.0050     20.507     0.0000      0.0928      0.1124\nLEV           -0.4823     0.0166    -28.977     0.0000     -0.5149     -0.4497\nTOBINQ         0.0030     0.0010     3.0476     0.0023      0.0011      0.0049\nTOP10          0.0005     0.0003     2.0773     0.0378   3.029e-05      0.0010\nSOE           -0.0735     0.0186    -3.9534     0.0001     -0.1099     -0.0370\nIND            0.0402     0.0117     3.4380     0.0006      0.0173      0.0632\nYEAR_2017      0.0326     0.0035     9.3887     0.0000      0.0258      0.0394\nYEAR_2018      0.0095     0.0037     2.5727     0.0101      0.0023      0.0168\nYEAR_2019      0.0039     0.0038     1.0320     0.3021     -0.0035      0.0114\nYEAR_2020     -0.0026     0.0040    -0.6415     0.5212     -0.0105      0.0053\n==============================================================================\n\nF-test for Poolability: 2.1104\nP-value: 0.0000\nDistribution: F(2158,8625)\n\nIncluded effects: Entity\n\"\"\"",
      "text/html": "<table class=\"simpletable\">\n<caption>PanelOLS Estimation Summary</caption>\n<tr>\n  <th>Dep. Variable:</th>           <td>BP</td>        <th>  R-squared:         </th>     <td>0.2709</td>  \n</tr>\n<tr>\n  <th>Estimator:</th>            <td>PanelOLS</td>     <th>  R-squared (Between):</th>    <td>-475.30</td> \n</tr>\n<tr>\n  <th>No. Observations:</th>       <td>10795</td>      <th>  R-squared (Within):</th>     <td>0.2709</td>  \n</tr>\n<tr>\n  <th>Date:</th>             <td>Sun, May 21 2023</td> <th>  R-squared (Overall):</th>    <td>-217.73</td> \n</tr>\n<tr>\n  <th>Time:</th>                 <td>10:04:50</td>     <th>  Log-likelihood     </th>    <td>1.014e+04</td>\n</tr>\n<tr>\n  <th>Cov. Estimator:</th>      <td>Unadjusted</td>    <th>                     </th>        <td></td>     \n</tr>\n<tr>\n  <th></th>                          <td></td>         <th>  F-statistic:       </th>     <td>291.39</td>  \n</tr>\n<tr>\n  <th>Entities:</th>               <td>2159</td>       <th>  P-value            </th>     <td>0.0000</td>  \n</tr>\n<tr>\n  <th>Avg Obs:</th>               <td>5.0000</td>      <th>  Distribution:      </th>   <td>F(11,8625)</td>\n</tr>\n<tr>\n  <th>Min Obs:</th>               <td>5.0000</td>      <th>                     </th>        <td></td>     \n</tr>\n<tr>\n  <th>Max Obs:</th>               <td>5.0000</td>      <th>  F-statistic (robust):</th>   <td>291.39</td>  \n</tr>\n<tr>\n  <th></th>                          <td></td>         <th>  P-value            </th>     <td>0.0000</td>  \n</tr>\n<tr>\n  <th>Time periods:</th>             <td>5</td>        <th>  Distribution:      </th>   <td>F(11,8625)</td>\n</tr>\n<tr>\n  <th>Avg Obs:</th>               <td>2159.0</td>      <th>                     </th>        <td></td>     \n</tr>\n<tr>\n  <th>Min Obs:</th>               <td>2159.0</td>      <th>                     </th>        <td></td>     \n</tr>\n<tr>\n  <th>Max Obs:</th>               <td>2159.0</td>      <th>                     </th>        <td></td>     \n</tr>\n<tr>\n  <th></th>                          <td></td>         <th>                     </th>        <td></td>     \n</tr>\n</table>\n<table class=\"simpletable\">\n<caption>Parameter Estimates</caption>\n<tr>\n      <td></td>      <th>Parameter</th> <th>Std. Err.</th> <th>T-stat</th>  <th>P-value</th> <th>Lower CI</th>  <th>Upper CI</th>\n</tr>\n<tr>\n  <th>CSR</th>        <td>0.0046</td>    <td>0.0001</td>   <td>37.198</td>  <td>0.0000</td>   <td>0.0044</td>    <td>0.0048</td> \n</tr>\n<tr>\n  <th>SIZE</th>       <td>0.1026</td>    <td>0.0050</td>   <td>20.507</td>  <td>0.0000</td>   <td>0.0928</td>    <td>0.1124</td> \n</tr>\n<tr>\n  <th>LEV</th>        <td>-0.4823</td>   <td>0.0166</td>   <td>-28.977</td> <td>0.0000</td>   <td>-0.5149</td>   <td>-0.4497</td>\n</tr>\n<tr>\n  <th>TOBINQ</th>     <td>0.0030</td>    <td>0.0010</td>   <td>3.0476</td>  <td>0.0023</td>   <td>0.0011</td>    <td>0.0049</td> \n</tr>\n<tr>\n  <th>TOP10</th>      <td>0.0005</td>    <td>0.0003</td>   <td>2.0773</td>  <td>0.0378</td>  <td>3.029e-05</td>  <td>0.0010</td> \n</tr>\n<tr>\n  <th>SOE</th>        <td>-0.0735</td>   <td>0.0186</td>   <td>-3.9534</td> <td>0.0001</td>   <td>-0.1099</td>   <td>-0.0370</td>\n</tr>\n<tr>\n  <th>IND</th>        <td>0.0402</td>    <td>0.0117</td>   <td>3.4380</td>  <td>0.0006</td>   <td>0.0173</td>    <td>0.0632</td> \n</tr>\n<tr>\n  <th>YEAR_2017</th>  <td>0.0326</td>    <td>0.0035</td>   <td>9.3887</td>  <td>0.0000</td>   <td>0.0258</td>    <td>0.0394</td> \n</tr>\n<tr>\n  <th>YEAR_2018</th>  <td>0.0095</td>    <td>0.0037</td>   <td>2.5727</td>  <td>0.0101</td>   <td>0.0023</td>    <td>0.0168</td> \n</tr>\n<tr>\n  <th>YEAR_2019</th>  <td>0.0039</td>    <td>0.0038</td>   <td>1.0320</td>  <td>0.3021</td>   <td>-0.0035</td>   <td>0.0114</td> \n</tr>\n<tr>\n  <th>YEAR_2020</th>  <td>-0.0026</td>   <td>0.0040</td>   <td>-0.6415</td> <td>0.5212</td>   <td>-0.0105</td>   <td>0.0053</td> \n</tr>\n</table><br/><br/>F-test for Poolability: 2.1104<br/>P-value: 0.0000<br/>Distribution: F(2158,8625)<br/><br/>Included effects: Entity",
      "text/latex": "\\begin{center}\n\\begin{tabular}{lclc}\n\\toprule\n\\textbf{Dep. Variable:}    &         BP         & \\textbf{  R-squared:         }   &      0.2709      \\\\\n\\textbf{Estimator:}        &      PanelOLS      & \\textbf{  R-squared (Between):}  &     -475.30      \\\\\n\\textbf{No. Observations:} &       10795        & \\textbf{  R-squared (Within):}   &      0.2709      \\\\\n\\textbf{Date:}             &  Sun, May 21 2023  & \\textbf{  R-squared (Overall):}  &     -217.73      \\\\\n\\textbf{Time:}             &      10:04:50      & \\textbf{  Log-likelihood     }   &    1.014e+04     \\\\\n\\textbf{Cov. Estimator:}   &     Unadjusted     & \\textbf{                     }   &                  \\\\\n\\textbf{}                  &                    & \\textbf{  F-statistic:       }   &      291.39      \\\\\n\\textbf{Entities:}         &        2159        & \\textbf{  P-value            }   &      0.0000      \\\\\n\\textbf{Avg Obs:}          &       5.0000       & \\textbf{  Distribution:      }   &    F(11,8625)    \\\\\n\\textbf{Min Obs:}          &       5.0000       & \\textbf{                     }   &                  \\\\\n\\textbf{Max Obs:}          &       5.0000       & \\textbf{  F-statistic (robust):} &      291.39      \\\\\n\\textbf{}                  &                    & \\textbf{  P-value            }   &      0.0000      \\\\\n\\textbf{Time periods:}     &         5          & \\textbf{  Distribution:      }   &    F(11,8625)    \\\\\n\\textbf{Avg Obs:}          &       2159.0       & \\textbf{                     }   &                  \\\\\n\\textbf{Min Obs:}          &       2159.0       & \\textbf{                     }   &                  \\\\\n\\textbf{Max Obs:}          &       2159.0       & \\textbf{                     }   &                  \\\\\n\\textbf{}                  &                    & \\textbf{                     }   &                  \\\\\n\\bottomrule\n\\end{tabular}\n\\begin{tabular}{lcccccc}\n                    & \\textbf{Parameter} & \\textbf{Std. Err.} & \\textbf{T-stat} & \\textbf{P-value} & \\textbf{Lower CI} & \\textbf{Upper CI}  \\\\\n\\midrule\n\\textbf{CSR}        &       0.0046       &       0.0001       &      37.198     &      0.0000      &       0.0044      &       0.0048       \\\\\n\\textbf{SIZE}       &       0.1026       &       0.0050       &      20.507     &      0.0000      &       0.0928      &       0.1124       \\\\\n\\textbf{LEV}        &      -0.4823       &       0.0166       &     -28.977     &      0.0000      &      -0.5149      &      -0.4497       \\\\\n\\textbf{TOBINQ}     &       0.0030       &       0.0010       &      3.0476     &      0.0023      &       0.0011      &       0.0049       \\\\\n\\textbf{TOP10}      &       0.0005       &       0.0003       &      2.0773     &      0.0378      &     3.029e-05     &       0.0010       \\\\\n\\textbf{SOE}        &      -0.0735       &       0.0186       &     -3.9534     &      0.0001      &      -0.1099      &      -0.0370       \\\\\n\\textbf{IND}        &       0.0402       &       0.0117       &      3.4380     &      0.0006      &       0.0173      &       0.0632       \\\\\n\\textbf{YEAR\\_2017} &       0.0326       &       0.0035       &      9.3887     &      0.0000      &       0.0258      &       0.0394       \\\\\n\\textbf{YEAR\\_2018} &       0.0095       &       0.0037       &      2.5727     &      0.0101      &       0.0023      &       0.0168       \\\\\n\\textbf{YEAR\\_2019} &       0.0039       &       0.0038       &      1.0320     &      0.3021      &      -0.0035      &       0.0114       \\\\\n\\textbf{YEAR\\_2020} &      -0.0026       &       0.0040       &     -0.6415     &      0.5212      &      -0.0105      &       0.0053       \\\\\n\\bottomrule\n\\end{tabular}\n%\\caption{PanelOLS Estimation Summary}\n\\end{center}\n\nF-test for Poolability: 2.1104 \\newline\n P-value: 0.0000 \\newline\n Distribution: F(2158,8625) \\newline\n  \\newline\n Included effects: Entity"
     },
     "execution_count": 360,
     "metadata": {},
     "output_type": "execute_result"
    }
   ],
   "source": [
    "# 建立固定效应模型\n",
    "model_fe = PanelOLS(data_with_dummies['BP'],\n",
    "                    data_with_dummies[\n",
    "                        ['CSR', 'SIZE', 'LEV', 'TOBINQ', 'TOP10', 'SOE', 'IND', 'YEAR_2017', 'YEAR_2018',\n",
    "                         'YEAR_2019', 'YEAR_2020']],\n",
    "                    entity_effects=True)  # 使用entity_effects参数启用固定效应\n",
    "# 拟合模型\n",
    "results_fe = model_fe.fit()\n",
    "# 查看回归结果\n",
    "results_fe.summary"
   ]
  },
  {
   "cell_type": "markdown",
   "metadata": {},
   "source": [
    "## 随机效应模型"
   ]
  },
  {
   "cell_type": "code",
   "execution_count": 361,
   "metadata": {
    "ExecuteTime": {
     "end_time": "2023-05-21T02:04:50.693359100Z",
     "start_time": "2023-05-21T02:04:50.546323600Z"
    }
   },
   "outputs": [
    {
     "data": {
      "text/plain": "<class 'linearmodels.compat.statsmodels.Summary'>\n\"\"\"\n                        RandomEffects Estimation Summary                        \n================================================================================\nDep. Variable:                     BP   R-squared:                        0.3278\nEstimator:              RandomEffects   R-squared (Between):              0.5864\nNo. Observations:               10795   R-squared (Within):               0.2002\nDate:                Sun, May 21 2023   R-squared (Overall):              0.3772\nTime:                        10:04:50   Log-likelihood                    8413.2\nCov. Estimator:            Unadjusted                                           \n                                        F-statistic:                      478.18\nEntities:                        2159   P-value                           0.0000\nAvg Obs:                       5.0000   Distribution:                F(11,10784)\nMin Obs:                       5.0000                                           \nMax Obs:                       5.0000   F-statistic (robust):             478.18\n                                        P-value                           0.0000\nTime periods:                       5   Distribution:                F(11,10784)\nAvg Obs:                       2159.0                                           \nMin Obs:                       2159.0                                           \nMax Obs:                       2159.0                                           \n                                                                                \n                             Parameter Estimates                              \n==============================================================================\n            Parameter  Std. Err.     T-stat    P-value    Lower CI    Upper CI\n------------------------------------------------------------------------------\nCSR            0.0058     0.0001     54.551     0.0000      0.0056      0.0060\nSIZE          -0.0045     0.0004    -11.659     0.0000     -0.0053     -0.0038\nLEV           -0.0996     0.0077    -13.020     0.0000     -0.1147     -0.0846\nTOBINQ        -0.0004     0.0007    -0.5410     0.5885     -0.0017      0.0010\nTOP10          0.0007     0.0001     6.8869     0.0000      0.0005      0.0009\nSOE            0.0134     0.0137     0.9776     0.3283     -0.0135      0.0403\nIND            0.0117     0.0029     3.9944     0.0001      0.0059      0.0174\nYEAR_2017      0.0485     0.0035     13.867     0.0000      0.0417      0.0554\nYEAR_2018      0.0287     0.0036     8.0333     0.0000      0.0217      0.0357\nYEAR_2019      0.0293     0.0036     8.2175     0.0000      0.0223      0.0363\nYEAR_2020      0.0300     0.0036     8.3781     0.0000      0.0230      0.0370\n==============================================================================\n\"\"\"",
      "text/html": "<table class=\"simpletable\">\n<caption>RandomEffects Estimation Summary</caption>\n<tr>\n  <th>Dep. Variable:</th>           <td>BP</td>        <th>  R-squared:         </th>     <td>0.3278</td>   \n</tr>\n<tr>\n  <th>Estimator:</th>          <td>RandomEffects</td>  <th>  R-squared (Between):</th>    <td>0.5864</td>   \n</tr>\n<tr>\n  <th>No. Observations:</th>       <td>10795</td>      <th>  R-squared (Within):</th>     <td>0.2002</td>   \n</tr>\n<tr>\n  <th>Date:</th>             <td>Sun, May 21 2023</td> <th>  R-squared (Overall):</th>    <td>0.3772</td>   \n</tr>\n<tr>\n  <th>Time:</th>                 <td>10:04:50</td>     <th>  Log-likelihood     </th>     <td>8413.2</td>   \n</tr>\n<tr>\n  <th>Cov. Estimator:</th>      <td>Unadjusted</td>    <th>                     </th>        <td></td>      \n</tr>\n<tr>\n  <th></th>                          <td></td>         <th>  F-statistic:       </th>     <td>478.18</td>   \n</tr>\n<tr>\n  <th>Entities:</th>               <td>2159</td>       <th>  P-value            </th>     <td>0.0000</td>   \n</tr>\n<tr>\n  <th>Avg Obs:</th>               <td>5.0000</td>      <th>  Distribution:      </th>   <td>F(11,10784)</td>\n</tr>\n<tr>\n  <th>Min Obs:</th>               <td>5.0000</td>      <th>                     </th>        <td></td>      \n</tr>\n<tr>\n  <th>Max Obs:</th>               <td>5.0000</td>      <th>  F-statistic (robust):</th>   <td>478.18</td>   \n</tr>\n<tr>\n  <th></th>                          <td></td>         <th>  P-value            </th>     <td>0.0000</td>   \n</tr>\n<tr>\n  <th>Time periods:</th>             <td>5</td>        <th>  Distribution:      </th>   <td>F(11,10784)</td>\n</tr>\n<tr>\n  <th>Avg Obs:</th>               <td>2159.0</td>      <th>                     </th>        <td></td>      \n</tr>\n<tr>\n  <th>Min Obs:</th>               <td>2159.0</td>      <th>                     </th>        <td></td>      \n</tr>\n<tr>\n  <th>Max Obs:</th>               <td>2159.0</td>      <th>                     </th>        <td></td>      \n</tr>\n<tr>\n  <th></th>                          <td></td>         <th>                     </th>        <td></td>      \n</tr>\n</table>\n<table class=\"simpletable\">\n<caption>Parameter Estimates</caption>\n<tr>\n      <td></td>      <th>Parameter</th> <th>Std. Err.</th> <th>T-stat</th>  <th>P-value</th> <th>Lower CI</th> <th>Upper CI</th>\n</tr>\n<tr>\n  <th>CSR</th>        <td>0.0058</td>    <td>0.0001</td>   <td>54.551</td>  <td>0.0000</td>   <td>0.0056</td>   <td>0.0060</td> \n</tr>\n<tr>\n  <th>SIZE</th>       <td>-0.0045</td>   <td>0.0004</td>   <td>-11.659</td> <td>0.0000</td>   <td>-0.0053</td>  <td>-0.0038</td>\n</tr>\n<tr>\n  <th>LEV</th>        <td>-0.0996</td>   <td>0.0077</td>   <td>-13.020</td> <td>0.0000</td>   <td>-0.1147</td>  <td>-0.0846</td>\n</tr>\n<tr>\n  <th>TOBINQ</th>     <td>-0.0004</td>   <td>0.0007</td>   <td>-0.5410</td> <td>0.5885</td>   <td>-0.0017</td>  <td>0.0010</td> \n</tr>\n<tr>\n  <th>TOP10</th>      <td>0.0007</td>    <td>0.0001</td>   <td>6.8869</td>  <td>0.0000</td>   <td>0.0005</td>   <td>0.0009</td> \n</tr>\n<tr>\n  <th>SOE</th>        <td>0.0134</td>    <td>0.0137</td>   <td>0.9776</td>  <td>0.3283</td>   <td>-0.0135</td>  <td>0.0403</td> \n</tr>\n<tr>\n  <th>IND</th>        <td>0.0117</td>    <td>0.0029</td>   <td>3.9944</td>  <td>0.0001</td>   <td>0.0059</td>   <td>0.0174</td> \n</tr>\n<tr>\n  <th>YEAR_2017</th>  <td>0.0485</td>    <td>0.0035</td>   <td>13.867</td>  <td>0.0000</td>   <td>0.0417</td>   <td>0.0554</td> \n</tr>\n<tr>\n  <th>YEAR_2018</th>  <td>0.0287</td>    <td>0.0036</td>   <td>8.0333</td>  <td>0.0000</td>   <td>0.0217</td>   <td>0.0357</td> \n</tr>\n<tr>\n  <th>YEAR_2019</th>  <td>0.0293</td>    <td>0.0036</td>   <td>8.2175</td>  <td>0.0000</td>   <td>0.0223</td>   <td>0.0363</td> \n</tr>\n<tr>\n  <th>YEAR_2020</th>  <td>0.0300</td>    <td>0.0036</td>   <td>8.3781</td>  <td>0.0000</td>   <td>0.0230</td>   <td>0.0370</td> \n</tr>\n</table>",
      "text/latex": "\\begin{center}\n\\begin{tabular}{lclc}\n\\toprule\n\\textbf{Dep. Variable:}    &         BP         & \\textbf{  R-squared:         }   &      0.3278      \\\\\n\\textbf{Estimator:}        &   RandomEffects    & \\textbf{  R-squared (Between):}  &      0.5864      \\\\\n\\textbf{No. Observations:} &       10795        & \\textbf{  R-squared (Within):}   &      0.2002      \\\\\n\\textbf{Date:}             &  Sun, May 21 2023  & \\textbf{  R-squared (Overall):}  &      0.3772      \\\\\n\\textbf{Time:}             &      10:04:50      & \\textbf{  Log-likelihood     }   &      8413.2      \\\\\n\\textbf{Cov. Estimator:}   &     Unadjusted     & \\textbf{                     }   &                  \\\\\n\\textbf{}                  &                    & \\textbf{  F-statistic:       }   &      478.18      \\\\\n\\textbf{Entities:}         &        2159        & \\textbf{  P-value            }   &      0.0000      \\\\\n\\textbf{Avg Obs:}          &       5.0000       & \\textbf{  Distribution:      }   &   F(11,10784)    \\\\\n\\textbf{Min Obs:}          &       5.0000       & \\textbf{                     }   &                  \\\\\n\\textbf{Max Obs:}          &       5.0000       & \\textbf{  F-statistic (robust):} &      478.18      \\\\\n\\textbf{}                  &                    & \\textbf{  P-value            }   &      0.0000      \\\\\n\\textbf{Time periods:}     &         5          & \\textbf{  Distribution:      }   &   F(11,10784)    \\\\\n\\textbf{Avg Obs:}          &       2159.0       & \\textbf{                     }   &                  \\\\\n\\textbf{Min Obs:}          &       2159.0       & \\textbf{                     }   &                  \\\\\n\\textbf{Max Obs:}          &       2159.0       & \\textbf{                     }   &                  \\\\\n\\textbf{}                  &                    & \\textbf{                     }   &                  \\\\\n\\bottomrule\n\\end{tabular}\n\\begin{tabular}{lcccccc}\n                    & \\textbf{Parameter} & \\textbf{Std. Err.} & \\textbf{T-stat} & \\textbf{P-value} & \\textbf{Lower CI} & \\textbf{Upper CI}  \\\\\n\\midrule\n\\textbf{CSR}        &       0.0058       &       0.0001       &      54.551     &      0.0000      &       0.0056      &       0.0060       \\\\\n\\textbf{SIZE}       &      -0.0045       &       0.0004       &     -11.659     &      0.0000      &      -0.0053      &      -0.0038       \\\\\n\\textbf{LEV}        &      -0.0996       &       0.0077       &     -13.020     &      0.0000      &      -0.1147      &      -0.0846       \\\\\n\\textbf{TOBINQ}     &      -0.0004       &       0.0007       &     -0.5410     &      0.5885      &      -0.0017      &       0.0010       \\\\\n\\textbf{TOP10}      &       0.0007       &       0.0001       &      6.8869     &      0.0000      &       0.0005      &       0.0009       \\\\\n\\textbf{SOE}        &       0.0134       &       0.0137       &      0.9776     &      0.3283      &      -0.0135      &       0.0403       \\\\\n\\textbf{IND}        &       0.0117       &       0.0029       &      3.9944     &      0.0001      &       0.0059      &       0.0174       \\\\\n\\textbf{YEAR\\_2017} &       0.0485       &       0.0035       &      13.867     &      0.0000      &       0.0417      &       0.0554       \\\\\n\\textbf{YEAR\\_2018} &       0.0287       &       0.0036       &      8.0333     &      0.0000      &       0.0217      &       0.0357       \\\\\n\\textbf{YEAR\\_2019} &       0.0293       &       0.0036       &      8.2175     &      0.0000      &       0.0223      &       0.0363       \\\\\n\\textbf{YEAR\\_2020} &       0.0300       &       0.0036       &      8.3781     &      0.0000      &       0.0230      &       0.0370       \\\\\n\\bottomrule\n\\end{tabular}\n%\\caption{RandomEffects Estimation Summary}\n\\end{center}"
     },
     "execution_count": 361,
     "metadata": {},
     "output_type": "execute_result"
    }
   ],
   "source": [
    "from linearmodels import RandomEffects\n",
    "\n",
    "# 建立随机效应模型\n",
    "model_re = RandomEffects(data_with_dummies['BP'],\n",
    "                         data_with_dummies[\n",
    "                             ['CSR', 'SIZE', 'LEV', 'TOBINQ', 'TOP10', 'SOE', 'IND', 'YEAR_2017', 'YEAR_2018',\n",
    "                              'YEAR_2019',\n",
    "                              'YEAR_2020']])\n",
    "# 拟合模型\n",
    "results_re = model_re.fit()\n",
    "# 查看回归结果\n",
    "results_re.summary"
   ]
  },
  {
   "cell_type": "markdown",
   "metadata": {},
   "source": [
    "## 稳健性检验"
   ]
  },
  {
   "cell_type": "code",
   "execution_count": 362,
   "metadata": {
    "ExecuteTime": {
     "end_time": "2023-05-21T02:04:50.701361900Z",
     "start_time": "2023-05-21T02:04:50.686357200Z"
    }
   },
   "outputs": [],
   "source": [
    "# robust_fe_results = model_fe.fit(cov_type='robust')\n",
    "# print(robust_fe_results)"
   ]
  },
  {
   "cell_type": "markdown",
   "metadata": {},
   "source": [
    "## B-P 检验"
   ]
  },
  {
   "cell_type": "code",
   "execution_count": 363,
   "metadata": {
    "ExecuteTime": {
     "end_time": "2023-05-21T02:04:50.752373200Z",
     "start_time": "2023-05-21T02:04:50.704363100Z"
    }
   },
   "outputs": [
    {
     "name": "stdout",
     "output_type": "stream",
     "text": [
      "BP Test Statistic: 640.9408494533446\n",
      "BP p-value: 2.0860227836534878e-141\n",
      "BP Test Results: (681.2718426775682, 1.1040659793282478e-145)\n"
     ]
    }
   ],
   "source": [
    "from statsmodels.stats.diagnostic import het_breuschpagan\n",
    "import statsmodels.formula.api as smf\n",
    "\n",
    "# 读取回归模型的残差和预测值读取回归模型的残差和预测值\n",
    "results_ols = smf.ols('BP ~ CSR + SIZE + LEV + SOE + IND + YEAR_2017 + YEAR_2018 + YEAR_2019 + YEAR_2020',\n",
    "                      data=data_with_dummies).fit()\n",
    "residuals = results_ols.resid\n",
    "# residuals = results_re.resids\n",
    "\n",
    "# 获取预测值\n",
    "predicted_values = results_ols.predict()\n",
    "# predicted_values = results_re.predict()\n",
    "\n",
    "# 进行B-P检验\n",
    "bp_test = het_breuschpagan(residuals, sm.add_constant(predicted_values))\n",
    "\n",
    "# 输出B-P检验结果\n",
    "print(\"BP Test Statistic:\", bp_test[0])\n",
    "print(\"BP p-value:\", bp_test[1])\n",
    "print(\"BP Test Results:\", bp_test[2:])"
   ]
  },
  {
   "cell_type": "code",
   "execution_count": 364,
   "outputs": [
    {
     "name": "stdout",
     "output_type": "stream",
     "text": [
      "                            OLS Regression Results                            \n",
      "==============================================================================\n",
      "Dep. Variable:                     BP   R-squared:                       0.318\n",
      "Model:                            OLS   Adj. R-squared:                  0.317\n",
      "Method:                 Least Squares   F-statistic:                     558.5\n",
      "Date:                Sun, 21 May 2023   Prob (F-statistic):               0.00\n",
      "Time:                        10:04:50   Log-Likelihood:                 7812.4\n",
      "No. Observations:               10795   AIC:                        -1.560e+04\n",
      "Df Residuals:                   10785   BIC:                        -1.553e+04\n",
      "Df Model:                           9                                         \n",
      "Covariance Type:            nonrobust                                         \n",
      "==============================================================================\n",
      "                 coef    std err          t      P>|t|      [0.025      0.975]\n",
      "------------------------------------------------------------------------------\n",
      "Intercept     -0.3769      0.022    -17.118      0.000      -0.420      -0.334\n",
      "CSR            0.0059      0.000     56.823      0.000       0.006       0.006\n",
      "SIZE           0.0139      0.001     13.042      0.000       0.012       0.016\n",
      "LEV           -0.1206      0.007    -17.618      0.000      -0.134      -0.107\n",
      "SOE            0.0156      0.012      1.267      0.205      -0.009       0.040\n",
      "IND            0.0225      0.002      9.223      0.000       0.018       0.027\n",
      "YEAR_2017      0.0501      0.004     13.669      0.000       0.043       0.057\n",
      "YEAR_2018      0.0293      0.004      7.925      0.000       0.022       0.037\n",
      "YEAR_2019      0.0281      0.004      7.565      0.000       0.021       0.035\n",
      "YEAR_2020      0.0264      0.004      7.074      0.000       0.019       0.034\n",
      "==============================================================================\n",
      "Omnibus:                     6886.639   Durbin-Watson:                   1.961\n",
      "Prob(Omnibus):                  0.000   Jarque-Bera (JB):           100703.564\n",
      "Skew:                          -2.862   Prob(JB):                         0.00\n",
      "Kurtosis:                      16.825   Cond. No.                         633.\n",
      "==============================================================================\n",
      "\n",
      "Notes:\n",
      "[1] Standard Errors assume that the covariance matrix of the errors is correctly specified.\n"
     ]
    }
   ],
   "source": [
    "print(results_ols.summary())"
   ],
   "metadata": {
    "collapsed": false,
    "ExecuteTime": {
     "end_time": "2023-05-21T02:04:50.816391200Z",
     "start_time": "2023-05-21T02:04:50.752373200Z"
    }
   }
  },
  {
   "cell_type": "markdown",
   "metadata": {},
   "source": [
    "## 进行Hausman检验"
   ]
  },
  {
   "cell_type": "code",
   "execution_count": 365,
   "metadata": {
    "ExecuteTime": {
     "end_time": "2023-05-21T02:04:50.817386700Z",
     "start_time": "2023-05-21T02:04:50.769377Z"
    }
   },
   "outputs": [
    {
     "name": "stdout",
     "output_type": "stream",
     "text": [
      "                    Model Comparison                    \n",
      "========================================================\n",
      "                                    FE                RE\n",
      "--------------------------------------------------------\n",
      "Dep. Variable                       BP                BP\n",
      "Estimator                     PanelOLS     RandomEffects\n",
      "No. Observations                 10795             10795\n",
      "Cov. Est.                   Unadjusted        Unadjusted\n",
      "R-squared                       0.2709            0.3278\n",
      "R-Squared (Within)              0.2709            0.2002\n",
      "R-Squared (Between)            -475.30            0.5864\n",
      "R-Squared (Overall)            -217.73            0.3772\n",
      "F-statistic                     291.39            478.18\n",
      "P-value (F-stat)                0.0000            0.0000\n",
      "=====================     ============   ===============\n",
      "CSR                             0.0046            0.0058\n",
      "                              (37.198)          (54.551)\n",
      "SIZE                            0.1026           -0.0045\n",
      "                              (20.507)         (-11.659)\n",
      "LEV                            -0.4823           -0.0996\n",
      "                             (-28.977)         (-13.020)\n",
      "TOBINQ                          0.0030           -0.0004\n",
      "                              (3.0476)         (-0.5410)\n",
      "TOP10                           0.0005            0.0007\n",
      "                              (2.0773)          (6.8869)\n",
      "SOE                            -0.0735            0.0134\n",
      "                             (-3.9534)          (0.9776)\n",
      "IND                             0.0402            0.0117\n",
      "                              (3.4380)          (3.9944)\n",
      "YEAR_2017                       0.0326            0.0485\n",
      "                              (9.3887)          (13.867)\n",
      "YEAR_2018                       0.0095            0.0287\n",
      "                              (2.5727)          (8.0333)\n",
      "YEAR_2019                       0.0039            0.0293\n",
      "                              (1.0320)          (8.2175)\n",
      "YEAR_2020                      -0.0026            0.0300\n",
      "                             (-0.6415)          (8.3781)\n",
      "======================= ============== =================\n",
      "Effects                         Entity                  \n",
      "--------------------------------------------------------\n",
      "\n",
      "T-stats reported in parentheses\n"
     ]
    }
   ],
   "source": [
    "# Hausman检验\n",
    "from linearmodels.panel import compare\n",
    "\n",
    "comparison = compare({'FE': results_fe, 'RE': results_re})\n",
    "print(comparison.summary)"
   ]
  },
  {
   "cell_type": "code",
   "execution_count": 366,
   "metadata": {
    "ExecuteTime": {
     "end_time": "2023-05-21T02:04:50.818388300Z",
     "start_time": "2023-05-21T02:04:50.799384100Z"
    }
   },
   "outputs": [
    {
     "name": "stdout",
     "output_type": "stream",
     "text": [
      "chi-Squared: 1093.4396325562604\n",
      "degrees of freedom: 11\n",
      "p-Value: 1.469834218780241e-227\n"
     ]
    }
   ],
   "source": [
    "# 1. 运用计量书本上的公式，自编函数， 因为目前 Python 里面没有现成的模块\n",
    "import numpy.linalg as la\n",
    "from scipy import stats\n",
    "\n",
    "\n",
    "def hausman(fe, re):\n",
    "    b = fe.params\n",
    "    B = re.params\n",
    "    v_b = fe.cov\n",
    "    v_B = re.cov\n",
    "    df = b[np.abs(b) < 1e8].size\n",
    "    chi2 = np.dot((b - B).T, la.inv(v_b - v_B).dot(b - B))\n",
    "\n",
    "    pval = stats.chi2.sf(chi2, df)\n",
    "    return chi2, df, pval\n",
    "\n",
    "\n",
    "# 2. 将fe,re结果带入自编函数之中。\n",
    "hausman_results = hausman(results_fe, results_re)\n",
    "print('chi-Squared: ' + str(hausman_results[0]))\n",
    "print('degrees of freedom: ' + str(hausman_results[1]))\n",
    "print('p-Value: ' + str(hausman_results[2]))\n",
    "\n",
    "# 3. 看结果，如果这儿的 p-Value 小于 10%，则支持 固定效应 模型。"
   ]
  },
  {
   "cell_type": "code",
   "execution_count": 367,
   "metadata": {
    "ExecuteTime": {
     "end_time": "2023-05-21T02:04:50.906428700Z",
     "start_time": "2023-05-21T02:04:50.813386600Z"
    }
   },
   "outputs": [
    {
     "name": "stdout",
     "output_type": "stream",
     "text": [
      "                 FE        RE  Difference  sqrt(diag(v_fe-v_re))\n",
      "CSR        0.004596  0.005833   -0.001237               0.000062\n",
      "SIZE       0.102636 -0.004548    0.107184               0.004990\n",
      "LEV       -0.482289 -0.099648   -0.382641               0.014780\n",
      "TOBINQ     0.002987 -0.000366    0.003353               0.000710\n",
      "TOP10      0.000538  0.000692   -0.000155               0.000238\n",
      "SOE       -0.073454  0.013417   -0.086870               0.012525\n",
      "IND        0.040238  0.011656    0.028583               0.011334\n",
      "YEAR_2017  0.032624  0.048540   -0.015916                    NaN\n",
      "YEAR_2018  0.009515  0.028723   -0.019209               0.000946\n",
      "YEAR_2019  0.003921  0.029303   -0.025382               0.001312\n",
      "YEAR_2020 -0.002594  0.029996   -0.032590               0.001878\n",
      "\n",
      "chi-Squared: 1093.44\n",
      "degrees of freedom: 11\n",
      "p-Value:0.00000\n"
     ]
    },
    {
     "name": "stderr",
     "output_type": "stream",
     "text": [
      "C:\\Users\\HP\\AppData\\Local\\Temp\\ipykernel_27592\\295053973.py:9: RuntimeWarning: invalid value encountered in sqrt\n",
      "  table = pd.DataFrame({'FE': b_fe, 'RE': b_re, 'Difference': b_diff, 'sqrt(diag(v_fe-v_re))': np.sqrt(np.diag(v_diff))})\n"
     ]
    }
   ],
   "source": [
    "b_fe = results_fe.params\n",
    "b_re = results_re.params\n",
    "b_diff = b_fe - b_re\n",
    "v_fe = results_fe.cov\n",
    "v_re = results_re.cov\n",
    "v_diff = v_fe - v_re\n",
    "df = len(b_fe)\n",
    "\n",
    "table = pd.DataFrame({'FE': b_fe, 'RE': b_re, 'Difference': b_diff, 'sqrt(diag(v_fe-v_re))': np.sqrt(np.diag(v_diff))})\n",
    "chi2 = np.dot(b_diff.T, np.linalg.inv(v_diff).dot(b_diff))\n",
    "pval = 1 - stats.chi2.cdf(chi2, df)\n",
    "\n",
    "print(table)\n",
    "print()\n",
    "print(f'chi-Squared: {chi2:.2f}')\n",
    "print(f'degrees of freedom: {df}')\n",
    "print(f'p-Value:{pval:.5f}')"
   ]
  }
 ],
 "metadata": {
  "kernelspec": {
   "display_name": "Python 3 (ipykernel)",
   "language": "python",
   "name": "python3"
  },
  "language_info": {
   "codemirror_mode": {
    "name": "ipython",
    "version": 3
   },
   "file_extension": ".py",
   "mimetype": "text/x-python",
   "name": "python",
   "nbconvert_exporter": "python",
   "pygments_lexer": "ipython3",
   "version": "3.9.5"
  }
 },
 "nbformat": 4,
 "nbformat_minor": 1
}
