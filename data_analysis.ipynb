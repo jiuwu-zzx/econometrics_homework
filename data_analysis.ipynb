{
 "cells": [
  {
   "cell_type": "markdown",
   "metadata": {},
   "source": [
    "# 数据分析"
   ]
  },
  {
   "cell_type": "code",
   "execution_count": 294,
   "metadata": {
    "collapsed": true,
    "ExecuteTime": {
     "end_time": "2023-05-20T17:35:16.357686800Z",
     "start_time": "2023-05-20T17:35:16.309676500Z"
    }
   },
   "outputs": [],
   "source": [
    "import pandas as pd\n",
    "import numpy as np\n",
    "import statsmodels.api as sm\n",
    "from linearmodels import PanelOLS"
   ]
  },
  {
   "cell_type": "markdown",
   "metadata": {},
   "source": [
    "## 读取数据"
   ]
  },
  {
   "cell_type": "code",
   "execution_count": 295,
   "metadata": {
    "ExecuteTime": {
     "end_time": "2023-05-20T17:35:16.700806300Z",
     "start_time": "2023-05-20T17:35:16.328679800Z"
    }
   },
   "outputs": [
    {
     "name": "stdout",
     "output_type": "stream",
     "text": [
      "<class 'pandas.core.frame.DataFrame'>\n",
      "RangeIndex: 9995 entries, 0 to 9994\n",
      "Data columns (total 18 columns):\n",
      " #   Column       Non-Null Count  Dtype  \n",
      "---  ------       --------------  -----  \n",
      " 0   Stk_cd       9995 non-null   int64  \n",
      " 1   CSR          9995 non-null   float64\n",
      " 2   Performance  9995 non-null   float64\n",
      " 3   SOE          9995 non-null   float64\n",
      " 4   SIZE         9995 non-null   float64\n",
      " 5   负债水平         9995 non-null   float64\n",
      " 6   YEAR         9995 non-null   int64  \n",
      " 7   TOP10        9995 non-null   float64\n",
      " 8   F050201B     9995 non-null   float64\n",
      " 9   BP           9995 non-null   float64\n",
      " 10  F050502B     9995 non-null   float64\n",
      " 11  F051201B     9995 non-null   float64\n",
      " 12  TOBINQ       9995 non-null   float64\n",
      " 13  F010101A     9995 non-null   float64\n",
      " 14  F010201A     9995 non-null   float64\n",
      " 15  LEV          9995 non-null   float64\n",
      " 16  F011401A     9995 non-null   float64\n",
      " 17  IND          9995 non-null   int64  \n",
      "dtypes: float64(15), int64(3)\n",
      "memory usage: 1.4 MB\n"
     ]
    }
   ],
   "source": [
    "# 读取数据\n",
    "df = pd.read_excel(\"./final_data.xls\")\n",
    "# 查看数据概况\n",
    "df.info()"
   ]
  },
  {
   "cell_type": "code",
   "execution_count": 296,
   "metadata": {
    "ExecuteTime": {
     "end_time": "2023-05-20T17:35:16.745809400Z",
     "start_time": "2023-05-20T17:35:16.705811400Z"
    }
   },
   "outputs": [
    {
     "name": "stdout",
     "output_type": "stream",
     "text": [
      "      Stk_cd    CSR  Performance       SOE       SIZE      负债水平  YEAR  TOP10  \\\n",
      "0          2  76.52       8.2292  0.000000  27.351214  0.810123  2016  57.40   \n",
      "1          8  21.29       3.0131  0.010889  22.692695  0.182457  2016  40.42   \n",
      "2         11  38.97      -0.0955  0.663507  22.617843  0.692242  2016  66.55   \n",
      "3         12  72.45       3.1158  0.000000  23.552240  0.513330  2016  32.13   \n",
      "4         14  28.67      -1.0270  0.000000  21.498907  0.655892  2016  52.79   \n",
      "...      ...    ...          ...       ...        ...       ...   ...    ...   \n",
      "9990  603988  28.11      22.7413  0.000000  21.002087  0.426588  2020  67.87   \n",
      "9991  603989  25.51      10.5181  0.000000  22.078823  0.334527  2020  74.30   \n",
      "9992  603997   7.29      -7.4037  0.000000  23.579522  0.754537  2020  85.63   \n",
      "9993  603998  27.31       5.2548  0.000000  21.448076  0.408192  2020  51.93   \n",
      "9994  603999  16.20       3.2931  0.000000  21.472300  0.167235  2020  64.62   \n",
      "\n",
      "      F050201B        BP  F050502B  F051201B    TOBINQ  F010101A  F010201A  \\\n",
      "0     0.034129  0.175352  0.190279  0.100603  1.069010  1.243616  0.437819   \n",
      "1     0.064758  0.085953  0.116852  0.079899  2.299946  2.245238  1.948583   \n",
      "2     0.053327  0.147164  0.157293  0.130440  1.421490  1.370795  0.741017   \n",
      "3     0.046902  0.098931  0.101942  0.070127  1.631295  0.380342  0.311649   \n",
      "4     0.015537  0.036639  0.037145  0.023361  2.813874  2.264582  0.411903   \n",
      "...        ...       ...       ...       ...       ...       ...       ...   \n",
      "9990  0.135289  0.226269  0.235910  0.182413  2.697320  2.274847  1.681677   \n",
      "9991  0.088106  0.142083  0.152702  0.122144  2.821724  2.774127  2.276144   \n",
      "9992 -0.019652 -0.074551 -0.071785  0.000811  1.138218  0.971289  0.753287   \n",
      "9993  0.023978  0.042487  0.043576  0.037531  1.582559  0.907765  0.668441   \n",
      "9994  0.035056  0.042065  0.042531  0.030827  1.654336  5.265347  4.812836   \n",
      "\n",
      "           LEV  F011401A  IND  \n",
      "0     0.805367  0.806787    0  \n",
      "1     0.246583  0.392229    1  \n",
      "2     0.637636  0.645935    0  \n",
      "3     0.525907  0.573751    1  \n",
      "4     0.575952  0.576114    0  \n",
      "...        ...       ...  ...  \n",
      "9990  0.402089  0.411311    1  \n",
      "9991  0.379898  0.382449    1  \n",
      "9992  0.736398  1.004167    1  \n",
      "9993  0.435642  0.553619    1  \n",
      "9994  0.166607  0.168986    0  \n",
      "\n",
      "[9995 rows x 18 columns]\n"
     ]
    }
   ],
   "source": [
    "from scipy.stats.mstats import winsorize\n",
    "\n",
    "df['BP'] = winsorize(df['BP'], limits=[0.01, 0.01])\n",
    "print(df)"
   ]
  },
  {
   "cell_type": "code",
   "execution_count": 297,
   "metadata": {
    "ExecuteTime": {
     "end_time": "2023-05-20T17:35:16.745809400Z",
     "start_time": "2023-05-20T17:35:16.724804900Z"
    }
   },
   "outputs": [],
   "source": [
    "# 创建虚拟变量（年份）\n",
    "year_dummies = pd.get_dummies(df['YEAR'], prefix='YEAR', drop_first=True)\n",
    "# 合并虚拟变量到原始数据\n",
    "data_with_dummies = pd.concat([df, year_dummies], axis=1)\n",
    "# 设置双重索引\n",
    "data_with_dummies = data_with_dummies.set_index([\"Stk_cd\", \"YEAR\"])"
   ]
  },
  {
   "cell_type": "code",
   "execution_count": 298,
   "metadata": {
    "ExecuteTime": {
     "end_time": "2023-05-20T17:35:16.770814300Z",
     "start_time": "2023-05-20T17:35:16.736809Z"
    }
   },
   "outputs": [
    {
     "name": "stdout",
     "output_type": "stream",
     "text": [
      "               CSR  Performance       SOE       SIZE      负债水平  TOP10  \\\n",
      "Stk_cd YEAR                                                             \n",
      "2      2016  76.52       8.2292  0.000000  27.351214  0.810123  57.40   \n",
      "8      2016  21.29       3.0131  0.010889  22.692695  0.182457  40.42   \n",
      "11     2016  38.97      -0.0955  0.663507  22.617843  0.692242  66.55   \n",
      "12     2016  72.45       3.1158  0.000000  23.552240  0.513330  32.13   \n",
      "14     2016  28.67      -1.0270  0.000000  21.498907  0.655892  52.79   \n",
      "...            ...          ...       ...        ...       ...    ...   \n",
      "603988 2020  28.11      22.7413  0.000000  21.002087  0.426588  67.87   \n",
      "603989 2020  25.51      10.5181  0.000000  22.078823  0.334527  74.30   \n",
      "603997 2020   7.29      -7.4037  0.000000  23.579522  0.754537  85.63   \n",
      "603998 2020  27.31       5.2548  0.000000  21.448076  0.408192  51.93   \n",
      "603999 2020  16.20       3.2931  0.000000  21.472300  0.167235  64.62   \n",
      "\n",
      "             F050201B        BP  F050502B  F051201B    TOBINQ  F010101A  \\\n",
      "Stk_cd YEAR                                                               \n",
      "2      2016  0.034129  0.175352  0.190279  0.100603  1.069010  1.243616   \n",
      "8      2016  0.064758  0.085953  0.116852  0.079899  2.299946  2.245238   \n",
      "11     2016  0.053327  0.147164  0.157293  0.130440  1.421490  1.370795   \n",
      "12     2016  0.046902  0.098931  0.101942  0.070127  1.631295  0.380342   \n",
      "14     2016  0.015537  0.036639  0.037145  0.023361  2.813874  2.264582   \n",
      "...               ...       ...       ...       ...       ...       ...   \n",
      "603988 2020  0.135289  0.226269  0.235910  0.182413  2.697320  2.274847   \n",
      "603989 2020  0.088106  0.142083  0.152702  0.122144  2.821724  2.774127   \n",
      "603997 2020 -0.019652 -0.074551 -0.071785  0.000811  1.138218  0.971289   \n",
      "603998 2020  0.023978  0.042487  0.043576  0.037531  1.582559  0.907765   \n",
      "603999 2020  0.035056  0.042065  0.042531  0.030827  1.654336  5.265347   \n",
      "\n",
      "             F010201A       LEV  F011401A  IND  YEAR_2017  YEAR_2018  \\\n",
      "Stk_cd YEAR                                                            \n",
      "2      2016  0.437819  0.805367  0.806787    0          0          0   \n",
      "8      2016  1.948583  0.246583  0.392229    1          0          0   \n",
      "11     2016  0.741017  0.637636  0.645935    0          0          0   \n",
      "12     2016  0.311649  0.525907  0.573751    1          0          0   \n",
      "14     2016  0.411903  0.575952  0.576114    0          0          0   \n",
      "...               ...       ...       ...  ...        ...        ...   \n",
      "603988 2020  1.681677  0.402089  0.411311    1          0          0   \n",
      "603989 2020  2.276144  0.379898  0.382449    1          0          0   \n",
      "603997 2020  0.753287  0.736398  1.004167    1          0          0   \n",
      "603998 2020  0.668441  0.435642  0.553619    1          0          0   \n",
      "603999 2020  4.812836  0.166607  0.168986    0          0          0   \n",
      "\n",
      "             YEAR_2019  YEAR_2020  \n",
      "Stk_cd YEAR                        \n",
      "2      2016          0          0  \n",
      "8      2016          0          0  \n",
      "11     2016          0          0  \n",
      "12     2016          0          0  \n",
      "14     2016          0          0  \n",
      "...                ...        ...  \n",
      "603988 2020          0          1  \n",
      "603989 2020          0          1  \n",
      "603997 2020          0          1  \n",
      "603998 2020          0          1  \n",
      "603999 2020          0          1  \n",
      "\n",
      "[9995 rows x 20 columns]\n"
     ]
    }
   ],
   "source": [
    "print(data_with_dummies)"
   ]
  },
  {
   "cell_type": "markdown",
   "metadata": {},
   "source": [
    "## 描述性分析和相关性分析"
   ]
  },
  {
   "cell_type": "code",
   "execution_count": 299,
   "metadata": {
    "ExecuteTime": {
     "end_time": "2023-05-20T17:35:16.863834200Z",
     "start_time": "2023-05-20T17:35:16.771815700Z"
    }
   },
   "outputs": [
    {
     "name": "stdout",
     "output_type": "stream",
     "text": [
      "               CSR  Performance          SOE         SIZE         负债水平  \\\n",
      "count  9995.000000  9995.000000  9995.000000  9995.000000  9995.000000   \n",
      "mean     21.625906     3.928647     0.023810    22.536999     0.420806   \n",
      "std      11.992261    31.878835     0.091314     1.326615     0.198135   \n",
      "min     -18.450000 -1726.338300     0.000000    15.921008     0.006171   \n",
      "25%      15.980000     1.504700     0.000000    21.613837     0.263168   \n",
      "50%      21.370000     3.834400     0.000000    22.347119     0.414518   \n",
      "75%      26.385000     7.257650     0.000000    23.289855     0.565300   \n",
      "max      87.020000   241.779600     0.841543    28.624722     1.169331   \n",
      "\n",
      "             TOP10     F050201B           BP     F050502B     F051201B  \\\n",
      "count  9995.000000  9995.000000  9995.000000  9995.000000  9995.000000   \n",
      "mean     57.301804     0.035412     0.059863     0.066510     0.052053   \n",
      "std      14.507261     0.074593     0.113373     0.142918     0.100058   \n",
      "min      15.930000    -1.647913    -0.569746    -4.319639    -2.537967   \n",
      "25%      46.950000     0.014092     0.028873     0.029832     0.029381   \n",
      "50%      57.400000     0.034719     0.064764     0.068194     0.052520   \n",
      "75%      67.510000     0.062893     0.109539     0.116634     0.085745   \n",
      "max     100.970000     0.785865     0.311446     2.378936     1.550362   \n",
      "\n",
      "            TOBINQ     F010101A     F010201A          LEV     F011401A  \\\n",
      "count  9995.000000  9995.000000  9995.000000  9995.000000  9995.000000   \n",
      "mean      1.960094     2.280981     1.806619     0.427015     0.474256   \n",
      "std       1.494728     2.661738     2.359256     0.194099     0.228909   \n",
      "min       0.673522     0.106457     0.074716     0.008359     0.008759   \n",
      "25%       1.172098     1.152607     0.775132     0.276172     0.306903   \n",
      "50%       1.559161     1.621627     1.206779     0.421140     0.467628   \n",
      "75%       2.227159     2.479747     1.931466     0.570186     0.624273   \n",
      "max      45.139884    80.663653    52.137668     0.988959     3.107221   \n",
      "\n",
      "               IND  \n",
      "count  9995.000000  \n",
      "mean      0.636518  \n",
      "std       0.481026  \n",
      "min       0.000000  \n",
      "25%       0.000000  \n",
      "50%       1.000000  \n",
      "75%       1.000000  \n",
      "max       1.000000  \n",
      "                  CSR  Performance       SOE      SIZE      负债水平     TOP10  \\\n",
      "CSR          1.000000     0.093943  0.052504  0.222220 -0.023021  0.208754   \n",
      "Performance  0.093943     1.000000  0.003668  0.030060 -0.086818  0.041917   \n",
      "SOE          0.052504     0.003668  1.000000  0.151609  0.116652  0.188299   \n",
      "SIZE         0.222220     0.030060  0.151609  1.000000  0.544039  0.261754   \n",
      "负债水平        -0.023021    -0.086818  0.116652  0.544039  1.000000  0.021572   \n",
      "TOP10        0.208754     0.041917  0.188299  0.261754  0.021572  1.000000   \n",
      "F050201B     0.462548     0.247012  0.002046  0.025433 -0.176056  0.170538   \n",
      "BP           0.527885     0.168271  0.028324  0.131804 -0.034086  0.201519   \n",
      "F050502B     0.448203     0.291335  0.021958  0.108481 -0.031828  0.166489   \n",
      "F051201B     0.434696     0.165897  0.014617  0.084762 -0.051564  0.161558   \n",
      "TOBINQ       0.034542     0.003881 -0.100772 -0.359604 -0.280968 -0.031517   \n",
      "F010101A     0.035402     0.012229 -0.067571 -0.294417 -0.510356  0.002804   \n",
      "F010201A     0.026587     0.011968 -0.062506 -0.299735 -0.524345  0.007102   \n",
      "LEV         -0.051624    -0.059731  0.104595  0.525508  0.967092  0.014689   \n",
      "F011401A    -0.055845    -0.050794  0.084836  0.471081  0.862524  0.038821   \n",
      "IND         -0.093961     0.005233 -0.118731 -0.236435 -0.216747 -0.055967   \n",
      "\n",
      "             F050201B        BP  F050502B  F051201B    TOBINQ  F010101A  \\\n",
      "CSR          0.462548  0.527885  0.448203  0.434696  0.034542  0.035402   \n",
      "Performance  0.247012  0.168271  0.291335  0.165897  0.003881  0.012229   \n",
      "SOE          0.002046  0.028324  0.021958  0.014617 -0.100772 -0.067571   \n",
      "SIZE         0.025433  0.131804  0.108481  0.084762 -0.359604 -0.294417   \n",
      "负债水平        -0.176056 -0.034086 -0.031828 -0.051564 -0.280968 -0.510356   \n",
      "TOP10        0.170538  0.201519  0.166489  0.161558 -0.031517  0.002804   \n",
      "F050201B     1.000000  0.879319  0.846602  0.949382  0.165668  0.103572   \n",
      "BP           0.879319  1.000000  0.897849  0.861553  0.108720  0.029916   \n",
      "F050502B     0.846602  0.897849  1.000000  0.855850  0.099582  0.023795   \n",
      "F051201B     0.949382  0.861553  0.855850  1.000000  0.119376  0.031962   \n",
      "TOBINQ       0.165668  0.108720  0.099582  0.119376  1.000000  0.228727   \n",
      "F010101A     0.103572  0.029916  0.023795  0.031962  0.228727  1.000000   \n",
      "F010201A     0.106750  0.029263  0.023978  0.032663  0.236030  0.978470   \n",
      "LEV         -0.246517 -0.106049 -0.101744 -0.129026 -0.283748 -0.528517   \n",
      "F011401A    -0.236111 -0.108452 -0.102140 -0.129039 -0.266827 -0.508260   \n",
      "IND          0.089951  0.039389  0.033002  0.059431  0.106265  0.092505   \n",
      "\n",
      "             F010201A       LEV  F011401A       IND  \n",
      "CSR          0.026587 -0.051624 -0.055845 -0.093961  \n",
      "Performance  0.011968 -0.059731 -0.050794  0.005233  \n",
      "SOE         -0.062506  0.104595  0.084836 -0.118731  \n",
      "SIZE        -0.299735  0.525508  0.471081 -0.236435  \n",
      "负债水平        -0.524345  0.967092  0.862524 -0.216747  \n",
      "TOP10        0.007102  0.014689  0.038821 -0.055967  \n",
      "F050201B     0.106750 -0.246517 -0.236111  0.089951  \n",
      "BP           0.029263 -0.106049 -0.108452  0.039389  \n",
      "F050502B     0.023978 -0.101744 -0.102140  0.033002  \n",
      "F051201B     0.032663 -0.129026 -0.129039  0.059431  \n",
      "TOBINQ       0.236030 -0.283748 -0.266827  0.106265  \n",
      "F010101A     0.978470 -0.528517 -0.508260  0.092505  \n",
      "F010201A     1.000000 -0.540643 -0.511887  0.082882  \n",
      "LEV         -0.540643  1.000000  0.902515 -0.215627  \n",
      "F011401A    -0.511887  0.902515  1.000000 -0.219438  \n",
      "IND          0.082882 -0.215627 -0.219438  1.000000  \n"
     ]
    }
   ],
   "source": [
    "df = df.set_index([\"Stk_cd\", \"YEAR\"])\n",
    "# 描述性分析\n",
    "print(df.describe())\n",
    "# 相关性分析\n",
    "print(df.corr())\n",
    "# # 绘制相关性热图\n",
    "# import seaborn as sns\n",
    "# sns.heatmap(df.corr(), annot=True, cmap=\"Blues\")\n",
    "# # 描述性分析\n",
    "# print(data_with_dummies.describe())\n",
    "# # 相关性分析\n",
    "# print(data_with_dummies.corr())\n",
    "# # 绘制相关性热图\n",
    "# import seaborn as sns\n",
    "#\n",
    "# sns.heatmap(data_with_dummies.corr(), annot=True, cmap=\"Blues\")"
   ]
  },
  {
   "cell_type": "code",
   "execution_count": 300,
   "metadata": {
    "ExecuteTime": {
     "end_time": "2023-05-20T17:35:18.578219300Z",
     "start_time": "2023-05-20T17:35:16.841832500Z"
    }
   },
   "outputs": [
    {
     "name": "stderr",
     "output_type": "stream",
     "text": [
      "d:\\python\\python39\\lib\\site-packages\\matplotlib\\backends\\backend_agg.py:240: RuntimeWarning: Glyph 36127 missing from current font.\n",
      "  font.set_text(s, 0.0, flags=flags)\n",
      "d:\\python\\python39\\lib\\site-packages\\matplotlib\\backends\\backend_agg.py:240: RuntimeWarning: Glyph 20538 missing from current font.\n",
      "  font.set_text(s, 0.0, flags=flags)\n",
      "d:\\python\\python39\\lib\\site-packages\\matplotlib\\backends\\backend_agg.py:240: RuntimeWarning: Glyph 27700 missing from current font.\n",
      "  font.set_text(s, 0.0, flags=flags)\n",
      "d:\\python\\python39\\lib\\site-packages\\matplotlib\\backends\\backend_agg.py:240: RuntimeWarning: Glyph 24179 missing from current font.\n",
      "  font.set_text(s, 0.0, flags=flags)\n",
      "d:\\python\\python39\\lib\\site-packages\\matplotlib\\backends\\backend_agg.py:203: RuntimeWarning: Glyph 36127 missing from current font.\n",
      "  font.set_text(s, 0, flags=flags)\n",
      "d:\\python\\python39\\lib\\site-packages\\matplotlib\\backends\\backend_agg.py:203: RuntimeWarning: Glyph 20538 missing from current font.\n",
      "  font.set_text(s, 0, flags=flags)\n",
      "d:\\python\\python39\\lib\\site-packages\\matplotlib\\backends\\backend_agg.py:203: RuntimeWarning: Glyph 27700 missing from current font.\n",
      "  font.set_text(s, 0, flags=flags)\n",
      "d:\\python\\python39\\lib\\site-packages\\matplotlib\\backends\\backend_agg.py:203: RuntimeWarning: Glyph 24179 missing from current font.\n",
      "  font.set_text(s, 0, flags=flags)\n"
     ]
    },
    {
     "data": {
      "text/plain": "<Figure size 453.543x340.157 with 2 Axes>",
      "image/png": "[encoded data removed]"
     },
     "metadata": {},
     "output_type": "display_data"
    }
   ],
   "source": [
    "# here put the import lib\n",
    "import pandas as pd\n",
    "import seaborn as sns\n",
    "import matplotlib.pyplot as plt\n",
    "import numpy as np\n",
    "from scipy.stats import pearsonr\n",
    "import matplotlib as mpl\n",
    "\n",
    "\n",
    "def cm2inch(x, y):\n",
    "    return x / 2.54, y / 2.54\n",
    "\n",
    "\n",
    "size1 = 10.5\n",
    "mpl.rcParams.update(\n",
    "    {\n",
    "        'text.usetex': False,\n",
    "        'font.family': 'stixgeneral',\n",
    "        'mathtext.fontset': 'stix',\n",
    "        \"font.family\": 'serif',\n",
    "        \"font.size\": size1,\n",
    "        \"font.serif\": ['Times New Roman'],\n",
    "    }\n",
    ")\n",
    "fontdict = {'weight': 'bold', 'size': size1, 'family': 'SimHei'}\n",
    "\n",
    "df_coor = df.corr()\n",
    "fig = plt.figure(figsize=(cm2inch(16, 12)))\n",
    "ax1 = plt.gca()\n",
    "\n",
    "#构造mask，去除重复数据显示\n",
    "mask = np.zeros_like(df_coor)\n",
    "mask[np.triu_indices_from(mask)] = True\n",
    "mask2 = mask\n",
    "mask = (np.flipud(mask) - 1) * (-1)\n",
    "mask = np.rot90(mask, k=-1)\n",
    "\n",
    "im1 = sns.heatmap(df_coor, annot=True, cmap=\"RdBu\"\n",
    "                  , mask=mask  #构造mask，去除重复数据显示\n",
    "                  , vmax=1, vmin=-1\n",
    "                  , fmt='.2f', ax=ax1)\n",
    "\n",
    "ax1.tick_params(axis='both', length=0)\n",
    "\n",
    "#计算相关性显著性并显示\n",
    "rlist = []\n",
    "plist = []\n",
    "for i in df.columns.values:\n",
    "    for j in df.columns.values:\n",
    "        r, p = pearsonr(df[i], df[j])\n",
    "        rlist.append(r)\n",
    "        plist.append(p)\n",
    "\n",
    "rarr = np.asarray(rlist).reshape(len(df.columns.values), len(df.columns.values))\n",
    "parr = np.asarray(plist).reshape(len(df.columns.values), len(df.columns.values))\n",
    "xlist = ax1.get_xticks()\n",
    "ylist = ax1.get_yticks()\n",
    "\n",
    "widthx = 0\n",
    "widthy = -0.15\n",
    "\n",
    "for m in ax1.get_xticks():\n",
    "    for n in ax1.get_yticks():\n",
    "        pv = (parr[int(m), int(n)])\n",
    "        rv = (rarr[int(m), int(n)])\n",
    "        if mask2[int(m), int(n)] < 1.:\n",
    "            if abs(rv) > 0.5:\n",
    "                if pv < 0.05 and pv >= 0.01:\n",
    "                    ax1.text(n + widthx, m + widthy, '*', ha='center', color='white')\n",
    "                if pv < 0.01 and pv >= 0.001:\n",
    "                    ax1.text(n + widthx, m + widthy, '**', ha='center', color='white')\n",
    "                if pv < 0.001:\n",
    "                    # print([int(m),int(n)])\n",
    "                    ax1.text(n + widthx, m + widthy, '***', ha='center', color='white')\n",
    "            else:\n",
    "                if pv < 0.05 and pv >= 0.01:\n",
    "                    ax1.text(n + widthx, m + widthy, '*', ha='center', color='k')\n",
    "                elif pv < 0.01 and pv >= 0.001:\n",
    "                    ax1.text(n + widthx, m + widthy, '**', ha='center', color='k')\n",
    "                elif pv < 0.001:\n",
    "                    ax1.text(n + widthx, m + widthy, '***', ha='center', color='k')\n",
    "plt.savefig(r'D:\\学期\\大三春\\计量经济学\\大作业\\成品\\fig\\r_demo.png', dpi=600)\n",
    "plt.show()"
   ]
  },
  {
   "cell_type": "markdown",
   "metadata": {},
   "source": [
    "## 固定效应模型"
   ]
  },
  {
   "cell_type": "code",
   "execution_count": 301,
   "metadata": {
    "ExecuteTime": {
     "end_time": "2023-05-20T17:35:18.728252900Z",
     "start_time": "2023-05-20T17:35:18.578219300Z"
    }
   },
   "outputs": [
    {
     "data": {
      "text/plain": "<class 'linearmodels.compat.statsmodels.Summary'>\n\"\"\"\n                          PanelOLS Estimation Summary                           \n================================================================================\nDep. Variable:                     BP   R-squared:                        0.2295\nEstimator:                   PanelOLS   R-squared (Between):             -15.114\nNo. Observations:                9995   R-squared (Within):               0.2295\nDate:                Sun, May 21 2023   R-squared (Overall):             -8.3129\nTime:                        01:35:18   Log-likelihood                 1.172e+04\nCov. Estimator:            Unadjusted                                           \n                                        F-statistic:                      216.25\nEntities:                        1999   P-value                           0.0000\nAvg Obs:                       5.0000   Distribution:                 F(11,7985)\nMin Obs:                       5.0000                                           \nMax Obs:                       5.0000   F-statistic (robust):             216.25\n                                        P-value                           0.0000\nTime periods:                       5   Distribution:                 F(11,7985)\nAvg Obs:                       1999.0                                           \nMin Obs:                       1999.0                                           \nMax Obs:                       1999.0                                           \n                                                                                \n                             Parameter Estimates                              \n==============================================================================\n            Parameter  Std. Err.     T-stat    P-value    Lower CI    Upper CI\n------------------------------------------------------------------------------\nCSR            0.0039     0.0001     38.462     0.0000      0.0037      0.0041\nSIZE           0.0146     0.0040     3.6797     0.0002      0.0068      0.0224\nLEV           -0.2674     0.0140    -19.080     0.0000     -0.2948     -0.2399\nTOBINQ         0.0062     0.0010     5.9594     0.0000      0.0042      0.0083\nTOP10          0.0014     0.0002     6.4799     0.0000      0.0010      0.0018\nSOE           -0.0279     0.0158    -1.7640     0.0778     -0.0590      0.0031\nIND            0.0359     0.0105     3.4287     0.0006      0.0154      0.0564\nYEAR_2017      0.0388     0.0029     13.384     0.0000      0.0331      0.0445\nYEAR_2018      0.0280     0.0032     8.8190     0.0000      0.0218      0.0342\nYEAR_2019      0.0267     0.0032     8.2537     0.0000      0.0204      0.0331\nYEAR_2020      0.0196     0.0035     5.6734     0.0000      0.0128      0.0264\n==============================================================================\n\nF-test for Poolability: 2.1459\nP-value: 0.0000\nDistribution: F(1998,7985)\n\nIncluded effects: Entity\n\"\"\"",
      "text/html": "<table class=\"simpletable\">\n<caption>PanelOLS Estimation Summary</caption>\n<tr>\n  <th>Dep. Variable:</th>           <td>BP</td>        <th>  R-squared:         </th>     <td>0.2295</td>  \n</tr>\n<tr>\n  <th>Estimator:</th>            <td>PanelOLS</td>     <th>  R-squared (Between):</th>    <td>-15.114</td> \n</tr>\n<tr>\n  <th>No. Observations:</th>       <td>9995</td>       <th>  R-squared (Within):</th>     <td>0.2295</td>  \n</tr>\n<tr>\n  <th>Date:</th>             <td>Sun, May 21 2023</td> <th>  R-squared (Overall):</th>    <td>-8.3129</td> \n</tr>\n<tr>\n  <th>Time:</th>                 <td>01:35:18</td>     <th>  Log-likelihood     </th>    <td>1.172e+04</td>\n</tr>\n<tr>\n  <th>Cov. Estimator:</th>      <td>Unadjusted</td>    <th>                     </th>        <td></td>     \n</tr>\n<tr>\n  <th></th>                          <td></td>         <th>  F-statistic:       </th>     <td>216.25</td>  \n</tr>\n<tr>\n  <th>Entities:</th>               <td>1999</td>       <th>  P-value            </th>     <td>0.0000</td>  \n</tr>\n<tr>\n  <th>Avg Obs:</th>               <td>5.0000</td>      <th>  Distribution:      </th>   <td>F(11,7985)</td>\n</tr>\n<tr>\n  <th>Min Obs:</th>               <td>5.0000</td>      <th>                     </th>        <td></td>     \n</tr>\n<tr>\n  <th>Max Obs:</th>               <td>5.0000</td>      <th>  F-statistic (robust):</th>   <td>216.25</td>  \n</tr>\n<tr>\n  <th></th>                          <td></td>         <th>  P-value            </th>     <td>0.0000</td>  \n</tr>\n<tr>\n  <th>Time periods:</th>             <td>5</td>        <th>  Distribution:      </th>   <td>F(11,7985)</td>\n</tr>\n<tr>\n  <th>Avg Obs:</th>               <td>1999.0</td>      <th>                     </th>        <td></td>     \n</tr>\n<tr>\n  <th>Min Obs:</th>               <td>1999.0</td>      <th>                     </th>        <td></td>     \n</tr>\n<tr>\n  <th>Max Obs:</th>               <td>1999.0</td>      <th>                     </th>        <td></td>     \n</tr>\n<tr>\n  <th></th>                          <td></td>         <th>                     </th>        <td></td>     \n</tr>\n</table>\n<table class=\"simpletable\">\n<caption>Parameter Estimates</caption>\n<tr>\n      <td></td>      <th>Parameter</th> <th>Std. Err.</th> <th>T-stat</th>  <th>P-value</th> <th>Lower CI</th> <th>Upper CI</th>\n</tr>\n<tr>\n  <th>CSR</th>        <td>0.0039</td>    <td>0.0001</td>   <td>38.462</td>  <td>0.0000</td>   <td>0.0037</td>   <td>0.0041</td> \n</tr>\n<tr>\n  <th>SIZE</th>       <td>0.0146</td>    <td>0.0040</td>   <td>3.6797</td>  <td>0.0002</td>   <td>0.0068</td>   <td>0.0224</td> \n</tr>\n<tr>\n  <th>LEV</th>        <td>-0.2674</td>   <td>0.0140</td>   <td>-19.080</td> <td>0.0000</td>   <td>-0.2948</td>  <td>-0.2399</td>\n</tr>\n<tr>\n  <th>TOBINQ</th>     <td>0.0062</td>    <td>0.0010</td>   <td>5.9594</td>  <td>0.0000</td>   <td>0.0042</td>   <td>0.0083</td> \n</tr>\n<tr>\n  <th>TOP10</th>      <td>0.0014</td>    <td>0.0002</td>   <td>6.4799</td>  <td>0.0000</td>   <td>0.0010</td>   <td>0.0018</td> \n</tr>\n<tr>\n  <th>SOE</th>        <td>-0.0279</td>   <td>0.0158</td>   <td>-1.7640</td> <td>0.0778</td>   <td>-0.0590</td>  <td>0.0031</td> \n</tr>\n<tr>\n  <th>IND</th>        <td>0.0359</td>    <td>0.0105</td>   <td>3.4287</td>  <td>0.0006</td>   <td>0.0154</td>   <td>0.0564</td> \n</tr>\n<tr>\n  <th>YEAR_2017</th>  <td>0.0388</td>    <td>0.0029</td>   <td>13.384</td>  <td>0.0000</td>   <td>0.0331</td>   <td>0.0445</td> \n</tr>\n<tr>\n  <th>YEAR_2018</th>  <td>0.0280</td>    <td>0.0032</td>   <td>8.8190</td>  <td>0.0000</td>   <td>0.0218</td>   <td>0.0342</td> \n</tr>\n<tr>\n  <th>YEAR_2019</th>  <td>0.0267</td>    <td>0.0032</td>   <td>8.2537</td>  <td>0.0000</td>   <td>0.0204</td>   <td>0.0331</td> \n</tr>\n<tr>\n  <th>YEAR_2020</th>  <td>0.0196</td>    <td>0.0035</td>   <td>5.6734</td>  <td>0.0000</td>   <td>0.0128</td>   <td>0.0264</td> \n</tr>\n</table><br/><br/>F-test for Poolability: 2.1459<br/>P-value: 0.0000<br/>Distribution: F(1998,7985)<br/><br/>Included effects: Entity",
      "text/latex": "\\begin{center}\n\\begin{tabular}{lclc}\n\\toprule\n\\textbf{Dep. Variable:}    &         BP         & \\textbf{  R-squared:         }   &      0.2295      \\\\\n\\textbf{Estimator:}        &      PanelOLS      & \\textbf{  R-squared (Between):}  &     -15.114      \\\\\n\\textbf{No. Observations:} &        9995        & \\textbf{  R-squared (Within):}   &      0.2295      \\\\\n\\textbf{Date:}             &  Sun, May 21 2023  & \\textbf{  R-squared (Overall):}  &     -8.3129      \\\\\n\\textbf{Time:}             &      01:35:18      & \\textbf{  Log-likelihood     }   &    1.172e+04     \\\\\n\\textbf{Cov. Estimator:}   &     Unadjusted     & \\textbf{                     }   &                  \\\\\n\\textbf{}                  &                    & \\textbf{  F-statistic:       }   &      216.25      \\\\\n\\textbf{Entities:}         &        1999        & \\textbf{  P-value            }   &      0.0000      \\\\\n\\textbf{Avg Obs:}          &       5.0000       & \\textbf{  Distribution:      }   &    F(11,7985)    \\\\\n\\textbf{Min Obs:}          &       5.0000       & \\textbf{                     }   &                  \\\\\n\\textbf{Max Obs:}          &       5.0000       & \\textbf{  F-statistic (robust):} &      216.25      \\\\\n\\textbf{}                  &                    & \\textbf{  P-value            }   &      0.0000      \\\\\n\\textbf{Time periods:}     &         5          & \\textbf{  Distribution:      }   &    F(11,7985)    \\\\\n\\textbf{Avg Obs:}          &       1999.0       & \\textbf{                     }   &                  \\\\\n\\textbf{Min Obs:}          &       1999.0       & \\textbf{                     }   &                  \\\\\n\\textbf{Max Obs:}          &       1999.0       & \\textbf{                     }   &                  \\\\\n\\textbf{}                  &                    & \\textbf{                     }   &                  \\\\\n\\bottomrule\n\\end{tabular}\n\\begin{tabular}{lcccccc}\n                    & \\textbf{Parameter} & \\textbf{Std. Err.} & \\textbf{T-stat} & \\textbf{P-value} & \\textbf{Lower CI} & \\textbf{Upper CI}  \\\\\n\\midrule\n\\textbf{CSR}        &       0.0039       &       0.0001       &      38.462     &      0.0000      &       0.0037      &       0.0041       \\\\\n\\textbf{SIZE}       &       0.0146       &       0.0040       &      3.6797     &      0.0002      &       0.0068      &       0.0224       \\\\\n\\textbf{LEV}        &      -0.2674       &       0.0140       &     -19.080     &      0.0000      &      -0.2948      &      -0.2399       \\\\\n\\textbf{TOBINQ}     &       0.0062       &       0.0010       &      5.9594     &      0.0000      &       0.0042      &       0.0083       \\\\\n\\textbf{TOP10}      &       0.0014       &       0.0002       &      6.4799     &      0.0000      &       0.0010      &       0.0018       \\\\\n\\textbf{SOE}        &      -0.0279       &       0.0158       &     -1.7640     &      0.0778      &      -0.0590      &       0.0031       \\\\\n\\textbf{IND}        &       0.0359       &       0.0105       &      3.4287     &      0.0006      &       0.0154      &       0.0564       \\\\\n\\textbf{YEAR\\_2017} &       0.0388       &       0.0029       &      13.384     &      0.0000      &       0.0331      &       0.0445       \\\\\n\\textbf{YEAR\\_2018} &       0.0280       &       0.0032       &      8.8190     &      0.0000      &       0.0218      &       0.0342       \\\\\n\\textbf{YEAR\\_2019} &       0.0267       &       0.0032       &      8.2537     &      0.0000      &       0.0204      &       0.0331       \\\\\n\\textbf{YEAR\\_2020} &       0.0196       &       0.0035       &      5.6734     &      0.0000      &       0.0128      &       0.0264       \\\\\n\\bottomrule\n\\end{tabular}\n%\\caption{PanelOLS Estimation Summary}\n\\end{center}\n\nF-test for Poolability: 2.1459 \\newline\n P-value: 0.0000 \\newline\n Distribution: F(1998,7985) \\newline\n  \\newline\n Included effects: Entity"
     },
     "execution_count": 301,
     "metadata": {},
     "output_type": "execute_result"
    }
   ],
   "source": [
    "# 建立固定效应模型\n",
    "model_fe = PanelOLS(data_with_dummies['BP'],\n",
    "                    data_with_dummies[\n",
    "                        ['CSR', 'SIZE', 'LEV', 'TOBINQ', 'TOP10', 'SOE', 'IND', 'YEAR_2017', 'YEAR_2018',\n",
    "                         'YEAR_2019', 'YEAR_2020']],\n",
    "                    entity_effects=True)  # 使用entity_effects参数启用固定效应\n",
    "# 拟合模型\n",
    "results_fe = model_fe.fit()\n",
    "# 查看回归结果\n",
    "results_fe.summary"
   ]
  },
  {
   "cell_type": "markdown",
   "metadata": {},
   "source": [
    "## 随机效应模型"
   ]
  },
  {
   "cell_type": "code",
   "execution_count": 302,
   "metadata": {
    "ExecuteTime": {
     "end_time": "2023-05-20T17:35:18.835279800Z",
     "start_time": "2023-05-20T17:35:18.687244900Z"
    }
   },
   "outputs": [
    {
     "data": {
      "text/plain": "<class 'linearmodels.compat.statsmodels.Summary'>\n\"\"\"\n                        RandomEffects Estimation Summary                        \n================================================================================\nDep. Variable:                     BP   R-squared:                        0.3868\nEstimator:              RandomEffects   R-squared (Between):              0.6719\nNo. Observations:                9995   R-squared (Within):               0.1963\nDate:                Sun, May 21 2023   R-squared (Overall):              0.4611\nTime:                        01:35:18   Log-likelihood                  1.03e+04\nCov. Estimator:            Unadjusted                                           \n                                        F-statistic:                      572.50\nEntities:                        1999   P-value                           0.0000\nAvg Obs:                       5.0000   Distribution:                 F(11,9984)\nMin Obs:                       5.0000                                           \nMax Obs:                       5.0000   F-statistic (robust):             572.50\n                                        P-value                           0.0000\nTime periods:                       5   Distribution:                 F(11,9984)\nAvg Obs:                       1999.0                                           \nMin Obs:                       1999.0                                           \nMax Obs:                       1999.0                                           \n                                                                                \n                             Parameter Estimates                              \n==============================================================================\n            Parameter  Std. Err.     T-stat    P-value    Lower CI    Upper CI\n------------------------------------------------------------------------------\nCSR            0.0048  8.875e-05     53.825     0.0000      0.0046      0.0050\nSIZE          -0.0050     0.0003    -15.073     0.0000     -0.0056     -0.0043\nLEV           -0.0422     0.0066    -6.3728     0.0000     -0.0552     -0.0292\nTOBINQ         0.0048     0.0007     6.6491     0.0000      0.0034      0.0062\nTOP10          0.0008  8.442e-05     9.1619     0.0000      0.0006      0.0009\nSOE            0.0069     0.0116     0.5943     0.5523     -0.0159      0.0297\nIND            0.0121     0.0025     4.9171     0.0000      0.0073      0.0170\nYEAR_2017      0.0437     0.0028     15.346     0.0000      0.0381      0.0492\nYEAR_2018      0.0322     0.0029     11.019     0.0000      0.0265      0.0380\nYEAR_2019      0.0311     0.0029     10.717     0.0000      0.0254      0.0368\nYEAR_2020      0.0235     0.0029     8.0358     0.0000      0.0177      0.0292\n==============================================================================\n\"\"\"",
      "text/html": "<table class=\"simpletable\">\n<caption>RandomEffects Estimation Summary</caption>\n<tr>\n  <th>Dep. Variable:</th>           <td>BP</td>        <th>  R-squared:         </th>     <td>0.3868</td>  \n</tr>\n<tr>\n  <th>Estimator:</th>          <td>RandomEffects</td>  <th>  R-squared (Between):</th>    <td>0.6719</td>  \n</tr>\n<tr>\n  <th>No. Observations:</th>       <td>9995</td>       <th>  R-squared (Within):</th>     <td>0.1963</td>  \n</tr>\n<tr>\n  <th>Date:</th>             <td>Sun, May 21 2023</td> <th>  R-squared (Overall):</th>    <td>0.4611</td>  \n</tr>\n<tr>\n  <th>Time:</th>                 <td>01:35:18</td>     <th>  Log-likelihood     </th>    <td>1.03e+04</td> \n</tr>\n<tr>\n  <th>Cov. Estimator:</th>      <td>Unadjusted</td>    <th>                     </th>        <td></td>     \n</tr>\n<tr>\n  <th></th>                          <td></td>         <th>  F-statistic:       </th>     <td>572.50</td>  \n</tr>\n<tr>\n  <th>Entities:</th>               <td>1999</td>       <th>  P-value            </th>     <td>0.0000</td>  \n</tr>\n<tr>\n  <th>Avg Obs:</th>               <td>5.0000</td>      <th>  Distribution:      </th>   <td>F(11,9984)</td>\n</tr>\n<tr>\n  <th>Min Obs:</th>               <td>5.0000</td>      <th>                     </th>        <td></td>     \n</tr>\n<tr>\n  <th>Max Obs:</th>               <td>5.0000</td>      <th>  F-statistic (robust):</th>   <td>572.50</td>  \n</tr>\n<tr>\n  <th></th>                          <td></td>         <th>  P-value            </th>     <td>0.0000</td>  \n</tr>\n<tr>\n  <th>Time periods:</th>             <td>5</td>        <th>  Distribution:      </th>   <td>F(11,9984)</td>\n</tr>\n<tr>\n  <th>Avg Obs:</th>               <td>1999.0</td>      <th>                     </th>        <td></td>     \n</tr>\n<tr>\n  <th>Min Obs:</th>               <td>1999.0</td>      <th>                     </th>        <td></td>     \n</tr>\n<tr>\n  <th>Max Obs:</th>               <td>1999.0</td>      <th>                     </th>        <td></td>     \n</tr>\n<tr>\n  <th></th>                          <td></td>         <th>                     </th>        <td></td>     \n</tr>\n</table>\n<table class=\"simpletable\">\n<caption>Parameter Estimates</caption>\n<tr>\n      <td></td>      <th>Parameter</th> <th>Std. Err.</th> <th>T-stat</th>  <th>P-value</th> <th>Lower CI</th> <th>Upper CI</th>\n</tr>\n<tr>\n  <th>CSR</th>        <td>0.0048</td>   <td>8.875e-05</td> <td>53.825</td>  <td>0.0000</td>   <td>0.0046</td>   <td>0.0050</td> \n</tr>\n<tr>\n  <th>SIZE</th>       <td>-0.0050</td>   <td>0.0003</td>   <td>-15.073</td> <td>0.0000</td>   <td>-0.0056</td>  <td>-0.0043</td>\n</tr>\n<tr>\n  <th>LEV</th>        <td>-0.0422</td>   <td>0.0066</td>   <td>-6.3728</td> <td>0.0000</td>   <td>-0.0552</td>  <td>-0.0292</td>\n</tr>\n<tr>\n  <th>TOBINQ</th>     <td>0.0048</td>    <td>0.0007</td>   <td>6.6491</td>  <td>0.0000</td>   <td>0.0034</td>   <td>0.0062</td> \n</tr>\n<tr>\n  <th>TOP10</th>      <td>0.0008</td>   <td>8.442e-05</td> <td>9.1619</td>  <td>0.0000</td>   <td>0.0006</td>   <td>0.0009</td> \n</tr>\n<tr>\n  <th>SOE</th>        <td>0.0069</td>    <td>0.0116</td>   <td>0.5943</td>  <td>0.5523</td>   <td>-0.0159</td>  <td>0.0297</td> \n</tr>\n<tr>\n  <th>IND</th>        <td>0.0121</td>    <td>0.0025</td>   <td>4.9171</td>  <td>0.0000</td>   <td>0.0073</td>   <td>0.0170</td> \n</tr>\n<tr>\n  <th>YEAR_2017</th>  <td>0.0437</td>    <td>0.0028</td>   <td>15.346</td>  <td>0.0000</td>   <td>0.0381</td>   <td>0.0492</td> \n</tr>\n<tr>\n  <th>YEAR_2018</th>  <td>0.0322</td>    <td>0.0029</td>   <td>11.019</td>  <td>0.0000</td>   <td>0.0265</td>   <td>0.0380</td> \n</tr>\n<tr>\n  <th>YEAR_2019</th>  <td>0.0311</td>    <td>0.0029</td>   <td>10.717</td>  <td>0.0000</td>   <td>0.0254</td>   <td>0.0368</td> \n</tr>\n<tr>\n  <th>YEAR_2020</th>  <td>0.0235</td>    <td>0.0029</td>   <td>8.0358</td>  <td>0.0000</td>   <td>0.0177</td>   <td>0.0292</td> \n</tr>\n</table>",
      "text/latex": "\\begin{center}\n\\begin{tabular}{lclc}\n\\toprule\n\\textbf{Dep. Variable:}    &         BP         & \\textbf{  R-squared:         }   &      0.3868      \\\\\n\\textbf{Estimator:}        &   RandomEffects    & \\textbf{  R-squared (Between):}  &      0.6719      \\\\\n\\textbf{No. Observations:} &        9995        & \\textbf{  R-squared (Within):}   &      0.1963      \\\\\n\\textbf{Date:}             &  Sun, May 21 2023  & \\textbf{  R-squared (Overall):}  &      0.4611      \\\\\n\\textbf{Time:}             &      01:35:18      & \\textbf{  Log-likelihood     }   &     1.03e+04     \\\\\n\\textbf{Cov. Estimator:}   &     Unadjusted     & \\textbf{                     }   &                  \\\\\n\\textbf{}                  &                    & \\textbf{  F-statistic:       }   &      572.50      \\\\\n\\textbf{Entities:}         &        1999        & \\textbf{  P-value            }   &      0.0000      \\\\\n\\textbf{Avg Obs:}          &       5.0000       & \\textbf{  Distribution:      }   &    F(11,9984)    \\\\\n\\textbf{Min Obs:}          &       5.0000       & \\textbf{                     }   &                  \\\\\n\\textbf{Max Obs:}          &       5.0000       & \\textbf{  F-statistic (robust):} &      572.50      \\\\\n\\textbf{}                  &                    & \\textbf{  P-value            }   &      0.0000      \\\\\n\\textbf{Time periods:}     &         5          & \\textbf{  Distribution:      }   &    F(11,9984)    \\\\\n\\textbf{Avg Obs:}          &       1999.0       & \\textbf{                     }   &                  \\\\\n\\textbf{Min Obs:}          &       1999.0       & \\textbf{                     }   &                  \\\\\n\\textbf{Max Obs:}          &       1999.0       & \\textbf{                     }   &                  \\\\\n\\textbf{}                  &                    & \\textbf{                     }   &                  \\\\\n\\bottomrule\n\\end{tabular}\n\\begin{tabular}{lcccccc}\n                    & \\textbf{Parameter} & \\textbf{Std. Err.} & \\textbf{T-stat} & \\textbf{P-value} & \\textbf{Lower CI} & \\textbf{Upper CI}  \\\\\n\\midrule\n\\textbf{CSR}        &       0.0048       &     8.875e-05      &      53.825     &      0.0000      &       0.0046      &       0.0050       \\\\\n\\textbf{SIZE}       &      -0.0050       &       0.0003       &     -15.073     &      0.0000      &      -0.0056      &      -0.0043       \\\\\n\\textbf{LEV}        &      -0.0422       &       0.0066       &     -6.3728     &      0.0000      &      -0.0552      &      -0.0292       \\\\\n\\textbf{TOBINQ}     &       0.0048       &       0.0007       &      6.6491     &      0.0000      &       0.0034      &       0.0062       \\\\\n\\textbf{TOP10}      &       0.0008       &     8.442e-05      &      9.1619     &      0.0000      &       0.0006      &       0.0009       \\\\\n\\textbf{SOE}        &       0.0069       &       0.0116       &      0.5943     &      0.5523      &      -0.0159      &       0.0297       \\\\\n\\textbf{IND}        &       0.0121       &       0.0025       &      4.9171     &      0.0000      &       0.0073      &       0.0170       \\\\\n\\textbf{YEAR\\_2017} &       0.0437       &       0.0028       &      15.346     &      0.0000      &       0.0381      &       0.0492       \\\\\n\\textbf{YEAR\\_2018} &       0.0322       &       0.0029       &      11.019     &      0.0000      &       0.0265      &       0.0380       \\\\\n\\textbf{YEAR\\_2019} &       0.0311       &       0.0029       &      10.717     &      0.0000      &       0.0254      &       0.0368       \\\\\n\\textbf{YEAR\\_2020} &       0.0235       &       0.0029       &      8.0358     &      0.0000      &       0.0177      &       0.0292       \\\\\n\\bottomrule\n\\end{tabular}\n%\\caption{RandomEffects Estimation Summary}\n\\end{center}"
     },
     "execution_count": 302,
     "metadata": {},
     "output_type": "execute_result"
    }
   ],
   "source": [
    "from linearmodels import RandomEffects\n",
    "\n",
    "# 建立随机效应模型\n",
    "model_re = RandomEffects(data_with_dummies['BP'],\n",
    "                         data_with_dummies[\n",
    "                             ['CSR', 'SIZE', 'LEV', 'TOBINQ', 'TOP10', 'SOE', 'IND', 'YEAR_2017', 'YEAR_2018',\n",
    "                              'YEAR_2019',\n",
    "                              'YEAR_2020']])\n",
    "# 拟合模型\n",
    "results_re = model_re.fit()\n",
    "# 查看回归结果\n",
    "results_re.summary"
   ]
  },
  {
   "cell_type": "markdown",
   "metadata": {},
   "source": [
    "## 稳健性检验"
   ]
  },
  {
   "cell_type": "code",
   "execution_count": 303,
   "metadata": {
    "ExecuteTime": {
     "end_time": "2023-05-20T17:35:18.858282600Z",
     "start_time": "2023-05-20T17:35:18.830277600Z"
    }
   },
   "outputs": [],
   "source": [
    "# robust_fe_results = model_fe.fit(cov_type='robust')\n",
    "# print(robust_fe_results)"
   ]
  },
  {
   "cell_type": "markdown",
   "metadata": {},
   "source": [
    "## B-P 检验"
   ]
  },
  {
   "cell_type": "code",
   "execution_count": 304,
   "metadata": {
    "ExecuteTime": {
     "end_time": "2023-05-20T17:35:18.901292200Z",
     "start_time": "2023-05-20T17:35:18.845280800Z"
    }
   },
   "outputs": [
    {
     "name": "stdout",
     "output_type": "stream",
     "text": [
      "BP Test Statistic: 319.7141957216088\n",
      "BP p-value: 1.6716897729517413e-71\n",
      "BP Test Results: (330.2128766504506, 1.2668484199090472e-72)\n"
     ]
    }
   ],
   "source": [
    "from statsmodels.stats.diagnostic import het_breuschpagan\n",
    "import statsmodels.formula.api as smf\n",
    "\n",
    "# 读取回归模型的残差和预测值读取回归模型的残差和预测值\n",
    "results_ols = smf.ols('BP ~ CSR + SIZE + LEV + SOE + IND + YEAR_2017 + YEAR_2018 + YEAR_2019 + YEAR_2020',\n",
    "                      data=data_with_dummies).fit()\n",
    "residuals = results_ols.resid\n",
    "# residuals = results_re.resids\n",
    "\n",
    "# 获取预测值\n",
    "predicted_values = results_ols.predict()\n",
    "# predicted_values = results_re.predict()\n",
    "\n",
    "# 进行B-P检验\n",
    "bp_test = het_breuschpagan(residuals, sm.add_constant(predicted_values))\n",
    "\n",
    "# 输出B-P检验结果\n",
    "print(\"BP Test Statistic:\", bp_test[0])\n",
    "print(\"BP p-value:\", bp_test[1])\n",
    "print(\"BP Test Results:\", bp_test[2:])"
   ]
  },
  {
   "cell_type": "markdown",
   "metadata": {},
   "source": [
    "## 进行Hausman检验"
   ]
  },
  {
   "cell_type": "code",
   "execution_count": 305,
   "metadata": {
    "ExecuteTime": {
     "end_time": "2023-05-20T17:35:18.973308400Z",
     "start_time": "2023-05-20T17:35:18.890291400Z"
    }
   },
   "outputs": [
    {
     "name": "stdout",
     "output_type": "stream",
     "text": [
      "                    Model Comparison                    \n",
      "========================================================\n",
      "                                    FE                RE\n",
      "--------------------------------------------------------\n",
      "Dep. Variable                       BP                BP\n",
      "Estimator                     PanelOLS     RandomEffects\n",
      "No. Observations                  9995              9995\n",
      "Cov. Est.                   Unadjusted        Unadjusted\n",
      "R-squared                       0.2295            0.3868\n",
      "R-Squared (Within)              0.2295            0.1963\n",
      "R-Squared (Between)            -15.114            0.6719\n",
      "R-Squared (Overall)            -8.3129            0.4611\n",
      "F-statistic                     216.25            572.50\n",
      "P-value (F-stat)                0.0000            0.0000\n",
      "=====================     ============   ===============\n",
      "CSR                             0.0039            0.0048\n",
      "                              (38.462)          (53.825)\n",
      "SIZE                            0.0146           -0.0050\n",
      "                              (3.6797)         (-15.073)\n",
      "LEV                            -0.2674           -0.0422\n",
      "                             (-19.080)         (-6.3728)\n",
      "TOBINQ                          0.0062            0.0048\n",
      "                              (5.9594)          (6.6491)\n",
      "TOP10                           0.0014            0.0008\n",
      "                              (6.4799)          (9.1619)\n",
      "SOE                            -0.0279            0.0069\n",
      "                             (-1.7640)          (0.5943)\n",
      "IND                             0.0359            0.0121\n",
      "                              (3.4287)          (4.9171)\n",
      "YEAR_2017                       0.0388            0.0437\n",
      "                              (13.384)          (15.346)\n",
      "YEAR_2018                       0.0280            0.0322\n",
      "                              (8.8190)          (11.019)\n",
      "YEAR_2019                       0.0267            0.0311\n",
      "                              (8.2537)          (10.717)\n",
      "YEAR_2020                       0.0196            0.0235\n",
      "                              (5.6734)          (8.0358)\n",
      "======================= ============== =================\n",
      "Effects                         Entity                  \n",
      "--------------------------------------------------------\n",
      "\n",
      "T-stats reported in parentheses\n"
     ]
    }
   ],
   "source": [
    "# Hausman检验\n",
    "from linearmodels.panel import compare\n",
    "\n",
    "comparison = compare({'FE': results_fe, 'RE': results_re})\n",
    "print(comparison.summary)"
   ]
  },
  {
   "cell_type": "code",
   "execution_count": 306,
   "metadata": {
    "ExecuteTime": {
     "end_time": "2023-05-20T17:35:18.973308400Z",
     "start_time": "2023-05-20T17:35:18.921296900Z"
    }
   },
   "outputs": [
    {
     "name": "stdout",
     "output_type": "stream",
     "text": [
      "chi-Squared: 605.2878454310777\n",
      "degrees of freedom: 11\n",
      "p-Value: 1.0357038340478543e-122\n"
     ]
    }
   ],
   "source": [
    "# 1. 运用计量书本上的公式，自编函数， 因为目前 Python 里面没有现成的模块\n",
    "import numpy.linalg as la\n",
    "from scipy import stats\n",
    "\n",
    "\n",
    "def hausman(fe, re):\n",
    "    b = fe.params\n",
    "    B = re.params\n",
    "    v_b = fe.cov\n",
    "    v_B = re.cov\n",
    "    df = b[np.abs(b) < 1e8].size\n",
    "    chi2 = np.dot((b - B).T, la.inv(v_b - v_B).dot(b - B))\n",
    "\n",
    "    pval = stats.chi2.sf(chi2, df)\n",
    "    return chi2, df, pval\n",
    "\n",
    "\n",
    "# 2. 将fe,re结果带入自编函数之中。\n",
    "hausman_results = hausman(results_fe, results_re)\n",
    "print('chi-Squared: ' + str(hausman_results[0]))\n",
    "print('degrees of freedom: ' + str(hausman_results[1]))\n",
    "print('p-Value: ' + str(hausman_results[2]))\n",
    "\n",
    "# 3. 看结果，如果这儿的 p-Value 小于 10%，则支持 固定效应 模型。"
   ]
  },
  {
   "cell_type": "code",
   "execution_count": 307,
   "metadata": {
    "ExecuteTime": {
     "end_time": "2023-05-20T17:35:19.008339100Z",
     "start_time": "2023-05-20T17:35:18.946303800Z"
    }
   },
   "outputs": [
    {
     "name": "stdout",
     "output_type": "stream",
     "text": [
      "                 FE        RE  Difference  sqrt(diag(v_fe-v_re))\n",
      "CSR        0.003923  0.004777   -0.000854               0.000050\n",
      "SIZE       0.014630 -0.004987    0.019617               0.003962\n",
      "LEV       -0.267362 -0.042232   -0.225130               0.012346\n",
      "TOBINQ     0.006211  0.004820    0.001391               0.000749\n",
      "TOP10      0.001400  0.000773    0.000626               0.000199\n",
      "SOE       -0.027932  0.006909   -0.034841               0.010750\n",
      "IND        0.035858  0.012144    0.023714               0.010162\n",
      "YEAR_2017  0.038776  0.043657   -0.004881               0.000549\n",
      "YEAR_2018  0.027994  0.032241   -0.004247               0.001231\n",
      "YEAR_2019  0.026734  0.031144   -0.004410               0.001431\n",
      "YEAR_2020  0.019614  0.023470   -0.003855               0.001850\n",
      "\n",
      "chi-Squared: 605.29\n",
      "degrees of freedom: 11\n",
      "p-Value:0.00000\n"
     ]
    }
   ],
   "source": [
    "b_fe = results_fe.params\n",
    "b_re = results_re.params\n",
    "b_diff = b_fe - b_re\n",
    "v_fe = results_fe.cov\n",
    "v_re = results_re.cov\n",
    "v_diff = v_fe - v_re\n",
    "df = len(b_fe)\n",
    "\n",
    "table = pd.DataFrame({'FE': b_fe, 'RE': b_re, 'Difference': b_diff, 'sqrt(diag(v_fe-v_re))': np.sqrt(np.diag(v_diff))})\n",
    "chi2 = np.dot(b_diff.T, np.linalg.inv(v_diff).dot(b_diff))\n",
    "pval = 1 - stats.chi2.cdf(chi2, df)\n",
    "\n",
    "print(table)\n",
    "print()\n",
    "print(f'chi-Squared: {chi2:.2f}')\n",
    "print(f'degrees of freedom: {df}')\n",
    "print(f'p-Value:{pval:.5f}')"
   ]
  }
 ],
 "metadata": {
  "kernelspec": {
   "display_name": "Python 3 (ipykernel)",
   "language": "python",
   "name": "python3"
  },
  "language_info": {
   "codemirror_mode": {
    "name": "ipython",
    "version": 3
   },
   "file_extension": ".py",
   "mimetype": "text/x-python",
   "name": "python",
   "nbconvert_exporter": "python",
   "pygments_lexer": "ipython3",
   "version": "3.9.5"
  }
 },
 "nbformat": 4,
 "nbformat_minor": 1
}
