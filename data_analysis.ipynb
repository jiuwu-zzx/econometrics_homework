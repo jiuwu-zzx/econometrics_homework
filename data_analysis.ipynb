{
 "cells": [
  {
   "cell_type": "markdown",
   "metadata": {},
   "source": [
    "# 数据分析"
   ]
  },
  {
   "cell_type": "code",
   "execution_count": 323,
   "metadata": {
    "collapsed": true,
    "ExecuteTime": {
     "end_time": "2023-05-21T01:01:48.333316300Z",
     "start_time": "2023-05-21T01:01:48.285305100Z"
    }
   },
   "outputs": [],
   "source": [
    "import pandas as pd\n",
    "import numpy as np\n",
    "import statsmodels.api as sm\n",
    "from linearmodels import PanelOLS"
   ]
  },
  {
   "cell_type": "markdown",
   "metadata": {},
   "source": [
    "## 读取数据"
   ]
  },
  {
   "cell_type": "code",
   "execution_count": 324,
   "metadata": {
    "ExecuteTime": {
     "end_time": "2023-05-21T01:01:48.752411200Z",
     "start_time": "2023-05-21T01:01:48.310313300Z"
    }
   },
   "outputs": [
    {
     "name": "stdout",
     "output_type": "stream",
     "text": [
      "<class 'pandas.core.frame.DataFrame'>\n",
      "RangeIndex: 9995 entries, 0 to 9994\n",
      "Data columns (total 22 columns):\n",
      " #   Column          Non-Null Count  Dtype  \n",
      "---  ------          --------------  -----  \n",
      " 0   Stk_cd          9995 non-null   int64  \n",
      " 1   CSR             9995 non-null   float64\n",
      " 2   Performance     9995 non-null   float64\n",
      " 3   股权性质            9995 non-null   float64\n",
      " 4   规模              9995 non-null   float64\n",
      " 5   负债水平            9995 non-null   float64\n",
      " 6   YEAR            9995 non-null   int64  \n",
      " 7   TOP10           9995 non-null   float64\n",
      " 8   F050201B        9995 non-null   float64\n",
      " 9   BP              9995 non-null   float64\n",
      " 10  F050502B        9995 non-null   float64\n",
      " 11  F051201B        9995 non-null   float64\n",
      " 12  TOBINQ          9995 non-null   float64\n",
      " 13  F010101A        9995 non-null   float64\n",
      " 14  F010201A        9995 non-null   float64\n",
      " 15  LEV             9995 non-null   float64\n",
      " 16  F011401A        9995 non-null   float64\n",
      " 17  TotalAssets     9995 non-null   float64\n",
      " 18  TotalLiability  9995 non-null   float64\n",
      " 19  SIZE            9995 non-null   float64\n",
      " 20  SOE             9995 non-null   float64\n",
      " 21  IND             9995 non-null   int64  \n",
      "dtypes: float64(19), int64(3)\n",
      "memory usage: 1.7 MB\n"
     ]
    }
   ],
   "source": [
    "# 读取数据\n",
    "df = pd.read_excel(\"./final_data.xls\")\n",
    "# 查看数据概况\n",
    "df.info()"
   ]
  },
  {
   "cell_type": "code",
   "execution_count": 325,
   "metadata": {
    "ExecuteTime": {
     "end_time": "2023-05-21T01:01:48.832430Z",
     "start_time": "2023-05-21T01:01:48.757411900Z"
    }
   },
   "outputs": [
    {
     "name": "stdout",
     "output_type": "stream",
     "text": [
      "      Stk_cd    CSR  Performance      股权性质         规模      负债水平  YEAR  TOP10  \\\n",
      "0          2  76.52       8.2292  0.000000  27.351214  0.810123  2016  57.40   \n",
      "1          8  21.29       3.0131  0.010889  22.692695  0.182457  2016  40.42   \n",
      "2         11  38.97      -0.0955  0.663507  22.617843  0.692242  2016  66.55   \n",
      "3         12  72.45       3.1158  0.000000  23.552240  0.513330  2016  32.13   \n",
      "4         14  28.67      -1.0270  0.000000  21.498907  0.655892  2016  52.79   \n",
      "...      ...    ...          ...       ...        ...       ...   ...    ...   \n",
      "9990  603988  28.11      22.7413  0.000000  21.002087  0.426588  2020  67.87   \n",
      "9991  603989  25.51      10.5181  0.000000  22.078823  0.334527  2020  74.30   \n",
      "9992  603997   7.29      -7.4037  0.000000  23.579522  0.754537  2020  85.63   \n",
      "9993  603998  27.31       5.2548  0.000000  21.448076  0.408192  2020  51.93   \n",
      "9994  603999  16.20       3.2931  0.000000  21.472300  0.167235  2020  64.62   \n",
      "\n",
      "      F050201B        BP  ...    TOBINQ  F010101A  F010201A       LEV  \\\n",
      "0     0.034129  0.175352  ...  1.069010  1.243616  0.437819  0.805367   \n",
      "1     0.064758  0.085953  ...  2.299946  2.245238  1.948583  0.246583   \n",
      "2     0.053327  0.147164  ...  1.421490  1.370795  0.741017  0.637636   \n",
      "3     0.046902  0.098931  ...  1.631295  0.380342  0.311649  0.525907   \n",
      "4     0.015537  0.036639  ...  2.813874  2.264582  0.411903  0.575952   \n",
      "...        ...       ...  ...       ...       ...       ...       ...   \n",
      "9990  0.135289  0.226269  ...  2.697320  2.274847  1.681677  0.402089   \n",
      "9991  0.088106  0.142083  ...  2.821724  2.774127  2.276144  0.379898   \n",
      "9992 -0.019652 -0.074551  ...  1.138218  0.971289  0.753287  0.736398   \n",
      "9993  0.023978  0.042487  ...  1.582559  0.907765  0.668441  0.435642   \n",
      "9994  0.035056  0.042065  ...  1.654336  5.265347  4.812836  0.166607   \n",
      "\n",
      "      F011401A   TotalAssets  TotalLiability       SIZE       SOE  IND  \n",
      "0     0.806787  8.306742e+11    6.689976e+11  27.445504  0.000000    0  \n",
      "1     0.392229  8.192657e+09    2.020171e+09  22.826504  0.010889    1  \n",
      "2     0.645935  6.654356e+09    4.243059e+09  22.618538  0.588242    0  \n",
      "3     0.573751  1.714682e+10    9.017625e+09  23.565078  0.000000    1  \n",
      "4     0.576114  1.873814e+09    1.079228e+09  21.351242  0.000000    0  \n",
      "...        ...           ...             ...        ...       ...  ...  \n",
      "9990  0.411311  1.265546e+09    5.088617e+08  20.958769  0.000000    1  \n",
      "9991  0.382449  4.349108e+09    1.652216e+09  22.193237  0.000000    1  \n",
      "9992  1.004167  1.732582e+10    1.275871e+10  23.575464  0.000000    1  \n",
      "9993  0.553619  2.242781e+09    9.770498e+08  21.530982  0.000000    1  \n",
      "9994  0.168986  2.137164e+09    3.560671e+08  21.482746  0.000000    0  \n",
      "\n",
      "[9995 rows x 22 columns]\n"
     ]
    }
   ],
   "source": [
    "from scipy.stats.mstats import winsorize\n",
    "\n",
    "df['BP'] = winsorize(df['BP'], limits=[0.01, 0.01])\n",
    "print(df)"
   ]
  },
  {
   "cell_type": "code",
   "execution_count": 326,
   "metadata": {
    "ExecuteTime": {
     "end_time": "2023-05-21T01:01:48.832430Z",
     "start_time": "2023-05-21T01:01:48.791420500Z"
    }
   },
   "outputs": [],
   "source": [
    "# 创建虚拟变量（年份）\n",
    "year_dummies = pd.get_dummies(df['YEAR'], prefix='YEAR', drop_first=True)\n",
    "# 合并虚拟变量到原始数据\n",
    "data_with_dummies = pd.concat([df, year_dummies], axis=1)\n",
    "# 设置双重索引\n",
    "data_with_dummies = data_with_dummies.set_index([\"Stk_cd\", \"YEAR\"])"
   ]
  },
  {
   "cell_type": "code",
   "execution_count": 327,
   "metadata": {
    "ExecuteTime": {
     "end_time": "2023-05-21T01:01:48.833429500Z",
     "start_time": "2023-05-21T01:01:48.811423600Z"
    }
   },
   "outputs": [
    {
     "name": "stdout",
     "output_type": "stream",
     "text": [
      "               CSR  Performance      股权性质         规模      负债水平  TOP10  \\\n",
      "Stk_cd YEAR                                                             \n",
      "2      2016  76.52       8.2292  0.000000  27.351214  0.810123  57.40   \n",
      "8      2016  21.29       3.0131  0.010889  22.692695  0.182457  40.42   \n",
      "11     2016  38.97      -0.0955  0.663507  22.617843  0.692242  66.55   \n",
      "12     2016  72.45       3.1158  0.000000  23.552240  0.513330  32.13   \n",
      "14     2016  28.67      -1.0270  0.000000  21.498907  0.655892  52.79   \n",
      "...            ...          ...       ...        ...       ...    ...   \n",
      "603988 2020  28.11      22.7413  0.000000  21.002087  0.426588  67.87   \n",
      "603989 2020  25.51      10.5181  0.000000  22.078823  0.334527  74.30   \n",
      "603997 2020   7.29      -7.4037  0.000000  23.579522  0.754537  85.63   \n",
      "603998 2020  27.31       5.2548  0.000000  21.448076  0.408192  51.93   \n",
      "603999 2020  16.20       3.2931  0.000000  21.472300  0.167235  64.62   \n",
      "\n",
      "             F050201B        BP  F050502B  F051201B  ...  F011401A  \\\n",
      "Stk_cd YEAR                                          ...             \n",
      "2      2016  0.034129  0.175352  0.190279  0.100603  ...  0.806787   \n",
      "8      2016  0.064758  0.085953  0.116852  0.079899  ...  0.392229   \n",
      "11     2016  0.053327  0.147164  0.157293  0.130440  ...  0.645935   \n",
      "12     2016  0.046902  0.098931  0.101942  0.070127  ...  0.573751   \n",
      "14     2016  0.015537  0.036639  0.037145  0.023361  ...  0.576114   \n",
      "...               ...       ...       ...       ...  ...       ...   \n",
      "603988 2020  0.135289  0.226269  0.235910  0.182413  ...  0.411311   \n",
      "603989 2020  0.088106  0.142083  0.152702  0.122144  ...  0.382449   \n",
      "603997 2020 -0.019652 -0.074551 -0.071785  0.000811  ...  1.004167   \n",
      "603998 2020  0.023978  0.042487  0.043576  0.037531  ...  0.553619   \n",
      "603999 2020  0.035056  0.042065  0.042531  0.030827  ...  0.168986   \n",
      "\n",
      "              TotalAssets  TotalLiability       SIZE       SOE  IND  \\\n",
      "Stk_cd YEAR                                                           \n",
      "2      2016  8.306742e+11    6.689976e+11  27.445504  0.000000    0   \n",
      "8      2016  8.192657e+09    2.020171e+09  22.826504  0.010889    1   \n",
      "11     2016  6.654356e+09    4.243059e+09  22.618538  0.588242    0   \n",
      "12     2016  1.714682e+10    9.017625e+09  23.565078  0.000000    1   \n",
      "14     2016  1.873814e+09    1.079228e+09  21.351242  0.000000    0   \n",
      "...                   ...             ...        ...       ...  ...   \n",
      "603988 2020  1.265546e+09    5.088617e+08  20.958769  0.000000    1   \n",
      "603989 2020  4.349108e+09    1.652216e+09  22.193237  0.000000    1   \n",
      "603997 2020  1.732582e+10    1.275871e+10  23.575464  0.000000    1   \n",
      "603998 2020  2.242781e+09    9.770498e+08  21.530982  0.000000    1   \n",
      "603999 2020  2.137164e+09    3.560671e+08  21.482746  0.000000    0   \n",
      "\n",
      "             YEAR_2017  YEAR_2018  YEAR_2019  YEAR_2020  \n",
      "Stk_cd YEAR                                              \n",
      "2      2016          0          0          0          0  \n",
      "8      2016          0          0          0          0  \n",
      "11     2016          0          0          0          0  \n",
      "12     2016          0          0          0          0  \n",
      "14     2016          0          0          0          0  \n",
      "...                ...        ...        ...        ...  \n",
      "603988 2020          0          0          0          1  \n",
      "603989 2020          0          0          0          1  \n",
      "603997 2020          0          0          0          1  \n",
      "603998 2020          0          0          0          1  \n",
      "603999 2020          0          0          0          1  \n",
      "\n",
      "[9995 rows x 24 columns]\n"
     ]
    }
   ],
   "source": [
    "print(data_with_dummies)"
   ]
  },
  {
   "cell_type": "markdown",
   "metadata": {},
   "source": [
    "## 描述性分析和相关性分析"
   ]
  },
  {
   "cell_type": "code",
   "execution_count": 328,
   "metadata": {
    "ExecuteTime": {
     "end_time": "2023-05-21T01:01:48.925450Z",
     "start_time": "2023-05-21T01:01:48.839430700Z"
    }
   },
   "outputs": [
    {
     "name": "stdout",
     "output_type": "stream",
     "text": [
      "               CSR  Performance         股权性质           规模         负债水平  \\\n",
      "count  9995.000000  9995.000000  9995.000000  9995.000000  9995.000000   \n",
      "mean     21.625906     3.928647     0.023810    22.536999     0.420806   \n",
      "std      11.992261    31.878835     0.091314     1.326615     0.198135   \n",
      "min     -18.450000 -1726.338300     0.000000    15.921008     0.006171   \n",
      "25%      15.980000     1.504700     0.000000    21.613837     0.263168   \n",
      "50%      21.370000     3.834400     0.000000    22.347119     0.414518   \n",
      "75%      26.385000     7.257650     0.000000    23.289855     0.565300   \n",
      "max      87.020000   241.779600     0.841543    28.624722     1.169331   \n",
      "\n",
      "             TOP10     F050201B           BP     F050502B     F051201B  \\\n",
      "count  9995.000000  9995.000000  9995.000000  9995.000000  9995.000000   \n",
      "mean     57.301804     0.035412     0.059863     0.066510     0.052053   \n",
      "std      14.507261     0.074593     0.113373     0.142918     0.100058   \n",
      "min      15.930000    -1.647913    -0.569746    -4.319639    -2.537967   \n",
      "25%      46.950000     0.014092     0.028873     0.029832     0.029381   \n",
      "50%      57.400000     0.034719     0.064764     0.068194     0.052520   \n",
      "75%      67.510000     0.062893     0.109539     0.116634     0.085745   \n",
      "max     100.970000     0.785865     0.311446     2.378936     1.550362   \n",
      "\n",
      "            TOBINQ     F010101A     F010201A          LEV     F011401A  \\\n",
      "count  9995.000000  9995.000000  9995.000000  9995.000000  9995.000000   \n",
      "mean      1.960094     2.280981     1.806619     0.427015     0.474256   \n",
      "std       1.494728     2.661738     2.359256     0.194099     0.228909   \n",
      "min       0.673522     0.106457     0.074716     0.008359     0.008759   \n",
      "25%       1.172098     1.152607     0.775132     0.276172     0.306903   \n",
      "50%       1.559161     1.621627     1.206779     0.421140     0.467628   \n",
      "75%       2.227159     2.479747     1.931466     0.570186     0.624273   \n",
      "max      45.139884    80.663653    52.137668     0.988959     3.107221   \n",
      "\n",
      "        TotalAssets  TotalLiability         SIZE          SOE          IND  \n",
      "count  9.995000e+03    9.995000e+03  9995.000000  9995.000000  9995.000000  \n",
      "mean   2.360921e+10    1.419265e+10    22.570532     0.024673     0.636518  \n",
      "std    1.069488e+11    6.936518e+10     1.324164     0.091406     0.481026  \n",
      "min    9.725591e+07    1.557375e+07    18.392856     0.000000     0.000000  \n",
      "25%    2.538833e+09    7.579557e+08    21.654970     0.000000     0.000000  \n",
      "50%    5.255521e+09    2.038511e+09    22.382545     0.000000     1.000000  \n",
      "75%    1.335557e+10    6.689289e+09    23.315199     0.000000     1.000000  \n",
      "max    2.733190e+12    1.615079e+12    28.636491     0.874563     1.000000  \n",
      "                     CSR  Performance      股权性质        规模      负债水平     TOP10  \\\n",
      "CSR             1.000000     0.093943  0.052504  0.222220 -0.023021  0.208754   \n",
      "Performance     0.093943     1.000000  0.003668  0.030060 -0.086818  0.041917   \n",
      "股权性质            0.052504     0.003668  1.000000  0.151609  0.116652  0.188299   \n",
      "规模              0.222220     0.030060  0.151609  1.000000  0.544039  0.261754   \n",
      "负债水平           -0.023021    -0.086818  0.116652  0.544039  1.000000  0.021572   \n",
      "TOP10           0.208754     0.041917  0.188299  0.261754  0.021572  1.000000   \n",
      "F050201B        0.462548     0.247012  0.002046  0.025433 -0.176056  0.170538   \n",
      "BP              0.527885     0.168271  0.028324  0.131804 -0.034086  0.201519   \n",
      "F050502B        0.448203     0.291335  0.021958  0.108481 -0.031828  0.166489   \n",
      "F051201B        0.434696     0.165897  0.014617  0.084762 -0.051564  0.161558   \n",
      "TOBINQ          0.034542     0.003881 -0.100772 -0.359604 -0.280968 -0.031517   \n",
      "F010101A        0.035402     0.012229 -0.067571 -0.294417 -0.510356  0.002804   \n",
      "F010201A        0.026587     0.011968 -0.062506 -0.299735 -0.524345  0.007102   \n",
      "LEV            -0.051624    -0.059731  0.104595  0.525508  0.967092  0.014689   \n",
      "F011401A       -0.055845    -0.050794  0.084836  0.471081  0.862524  0.038821   \n",
      "TotalAssets     0.087054     0.014555  0.030830  0.505818  0.204454  0.196513   \n",
      "TotalLiability  0.088145     0.013163  0.033342  0.503811  0.246080  0.178897   \n",
      "SIZE            0.241844     0.048801  0.153807  0.991645  0.536232  0.273064   \n",
      "SOE             0.058143    -0.009386  0.943284  0.153710  0.126382  0.191730   \n",
      "IND            -0.093961     0.005233 -0.118731 -0.236435 -0.216747 -0.055967   \n",
      "\n",
      "                F050201B        BP  F050502B  F051201B    TOBINQ  F010101A  \\\n",
      "CSR             0.462548  0.527885  0.448203  0.434696  0.034542  0.035402   \n",
      "Performance     0.247012  0.168271  0.291335  0.165897  0.003881  0.012229   \n",
      "股权性质            0.002046  0.028324  0.021958  0.014617 -0.100772 -0.067571   \n",
      "规模              0.025433  0.131804  0.108481  0.084762 -0.359604 -0.294417   \n",
      "负债水平           -0.176056 -0.034086 -0.031828 -0.051564 -0.280968 -0.510356   \n",
      "TOP10           0.170538  0.201519  0.166489  0.161558 -0.031517  0.002804   \n",
      "F050201B        1.000000  0.879319  0.846602  0.949382  0.165668  0.103572   \n",
      "BP              0.879319  1.000000  0.897849  0.861553  0.108720  0.029916   \n",
      "F050502B        0.846602  0.897849  1.000000  0.855850  0.099582  0.023795   \n",
      "F051201B        0.949382  0.861553  0.855850  1.000000  0.119376  0.031962   \n",
      "TOBINQ          0.165668  0.108720  0.099582  0.119376  1.000000  0.228727   \n",
      "F010101A        0.103572  0.029916  0.023795  0.031962  0.228727  1.000000   \n",
      "F010201A        0.106750  0.029263  0.023978  0.032663  0.236030  0.978470   \n",
      "LEV            -0.246517 -0.106049 -0.101744 -0.129026 -0.283748 -0.528517   \n",
      "F011401A       -0.236111 -0.108452 -0.102140 -0.129039 -0.266827 -0.508260   \n",
      "TotalAssets    -0.002909  0.053443  0.043732  0.020309 -0.103677 -0.080283   \n",
      "TotalLiability -0.016753  0.050604  0.041482  0.012369 -0.109559 -0.083943   \n",
      "SIZE            0.060727  0.166046  0.140127  0.116818 -0.357522 -0.294731   \n",
      "SOE             0.003541  0.030133  0.023751  0.016923 -0.101279 -0.068647   \n",
      "IND             0.089951  0.039389  0.033002  0.059431  0.106265  0.092505   \n",
      "\n",
      "                F010201A       LEV  F011401A  TotalAssets  TotalLiability  \\\n",
      "CSR             0.026587 -0.051624 -0.055845     0.087054        0.088145   \n",
      "Performance     0.011968 -0.059731 -0.050794     0.014555        0.013163   \n",
      "股权性质           -0.062506  0.104595  0.084836     0.030830        0.033342   \n",
      "规模             -0.299735  0.525508  0.471081     0.505818        0.503811   \n",
      "负债水平           -0.524345  0.967092  0.862524     0.204454        0.246080   \n",
      "TOP10           0.007102  0.014689  0.038821     0.196513        0.178897   \n",
      "F050201B        0.106750 -0.246517 -0.236111    -0.002909       -0.016753   \n",
      "BP              0.029263 -0.106049 -0.108452     0.053443        0.050604   \n",
      "F050502B        0.023978 -0.101744 -0.102140     0.043732        0.041482   \n",
      "F051201B        0.032663 -0.129026 -0.129039     0.020309        0.012369   \n",
      "TOBINQ          0.236030 -0.283748 -0.266827    -0.103677       -0.109559   \n",
      "F010101A        0.978470 -0.528517 -0.508260    -0.080283       -0.083943   \n",
      "F010201A        1.000000 -0.540643 -0.511887    -0.084346       -0.090595   \n",
      "LEV            -0.540643  1.000000  0.902515     0.198066        0.241103   \n",
      "F011401A       -0.511887  0.902515  1.000000     0.166576        0.204011   \n",
      "TotalAssets    -0.084346  0.198066  0.166576     1.000000        0.965577   \n",
      "TotalLiability -0.090595  0.241103  0.204011     0.965577        1.000000   \n",
      "SIZE           -0.299525  0.526258  0.475701     0.507062        0.505473   \n",
      "SOE            -0.062671  0.112714  0.090035     0.032721        0.034721   \n",
      "IND             0.082882 -0.215627 -0.219438    -0.137111       -0.145696   \n",
      "\n",
      "                    SIZE       SOE       IND  \n",
      "CSR             0.241844  0.058143 -0.093961  \n",
      "Performance     0.048801 -0.009386  0.005233  \n",
      "股权性质            0.153807  0.943284 -0.118731  \n",
      "规模              0.991645  0.153710 -0.236435  \n",
      "负债水平            0.536232  0.126382 -0.216747  \n",
      "TOP10           0.273064  0.191730 -0.055967  \n",
      "F050201B        0.060727  0.003541  0.089951  \n",
      "BP              0.166046  0.030133  0.039389  \n",
      "F050502B        0.140127  0.023751  0.033002  \n",
      "F051201B        0.116818  0.016923  0.059431  \n",
      "TOBINQ         -0.357522 -0.101279  0.106265  \n",
      "F010101A       -0.294731 -0.068647  0.092505  \n",
      "F010201A       -0.299525 -0.062671  0.082882  \n",
      "LEV             0.526258  0.112714 -0.215627  \n",
      "F011401A        0.475701  0.090035 -0.219438  \n",
      "TotalAssets     0.507062  0.032721 -0.137111  \n",
      "TotalLiability  0.505473  0.034721 -0.145696  \n",
      "SIZE            1.000000  0.159313 -0.233678  \n",
      "SOE             0.159313  1.000000 -0.117677  \n",
      "IND            -0.233678 -0.117677  1.000000  \n"
     ]
    }
   ],
   "source": [
    "df = df.set_index([\"Stk_cd\", \"YEAR\"])\n",
    "# 描述性分析\n",
    "print(df.describe())\n",
    "# 相关性分析\n",
    "print(df.corr())\n",
    "# # 绘制相关性热图\n",
    "# import seaborn as sns\n",
    "# sns.heatmap(df.corr(), annot=True, cmap=\"Blues\")\n",
    "# # 描述性分析\n",
    "# print(data_with_dummies.describe())\n",
    "# # 相关性分析\n",
    "# print(data_with_dummies.corr())\n",
    "# # 绘制相关性热图\n",
    "# import seaborn as sns\n",
    "#\n",
    "# sns.heatmap(data_with_dummies.corr(), annot=True, cmap=\"Blues\")"
   ]
  },
  {
   "cell_type": "code",
   "execution_count": 329,
   "metadata": {
    "ExecuteTime": {
     "end_time": "2023-05-21T01:01:51.155951200Z",
     "start_time": "2023-05-21T01:01:48.923449900Z"
    }
   },
   "outputs": [
    {
     "name": "stderr",
     "output_type": "stream",
     "text": [
      "d:\\python\\python39\\lib\\site-packages\\matplotlib\\backends\\backend_agg.py:240: RuntimeWarning: Glyph 32929 missing from current font.\n",
      "  font.set_text(s, 0.0, flags=flags)\n",
      "d:\\python\\python39\\lib\\site-packages\\matplotlib\\backends\\backend_agg.py:240: RuntimeWarning: Glyph 26435 missing from current font.\n",
      "  font.set_text(s, 0.0, flags=flags)\n",
      "d:\\python\\python39\\lib\\site-packages\\matplotlib\\backends\\backend_agg.py:240: RuntimeWarning: Glyph 24615 missing from current font.\n",
      "  font.set_text(s, 0.0, flags=flags)\n",
      "d:\\python\\python39\\lib\\site-packages\\matplotlib\\backends\\backend_agg.py:240: RuntimeWarning: Glyph 36136 missing from current font.\n",
      "  font.set_text(s, 0.0, flags=flags)\n",
      "d:\\python\\python39\\lib\\site-packages\\matplotlib\\backends\\backend_agg.py:240: RuntimeWarning: Glyph 35268 missing from current font.\n",
      "  font.set_text(s, 0.0, flags=flags)\n",
      "d:\\python\\python39\\lib\\site-packages\\matplotlib\\backends\\backend_agg.py:240: RuntimeWarning: Glyph 27169 missing from current font.\n",
      "  font.set_text(s, 0.0, flags=flags)\n",
      "d:\\python\\python39\\lib\\site-packages\\matplotlib\\backends\\backend_agg.py:240: RuntimeWarning: Glyph 36127 missing from current font.\n",
      "  font.set_text(s, 0.0, flags=flags)\n",
      "d:\\python\\python39\\lib\\site-packages\\matplotlib\\backends\\backend_agg.py:240: RuntimeWarning: Glyph 20538 missing from current font.\n",
      "  font.set_text(s, 0.0, flags=flags)\n",
      "d:\\python\\python39\\lib\\site-packages\\matplotlib\\backends\\backend_agg.py:240: RuntimeWarning: Glyph 27700 missing from current font.\n",
      "  font.set_text(s, 0.0, flags=flags)\n",
      "d:\\python\\python39\\lib\\site-packages\\matplotlib\\backends\\backend_agg.py:240: RuntimeWarning: Glyph 24179 missing from current font.\n",
      "  font.set_text(s, 0.0, flags=flags)\n",
      "d:\\python\\python39\\lib\\site-packages\\matplotlib\\backends\\backend_agg.py:203: RuntimeWarning: Glyph 32929 missing from current font.\n",
      "  font.set_text(s, 0, flags=flags)\n",
      "d:\\python\\python39\\lib\\site-packages\\matplotlib\\backends\\backend_agg.py:203: RuntimeWarning: Glyph 26435 missing from current font.\n",
      "  font.set_text(s, 0, flags=flags)\n",
      "d:\\python\\python39\\lib\\site-packages\\matplotlib\\backends\\backend_agg.py:203: RuntimeWarning: Glyph 24615 missing from current font.\n",
      "  font.set_text(s, 0, flags=flags)\n",
      "d:\\python\\python39\\lib\\site-packages\\matplotlib\\backends\\backend_agg.py:203: RuntimeWarning: Glyph 36136 missing from current font.\n",
      "  font.set_text(s, 0, flags=flags)\n",
      "d:\\python\\python39\\lib\\site-packages\\matplotlib\\backends\\backend_agg.py:203: RuntimeWarning: Glyph 35268 missing from current font.\n",
      "  font.set_text(s, 0, flags=flags)\n",
      "d:\\python\\python39\\lib\\site-packages\\matplotlib\\backends\\backend_agg.py:203: RuntimeWarning: Glyph 27169 missing from current font.\n",
      "  font.set_text(s, 0, flags=flags)\n",
      "d:\\python\\python39\\lib\\site-packages\\matplotlib\\backends\\backend_agg.py:203: RuntimeWarning: Glyph 36127 missing from current font.\n",
      "  font.set_text(s, 0, flags=flags)\n",
      "d:\\python\\python39\\lib\\site-packages\\matplotlib\\backends\\backend_agg.py:203: RuntimeWarning: Glyph 20538 missing from current font.\n",
      "  font.set_text(s, 0, flags=flags)\n",
      "d:\\python\\python39\\lib\\site-packages\\matplotlib\\backends\\backend_agg.py:203: RuntimeWarning: Glyph 27700 missing from current font.\n",
      "  font.set_text(s, 0, flags=flags)\n",
      "d:\\python\\python39\\lib\\site-packages\\matplotlib\\backends\\backend_agg.py:203: RuntimeWarning: Glyph 24179 missing from current font.\n",
      "  font.set_text(s, 0, flags=flags)\n"
     ]
    },
    {
     "data": {
      "text/plain": "<Figure size 453.543x340.157 with 2 Axes>",
      "image/png": "[encoded data removed]"
     },
     "metadata": {},
     "output_type": "display_data"
    }
   ],
   "source": [
    "# here put the import lib\n",
    "import pandas as pd\n",
    "import seaborn as sns\n",
    "import matplotlib.pyplot as plt\n",
    "import numpy as np\n",
    "from scipy.stats import pearsonr\n",
    "import matplotlib as mpl\n",
    "\n",
    "\n",
    "def cm2inch(x, y):\n",
    "    return x / 2.54, y / 2.54\n",
    "\n",
    "\n",
    "size1 = 10.5\n",
    "mpl.rcParams.update(\n",
    "    {\n",
    "        'text.usetex': False,\n",
    "        'font.family': 'stixgeneral',\n",
    "        'mathtext.fontset': 'stix',\n",
    "        \"font.family\": 'serif',\n",
    "        \"font.size\": size1,\n",
    "        \"font.serif\": ['Times New Roman'],\n",
    "    }\n",
    ")\n",
    "fontdict = {'weight': 'bold', 'size': size1, 'family': 'SimHei'}\n",
    "\n",
    "df_coor = df.corr()\n",
    "fig = plt.figure(figsize=(cm2inch(16, 12)))\n",
    "ax1 = plt.gca()\n",
    "\n",
    "#构造mask，去除重复数据显示\n",
    "mask = np.zeros_like(df_coor)\n",
    "mask[np.triu_indices_from(mask)] = True\n",
    "mask2 = mask\n",
    "mask = (np.flipud(mask) - 1) * (-1)\n",
    "mask = np.rot90(mask, k=-1)\n",
    "\n",
    "im1 = sns.heatmap(df_coor, annot=True, cmap=\"RdBu\"\n",
    "                  , mask=mask  #构造mask，去除重复数据显示\n",
    "                  , vmax=1, vmin=-1\n",
    "                  , fmt='.2f', ax=ax1)\n",
    "\n",
    "ax1.tick_params(axis='both', length=0)\n",
    "\n",
    "#计算相关性显著性并显示\n",
    "rlist = []\n",
    "plist = []\n",
    "for i in df.columns.values:\n",
    "    for j in df.columns.values:\n",
    "        r, p = pearsonr(df[i], df[j])\n",
    "        rlist.append(r)\n",
    "        plist.append(p)\n",
    "\n",
    "rarr = np.asarray(rlist).reshape(len(df.columns.values), len(df.columns.values))\n",
    "parr = np.asarray(plist).reshape(len(df.columns.values), len(df.columns.values))\n",
    "xlist = ax1.get_xticks()\n",
    "ylist = ax1.get_yticks()\n",
    "\n",
    "widthx = 0\n",
    "widthy = -0.15\n",
    "\n",
    "for m in ax1.get_xticks():\n",
    "    for n in ax1.get_yticks():\n",
    "        pv = (parr[int(m), int(n)])\n",
    "        rv = (rarr[int(m), int(n)])\n",
    "        if mask2[int(m), int(n)] < 1.:\n",
    "            if abs(rv) > 0.5:\n",
    "                if pv < 0.05 and pv >= 0.01:\n",
    "                    ax1.text(n + widthx, m + widthy, '*', ha='center', color='white')\n",
    "                if pv < 0.01 and pv >= 0.001:\n",
    "                    ax1.text(n + widthx, m + widthy, '**', ha='center', color='white')\n",
    "                if pv < 0.001:\n",
    "                    # print([int(m),int(n)])\n",
    "                    ax1.text(n + widthx, m + widthy, '***', ha='center', color='white')\n",
    "            else:\n",
    "                if pv < 0.05 and pv >= 0.01:\n",
    "                    ax1.text(n + widthx, m + widthy, '*', ha='center', color='k')\n",
    "                elif pv < 0.01 and pv >= 0.001:\n",
    "                    ax1.text(n + widthx, m + widthy, '**', ha='center', color='k')\n",
    "                elif pv < 0.001:\n",
    "                    ax1.text(n + widthx, m + widthy, '***', ha='center', color='k')\n",
    "plt.savefig(r'D:\\学期\\大三春\\计量经济学\\大作业\\成品\\fig\\r_demo.png', dpi=600)\n",
    "plt.show()"
   ]
  },
  {
   "cell_type": "markdown",
   "metadata": {},
   "source": [
    "## 固定效应模型"
   ]
  },
  {
   "cell_type": "code",
   "execution_count": 330,
   "metadata": {
    "ExecuteTime": {
     "end_time": "2023-05-21T01:01:51.263975300Z",
     "start_time": "2023-05-21T01:01:51.160953600Z"
    }
   },
   "outputs": [
    {
     "data": {
      "text/plain": "<class 'linearmodels.compat.statsmodels.Summary'>\n\"\"\"\n                          PanelOLS Estimation Summary                           \n================================================================================\nDep. Variable:                     BP   R-squared:                        0.2664\nEstimator:                   PanelOLS   R-squared (Between):             -396.91\nNo. Observations:                9995   R-squared (Within):               0.2664\nDate:                Sun, May 21 2023   R-squared (Overall):             -220.87\nTime:                        09:01:51   Log-likelihood                 1.196e+04\nCov. Estimator:            Unadjusted                                           \n                                        F-statistic:                      263.57\nEntities:                        1999   P-value                           0.0000\nAvg Obs:                       5.0000   Distribution:                 F(11,7985)\nMin Obs:                       5.0000                                           \nMax Obs:                       5.0000   F-statistic (robust):             263.57\n                                        P-value                           0.0000\nTime periods:                       5   Distribution:                 F(11,7985)\nAvg Obs:                       1999.0                                           \nMin Obs:                       1999.0                                           \nMax Obs:                       1999.0                                           \n                                                                                \n                             Parameter Estimates                              \n==============================================================================\n            Parameter  Std. Err.     T-stat    P-value    Lower CI    Upper CI\n------------------------------------------------------------------------------\nCSR            0.0036     0.0001     36.061     0.0000      0.0034      0.0038\nSIZE           0.0871     0.0043     20.385     0.0000      0.0787      0.0954\nLEV           -0.3524     0.0140    -25.109     0.0000     -0.3799     -0.3249\nTOBINQ         0.0074     0.0010     7.2949     0.0000      0.0054      0.0094\nTOP10          0.0005     0.0002     2.2502     0.0245    6.19e-05      0.0009\nSOE           -0.0490     0.0154    -3.1904     0.0014     -0.0791     -0.0189\nIND            0.0396     0.0101     3.9222     0.0001      0.0198      0.0594\nYEAR_2017      0.0271     0.0028     9.5967     0.0000      0.0216      0.0327\nYEAR_2018      0.0117     0.0031     3.8344     0.0001      0.0057      0.0178\nYEAR_2019      0.0041     0.0032     1.3039     0.1923     -0.0021      0.0103\nYEAR_2020     -0.0100     0.0034    -2.9619     0.0031     -0.0167     -0.0034\n==============================================================================\n\nF-test for Poolability: 2.4017\nP-value: 0.0000\nDistribution: F(1998,7985)\n\nIncluded effects: Entity\n\"\"\"",
      "text/html": "<table class=\"simpletable\">\n<caption>PanelOLS Estimation Summary</caption>\n<tr>\n  <th>Dep. Variable:</th>           <td>BP</td>        <th>  R-squared:         </th>     <td>0.2664</td>  \n</tr>\n<tr>\n  <th>Estimator:</th>            <td>PanelOLS</td>     <th>  R-squared (Between):</th>    <td>-396.91</td> \n</tr>\n<tr>\n  <th>No. Observations:</th>       <td>9995</td>       <th>  R-squared (Within):</th>     <td>0.2664</td>  \n</tr>\n<tr>\n  <th>Date:</th>             <td>Sun, May 21 2023</td> <th>  R-squared (Overall):</th>    <td>-220.87</td> \n</tr>\n<tr>\n  <th>Time:</th>                 <td>09:01:51</td>     <th>  Log-likelihood     </th>    <td>1.196e+04</td>\n</tr>\n<tr>\n  <th>Cov. Estimator:</th>      <td>Unadjusted</td>    <th>                     </th>        <td></td>     \n</tr>\n<tr>\n  <th></th>                          <td></td>         <th>  F-statistic:       </th>     <td>263.57</td>  \n</tr>\n<tr>\n  <th>Entities:</th>               <td>1999</td>       <th>  P-value            </th>     <td>0.0000</td>  \n</tr>\n<tr>\n  <th>Avg Obs:</th>               <td>5.0000</td>      <th>  Distribution:      </th>   <td>F(11,7985)</td>\n</tr>\n<tr>\n  <th>Min Obs:</th>               <td>5.0000</td>      <th>                     </th>        <td></td>     \n</tr>\n<tr>\n  <th>Max Obs:</th>               <td>5.0000</td>      <th>  F-statistic (robust):</th>   <td>263.57</td>  \n</tr>\n<tr>\n  <th></th>                          <td></td>         <th>  P-value            </th>     <td>0.0000</td>  \n</tr>\n<tr>\n  <th>Time periods:</th>             <td>5</td>        <th>  Distribution:      </th>   <td>F(11,7985)</td>\n</tr>\n<tr>\n  <th>Avg Obs:</th>               <td>1999.0</td>      <th>                     </th>        <td></td>     \n</tr>\n<tr>\n  <th>Min Obs:</th>               <td>1999.0</td>      <th>                     </th>        <td></td>     \n</tr>\n<tr>\n  <th>Max Obs:</th>               <td>1999.0</td>      <th>                     </th>        <td></td>     \n</tr>\n<tr>\n  <th></th>                          <td></td>         <th>                     </th>        <td></td>     \n</tr>\n</table>\n<table class=\"simpletable\">\n<caption>Parameter Estimates</caption>\n<tr>\n      <td></td>      <th>Parameter</th> <th>Std. Err.</th> <th>T-stat</th>  <th>P-value</th> <th>Lower CI</th> <th>Upper CI</th>\n</tr>\n<tr>\n  <th>CSR</th>        <td>0.0036</td>    <td>0.0001</td>   <td>36.061</td>  <td>0.0000</td>   <td>0.0034</td>   <td>0.0038</td> \n</tr>\n<tr>\n  <th>SIZE</th>       <td>0.0871</td>    <td>0.0043</td>   <td>20.385</td>  <td>0.0000</td>   <td>0.0787</td>   <td>0.0954</td> \n</tr>\n<tr>\n  <th>LEV</th>        <td>-0.3524</td>   <td>0.0140</td>   <td>-25.109</td> <td>0.0000</td>   <td>-0.3799</td>  <td>-0.3249</td>\n</tr>\n<tr>\n  <th>TOBINQ</th>     <td>0.0074</td>    <td>0.0010</td>   <td>7.2949</td>  <td>0.0000</td>   <td>0.0054</td>   <td>0.0094</td> \n</tr>\n<tr>\n  <th>TOP10</th>      <td>0.0005</td>    <td>0.0002</td>   <td>2.2502</td>  <td>0.0245</td>  <td>6.19e-05</td>  <td>0.0009</td> \n</tr>\n<tr>\n  <th>SOE</th>        <td>-0.0490</td>   <td>0.0154</td>   <td>-3.1904</td> <td>0.0014</td>   <td>-0.0791</td>  <td>-0.0189</td>\n</tr>\n<tr>\n  <th>IND</th>        <td>0.0396</td>    <td>0.0101</td>   <td>3.9222</td>  <td>0.0001</td>   <td>0.0198</td>   <td>0.0594</td> \n</tr>\n<tr>\n  <th>YEAR_2017</th>  <td>0.0271</td>    <td>0.0028</td>   <td>9.5967</td>  <td>0.0000</td>   <td>0.0216</td>   <td>0.0327</td> \n</tr>\n<tr>\n  <th>YEAR_2018</th>  <td>0.0117</td>    <td>0.0031</td>   <td>3.8344</td>  <td>0.0001</td>   <td>0.0057</td>   <td>0.0178</td> \n</tr>\n<tr>\n  <th>YEAR_2019</th>  <td>0.0041</td>    <td>0.0032</td>   <td>1.3039</td>  <td>0.1923</td>   <td>-0.0021</td>  <td>0.0103</td> \n</tr>\n<tr>\n  <th>YEAR_2020</th>  <td>-0.0100</td>   <td>0.0034</td>   <td>-2.9619</td> <td>0.0031</td>   <td>-0.0167</td>  <td>-0.0034</td>\n</tr>\n</table><br/><br/>F-test for Poolability: 2.4017<br/>P-value: 0.0000<br/>Distribution: F(1998,7985)<br/><br/>Included effects: Entity",
      "text/latex": "\\begin{center}\n\\begin{tabular}{lclc}\n\\toprule\n\\textbf{Dep. Variable:}    &         BP         & \\textbf{  R-squared:         }   &      0.2664      \\\\\n\\textbf{Estimator:}        &      PanelOLS      & \\textbf{  R-squared (Between):}  &     -396.91      \\\\\n\\textbf{No. Observations:} &        9995        & \\textbf{  R-squared (Within):}   &      0.2664      \\\\\n\\textbf{Date:}             &  Sun, May 21 2023  & \\textbf{  R-squared (Overall):}  &     -220.87      \\\\\n\\textbf{Time:}             &      09:01:51      & \\textbf{  Log-likelihood     }   &    1.196e+04     \\\\\n\\textbf{Cov. Estimator:}   &     Unadjusted     & \\textbf{                     }   &                  \\\\\n\\textbf{}                  &                    & \\textbf{  F-statistic:       }   &      263.57      \\\\\n\\textbf{Entities:}         &        1999        & \\textbf{  P-value            }   &      0.0000      \\\\\n\\textbf{Avg Obs:}          &       5.0000       & \\textbf{  Distribution:      }   &    F(11,7985)    \\\\\n\\textbf{Min Obs:}          &       5.0000       & \\textbf{                     }   &                  \\\\\n\\textbf{Max Obs:}          &       5.0000       & \\textbf{  F-statistic (robust):} &      263.57      \\\\\n\\textbf{}                  &                    & \\textbf{  P-value            }   &      0.0000      \\\\\n\\textbf{Time periods:}     &         5          & \\textbf{  Distribution:      }   &    F(11,7985)    \\\\\n\\textbf{Avg Obs:}          &       1999.0       & \\textbf{                     }   &                  \\\\\n\\textbf{Min Obs:}          &       1999.0       & \\textbf{                     }   &                  \\\\\n\\textbf{Max Obs:}          &       1999.0       & \\textbf{                     }   &                  \\\\\n\\textbf{}                  &                    & \\textbf{                     }   &                  \\\\\n\\bottomrule\n\\end{tabular}\n\\begin{tabular}{lcccccc}\n                    & \\textbf{Parameter} & \\textbf{Std. Err.} & \\textbf{T-stat} & \\textbf{P-value} & \\textbf{Lower CI} & \\textbf{Upper CI}  \\\\\n\\midrule\n\\textbf{CSR}        &       0.0036       &       0.0001       &      36.061     &      0.0000      &       0.0034      &       0.0038       \\\\\n\\textbf{SIZE}       &       0.0871       &       0.0043       &      20.385     &      0.0000      &       0.0787      &       0.0954       \\\\\n\\textbf{LEV}        &      -0.3524       &       0.0140       &     -25.109     &      0.0000      &      -0.3799      &      -0.3249       \\\\\n\\textbf{TOBINQ}     &       0.0074       &       0.0010       &      7.2949     &      0.0000      &       0.0054      &       0.0094       \\\\\n\\textbf{TOP10}      &       0.0005       &       0.0002       &      2.2502     &      0.0245      &      6.19e-05     &       0.0009       \\\\\n\\textbf{SOE}        &      -0.0490       &       0.0154       &     -3.1904     &      0.0014      &      -0.0791      &      -0.0189       \\\\\n\\textbf{IND}        &       0.0396       &       0.0101       &      3.9222     &      0.0001      &       0.0198      &       0.0594       \\\\\n\\textbf{YEAR\\_2017} &       0.0271       &       0.0028       &      9.5967     &      0.0000      &       0.0216      &       0.0327       \\\\\n\\textbf{YEAR\\_2018} &       0.0117       &       0.0031       &      3.8344     &      0.0001      &       0.0057      &       0.0178       \\\\\n\\textbf{YEAR\\_2019} &       0.0041       &       0.0032       &      1.3039     &      0.1923      &      -0.0021      &       0.0103       \\\\\n\\textbf{YEAR\\_2020} &      -0.0100       &       0.0034       &     -2.9619     &      0.0031      &      -0.0167      &      -0.0034       \\\\\n\\bottomrule\n\\end{tabular}\n%\\caption{PanelOLS Estimation Summary}\n\\end{center}\n\nF-test for Poolability: 2.4017 \\newline\n P-value: 0.0000 \\newline\n Distribution: F(1998,7985) \\newline\n  \\newline\n Included effects: Entity"
     },
     "execution_count": 330,
     "metadata": {},
     "output_type": "execute_result"
    }
   ],
   "source": [
    "# 建立固定效应模型\n",
    "model_fe = PanelOLS(data_with_dummies['BP'],\n",
    "                    data_with_dummies[\n",
    "                        ['CSR', 'SIZE', 'LEV', 'TOBINQ', 'TOP10', 'SOE', 'IND', 'YEAR_2017', 'YEAR_2018',\n",
    "                         'YEAR_2019', 'YEAR_2020']],\n",
    "                    entity_effects=True)  # 使用entity_effects参数启用固定效应\n",
    "# 拟合模型\n",
    "results_fe = model_fe.fit()\n",
    "# 查看回归结果\n",
    "results_fe.summary"
   ]
  },
  {
   "cell_type": "markdown",
   "metadata": {},
   "source": [
    "## 随机效应模型"
   ]
  },
  {
   "cell_type": "code",
   "execution_count": 331,
   "metadata": {
    "ExecuteTime": {
     "end_time": "2023-05-21T01:01:51.395194200Z",
     "start_time": "2023-05-21T01:01:51.267976Z"
    }
   },
   "outputs": [
    {
     "data": {
      "text/plain": "<class 'linearmodels.compat.statsmodels.Summary'>\n\"\"\"\n                        RandomEffects Estimation Summary                        \n================================================================================\nDep. Variable:                     BP   R-squared:                        0.3791\nEstimator:              RandomEffects   R-squared (Between):              0.6677\nNo. Observations:                9995   R-squared (Within):               0.1952\nDate:                Sun, May 21 2023   R-squared (Overall):              0.4583\nTime:                        09:01:51   Log-likelihood                 1.033e+04\nCov. Estimator:            Unadjusted                                           \n                                        F-statistic:                      554.13\nEntities:                        1999   P-value                           0.0000\nAvg Obs:                       5.0000   Distribution:                 F(11,9984)\nMin Obs:                       5.0000                                           \nMax Obs:                       5.0000   F-statistic (robust):             554.13\n                                        P-value                           0.0000\nTime periods:                       5   Distribution:                 F(11,9984)\nAvg Obs:                       1999.0                                           \nMin Obs:                       1999.0                                           \nMax Obs:                       1999.0                                           \n                                                                                \n                             Parameter Estimates                              \n==============================================================================\n            Parameter  Std. Err.     T-stat    P-value    Lower CI    Upper CI\n------------------------------------------------------------------------------\nCSR            0.0047  8.929e-05     52.822     0.0000      0.0045      0.0049\nSIZE          -0.0045     0.0003    -13.328     0.0000     -0.0051     -0.0038\nLEV           -0.0497     0.0067    -7.3725     0.0000     -0.0629     -0.0365\nTOBINQ         0.0045     0.0007     6.1811     0.0000      0.0031      0.0060\nTOP10          0.0007  8.611e-05     8.1991     0.0000      0.0005      0.0009\nSOE            0.0077     0.0117     0.6587     0.5101     -0.0153      0.0307\nIND            0.0111     0.0025     4.3972     0.0000      0.0061      0.0160\nYEAR_2017      0.0423     0.0028     14.901     0.0000      0.0367      0.0478\nYEAR_2018      0.0305     0.0029     10.470     0.0000      0.0248      0.0363\nYEAR_2019      0.0295     0.0029     10.172     0.0000      0.0238      0.0352\nYEAR_2020      0.0217     0.0029     7.4629     0.0000      0.0160      0.0275\n==============================================================================\n\"\"\"",
      "text/html": "<table class=\"simpletable\">\n<caption>RandomEffects Estimation Summary</caption>\n<tr>\n  <th>Dep. Variable:</th>           <td>BP</td>        <th>  R-squared:         </th>     <td>0.3791</td>  \n</tr>\n<tr>\n  <th>Estimator:</th>          <td>RandomEffects</td>  <th>  R-squared (Between):</th>    <td>0.6677</td>  \n</tr>\n<tr>\n  <th>No. Observations:</th>       <td>9995</td>       <th>  R-squared (Within):</th>     <td>0.1952</td>  \n</tr>\n<tr>\n  <th>Date:</th>             <td>Sun, May 21 2023</td> <th>  R-squared (Overall):</th>    <td>0.4583</td>  \n</tr>\n<tr>\n  <th>Time:</th>                 <td>09:01:51</td>     <th>  Log-likelihood     </th>    <td>1.033e+04</td>\n</tr>\n<tr>\n  <th>Cov. Estimator:</th>      <td>Unadjusted</td>    <th>                     </th>        <td></td>     \n</tr>\n<tr>\n  <th></th>                          <td></td>         <th>  F-statistic:       </th>     <td>554.13</td>  \n</tr>\n<tr>\n  <th>Entities:</th>               <td>1999</td>       <th>  P-value            </th>     <td>0.0000</td>  \n</tr>\n<tr>\n  <th>Avg Obs:</th>               <td>5.0000</td>      <th>  Distribution:      </th>   <td>F(11,9984)</td>\n</tr>\n<tr>\n  <th>Min Obs:</th>               <td>5.0000</td>      <th>                     </th>        <td></td>     \n</tr>\n<tr>\n  <th>Max Obs:</th>               <td>5.0000</td>      <th>  F-statistic (robust):</th>   <td>554.13</td>  \n</tr>\n<tr>\n  <th></th>                          <td></td>         <th>  P-value            </th>     <td>0.0000</td>  \n</tr>\n<tr>\n  <th>Time periods:</th>             <td>5</td>        <th>  Distribution:      </th>   <td>F(11,9984)</td>\n</tr>\n<tr>\n  <th>Avg Obs:</th>               <td>1999.0</td>      <th>                     </th>        <td></td>     \n</tr>\n<tr>\n  <th>Min Obs:</th>               <td>1999.0</td>      <th>                     </th>        <td></td>     \n</tr>\n<tr>\n  <th>Max Obs:</th>               <td>1999.0</td>      <th>                     </th>        <td></td>     \n</tr>\n<tr>\n  <th></th>                          <td></td>         <th>                     </th>        <td></td>     \n</tr>\n</table>\n<table class=\"simpletable\">\n<caption>Parameter Estimates</caption>\n<tr>\n      <td></td>      <th>Parameter</th> <th>Std. Err.</th> <th>T-stat</th>  <th>P-value</th> <th>Lower CI</th> <th>Upper CI</th>\n</tr>\n<tr>\n  <th>CSR</th>        <td>0.0047</td>   <td>8.929e-05</td> <td>52.822</td>  <td>0.0000</td>   <td>0.0045</td>   <td>0.0049</td> \n</tr>\n<tr>\n  <th>SIZE</th>       <td>-0.0045</td>   <td>0.0003</td>   <td>-13.328</td> <td>0.0000</td>   <td>-0.0051</td>  <td>-0.0038</td>\n</tr>\n<tr>\n  <th>LEV</th>        <td>-0.0497</td>   <td>0.0067</td>   <td>-7.3725</td> <td>0.0000</td>   <td>-0.0629</td>  <td>-0.0365</td>\n</tr>\n<tr>\n  <th>TOBINQ</th>     <td>0.0045</td>    <td>0.0007</td>   <td>6.1811</td>  <td>0.0000</td>   <td>0.0031</td>   <td>0.0060</td> \n</tr>\n<tr>\n  <th>TOP10</th>      <td>0.0007</td>   <td>8.611e-05</td> <td>8.1991</td>  <td>0.0000</td>   <td>0.0005</td>   <td>0.0009</td> \n</tr>\n<tr>\n  <th>SOE</th>        <td>0.0077</td>    <td>0.0117</td>   <td>0.6587</td>  <td>0.5101</td>   <td>-0.0153</td>  <td>0.0307</td> \n</tr>\n<tr>\n  <th>IND</th>        <td>0.0111</td>    <td>0.0025</td>   <td>4.3972</td>  <td>0.0000</td>   <td>0.0061</td>   <td>0.0160</td> \n</tr>\n<tr>\n  <th>YEAR_2017</th>  <td>0.0423</td>    <td>0.0028</td>   <td>14.901</td>  <td>0.0000</td>   <td>0.0367</td>   <td>0.0478</td> \n</tr>\n<tr>\n  <th>YEAR_2018</th>  <td>0.0305</td>    <td>0.0029</td>   <td>10.470</td>  <td>0.0000</td>   <td>0.0248</td>   <td>0.0363</td> \n</tr>\n<tr>\n  <th>YEAR_2019</th>  <td>0.0295</td>    <td>0.0029</td>   <td>10.172</td>  <td>0.0000</td>   <td>0.0238</td>   <td>0.0352</td> \n</tr>\n<tr>\n  <th>YEAR_2020</th>  <td>0.0217</td>    <td>0.0029</td>   <td>7.4629</td>  <td>0.0000</td>   <td>0.0160</td>   <td>0.0275</td> \n</tr>\n</table>",
      "text/latex": "\\begin{center}\n\\begin{tabular}{lclc}\n\\toprule\n\\textbf{Dep. Variable:}    &         BP         & \\textbf{  R-squared:         }   &      0.3791      \\\\\n\\textbf{Estimator:}        &   RandomEffects    & \\textbf{  R-squared (Between):}  &      0.6677      \\\\\n\\textbf{No. Observations:} &        9995        & \\textbf{  R-squared (Within):}   &      0.1952      \\\\\n\\textbf{Date:}             &  Sun, May 21 2023  & \\textbf{  R-squared (Overall):}  &      0.4583      \\\\\n\\textbf{Time:}             &      09:01:51      & \\textbf{  Log-likelihood     }   &    1.033e+04     \\\\\n\\textbf{Cov. Estimator:}   &     Unadjusted     & \\textbf{                     }   &                  \\\\\n\\textbf{}                  &                    & \\textbf{  F-statistic:       }   &      554.13      \\\\\n\\textbf{Entities:}         &        1999        & \\textbf{  P-value            }   &      0.0000      \\\\\n\\textbf{Avg Obs:}          &       5.0000       & \\textbf{  Distribution:      }   &    F(11,9984)    \\\\\n\\textbf{Min Obs:}          &       5.0000       & \\textbf{                     }   &                  \\\\\n\\textbf{Max Obs:}          &       5.0000       & \\textbf{  F-statistic (robust):} &      554.13      \\\\\n\\textbf{}                  &                    & \\textbf{  P-value            }   &      0.0000      \\\\\n\\textbf{Time periods:}     &         5          & \\textbf{  Distribution:      }   &    F(11,9984)    \\\\\n\\textbf{Avg Obs:}          &       1999.0       & \\textbf{                     }   &                  \\\\\n\\textbf{Min Obs:}          &       1999.0       & \\textbf{                     }   &                  \\\\\n\\textbf{Max Obs:}          &       1999.0       & \\textbf{                     }   &                  \\\\\n\\textbf{}                  &                    & \\textbf{                     }   &                  \\\\\n\\bottomrule\n\\end{tabular}\n\\begin{tabular}{lcccccc}\n                    & \\textbf{Parameter} & \\textbf{Std. Err.} & \\textbf{T-stat} & \\textbf{P-value} & \\textbf{Lower CI} & \\textbf{Upper CI}  \\\\\n\\midrule\n\\textbf{CSR}        &       0.0047       &     8.929e-05      &      52.822     &      0.0000      &       0.0045      &       0.0049       \\\\\n\\textbf{SIZE}       &      -0.0045       &       0.0003       &     -13.328     &      0.0000      &      -0.0051      &      -0.0038       \\\\\n\\textbf{LEV}        &      -0.0497       &       0.0067       &     -7.3725     &      0.0000      &      -0.0629      &      -0.0365       \\\\\n\\textbf{TOBINQ}     &       0.0045       &       0.0007       &      6.1811     &      0.0000      &       0.0031      &       0.0060       \\\\\n\\textbf{TOP10}      &       0.0007       &     8.611e-05      &      8.1991     &      0.0000      &       0.0005      &       0.0009       \\\\\n\\textbf{SOE}        &       0.0077       &       0.0117       &      0.6587     &      0.5101      &      -0.0153      &       0.0307       \\\\\n\\textbf{IND}        &       0.0111       &       0.0025       &      4.3972     &      0.0000      &       0.0061      &       0.0160       \\\\\n\\textbf{YEAR\\_2017} &       0.0423       &       0.0028       &      14.901     &      0.0000      &       0.0367      &       0.0478       \\\\\n\\textbf{YEAR\\_2018} &       0.0305       &       0.0029       &      10.470     &      0.0000      &       0.0248      &       0.0363       \\\\\n\\textbf{YEAR\\_2019} &       0.0295       &       0.0029       &      10.172     &      0.0000      &       0.0238      &       0.0352       \\\\\n\\textbf{YEAR\\_2020} &       0.0217       &       0.0029       &      7.4629     &      0.0000      &       0.0160      &       0.0275       \\\\\n\\bottomrule\n\\end{tabular}\n%\\caption{RandomEffects Estimation Summary}\n\\end{center}"
     },
     "execution_count": 331,
     "metadata": {},
     "output_type": "execute_result"
    }
   ],
   "source": [
    "from linearmodels import RandomEffects\n",
    "\n",
    "# 建立随机效应模型\n",
    "model_re = RandomEffects(data_with_dummies['BP'],\n",
    "                         data_with_dummies[\n",
    "                             ['CSR', 'SIZE', 'LEV', 'TOBINQ', 'TOP10', 'SOE', 'IND', 'YEAR_2017', 'YEAR_2018',\n",
    "                              'YEAR_2019',\n",
    "                              'YEAR_2020']])\n",
    "# 拟合模型\n",
    "results_re = model_re.fit()\n",
    "# 查看回归结果\n",
    "results_re.summary"
   ]
  },
  {
   "cell_type": "markdown",
   "metadata": {},
   "source": [
    "## 稳健性检验"
   ]
  },
  {
   "cell_type": "code",
   "execution_count": 332,
   "metadata": {
    "ExecuteTime": {
     "end_time": "2023-05-21T01:01:51.408196800Z",
     "start_time": "2023-05-21T01:01:51.392192700Z"
    }
   },
   "outputs": [],
   "source": [
    "# robust_fe_results = model_fe.fit(cov_type='robust')\n",
    "# print(robust_fe_results)"
   ]
  },
  {
   "cell_type": "markdown",
   "metadata": {},
   "source": [
    "## B-P 检验"
   ]
  },
  {
   "cell_type": "code",
   "execution_count": 333,
   "metadata": {
    "ExecuteTime": {
     "end_time": "2023-05-21T01:01:51.451206700Z",
     "start_time": "2023-05-21T01:01:51.412197200Z"
    }
   },
   "outputs": [
    {
     "name": "stdout",
     "output_type": "stream",
     "text": [
      "BP Test Statistic: 362.6050117312324\n",
      "BP p-value: 7.627035157454535e-81\n",
      "BP Test Results: (376.17974414911924, 2.7208331067594167e-82)\n"
     ]
    }
   ],
   "source": [
    "from statsmodels.stats.diagnostic import het_breuschpagan\n",
    "import statsmodels.formula.api as smf\n",
    "\n",
    "# 读取回归模型的残差和预测值读取回归模型的残差和预测值\n",
    "results_ols = smf.ols('BP ~ CSR + SIZE + LEV + SOE + IND + YEAR_2017 + YEAR_2018 + YEAR_2019 + YEAR_2020',\n",
    "                      data=data_with_dummies).fit()\n",
    "residuals = results_ols.resid\n",
    "# residuals = results_re.resids\n",
    "\n",
    "# 获取预测值\n",
    "predicted_values = results_ols.predict()\n",
    "# predicted_values = results_re.predict()\n",
    "\n",
    "# 进行B-P检验\n",
    "bp_test = het_breuschpagan(residuals, sm.add_constant(predicted_values))\n",
    "\n",
    "# 输出B-P检验结果\n",
    "print(\"BP Test Statistic:\", bp_test[0])\n",
    "print(\"BP p-value:\", bp_test[1])\n",
    "print(\"BP Test Results:\", bp_test[2:])"
   ]
  },
  {
   "cell_type": "code",
   "execution_count": 334,
   "outputs": [
    {
     "name": "stdout",
     "output_type": "stream",
     "text": [
      "                            OLS Regression Results                            \n",
      "==============================================================================\n",
      "Dep. Variable:                     BP   R-squared:                       0.317\n",
      "Model:                            OLS   Adj. R-squared:                  0.316\n",
      "Method:                 Least Squares   F-statistic:                     514.7\n",
      "Date:                Sun, 21 May 2023   Prob (F-statistic):               0.00\n",
      "Time:                        09:01:51   Log-Likelihood:                 9482.7\n",
      "No. Observations:                9995   AIC:                        -1.895e+04\n",
      "Df Residuals:                    9985   BIC:                        -1.887e+04\n",
      "Df Model:                           9                                         \n",
      "Covariance Type:            nonrobust                                         \n",
      "==============================================================================\n",
      "                 coef    std err          t      P>|t|      [0.025      0.975]\n",
      "------------------------------------------------------------------------------\n",
      "Intercept     -0.2872      0.019    -15.376      0.000      -0.324      -0.251\n",
      "CSR            0.0050   8.75e-05     56.848      0.000       0.005       0.005\n",
      "SIZE           0.0104      0.001     11.463      0.000       0.009       0.012\n",
      "LEV           -0.0732      0.006    -12.440      0.000      -0.085      -0.062\n",
      "SOE            0.0073      0.010      0.701      0.483      -0.013       0.028\n",
      "IND            0.0215      0.002     10.607      0.000       0.018       0.025\n",
      "YEAR_2017      0.0428      0.003     14.018      0.000       0.037       0.049\n",
      "YEAR_2018      0.0280      0.003      9.097      0.000       0.022       0.034\n",
      "YEAR_2019      0.0265      0.003      8.566      0.000       0.020       0.033\n",
      "YEAR_2020      0.0176      0.003      5.638      0.000       0.011       0.024\n",
      "==============================================================================\n",
      "Omnibus:                     4854.052   Durbin-Watson:                   1.968\n",
      "Prob(Omnibus):                  0.000   Jarque-Bera (JB):            44712.719\n",
      "Skew:                          -2.127   Prob(JB):                         0.00\n",
      "Kurtosis:                      12.448   Cond. No.                         656.\n",
      "==============================================================================\n",
      "\n",
      "Notes:\n",
      "[1] Standard Errors assume that the covariance matrix of the errors is correctly specified.\n"
     ]
    }
   ],
   "source": [
    "print(results_ols.summary())"
   ],
   "metadata": {
    "collapsed": false,
    "ExecuteTime": {
     "end_time": "2023-05-21T01:01:51.462214100Z",
     "start_time": "2023-05-21T01:01:51.444204300Z"
    }
   }
  },
  {
   "cell_type": "markdown",
   "metadata": {},
   "source": [
    "## 进行Hausman检验"
   ]
  },
  {
   "cell_type": "code",
   "execution_count": 335,
   "metadata": {
    "ExecuteTime": {
     "end_time": "2023-05-21T01:01:51.528076500Z",
     "start_time": "2023-05-21T01:01:51.459207200Z"
    }
   },
   "outputs": [
    {
     "name": "stdout",
     "output_type": "stream",
     "text": [
      "                    Model Comparison                    \n",
      "========================================================\n",
      "                                    FE                RE\n",
      "--------------------------------------------------------\n",
      "Dep. Variable                       BP                BP\n",
      "Estimator                     PanelOLS     RandomEffects\n",
      "No. Observations                  9995              9995\n",
      "Cov. Est.                   Unadjusted        Unadjusted\n",
      "R-squared                       0.2664            0.3791\n",
      "R-Squared (Within)              0.2664            0.1952\n",
      "R-Squared (Between)            -396.91            0.6677\n",
      "R-Squared (Overall)            -220.87            0.4583\n",
      "F-statistic                     263.57            554.13\n",
      "P-value (F-stat)                0.0000            0.0000\n",
      "=====================     ============   ===============\n",
      "CSR                             0.0036            0.0047\n",
      "                              (36.061)          (52.822)\n",
      "SIZE                            0.0871           -0.0045\n",
      "                              (20.385)         (-13.328)\n",
      "LEV                            -0.3524           -0.0497\n",
      "                             (-25.109)         (-7.3725)\n",
      "TOBINQ                          0.0074            0.0045\n",
      "                              (7.2949)          (6.1811)\n",
      "TOP10                           0.0005            0.0007\n",
      "                              (2.2502)          (8.1991)\n",
      "SOE                            -0.0490            0.0077\n",
      "                             (-3.1904)          (0.6587)\n",
      "IND                             0.0396            0.0111\n",
      "                              (3.9222)          (4.3972)\n",
      "YEAR_2017                       0.0271            0.0423\n",
      "                              (9.5967)          (14.901)\n",
      "YEAR_2018                       0.0117            0.0305\n",
      "                              (3.8344)          (10.470)\n",
      "YEAR_2019                       0.0041            0.0295\n",
      "                              (1.3039)          (10.172)\n",
      "YEAR_2020                      -0.0100            0.0217\n",
      "                             (-2.9619)          (7.4629)\n",
      "======================= ============== =================\n",
      "Effects                         Entity                  \n",
      "--------------------------------------------------------\n",
      "\n",
      "T-stats reported in parentheses\n"
     ]
    }
   ],
   "source": [
    "# Hausman检验\n",
    "from linearmodels.panel import compare\n",
    "\n",
    "comparison = compare({'FE': results_fe, 'RE': results_re})\n",
    "print(comparison.summary)"
   ]
  },
  {
   "cell_type": "code",
   "execution_count": 336,
   "metadata": {
    "ExecuteTime": {
     "end_time": "2023-05-21T01:01:51.553084200Z",
     "start_time": "2023-05-21T01:01:51.491215600Z"
    }
   },
   "outputs": [
    {
     "name": "stdout",
     "output_type": "stream",
     "text": [
      "chi-Squared: 1109.425582893356\n",
      "degrees of freedom: 11\n",
      "p-Value: 5.300010693286223e-231\n"
     ]
    }
   ],
   "source": [
    "# 1. 运用计量书本上的公式，自编函数， 因为目前 Python 里面没有现成的模块\n",
    "import numpy.linalg as la\n",
    "from scipy import stats\n",
    "\n",
    "\n",
    "def hausman(fe, re):\n",
    "    b = fe.params\n",
    "    B = re.params\n",
    "    v_b = fe.cov\n",
    "    v_B = re.cov\n",
    "    df = b[np.abs(b) < 1e8].size\n",
    "    chi2 = np.dot((b - B).T, la.inv(v_b - v_B).dot(b - B))\n",
    "\n",
    "    pval = stats.chi2.sf(chi2, df)\n",
    "    return chi2, df, pval\n",
    "\n",
    "\n",
    "# 2. 将fe,re结果带入自编函数之中。\n",
    "hausman_results = hausman(results_fe, results_re)\n",
    "print('chi-Squared: ' + str(hausman_results[0]))\n",
    "print('degrees of freedom: ' + str(hausman_results[1]))\n",
    "print('p-Value: ' + str(hausman_results[2]))\n",
    "\n",
    "# 3. 看结果，如果这儿的 p-Value 小于 10%，则支持 固定效应 模型。"
   ]
  },
  {
   "cell_type": "code",
   "execution_count": 337,
   "metadata": {
    "ExecuteTime": {
     "end_time": "2023-05-21T01:01:51.553084200Z",
     "start_time": "2023-05-21T01:01:51.508219Z"
    }
   },
   "outputs": [
    {
     "name": "stdout",
     "output_type": "stream",
     "text": [
      "                 FE        RE  Difference  sqrt(diag(v_fe-v_re))\n",
      "CSR        0.003626  0.004716   -0.001090               0.000046\n",
      "SIZE       0.087054 -0.004485    0.091539               0.004257\n",
      "LEV       -0.352388 -0.049677   -0.302711               0.012311\n",
      "TOBINQ     0.007435  0.004524    0.002911               0.000709\n",
      "TOP10      0.000480  0.000706   -0.000226               0.000195\n",
      "SOE       -0.049012  0.007719   -0.056732               0.009933\n",
      "IND        0.039638  0.011073    0.028565               0.009787\n",
      "YEAR_2017  0.027137  0.042273   -0.015136                    NaN\n",
      "YEAR_2018  0.011747  0.030549   -0.018801               0.000934\n",
      "YEAR_2019  0.004117  0.029493   -0.025376               0.001249\n",
      "YEAR_2020 -0.010047  0.021747   -0.031794               0.001736\n",
      "\n",
      "chi-Squared: 1109.43\n",
      "degrees of freedom: 11\n",
      "p-Value:0.00000\n"
     ]
    },
    {
     "name": "stderr",
     "output_type": "stream",
     "text": [
      "C:\\Users\\HP\\AppData\\Local\\Temp\\ipykernel_27592\\295053973.py:9: RuntimeWarning: invalid value encountered in sqrt\n",
      "  table = pd.DataFrame({'FE': b_fe, 'RE': b_re, 'Difference': b_diff, 'sqrt(diag(v_fe-v_re))': np.sqrt(np.diag(v_diff))})\n"
     ]
    }
   ],
   "source": [
    "b_fe = results_fe.params\n",
    "b_re = results_re.params\n",
    "b_diff = b_fe - b_re\n",
    "v_fe = results_fe.cov\n",
    "v_re = results_re.cov\n",
    "v_diff = v_fe - v_re\n",
    "df = len(b_fe)\n",
    "\n",
    "table = pd.DataFrame({'FE': b_fe, 'RE': b_re, 'Difference': b_diff, 'sqrt(diag(v_fe-v_re))': np.sqrt(np.diag(v_diff))})\n",
    "chi2 = np.dot(b_diff.T, np.linalg.inv(v_diff).dot(b_diff))\n",
    "pval = 1 - stats.chi2.cdf(chi2, df)\n",
    "\n",
    "print(table)\n",
    "print()\n",
    "print(f'chi-Squared: {chi2:.2f}')\n",
    "print(f'degrees of freedom: {df}')\n",
    "print(f'p-Value:{pval:.5f}')"
   ]
  }
 ],
 "metadata": {
  "kernelspec": {
   "display_name": "Python 3 (ipykernel)",
   "language": "python",
   "name": "python3"
  },
  "language_info": {
   "codemirror_mode": {
    "name": "ipython",
    "version": 3
   },
   "file_extension": ".py",
   "mimetype": "text/x-python",
   "name": "python",
   "nbconvert_exporter": "python",
   "pygments_lexer": "ipython3",
   "version": "3.9.5"
  }
 },
 "nbformat": 4,
 "nbformat_minor": 1
}
