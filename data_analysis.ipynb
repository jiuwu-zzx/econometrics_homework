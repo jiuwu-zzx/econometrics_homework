{
 "cells": [
  {
   "cell_type": "markdown",
   "metadata": {},
   "source": [
    "# 数据分析"
   ]
  },
  {
   "cell_type": "code",
   "execution_count": 98,
   "metadata": {
    "collapsed": true,
    "ExecuteTime": {
     "end_time": "2023-05-23T11:15:57.425076400Z",
     "start_time": "2023-05-23T11:15:57.267036900Z"
    }
   },
   "outputs": [],
   "source": [
    "import pandas as pd\n",
    "import numpy as np\n",
    "import statsmodels.api as sm\n",
    "from linearmodels import PanelOLS"
   ]
  },
  {
   "cell_type": "markdown",
   "metadata": {},
   "source": [
    "## 读取数据"
   ]
  },
  {
   "cell_type": "code",
   "execution_count": 99,
   "metadata": {
    "ExecuteTime": {
     "end_time": "2023-05-23T11:15:57.571105200Z",
     "start_time": "2023-05-23T11:15:57.289041Z"
    }
   },
   "outputs": [
    {
     "name": "stdout",
     "output_type": "stream",
     "text": [
      "<class 'pandas.core.frame.DataFrame'>\n",
      "RangeIndex: 10795 entries, 0 to 10794\n",
      "Data columns (total 11 columns):\n",
      " #   Column   Non-Null Count  Dtype  \n",
      "---  ------   --------------  -----  \n",
      " 0   Stk_cd   10795 non-null  int64  \n",
      " 1   YEAR     10795 non-null  int64  \n",
      " 2   BP       10795 non-null  float64\n",
      " 3   CSR      10795 non-null  float64\n",
      " 4   TOP10    10795 non-null  float64\n",
      " 5   SOE_new  10795 non-null  int64  \n",
      " 6   TOBINQ   10795 non-null  float64\n",
      " 7   LEV      10795 non-null  float64\n",
      " 8   SIZE     10795 non-null  float64\n",
      " 9   SOE      10795 non-null  float64\n",
      " 10  IND      10795 non-null  int64  \n",
      "dtypes: float64(7), int64(4)\n",
      "memory usage: 927.8 KB\n"
     ]
    }
   ],
   "source": [
    "# 读取数据\n",
    "df = pd.read_excel(\"./final_data.xls\")\n",
    "# 查看数据概况\n",
    "df.info()"
   ]
  },
  {
   "cell_type": "code",
   "execution_count": 100,
   "metadata": {
    "ExecuteTime": {
     "end_time": "2023-05-23T11:15:57.646118900Z",
     "start_time": "2023-05-23T11:15:57.572105Z"
    }
   },
   "outputs": [
    {
     "name": "stdout",
     "output_type": "stream",
     "text": [
      "       Stk_cd  YEAR       BP    CSR  TOP10  SOE_new    TOBINQ       LEV  \\\n",
      "0           2  2016  19.0279  76.52  57.40        1  1.069010  0.805367   \n",
      "1           2  2017  21.3626  41.87  68.53        1  1.117963  0.839813   \n",
      "2           2  2018  23.3355  41.88  71.70        1  1.015736  0.845856   \n",
      "3           2  2019  21.7825  41.80  64.24        1  1.046272  0.843590   \n",
      "4           2  2020  19.1154  41.74  58.98        1  0.992654  0.812835   \n",
      "...       ...   ...      ...    ...    ...      ...       ...       ...   \n",
      "10790  603999  2016   4.8016  20.06  71.33        1  2.393348  0.124609   \n",
      "10791  603999  2017   4.1547  17.13  68.59        1  1.541950  0.121880   \n",
      "10792  603999  2018   2.3118  15.26  68.83        1  1.528609  0.136092   \n",
      "10793  603999  2019   3.6033  15.45  64.51        1  2.210450  0.151742   \n",
      "10794  603999  2020   4.2531  16.20  64.62        1  1.654336  0.166607   \n",
      "\n",
      "            SIZE  SOE  IND  \n",
      "0      27.445504  0.0    0  \n",
      "1      27.784040  0.0    0  \n",
      "2      28.055360  0.0    0  \n",
      "3      28.179102  0.0    0  \n",
      "4      28.256519  0.0    0  \n",
      "...          ...  ...  ...  \n",
      "10790  21.384553  0.6    0  \n",
      "10791  21.408195  0.6    0  \n",
      "10792  21.417421  0.0    0  \n",
      "10793  21.442878  0.0    0  \n",
      "10794  21.482746  0.0    0  \n",
      "\n",
      "[10795 rows x 11 columns]\n"
     ]
    }
   ],
   "source": [
    "from scipy.stats.mstats import winsorize\n",
    "\n",
    "df['BP'] = winsorize(df['BP'], limits=[0.01, 0.01])\n",
    "print(df)"
   ]
  },
  {
   "cell_type": "code",
   "execution_count": 101,
   "metadata": {
    "ExecuteTime": {
     "end_time": "2023-05-23T11:15:57.673125300Z",
     "start_time": "2023-05-23T11:15:57.605111100Z"
    }
   },
   "outputs": [],
   "source": [
    "# 创建虚拟变量（年份）\n",
    "year_dummies = pd.get_dummies(df['YEAR'], prefix='YEAR', drop_first=True)\n",
    "# 合并虚拟变量到原始数据\n",
    "data_with_dummies = pd.concat([df, year_dummies], axis=1)\n",
    "# 设置双重索引\n",
    "data_with_dummies = data_with_dummies.set_index([\"Stk_cd\", \"YEAR\"])"
   ]
  },
  {
   "cell_type": "code",
   "execution_count": 102,
   "metadata": {
    "ExecuteTime": {
     "end_time": "2023-05-23T11:15:57.674127300Z",
     "start_time": "2023-05-23T11:15:57.623116Z"
    }
   },
   "outputs": [
    {
     "name": "stdout",
     "output_type": "stream",
     "text": [
      "                  BP    CSR  TOP10  SOE_new    TOBINQ       LEV       SIZE  \\\n",
      "Stk_cd YEAR                                                                  \n",
      "2      2016  19.0279  76.52  57.40        1  1.069010  0.805367  27.445504   \n",
      "       2017  21.3626  41.87  68.53        1  1.117963  0.839813  27.784040   \n",
      "       2018  23.3355  41.88  71.70        1  1.015736  0.845856  28.055360   \n",
      "       2019  21.7825  41.80  64.24        1  1.046272  0.843590  28.179102   \n",
      "       2020  19.1154  41.74  58.98        1  0.992654  0.812835  28.256519   \n",
      "...              ...    ...    ...      ...       ...       ...        ...   \n",
      "603999 2016   4.8016  20.06  71.33        1  2.393348  0.124609  21.384553   \n",
      "       2017   4.1547  17.13  68.59        1  1.541950  0.121880  21.408195   \n",
      "       2018   2.3118  15.26  68.83        1  1.528609  0.136092  21.417421   \n",
      "       2019   3.6033  15.45  64.51        1  2.210450  0.151742  21.442878   \n",
      "       2020   4.2531  16.20  64.62        1  1.654336  0.166607  21.482746   \n",
      "\n",
      "             SOE  IND  YEAR_2017  YEAR_2018  YEAR_2019  YEAR_2020  \n",
      "Stk_cd YEAR                                                        \n",
      "2      2016  0.0    0          0          0          0          0  \n",
      "       2017  0.0    0          1          0          0          0  \n",
      "       2018  0.0    0          0          1          0          0  \n",
      "       2019  0.0    0          0          0          1          0  \n",
      "       2020  0.0    0          0          0          0          1  \n",
      "...          ...  ...        ...        ...        ...        ...  \n",
      "603999 2016  0.6    0          0          0          0          0  \n",
      "       2017  0.6    0          1          0          0          0  \n",
      "       2018  0.0    0          0          1          0          0  \n",
      "       2019  0.0    0          0          0          1          0  \n",
      "       2020  0.0    0          0          0          0          1  \n",
      "\n",
      "[10795 rows x 13 columns]\n"
     ]
    }
   ],
   "source": [
    "print(data_with_dummies)"
   ]
  },
  {
   "cell_type": "markdown",
   "metadata": {},
   "source": [
    "## 描述性分析和相关性分析"
   ]
  },
  {
   "cell_type": "code",
   "execution_count": 103,
   "metadata": {
    "ExecuteTime": {
     "end_time": "2023-05-23T11:15:57.779956500Z",
     "start_time": "2023-05-23T11:15:57.651123300Z"
    }
   },
   "outputs": [
    {
     "name": "stdout",
     "output_type": "stream",
     "text": [
      "                 BP           CSR         TOP10       SOE_new        TOBINQ  \\\n",
      "count  10795.000000  10795.000000  10795.000000  10795.000000  10795.000000   \n",
      "mean       5.983683     21.034719     57.030764      0.402501      2.007117   \n",
      "std       12.430816     12.232101     14.610519      0.490425      1.887513   \n",
      "min      -58.259500    -18.450000     14.590000      0.000000      0.673522   \n",
      "25%        2.653300     15.220000     46.490000      0.000000      1.170746   \n",
      "50%        6.600700     20.950000     57.100000      0.000000      1.555917   \n",
      "75%       11.488500     26.160000     67.365000      1.000000      2.231669   \n",
      "max       35.817800     87.020000    100.970000      1.000000     78.751176   \n",
      "\n",
      "                LEV          SIZE           SOE           IND  \n",
      "count  10795.000000  10795.000000  10795.000000  10795.000000  \n",
      "mean       0.432658     22.540144      0.025238      0.637054  \n",
      "std        0.197734      1.331718      0.093531      0.480872  \n",
      "min        0.008359     17.654202      0.000000      0.000000  \n",
      "25%        0.278299     21.641957      0.000000      0.000000  \n",
      "50%        0.426855     22.364880      0.000000      1.000000  \n",
      "75%        0.578399     23.291026      0.000000      1.000000  \n",
      "max        0.994273     28.636491      0.874563      1.000000  \n"
     ]
    }
   ],
   "source": [
    "df = df.set_index([\"Stk_cd\", \"YEAR\"])\n",
    "# 描述性分析\n",
    "print(df.describe())\n",
    "# # 绘制相关性热图\n",
    "# import seaborn as sns\n",
    "# sns.heatmap(df.corr(), annot=True, cmap=\"Blues\")\n",
    "# # 描述性分析\n",
    "# print(data_with_dummies.describe())\n",
    "# # 相关性分析\n",
    "# print(data_with_dummies.corr())\n",
    "# # 绘制相关性热图\n",
    "# import seaborn as sns\n",
    "#\n",
    "# sns.heatmap(data_with_dummies.corr(), annot=True, cmap=\"Blues\")"
   ]
  },
  {
   "cell_type": "code",
   "execution_count": 104,
   "metadata": {
    "ExecuteTime": {
     "end_time": "2023-05-23T11:15:58.715167300Z",
     "start_time": "2023-05-23T11:15:57.697132900Z"
    }
   },
   "outputs": [
    {
     "name": "stdout",
     "output_type": "stream",
     "text": [
      "               BP       CSR     TOP10   SOE_new    TOBINQ       LEV      SIZE  \\\n",
      "BP       1.000000  0.549841  0.206898  0.008559  0.046521 -0.137994  0.178942   \n",
      "CSR      0.549841  1.000000  0.220947  0.081257 -0.003687 -0.078143  0.253733   \n",
      "TOP10    0.206898  0.220947  1.000000  0.072094 -0.051758 -0.008249  0.286073   \n",
      "SOE_new  0.008559  0.081257  0.072094  1.000000 -0.111632  0.247641  0.324386   \n",
      "TOBINQ   0.046521 -0.003687 -0.051758 -0.111632  1.000000 -0.204063 -0.358961   \n",
      "LEV     -0.137994 -0.078143 -0.008249  0.247641 -0.204063  1.000000  0.492756   \n",
      "SIZE     0.178942  0.253733  0.286073  0.324386 -0.358961  0.492756  1.000000   \n",
      "SOE      0.036641  0.063062  0.197864  0.298826 -0.087785  0.104317  0.165915   \n",
      "IND      0.032178 -0.095678 -0.059966 -0.238454  0.070088 -0.206007 -0.218147   \n",
      "\n",
      "              SOE       IND  \n",
      "BP       0.036641  0.032178  \n",
      "CSR      0.063062 -0.095678  \n",
      "TOP10    0.197864 -0.059966  \n",
      "SOE_new  0.298826 -0.238454  \n",
      "TOBINQ  -0.087785  0.070088  \n",
      "LEV      0.104317 -0.206007  \n",
      "SIZE     0.165915 -0.218147  \n",
      "SOE      1.000000 -0.111598  \n",
      "IND     -0.111598  1.000000  \n"
     ]
    },
    {
     "data": {
      "text/plain": "<Figure size 453.543x340.157 with 2 Axes>",
      "image/png": "[encoded data removed]"
     },
     "metadata": {},
     "output_type": "display_data"
    }
   ],
   "source": [
    "# 相关性分析\n",
    "print(df.corr())\n",
    "# here put the import lib\n",
    "import pandas as pd\n",
    "import seaborn as sns\n",
    "import matplotlib.pyplot as plt\n",
    "import numpy as np\n",
    "from scipy.stats import pearsonr\n",
    "import matplotlib as mpl\n",
    "\n",
    "\n",
    "def cm2inch(x, y):\n",
    "    return x / 2.54, y / 2.54\n",
    "\n",
    "\n",
    "size1 = 10.5\n",
    "mpl.rcParams.update(\n",
    "    {\n",
    "        'text.usetex': False,\n",
    "        'font.family': 'stixgeneral',\n",
    "        'mathtext.fontset': 'stix',\n",
    "        \"font.family\": 'serif',\n",
    "        \"font.size\": size1,\n",
    "        \"font.serif\": ['Times New Roman'],\n",
    "    }\n",
    ")\n",
    "fontdict = {'weight': 'bold', 'size': size1, 'family': 'SimHei'}\n",
    "\n",
    "df_coor = df.corr()\n",
    "fig = plt.figure(figsize=(cm2inch(16, 12)))\n",
    "ax1 = plt.gca()\n",
    "\n",
    "#构造mask，去除重复数据显示\n",
    "mask = np.zeros_like(df_coor)\n",
    "mask[np.triu_indices_from(mask)] = True\n",
    "mask2 = mask\n",
    "mask = (np.flipud(mask) - 1) * (-1)\n",
    "mask = np.rot90(mask, k=-1)\n",
    "\n",
    "im1 = sns.heatmap(df_coor, annot=True, cmap=\"RdBu\"\n",
    "                  , mask=mask  #构造mask，去除重复数据显示\n",
    "                  , vmax=1, vmin=-1\n",
    "                  , fmt='.2f', ax=ax1)\n",
    "\n",
    "ax1.tick_params(axis='both', length=0)\n",
    "\n",
    "#计算相关性显著性并显示\n",
    "rlist = []\n",
    "plist = []\n",
    "for i in df.columns.values:\n",
    "    for j in df.columns.values:\n",
    "        r, p = pearsonr(df[i], df[j])\n",
    "        rlist.append(r)\n",
    "        plist.append(p)\n",
    "\n",
    "rarr = np.asarray(rlist).reshape(len(df.columns.values), len(df.columns.values))\n",
    "parr = np.asarray(plist).reshape(len(df.columns.values), len(df.columns.values))\n",
    "xlist = ax1.get_xticks()\n",
    "ylist = ax1.get_yticks()\n",
    "\n",
    "widthx = 0\n",
    "widthy = -0.15\n",
    "\n",
    "for m in ax1.get_xticks():\n",
    "    for n in ax1.get_yticks():\n",
    "        pv = (parr[int(m), int(n)])\n",
    "        rv = (rarr[int(m), int(n)])\n",
    "        if mask2[int(m), int(n)] < 1.:\n",
    "            if abs(rv) > 0.5:\n",
    "                if pv < 0.05 and pv >= 0.01:\n",
    "                    ax1.text(n + widthx, m + widthy, '*', ha='center', color='white')\n",
    "                if pv < 0.01 and pv >= 0.001:\n",
    "                    ax1.text(n + widthx, m + widthy, '**', ha='center', color='white')\n",
    "                if pv < 0.001:\n",
    "                    # print([int(m),int(n)])\n",
    "                    ax1.text(n + widthx, m + widthy, '***', ha='center', color='white')\n",
    "            else:\n",
    "                if pv < 0.05 and pv >= 0.01:\n",
    "                    ax1.text(n + widthx, m + widthy, '*', ha='center', color='k')\n",
    "                elif pv < 0.01 and pv >= 0.001:\n",
    "                    ax1.text(n + widthx, m + widthy, '**', ha='center', color='k')\n",
    "                elif pv < 0.001:\n",
    "                    ax1.text(n + widthx, m + widthy, '***', ha='center', color='k')\n",
    "plt.savefig(r'D:\\学期\\大三春\\计量经济学\\大作业\\成品\\fig\\r_demo.png', dpi=600)\n",
    "plt.show()"
   ]
  },
  {
   "cell_type": "markdown",
   "metadata": {},
   "source": [
    "## 固定效应模型"
   ]
  },
  {
   "cell_type": "code",
   "execution_count": 105,
   "metadata": {
    "ExecuteTime": {
     "end_time": "2023-05-23T11:15:58.824993500Z",
     "start_time": "2023-05-23T11:15:58.717170200Z"
    }
   },
   "outputs": [
    {
     "data": {
      "text/plain": "<class 'linearmodels.compat.statsmodels.Summary'>\n\"\"\"\n                          PanelOLS Estimation Summary                           \n================================================================================\nDep. Variable:                     BP   R-squared:                        0.2825\nEstimator:                   PanelOLS   R-squared (Between):             -317.22\nNo. Observations:               10795   R-squared (Within):               0.2825\nDate:                Tue, May 23 2023   R-squared (Overall):             -170.86\nTime:                        19:15:58   Log-likelihood                -3.768e+04\nCov. Estimator:            Unadjusted                                           \n                                        F-statistic:                      308.73\nEntities:                        2159   P-value                           0.0000\nAvg Obs:                       5.0000   Distribution:                 F(11,8625)\nMin Obs:                       5.0000                                           \nMax Obs:                       5.0000   F-statistic (robust):             308.73\n                                        P-value                           0.0000\nTime periods:                       5   Distribution:                 F(11,8625)\nAvg Obs:                       2159.0                                           \nMin Obs:                       2159.0                                           \nMax Obs:                       2159.0                                           \n                                                                                \n                             Parameter Estimates                              \n==============================================================================\n            Parameter  Std. Err.     T-stat    P-value    Lower CI    Upper CI\n------------------------------------------------------------------------------\nCSR            0.4181     0.0104     40.346     0.0000      0.3978      0.4384\nSIZE           8.2843     0.4198     19.733     0.0000      7.4613      9.1072\nLEV           -37.968     1.3961    -27.195     0.0000     -40.705     -35.232\nTOBINQ         0.3172     0.0822     3.8579     0.0001      0.1560      0.4784\nTOP10          0.0640     0.0217     2.9488     0.0032      0.0215      0.1066\nSOE           -5.3906     1.5585    -3.4588     0.0005     -8.4456     -2.3355\nIND            3.3530     0.9818     3.4153     0.0006      1.4286      5.2775\nYEAR_2017      3.0896     0.2915     10.600     0.0000      2.5182      3.6609\nYEAR_2018      1.1486     0.3102     3.7023     0.0002      0.5405      1.7567\nYEAR_2019      0.6532     0.3187     2.0493     0.0405      0.0284      1.2780\nYEAR_2020      0.1108     0.3391     0.3269     0.7438     -0.5539      0.7756\n==============================================================================\n\nF-test for Poolability: 2.3628\nP-value: 0.0000\nDistribution: F(2158,8625)\n\nIncluded effects: Entity\n\"\"\"",
      "text/html": "<table class=\"simpletable\">\n<caption>PanelOLS Estimation Summary</caption>\n<tr>\n  <th>Dep. Variable:</th>           <td>BP</td>        <th>  R-squared:         </th>     <td>0.2825</td>  \n</tr>\n<tr>\n  <th>Estimator:</th>            <td>PanelOLS</td>     <th>  R-squared (Between):</th>    <td>-317.22</td> \n</tr>\n<tr>\n  <th>No. Observations:</th>       <td>10795</td>      <th>  R-squared (Within):</th>     <td>0.2825</td>  \n</tr>\n<tr>\n  <th>Date:</th>             <td>Tue, May 23 2023</td> <th>  R-squared (Overall):</th>    <td>-170.86</td> \n</tr>\n<tr>\n  <th>Time:</th>                 <td>19:15:58</td>     <th>  Log-likelihood     </th>   <td>-3.768e+04</td>\n</tr>\n<tr>\n  <th>Cov. Estimator:</th>      <td>Unadjusted</td>    <th>                     </th>        <td></td>     \n</tr>\n<tr>\n  <th></th>                          <td></td>         <th>  F-statistic:       </th>     <td>308.73</td>  \n</tr>\n<tr>\n  <th>Entities:</th>               <td>2159</td>       <th>  P-value            </th>     <td>0.0000</td>  \n</tr>\n<tr>\n  <th>Avg Obs:</th>               <td>5.0000</td>      <th>  Distribution:      </th>   <td>F(11,8625)</td>\n</tr>\n<tr>\n  <th>Min Obs:</th>               <td>5.0000</td>      <th>                     </th>        <td></td>     \n</tr>\n<tr>\n  <th>Max Obs:</th>               <td>5.0000</td>      <th>  F-statistic (robust):</th>   <td>308.73</td>  \n</tr>\n<tr>\n  <th></th>                          <td></td>         <th>  P-value            </th>     <td>0.0000</td>  \n</tr>\n<tr>\n  <th>Time periods:</th>             <td>5</td>        <th>  Distribution:      </th>   <td>F(11,8625)</td>\n</tr>\n<tr>\n  <th>Avg Obs:</th>               <td>2159.0</td>      <th>                     </th>        <td></td>     \n</tr>\n<tr>\n  <th>Min Obs:</th>               <td>2159.0</td>      <th>                     </th>        <td></td>     \n</tr>\n<tr>\n  <th>Max Obs:</th>               <td>2159.0</td>      <th>                     </th>        <td></td>     \n</tr>\n<tr>\n  <th></th>                          <td></td>         <th>                     </th>        <td></td>     \n</tr>\n</table>\n<table class=\"simpletable\">\n<caption>Parameter Estimates</caption>\n<tr>\n      <td></td>      <th>Parameter</th> <th>Std. Err.</th> <th>T-stat</th>  <th>P-value</th> <th>Lower CI</th> <th>Upper CI</th>\n</tr>\n<tr>\n  <th>CSR</th>        <td>0.4181</td>    <td>0.0104</td>   <td>40.346</td>  <td>0.0000</td>   <td>0.3978</td>   <td>0.4384</td> \n</tr>\n<tr>\n  <th>SIZE</th>       <td>8.2843</td>    <td>0.4198</td>   <td>19.733</td>  <td>0.0000</td>   <td>7.4613</td>   <td>9.1072</td> \n</tr>\n<tr>\n  <th>LEV</th>        <td>-37.968</td>   <td>1.3961</td>   <td>-27.195</td> <td>0.0000</td>   <td>-40.705</td>  <td>-35.232</td>\n</tr>\n<tr>\n  <th>TOBINQ</th>     <td>0.3172</td>    <td>0.0822</td>   <td>3.8579</td>  <td>0.0001</td>   <td>0.1560</td>   <td>0.4784</td> \n</tr>\n<tr>\n  <th>TOP10</th>      <td>0.0640</td>    <td>0.0217</td>   <td>2.9488</td>  <td>0.0032</td>   <td>0.0215</td>   <td>0.1066</td> \n</tr>\n<tr>\n  <th>SOE</th>        <td>-5.3906</td>   <td>1.5585</td>   <td>-3.4588</td> <td>0.0005</td>   <td>-8.4456</td>  <td>-2.3355</td>\n</tr>\n<tr>\n  <th>IND</th>        <td>3.3530</td>    <td>0.9818</td>   <td>3.4153</td>  <td>0.0006</td>   <td>1.4286</td>   <td>5.2775</td> \n</tr>\n<tr>\n  <th>YEAR_2017</th>  <td>3.0896</td>    <td>0.2915</td>   <td>10.600</td>  <td>0.0000</td>   <td>2.5182</td>   <td>3.6609</td> \n</tr>\n<tr>\n  <th>YEAR_2018</th>  <td>1.1486</td>    <td>0.3102</td>   <td>3.7023</td>  <td>0.0002</td>   <td>0.5405</td>   <td>1.7567</td> \n</tr>\n<tr>\n  <th>YEAR_2019</th>  <td>0.6532</td>    <td>0.3187</td>   <td>2.0493</td>  <td>0.0405</td>   <td>0.0284</td>   <td>1.2780</td> \n</tr>\n<tr>\n  <th>YEAR_2020</th>  <td>0.1108</td>    <td>0.3391</td>   <td>0.3269</td>  <td>0.7438</td>   <td>-0.5539</td>  <td>0.7756</td> \n</tr>\n</table><br/><br/>F-test for Poolability: 2.3628<br/>P-value: 0.0000<br/>Distribution: F(2158,8625)<br/><br/>Included effects: Entity",
      "text/latex": "\\begin{center}\n\\begin{tabular}{lclc}\n\\toprule\n\\textbf{Dep. Variable:}    &         BP         & \\textbf{  R-squared:         }   &      0.2825      \\\\\n\\textbf{Estimator:}        &      PanelOLS      & \\textbf{  R-squared (Between):}  &     -317.22      \\\\\n\\textbf{No. Observations:} &       10795        & \\textbf{  R-squared (Within):}   &      0.2825      \\\\\n\\textbf{Date:}             &  Tue, May 23 2023  & \\textbf{  R-squared (Overall):}  &     -170.86      \\\\\n\\textbf{Time:}             &      19:15:58      & \\textbf{  Log-likelihood     }   &    -3.768e+04    \\\\\n\\textbf{Cov. Estimator:}   &     Unadjusted     & \\textbf{                     }   &                  \\\\\n\\textbf{}                  &                    & \\textbf{  F-statistic:       }   &      308.73      \\\\\n\\textbf{Entities:}         &        2159        & \\textbf{  P-value            }   &      0.0000      \\\\\n\\textbf{Avg Obs:}          &       5.0000       & \\textbf{  Distribution:      }   &    F(11,8625)    \\\\\n\\textbf{Min Obs:}          &       5.0000       & \\textbf{                     }   &                  \\\\\n\\textbf{Max Obs:}          &       5.0000       & \\textbf{  F-statistic (robust):} &      308.73      \\\\\n\\textbf{}                  &                    & \\textbf{  P-value            }   &      0.0000      \\\\\n\\textbf{Time periods:}     &         5          & \\textbf{  Distribution:      }   &    F(11,8625)    \\\\\n\\textbf{Avg Obs:}          &       2159.0       & \\textbf{                     }   &                  \\\\\n\\textbf{Min Obs:}          &       2159.0       & \\textbf{                     }   &                  \\\\\n\\textbf{Max Obs:}          &       2159.0       & \\textbf{                     }   &                  \\\\\n\\textbf{}                  &                    & \\textbf{                     }   &                  \\\\\n\\bottomrule\n\\end{tabular}\n\\begin{tabular}{lcccccc}\n                    & \\textbf{Parameter} & \\textbf{Std. Err.} & \\textbf{T-stat} & \\textbf{P-value} & \\textbf{Lower CI} & \\textbf{Upper CI}  \\\\\n\\midrule\n\\textbf{CSR}        &       0.4181       &       0.0104       &      40.346     &      0.0000      &       0.3978      &       0.4384       \\\\\n\\textbf{SIZE}       &       8.2843       &       0.4198       &      19.733     &      0.0000      &       7.4613      &       9.1072       \\\\\n\\textbf{LEV}        &      -37.968       &       1.3961       &     -27.195     &      0.0000      &      -40.705      &      -35.232       \\\\\n\\textbf{TOBINQ}     &       0.3172       &       0.0822       &      3.8579     &      0.0001      &       0.1560      &       0.4784       \\\\\n\\textbf{TOP10}      &       0.0640       &       0.0217       &      2.9488     &      0.0032      &       0.0215      &       0.1066       \\\\\n\\textbf{SOE}        &      -5.3906       &       1.5585       &     -3.4588     &      0.0005      &      -8.4456      &      -2.3355       \\\\\n\\textbf{IND}        &       3.3530       &       0.9818       &      3.4153     &      0.0006      &       1.4286      &       5.2775       \\\\\n\\textbf{YEAR\\_2017} &       3.0896       &       0.2915       &      10.600     &      0.0000      &       2.5182      &       3.6609       \\\\\n\\textbf{YEAR\\_2018} &       1.1486       &       0.3102       &      3.7023     &      0.0002      &       0.5405      &       1.7567       \\\\\n\\textbf{YEAR\\_2019} &       0.6532       &       0.3187       &      2.0493     &      0.0405      &       0.0284      &       1.2780       \\\\\n\\textbf{YEAR\\_2020} &       0.1108       &       0.3391       &      0.3269     &      0.7438      &      -0.5539      &       0.7756       \\\\\n\\bottomrule\n\\end{tabular}\n%\\caption{PanelOLS Estimation Summary}\n\\end{center}\n\nF-test for Poolability: 2.3628 \\newline\n P-value: 0.0000 \\newline\n Distribution: F(2158,8625) \\newline\n  \\newline\n Included effects: Entity"
     },
     "execution_count": 105,
     "metadata": {},
     "output_type": "execute_result"
    }
   ],
   "source": [
    "# 建立固定效应模型\n",
    "model_fe = PanelOLS(data_with_dummies['BP'],\n",
    "                    data_with_dummies[\n",
    "                        ['CSR', 'SIZE', 'LEV', 'TOBINQ', 'TOP10', 'SOE', 'IND', 'YEAR_2017', 'YEAR_2018',\n",
    "                         'YEAR_2019', 'YEAR_2020']],\n",
    "                    entity_effects=True)  # 使用entity_effects参数启用固定效应\n",
    "# 拟合模型\n",
    "results_fe = model_fe.fit()\n",
    "# 查看回归结果\n",
    "results_fe.summary"
   ]
  },
  {
   "cell_type": "markdown",
   "metadata": {},
   "source": [
    "## 随机效应模型"
   ]
  },
  {
   "cell_type": "code",
   "execution_count": 106,
   "metadata": {
    "ExecuteTime": {
     "end_time": "2023-05-23T11:15:58.952398900Z",
     "start_time": "2023-05-23T11:15:58.829991700Z"
    }
   },
   "outputs": [
    {
     "data": {
      "text/plain": "<class 'linearmodels.compat.statsmodels.Summary'>\n\"\"\"\n                        RandomEffects Estimation Summary                        \n================================================================================\nDep. Variable:                     BP   R-squared:                        0.3816\nEstimator:              RandomEffects   R-squared (Between):              0.6559\nNo. Observations:               10795   R-squared (Within):               0.2181\nDate:                Tue, May 23 2023   R-squared (Overall):              0.4541\nTime:                        19:15:58   Log-likelihood                 -3.94e+04\nCov. Estimator:            Unadjusted                                           \n                                        F-statistic:                      604.93\nEntities:                        2159   P-value                           0.0000\nAvg Obs:                       5.0000   Distribution:                F(11,10784)\nMin Obs:                       5.0000                                           \nMax Obs:                       5.0000   F-statistic (robust):             604.93\n                                        P-value                           0.0000\nTime periods:                       5   Distribution:                F(11,10784)\nAvg Obs:                       2159.0                                           \nMin Obs:                       2159.0                                           \nMax Obs:                       2159.0                                           \n                                                                                \n                             Parameter Estimates                              \n==============================================================================\n            Parameter  Std. Err.     T-stat    P-value    Lower CI    Upper CI\n------------------------------------------------------------------------------\nCSR            0.5283     0.0091     57.764     0.0000      0.5103      0.5462\nSIZE          -0.4176     0.0343    -12.169     0.0000     -0.4849     -0.3504\nLEV           -7.5505     0.6759    -11.171     0.0000     -8.8753     -6.2256\nTOBINQ         0.1125     0.0588     1.9134     0.0557     -0.0027      0.2277\nTOP10          0.0717     0.0089     8.0399     0.0000      0.0542      0.0892\nSOE            0.8432     1.1879     0.7098     0.4779     -1.4854      3.1717\nIND            1.1241     0.2603     4.3181     0.0000      0.6138      1.6343\nYEAR_2017      4.4889     0.2940     15.271     0.0000      3.9127      5.0651\nYEAR_2018      2.8579     0.3007     9.5041     0.0000      2.2684      3.4473\nYEAR_2019      2.8420     0.2998     9.4805     0.0000      2.2544      3.4297\nYEAR_2020      2.8701     0.3011     9.5336     0.0000      2.2800      3.4602\n==============================================================================\n\"\"\"",
      "text/html": "<table class=\"simpletable\">\n<caption>RandomEffects Estimation Summary</caption>\n<tr>\n  <th>Dep. Variable:</th>           <td>BP</td>        <th>  R-squared:         </th>     <td>0.3816</td>   \n</tr>\n<tr>\n  <th>Estimator:</th>          <td>RandomEffects</td>  <th>  R-squared (Between):</th>    <td>0.6559</td>   \n</tr>\n<tr>\n  <th>No. Observations:</th>       <td>10795</td>      <th>  R-squared (Within):</th>     <td>0.2181</td>   \n</tr>\n<tr>\n  <th>Date:</th>             <td>Tue, May 23 2023</td> <th>  R-squared (Overall):</th>    <td>0.4541</td>   \n</tr>\n<tr>\n  <th>Time:</th>                 <td>19:15:58</td>     <th>  Log-likelihood     </th>    <td>-3.94e+04</td> \n</tr>\n<tr>\n  <th>Cov. Estimator:</th>      <td>Unadjusted</td>    <th>                     </th>        <td></td>      \n</tr>\n<tr>\n  <th></th>                          <td></td>         <th>  F-statistic:       </th>     <td>604.93</td>   \n</tr>\n<tr>\n  <th>Entities:</th>               <td>2159</td>       <th>  P-value            </th>     <td>0.0000</td>   \n</tr>\n<tr>\n  <th>Avg Obs:</th>               <td>5.0000</td>      <th>  Distribution:      </th>   <td>F(11,10784)</td>\n</tr>\n<tr>\n  <th>Min Obs:</th>               <td>5.0000</td>      <th>                     </th>        <td></td>      \n</tr>\n<tr>\n  <th>Max Obs:</th>               <td>5.0000</td>      <th>  F-statistic (robust):</th>   <td>604.93</td>   \n</tr>\n<tr>\n  <th></th>                          <td></td>         <th>  P-value            </th>     <td>0.0000</td>   \n</tr>\n<tr>\n  <th>Time periods:</th>             <td>5</td>        <th>  Distribution:      </th>   <td>F(11,10784)</td>\n</tr>\n<tr>\n  <th>Avg Obs:</th>               <td>2159.0</td>      <th>                     </th>        <td></td>      \n</tr>\n<tr>\n  <th>Min Obs:</th>               <td>2159.0</td>      <th>                     </th>        <td></td>      \n</tr>\n<tr>\n  <th>Max Obs:</th>               <td>2159.0</td>      <th>                     </th>        <td></td>      \n</tr>\n<tr>\n  <th></th>                          <td></td>         <th>                     </th>        <td></td>      \n</tr>\n</table>\n<table class=\"simpletable\">\n<caption>Parameter Estimates</caption>\n<tr>\n      <td></td>      <th>Parameter</th> <th>Std. Err.</th> <th>T-stat</th>  <th>P-value</th> <th>Lower CI</th> <th>Upper CI</th>\n</tr>\n<tr>\n  <th>CSR</th>        <td>0.5283</td>    <td>0.0091</td>   <td>57.764</td>  <td>0.0000</td>   <td>0.5103</td>   <td>0.5462</td> \n</tr>\n<tr>\n  <th>SIZE</th>       <td>-0.4176</td>   <td>0.0343</td>   <td>-12.169</td> <td>0.0000</td>   <td>-0.4849</td>  <td>-0.3504</td>\n</tr>\n<tr>\n  <th>LEV</th>        <td>-7.5505</td>   <td>0.6759</td>   <td>-11.171</td> <td>0.0000</td>   <td>-8.8753</td>  <td>-6.2256</td>\n</tr>\n<tr>\n  <th>TOBINQ</th>     <td>0.1125</td>    <td>0.0588</td>   <td>1.9134</td>  <td>0.0557</td>   <td>-0.0027</td>  <td>0.2277</td> \n</tr>\n<tr>\n  <th>TOP10</th>      <td>0.0717</td>    <td>0.0089</td>   <td>8.0399</td>  <td>0.0000</td>   <td>0.0542</td>   <td>0.0892</td> \n</tr>\n<tr>\n  <th>SOE</th>        <td>0.8432</td>    <td>1.1879</td>   <td>0.7098</td>  <td>0.4779</td>   <td>-1.4854</td>  <td>3.1717</td> \n</tr>\n<tr>\n  <th>IND</th>        <td>1.1241</td>    <td>0.2603</td>   <td>4.3181</td>  <td>0.0000</td>   <td>0.6138</td>   <td>1.6343</td> \n</tr>\n<tr>\n  <th>YEAR_2017</th>  <td>4.4889</td>    <td>0.2940</td>   <td>15.271</td>  <td>0.0000</td>   <td>3.9127</td>   <td>5.0651</td> \n</tr>\n<tr>\n  <th>YEAR_2018</th>  <td>2.8579</td>    <td>0.3007</td>   <td>9.5041</td>  <td>0.0000</td>   <td>2.2684</td>   <td>3.4473</td> \n</tr>\n<tr>\n  <th>YEAR_2019</th>  <td>2.8420</td>    <td>0.2998</td>   <td>9.4805</td>  <td>0.0000</td>   <td>2.2544</td>   <td>3.4297</td> \n</tr>\n<tr>\n  <th>YEAR_2020</th>  <td>2.8701</td>    <td>0.3011</td>   <td>9.5336</td>  <td>0.0000</td>   <td>2.2800</td>   <td>3.4602</td> \n</tr>\n</table>",
      "text/latex": "\\begin{center}\n\\begin{tabular}{lclc}\n\\toprule\n\\textbf{Dep. Variable:}    &         BP         & \\textbf{  R-squared:         }   &      0.3816      \\\\\n\\textbf{Estimator:}        &   RandomEffects    & \\textbf{  R-squared (Between):}  &      0.6559      \\\\\n\\textbf{No. Observations:} &       10795        & \\textbf{  R-squared (Within):}   &      0.2181      \\\\\n\\textbf{Date:}             &  Tue, May 23 2023  & \\textbf{  R-squared (Overall):}  &      0.4541      \\\\\n\\textbf{Time:}             &      19:15:58      & \\textbf{  Log-likelihood     }   &    -3.94e+04     \\\\\n\\textbf{Cov. Estimator:}   &     Unadjusted     & \\textbf{                     }   &                  \\\\\n\\textbf{}                  &                    & \\textbf{  F-statistic:       }   &      604.93      \\\\\n\\textbf{Entities:}         &        2159        & \\textbf{  P-value            }   &      0.0000      \\\\\n\\textbf{Avg Obs:}          &       5.0000       & \\textbf{  Distribution:      }   &   F(11,10784)    \\\\\n\\textbf{Min Obs:}          &       5.0000       & \\textbf{                     }   &                  \\\\\n\\textbf{Max Obs:}          &       5.0000       & \\textbf{  F-statistic (robust):} &      604.93      \\\\\n\\textbf{}                  &                    & \\textbf{  P-value            }   &      0.0000      \\\\\n\\textbf{Time periods:}     &         5          & \\textbf{  Distribution:      }   &   F(11,10784)    \\\\\n\\textbf{Avg Obs:}          &       2159.0       & \\textbf{                     }   &                  \\\\\n\\textbf{Min Obs:}          &       2159.0       & \\textbf{                     }   &                  \\\\\n\\textbf{Max Obs:}          &       2159.0       & \\textbf{                     }   &                  \\\\\n\\textbf{}                  &                    & \\textbf{                     }   &                  \\\\\n\\bottomrule\n\\end{tabular}\n\\begin{tabular}{lcccccc}\n                    & \\textbf{Parameter} & \\textbf{Std. Err.} & \\textbf{T-stat} & \\textbf{P-value} & \\textbf{Lower CI} & \\textbf{Upper CI}  \\\\\n\\midrule\n\\textbf{CSR}        &       0.5283       &       0.0091       &      57.764     &      0.0000      &       0.5103      &       0.5462       \\\\\n\\textbf{SIZE}       &      -0.4176       &       0.0343       &     -12.169     &      0.0000      &      -0.4849      &      -0.3504       \\\\\n\\textbf{LEV}        &      -7.5505       &       0.6759       &     -11.171     &      0.0000      &      -8.8753      &      -6.2256       \\\\\n\\textbf{TOBINQ}     &       0.1125       &       0.0588       &      1.9134     &      0.0557      &      -0.0027      &       0.2277       \\\\\n\\textbf{TOP10}      &       0.0717       &       0.0089       &      8.0399     &      0.0000      &       0.0542      &       0.0892       \\\\\n\\textbf{SOE}        &       0.8432       &       1.1879       &      0.7098     &      0.4779      &      -1.4854      &       3.1717       \\\\\n\\textbf{IND}        &       1.1241       &       0.2603       &      4.3181     &      0.0000      &       0.6138      &       1.6343       \\\\\n\\textbf{YEAR\\_2017} &       4.4889       &       0.2940       &      15.271     &      0.0000      &       3.9127      &       5.0651       \\\\\n\\textbf{YEAR\\_2018} &       2.8579       &       0.3007       &      9.5041     &      0.0000      &       2.2684      &       3.4473       \\\\\n\\textbf{YEAR\\_2019} &       2.8420       &       0.2998       &      9.4805     &      0.0000      &       2.2544      &       3.4297       \\\\\n\\textbf{YEAR\\_2020} &       2.8701       &       0.3011       &      9.5336     &      0.0000      &       2.2800      &       3.4602       \\\\\n\\bottomrule\n\\end{tabular}\n%\\caption{RandomEffects Estimation Summary}\n\\end{center}"
     },
     "execution_count": 106,
     "metadata": {},
     "output_type": "execute_result"
    }
   ],
   "source": [
    "from linearmodels import RandomEffects\n",
    "\n",
    "# 建立随机效应模型\n",
    "model_re = RandomEffects(data_with_dummies['BP'],\n",
    "                         data_with_dummies[\n",
    "                             ['CSR', 'SIZE', 'LEV', 'TOBINQ', 'TOP10', 'SOE', 'IND', 'YEAR_2017', 'YEAR_2018',\n",
    "                              'YEAR_2019',\n",
    "                              'YEAR_2020']])\n",
    "# 拟合模型\n",
    "results_re = model_re.fit()\n",
    "# 查看回归结果\n",
    "results_re.summary"
   ]
  },
  {
   "cell_type": "markdown",
   "metadata": {},
   "source": [
    "## B-P 检验"
   ]
  },
  {
   "cell_type": "code",
   "execution_count": 107,
   "metadata": {
    "ExecuteTime": {
     "end_time": "2023-05-23T11:15:59.032416900Z",
     "start_time": "2023-05-23T11:15:58.954399800Z"
    }
   },
   "outputs": [
    {
     "name": "stdout",
     "output_type": "stream",
     "text": [
      "BP Test Statistic: 356.44270497203314\n",
      "BP p-value: 1.6756575613356534e-79\n",
      "BP Test Results: (368.5457679669555, 8.55340232818948e-81)\n"
     ]
    }
   ],
   "source": [
    "from statsmodels.stats.diagnostic import het_breuschpagan\n",
    "import statsmodels.formula.api as smf\n",
    "\n",
    "# 读取回归模型的残差和预测值读取回归模型的残差和预测值\n",
    "results_ols = smf.ols('BP ~ CSR + SIZE + LEV + SOE + IND + YEAR_2017 + YEAR_2018 + YEAR_2019 + YEAR_2020',\n",
    "                      data=data_with_dummies).fit()\n",
    "residuals = results_ols.resid\n",
    "# residuals = results_re.resids\n",
    "\n",
    "# 获取预测值\n",
    "predicted_values = results_ols.predict()\n",
    "# predicted_values = results_re.predict()\n",
    "\n",
    "# 进行B-P检验\n",
    "bp_test = het_breuschpagan(residuals, sm.add_constant(predicted_values))\n",
    "\n",
    "# 输出B-P检验结果\n",
    "print(\"BP Test Statistic:\", bp_test[0])\n",
    "print(\"BP p-value:\", bp_test[1])\n",
    "print(\"BP Test Results:\", bp_test[2:])"
   ]
  },
  {
   "cell_type": "code",
   "execution_count": 108,
   "outputs": [
    {
     "name": "stdout",
     "output_type": "stream",
     "text": [
      "                            OLS Regression Results                            \n",
      "==============================================================================\n",
      "Dep. Variable:                     BP   R-squared:                       0.343\n",
      "Model:                            OLS   Adj. R-squared:                  0.342\n",
      "Method:                 Least Squares   F-statistic:                     624.5\n",
      "Date:                Tue, 23 May 2023   Prob (F-statistic):               0.00\n",
      "Time:                        19:15:58   Log-Likelihood:                -40258.\n",
      "No. Observations:               10795   AIC:                         8.054e+04\n",
      "Df Residuals:                   10785   BIC:                         8.061e+04\n",
      "Df Model:                           9                                         \n",
      "Covariance Type:            nonrobust                                         \n",
      "==============================================================================\n",
      "                 coef    std err          t      P>|t|      [0.025      0.975]\n",
      "------------------------------------------------------------------------------\n",
      "Intercept    -31.7764      1.891    -16.805      0.000     -35.483     -28.070\n",
      "CSR            0.5493      0.009     61.539      0.000       0.532       0.567\n",
      "SIZE           1.1602      0.091     12.687      0.000       0.981       1.339\n",
      "LEV           -8.9945      0.588    -15.302      0.000     -10.147      -7.842\n",
      "SOE            0.9824      1.060      0.927      0.354      -1.095       3.060\n",
      "IND            2.1459      0.209     10.248      0.000       1.735       2.556\n",
      "YEAR_2017      4.6483      0.315     14.753      0.000       4.031       5.266\n",
      "YEAR_2018      2.8645      0.318      9.018      0.000       2.242       3.487\n",
      "YEAR_2019      2.7158      0.319      8.519      0.000       2.091       3.341\n",
      "YEAR_2020      2.5495      0.321      7.953      0.000       1.921       3.178\n",
      "==============================================================================\n",
      "Omnibus:                     3885.612   Durbin-Watson:                   1.599\n",
      "Prob(Omnibus):                  0.000   Jarque-Bera (JB):            25795.158\n",
      "Skew:                          -1.571   Prob(JB):                         0.00\n",
      "Kurtosis:                       9.890   Cond. No.                         633.\n",
      "==============================================================================\n",
      "\n",
      "Notes:\n",
      "[1] Standard Errors assume that the covariance matrix of the errors is correctly specified.\n"
     ]
    }
   ],
   "source": [
    "print(results_ols.summary())"
   ],
   "metadata": {
    "collapsed": false,
    "ExecuteTime": {
     "end_time": "2023-05-23T11:15:59.033418300Z",
     "start_time": "2023-05-23T11:15:58.988407200Z"
    }
   }
  },
  {
   "cell_type": "markdown",
   "metadata": {},
   "source": [
    "## 进行Hausman检验"
   ]
  },
  {
   "cell_type": "code",
   "execution_count": 109,
   "metadata": {
    "ExecuteTime": {
     "end_time": "2023-05-23T11:15:59.034421300Z",
     "start_time": "2023-05-23T11:15:59.004412100Z"
    }
   },
   "outputs": [
    {
     "name": "stdout",
     "output_type": "stream",
     "text": [
      "                    Model Comparison                    \n",
      "========================================================\n",
      "                                    FE                RE\n",
      "--------------------------------------------------------\n",
      "Dep. Variable                       BP                BP\n",
      "Estimator                     PanelOLS     RandomEffects\n",
      "No. Observations                 10795             10795\n",
      "Cov. Est.                   Unadjusted        Unadjusted\n",
      "R-squared                       0.2825            0.3816\n",
      "R-Squared (Within)              0.2825            0.2181\n",
      "R-Squared (Between)            -317.22            0.6559\n",
      "R-Squared (Overall)            -170.86            0.4541\n",
      "F-statistic                     308.73            604.93\n",
      "P-value (F-stat)                0.0000            0.0000\n",
      "=====================     ============   ===============\n",
      "CSR                             0.4181            0.5283\n",
      "                              (40.346)          (57.764)\n",
      "SIZE                            8.2843           -0.4176\n",
      "                              (19.733)         (-12.169)\n",
      "LEV                            -37.968           -7.5505\n",
      "                             (-27.195)         (-11.171)\n",
      "TOBINQ                          0.3172            0.1125\n",
      "                              (3.8579)          (1.9134)\n",
      "TOP10                           0.0640            0.0717\n",
      "                              (2.9488)          (8.0399)\n",
      "SOE                            -5.3906            0.8432\n",
      "                             (-3.4588)          (0.7098)\n",
      "IND                             3.3530            1.1241\n",
      "                              (3.4153)          (4.3181)\n",
      "YEAR_2017                       3.0896            4.4889\n",
      "                              (10.600)          (15.271)\n",
      "YEAR_2018                       1.1486            2.8579\n",
      "                              (3.7023)          (9.5041)\n",
      "YEAR_2019                       0.6532            2.8420\n",
      "                              (2.0493)          (9.4805)\n",
      "YEAR_2020                       0.1108            2.8701\n",
      "                              (0.3269)          (9.5336)\n",
      "======================= ============== =================\n",
      "Effects                         Entity                  \n",
      "--------------------------------------------------------\n",
      "\n",
      "T-stats reported in parentheses\n"
     ]
    }
   ],
   "source": [
    "# Hausman检验\n",
    "from linearmodels.panel import compare\n",
    "\n",
    "comparison = compare({'FE': results_fe, 'RE': results_re})\n",
    "print(comparison.summary)"
   ]
  },
  {
   "cell_type": "code",
   "execution_count": 110,
   "metadata": {
    "ExecuteTime": {
     "end_time": "2023-05-23T11:15:59.058422400Z",
     "start_time": "2023-05-23T11:15:59.038421Z"
    }
   },
   "outputs": [
    {
     "name": "stdout",
     "output_type": "stream",
     "text": [
      "chi-Squared: 1100.3399221819257\n",
      "degrees of freedom: 11\n",
      "p-Value: 4.7991159896803964e-229\n"
     ]
    }
   ],
   "source": [
    "# 1. 运用计量书本上的公式，自编函数， 因为目前 Python 里面没有现成的模块\n",
    "import numpy.linalg as la\n",
    "from scipy import stats\n",
    "\n",
    "\n",
    "def hausman(fe, re):\n",
    "    b = fe.params\n",
    "    B = re.params\n",
    "    v_b = fe.cov\n",
    "    v_B = re.cov\n",
    "    df = b[np.abs(b) < 1e8].size\n",
    "    chi2 = np.dot((b - B).T, la.inv(v_b - v_B).dot(b - B))\n",
    "\n",
    "    pval = stats.chi2.sf(chi2, df)\n",
    "    return chi2, df, pval\n",
    "\n",
    "\n",
    "# 2. 将fe,re结果带入自编函数之中。\n",
    "hausman_results = hausman(results_fe, results_re)\n",
    "print('chi-Squared: ' + str(hausman_results[0]))\n",
    "print('degrees of freedom: ' + str(hausman_results[1]))\n",
    "print('p-Value: ' + str(hausman_results[2]))\n",
    "\n",
    "# 3. 看结果，如果这儿的 p-Value 小于 10%，则支持 固定效应 模型。"
   ]
  },
  {
   "cell_type": "code",
   "execution_count": 111,
   "metadata": {
    "ExecuteTime": {
     "end_time": "2023-05-23T11:15:59.142441200Z",
     "start_time": "2023-05-23T11:15:59.052421100Z"
    }
   },
   "outputs": [],
   "source": [
    "# b_fe = results_fe.params\n",
    "# b_re = results_re.params\n",
    "# b_diff = b_fe - b_re\n",
    "# v_fe = results_fe.cov\n",
    "# v_re = results_re.cov\n",
    "# v_diff = v_fe - v_re\n",
    "# df = len(b_fe)\n",
    "#\n",
    "# table = pd.DataFrame({'FE': b_fe, 'RE': b_re, 'Difference': b_diff, 'sqrt(diag(v_fe-v_re))': np.sqrt(np.diag(v_diff))})\n",
    "# chi2 = np.dot(b_diff.T, np.linalg.inv(v_diff).dot(b_diff))\n",
    "# pval = 1 - stats.chi2.cdf(chi2, df)\n",
    "#\n",
    "# print(table)\n",
    "# print()\n",
    "# print(f'chi-Squared: {chi2:.2f}')\n",
    "# print(f'degrees of freedom: {df}')\n",
    "# print(f'p-Value:{pval:.5f}')"
   ]
  },
  {
   "cell_type": "markdown",
   "source": [
    "# 异质性分析"
   ],
   "metadata": {
    "collapsed": false
   }
  },
  {
   "cell_type": "code",
   "execution_count": 112,
   "outputs": [],
   "source": [
    "# 导入patsy库\n",
    "import patsy"
   ],
   "metadata": {
    "collapsed": false,
    "ExecuteTime": {
     "end_time": "2023-05-23T11:15:59.170455300Z",
     "start_time": "2023-05-23T11:15:59.067425Z"
    }
   }
  },
  {
   "cell_type": "code",
   "execution_count": 113,
   "outputs": [
    {
     "name": "stdout",
     "output_type": "stream",
     "text": [
      "                          PanelOLS Estimation Summary                           \n",
      "================================================================================\n",
      "Dep. Variable:                     BP   R-squared:                        0.2826\n",
      "Estimator:                   PanelOLS   R-squared (Between):             -318.18\n",
      "No. Observations:               10795   R-squared (Within):               0.2826\n",
      "Date:                Tue, May 23 2023   R-squared (Overall):             -171.37\n",
      "Time:                        19:15:59   Log-likelihood                -3.767e+04\n",
      "Cov. Estimator:            Unadjusted                                           \n",
      "                                        F-statistic:                      283.13\n",
      "Entities:                        2159   P-value                           0.0000\n",
      "Avg Obs:                       5.0000   Distribution:                 F(12,8624)\n",
      "Min Obs:                       5.0000                                           \n",
      "Max Obs:                       5.0000   F-statistic (robust):             283.13\n",
      "                                        P-value                           0.0000\n",
      "Time periods:                       5   Distribution:                 F(12,8624)\n",
      "Avg Obs:                       2159.0                                           \n",
      "Min Obs:                       2159.0                                           \n",
      "Max Obs:                       2159.0                                           \n",
      "                                                                                \n",
      "                             Parameter Estimates                              \n",
      "==============================================================================\n",
      "            Parameter  Std. Err.     T-stat    P-value    Lower CI    Upper CI\n",
      "------------------------------------------------------------------------------\n",
      "CSR            0.4311     0.0153     28.202     0.0000      0.4012      0.4611\n",
      "SIZE           8.2848     0.4198     19.734     0.0000      7.4618      9.1077\n",
      "LEV           -37.978     1.3961    -27.202     0.0000     -40.715     -35.241\n",
      "TOBINQ         0.3187     0.0822     3.8761     0.0001      0.1575      0.4799\n",
      "TOP10          0.0641     0.0217     2.9531     0.0032      0.0216      0.1066\n",
      "SOE           -5.4279     1.5588    -3.4821     0.0005     -8.4836     -2.3723\n",
      "IND            3.7693     1.0457     3.6047     0.0003      1.7195      5.8190\n",
      "YEAR_2017      3.0935     0.2915     10.613     0.0000      2.5221      3.6648\n",
      "YEAR_2018      1.1480     0.3102     3.7006     0.0002      0.5399      1.7562\n",
      "YEAR_2019      0.6535     0.3187     2.0503     0.0404      0.0287      1.2782\n",
      "YEAR_2020      0.1170     0.3392     0.3450     0.7301     -0.5478      0.7818\n",
      "CSR:IND       -0.0220     0.0191    -1.1563     0.2476     -0.0594      0.0153\n",
      "==============================================================================\n",
      "\n",
      "F-test for Poolability: 2.3627\n",
      "P-value: 0.0000\n",
      "Distribution: F(2158,8624)\n",
      "\n",
      "Included effects: Entity\n"
     ]
    }
   ],
   "source": [
    "# 行业\n",
    "\n",
    "# 生成交互项\n",
    "interaction = patsy.dmatrix('CSR:IND', data=data_with_dummies, return_type='dataframe')\n",
    "# 将交互项合并到原始数据中\n",
    "data_with_interaction = pd.concat([data_with_dummies, interaction], axis=1)\n",
    "# 建立固定效应模型\n",
    "model_fe = PanelOLS(data_with_interaction['BP'],\n",
    "                    data_with_interaction[\n",
    "                        ['CSR', 'SIZE', 'LEV', 'TOBINQ', 'TOP10', 'SOE', 'IND', 'YEAR_2017', 'YEAR_2018',\n",
    "                         'YEAR_2019', 'YEAR_2020',\n",
    "                         'CSR:IND'  # CSR和IND的交互项\n",
    "                         ]],\n",
    "                    entity_effects=True)  # 使用entity_effects参数启用固定效应\n",
    "results_fe = model_fe.fit()  # 拟合模型\n",
    "print(results_fe.summary)  # 打印回归结果\n",
    "# 观察交互项的系数是否显著不为零，如果是，说明存在异质性效应"
   ],
   "metadata": {
    "collapsed": false,
    "ExecuteTime": {
     "end_time": "2023-05-23T11:15:59.222477300Z",
     "start_time": "2023-05-23T11:15:59.086428900Z"
    }
   }
  },
  {
   "cell_type": "code",
   "execution_count": 114,
   "outputs": [
    {
     "name": "stdout",
     "output_type": "stream",
     "text": [
      "                          PanelOLS Estimation Summary                           \n",
      "================================================================================\n",
      "Dep. Variable:                     BP   R-squared:                        0.2992\n",
      "Estimator:                   PanelOLS   R-squared (Between):             -297.39\n",
      "No. Observations:               10795   R-squared (Within):               0.2992\n",
      "Date:                Tue, May 23 2023   R-squared (Overall):             -160.16\n",
      "Time:                        19:15:59   Log-likelihood                -3.755e+04\n",
      "Cov. Estimator:            Unadjusted                                           \n",
      "                                        F-statistic:                      306.82\n",
      "Entities:                        2159   P-value                           0.0000\n",
      "Avg Obs:                       5.0000   Distribution:                 F(12,8624)\n",
      "Min Obs:                       5.0000                                           \n",
      "Max Obs:                       5.0000   F-statistic (robust):             306.82\n",
      "                                        P-value                           0.0000\n",
      "Time periods:                       5   Distribution:                 F(12,8624)\n",
      "Avg Obs:                       2159.0                                           \n",
      "Min Obs:                       2159.0                                           \n",
      "Max Obs:                       2159.0                                           \n",
      "                                                                                \n",
      "                              Parameter Estimates                              \n",
      "===============================================================================\n",
      "             Parameter  Std. Err.     T-stat    P-value    Lower CI    Upper CI\n",
      "-------------------------------------------------------------------------------\n",
      "CSR             0.5351     0.0131     40.855     0.0000      0.5094      0.5608\n",
      "SIZE            8.0832     0.4152     19.469     0.0000      7.2694      8.8970\n",
      "LEV            -36.400     1.3842    -26.296     0.0000     -39.113     -33.687\n",
      "TOBINQ          0.2943     0.0813     3.6211     0.0003      0.1350      0.4537\n",
      "TOP10           0.0352     0.0215     1.6316     0.1028     -0.0071      0.0774\n",
      "SOE            -3.1545     1.5483    -2.0375     0.0416     -6.1895     -0.1196\n",
      "IND             2.7261     0.9713     2.8065     0.0050      0.8220      4.6301\n",
      "YEAR_2017       2.9257     0.2883     10.148     0.0000      2.3605      3.4908\n",
      "YEAR_2018       1.1041     0.3066     3.6007     0.0003      0.5030      1.7052\n",
      "YEAR_2019       0.6811     0.3150     2.1620     0.0306      0.0635      1.2986\n",
      "YEAR_2020       0.1299     0.3352     0.3876     0.6983     -0.5271      0.7869\n",
      "CSR:SOE_new    -0.2508     0.0175    -14.329     0.0000     -0.2851     -0.2165\n",
      "===============================================================================\n",
      "\n",
      "F-test for Poolability: 2.4115\n",
      "P-value: 0.0000\n",
      "Distribution: F(2158,8624)\n",
      "\n",
      "Included effects: Entity\n"
     ]
    }
   ],
   "source": [
    "# 所有制\n",
    "# 生成交互项\n",
    "interaction = patsy.dmatrix('CSR:SOE_new', data=data_with_dummies, return_type='dataframe')\n",
    "# 将交互项合并到原始数据中\n",
    "data_with_interaction = pd.concat([data_with_dummies, interaction], axis=1)\n",
    "# 建立固定效应模型\n",
    "model_fe = PanelOLS(data_with_interaction['BP'],\n",
    "                    data_with_interaction[\n",
    "                        ['CSR', 'SIZE', 'LEV', 'TOBINQ', 'TOP10', 'SOE', 'IND', 'YEAR_2017', 'YEAR_2018',\n",
    "                         'YEAR_2019', 'YEAR_2020',\n",
    "                         'CSR:SOE_new'  # CSR和SOE的交互项\n",
    "                         ]],\n",
    "                    entity_effects=True)  # 使用entity_effects参数启用固定效应\n",
    "results_fe = model_fe.fit()  # 拟合模型\n",
    "print(results_fe.summary)  # 打印回归结果\n",
    "# 观察交互项的系数是否显著不为零，如果是，说明存在异质性效应"
   ],
   "metadata": {
    "collapsed": false,
    "ExecuteTime": {
     "end_time": "2023-05-23T11:15:59.329483100Z",
     "start_time": "2023-05-23T11:15:59.200455600Z"
    }
   }
  },
  {
   "cell_type": "markdown",
   "source": [
    "# 稳健性检验"
   ],
   "metadata": {
    "collapsed": false
   }
  },
  {
   "cell_type": "code",
   "execution_count": 115,
   "outputs": [
    {
     "data": {
      "text/plain": "<class 'linearmodels.compat.statsmodels.Summary'>\n\"\"\"\n                          PanelOLS Estimation Summary                           \n================================================================================\nDep. Variable:                     BP   R-squared:                        0.2860\nEstimator:                   PanelOLS   R-squared (Between):             -307.99\nNo. Observations:               10795   R-squared (Within):               0.2860\nDate:                Tue, May 23 2023   R-squared (Overall):             -165.88\nTime:                        19:15:59   Log-likelihood                -3.765e+04\nCov. Estimator:            Unadjusted                                           \n                                        F-statistic:                      314.05\nEntities:                        2159   P-value                           0.0000\nAvg Obs:                       5.0000   Distribution:                 F(11,8625)\nMin Obs:                       5.0000                                           \nMax Obs:                       5.0000   F-statistic (robust):             314.05\n                                        P-value                           0.0000\nTime periods:                       5   Distribution:                 F(11,8625)\nAvg Obs:                       2159.0                                           \nMin Obs:                       2159.0                                           \nMax Obs:                       2159.0                                           \n                                                                                \n                             Parameter Estimates                              \n==============================================================================\n            Parameter  Std. Err.     T-stat    P-value    Lower CI    Upper CI\n------------------------------------------------------------------------------\nCSR            0.4354     0.0106     40.959     0.0000      0.4146      0.4562\nSIZE           8.1441     0.4192     19.428     0.0000      7.3223      8.9658\nLEV           -37.637     1.3936    -27.007     0.0000     -40.369     -34.905\nTOBINQ         0.3098     0.0820     3.7771     0.0002      0.1490      0.4705\nTOP10          0.0639     0.0217     2.9494     0.0032      0.0214      0.1063\nSOE           -5.3546     1.5547    -3.4441     0.0006     -8.4022     -2.3070\nIND            3.3441     0.9794     3.4145     0.0006      1.4243      5.2640\nYEAR_2017      3.1378     0.2908     10.791     0.0000      2.5678      3.7078\nYEAR_2018      1.2067     0.3095     3.8985     0.0001      0.6000      1.8135\nYEAR_2019      0.7301     0.3181     2.2950     0.0218      0.1065      1.3538\nYEAR_2020      0.1996     0.3386     0.5895     0.5555     -0.4641      0.8632\n==============================================================================\n\nF-test for Poolability: 2.3491\nP-value: 0.0000\nDistribution: F(2158,8625)\n\nIncluded effects: Entity\n\"\"\"",
      "text/html": "<table class=\"simpletable\">\n<caption>PanelOLS Estimation Summary</caption>\n<tr>\n  <th>Dep. Variable:</th>           <td>BP</td>        <th>  R-squared:         </th>     <td>0.2860</td>  \n</tr>\n<tr>\n  <th>Estimator:</th>            <td>PanelOLS</td>     <th>  R-squared (Between):</th>    <td>-307.99</td> \n</tr>\n<tr>\n  <th>No. Observations:</th>       <td>10795</td>      <th>  R-squared (Within):</th>     <td>0.2860</td>  \n</tr>\n<tr>\n  <th>Date:</th>             <td>Tue, May 23 2023</td> <th>  R-squared (Overall):</th>    <td>-165.88</td> \n</tr>\n<tr>\n  <th>Time:</th>                 <td>19:15:59</td>     <th>  Log-likelihood     </th>   <td>-3.765e+04</td>\n</tr>\n<tr>\n  <th>Cov. Estimator:</th>      <td>Unadjusted</td>    <th>                     </th>        <td></td>     \n</tr>\n<tr>\n  <th></th>                          <td></td>         <th>  F-statistic:       </th>     <td>314.05</td>  \n</tr>\n<tr>\n  <th>Entities:</th>               <td>2159</td>       <th>  P-value            </th>     <td>0.0000</td>  \n</tr>\n<tr>\n  <th>Avg Obs:</th>               <td>5.0000</td>      <th>  Distribution:      </th>   <td>F(11,8625)</td>\n</tr>\n<tr>\n  <th>Min Obs:</th>               <td>5.0000</td>      <th>                     </th>        <td></td>     \n</tr>\n<tr>\n  <th>Max Obs:</th>               <td>5.0000</td>      <th>  F-statistic (robust):</th>   <td>314.05</td>  \n</tr>\n<tr>\n  <th></th>                          <td></td>         <th>  P-value            </th>     <td>0.0000</td>  \n</tr>\n<tr>\n  <th>Time periods:</th>             <td>5</td>        <th>  Distribution:      </th>   <td>F(11,8625)</td>\n</tr>\n<tr>\n  <th>Avg Obs:</th>               <td>2159.0</td>      <th>                     </th>        <td></td>     \n</tr>\n<tr>\n  <th>Min Obs:</th>               <td>2159.0</td>      <th>                     </th>        <td></td>     \n</tr>\n<tr>\n  <th>Max Obs:</th>               <td>2159.0</td>      <th>                     </th>        <td></td>     \n</tr>\n<tr>\n  <th></th>                          <td></td>         <th>                     </th>        <td></td>     \n</tr>\n</table>\n<table class=\"simpletable\">\n<caption>Parameter Estimates</caption>\n<tr>\n      <td></td>      <th>Parameter</th> <th>Std. Err.</th> <th>T-stat</th>  <th>P-value</th> <th>Lower CI</th> <th>Upper CI</th>\n</tr>\n<tr>\n  <th>CSR</th>        <td>0.4354</td>    <td>0.0106</td>   <td>40.959</td>  <td>0.0000</td>   <td>0.4146</td>   <td>0.4562</td> \n</tr>\n<tr>\n  <th>SIZE</th>       <td>8.1441</td>    <td>0.4192</td>   <td>19.428</td>  <td>0.0000</td>   <td>7.3223</td>   <td>8.9658</td> \n</tr>\n<tr>\n  <th>LEV</th>        <td>-37.637</td>   <td>1.3936</td>   <td>-27.007</td> <td>0.0000</td>   <td>-40.369</td>  <td>-34.905</td>\n</tr>\n<tr>\n  <th>TOBINQ</th>     <td>0.3098</td>    <td>0.0820</td>   <td>3.7771</td>  <td>0.0002</td>   <td>0.1490</td>   <td>0.4705</td> \n</tr>\n<tr>\n  <th>TOP10</th>      <td>0.0639</td>    <td>0.0217</td>   <td>2.9494</td>  <td>0.0032</td>   <td>0.0214</td>   <td>0.1063</td> \n</tr>\n<tr>\n  <th>SOE</th>        <td>-5.3546</td>   <td>1.5547</td>   <td>-3.4441</td> <td>0.0006</td>   <td>-8.4022</td>  <td>-2.3070</td>\n</tr>\n<tr>\n  <th>IND</th>        <td>3.3441</td>    <td>0.9794</td>   <td>3.4145</td>  <td>0.0006</td>   <td>1.4243</td>   <td>5.2640</td> \n</tr>\n<tr>\n  <th>YEAR_2017</th>  <td>3.1378</td>    <td>0.2908</td>   <td>10.791</td>  <td>0.0000</td>   <td>2.5678</td>   <td>3.7078</td> \n</tr>\n<tr>\n  <th>YEAR_2018</th>  <td>1.2067</td>    <td>0.3095</td>   <td>3.8985</td>  <td>0.0001</td>   <td>0.6000</td>   <td>1.8135</td> \n</tr>\n<tr>\n  <th>YEAR_2019</th>  <td>0.7301</td>    <td>0.3181</td>   <td>2.2950</td>  <td>0.0218</td>   <td>0.1065</td>   <td>1.3538</td> \n</tr>\n<tr>\n  <th>YEAR_2020</th>  <td>0.1996</td>    <td>0.3386</td>   <td>0.5895</td>  <td>0.5555</td>   <td>-0.4641</td>  <td>0.8632</td> \n</tr>\n</table><br/><br/>F-test for Poolability: 2.3491<br/>P-value: 0.0000<br/>Distribution: F(2158,8625)<br/><br/>Included effects: Entity",
      "text/latex": "\\begin{center}\n\\begin{tabular}{lclc}\n\\toprule\n\\textbf{Dep. Variable:}    &         BP         & \\textbf{  R-squared:         }   &      0.2860      \\\\\n\\textbf{Estimator:}        &      PanelOLS      & \\textbf{  R-squared (Between):}  &     -307.99      \\\\\n\\textbf{No. Observations:} &       10795        & \\textbf{  R-squared (Within):}   &      0.2860      \\\\\n\\textbf{Date:}             &  Tue, May 23 2023  & \\textbf{  R-squared (Overall):}  &     -165.88      \\\\\n\\textbf{Time:}             &      19:15:59      & \\textbf{  Log-likelihood     }   &    -3.765e+04    \\\\\n\\textbf{Cov. Estimator:}   &     Unadjusted     & \\textbf{                     }   &                  \\\\\n\\textbf{}                  &                    & \\textbf{  F-statistic:       }   &      314.05      \\\\\n\\textbf{Entities:}         &        2159        & \\textbf{  P-value            }   &      0.0000      \\\\\n\\textbf{Avg Obs:}          &       5.0000       & \\textbf{  Distribution:      }   &    F(11,8625)    \\\\\n\\textbf{Min Obs:}          &       5.0000       & \\textbf{                     }   &                  \\\\\n\\textbf{Max Obs:}          &       5.0000       & \\textbf{  F-statistic (robust):} &      314.05      \\\\\n\\textbf{}                  &                    & \\textbf{  P-value            }   &      0.0000      \\\\\n\\textbf{Time periods:}     &         5          & \\textbf{  Distribution:      }   &    F(11,8625)    \\\\\n\\textbf{Avg Obs:}          &       2159.0       & \\textbf{                     }   &                  \\\\\n\\textbf{Min Obs:}          &       2159.0       & \\textbf{                     }   &                  \\\\\n\\textbf{Max Obs:}          &       2159.0       & \\textbf{                     }   &                  \\\\\n\\textbf{}                  &                    & \\textbf{                     }   &                  \\\\\n\\bottomrule\n\\end{tabular}\n\\begin{tabular}{lcccccc}\n                    & \\textbf{Parameter} & \\textbf{Std. Err.} & \\textbf{T-stat} & \\textbf{P-value} & \\textbf{Lower CI} & \\textbf{Upper CI}  \\\\\n\\midrule\n\\textbf{CSR}        &       0.4354       &       0.0106       &      40.959     &      0.0000      &       0.4146      &       0.4562       \\\\\n\\textbf{SIZE}       &       8.1441       &       0.4192       &      19.428     &      0.0000      &       7.3223      &       8.9658       \\\\\n\\textbf{LEV}        &      -37.637       &       1.3936       &     -27.007     &      0.0000      &      -40.369      &      -34.905       \\\\\n\\textbf{TOBINQ}     &       0.3098       &       0.0820       &      3.7771     &      0.0002      &       0.1490      &       0.4705       \\\\\n\\textbf{TOP10}      &       0.0639       &       0.0217       &      2.9494     &      0.0032      &       0.0214      &       0.1063       \\\\\n\\textbf{SOE}        &      -5.3546       &       1.5547       &     -3.4441     &      0.0006      &      -8.4022      &      -2.3070       \\\\\n\\textbf{IND}        &       3.3441       &       0.9794       &      3.4145     &      0.0006      &       1.4243      &       5.2640       \\\\\n\\textbf{YEAR\\_2017} &       3.1378       &       0.2908       &      10.791     &      0.0000      &       2.5678      &       3.7078       \\\\\n\\textbf{YEAR\\_2018} &       1.2067       &       0.3095       &      3.8985     &      0.0001      &       0.6000      &       1.8135       \\\\\n\\textbf{YEAR\\_2019} &       0.7301       &       0.3181       &      2.2950     &      0.0218      &       0.1065      &       1.3538       \\\\\n\\textbf{YEAR\\_2020} &       0.1996       &       0.3386       &      0.5895     &      0.5555      &      -0.4641      &       0.8632       \\\\\n\\bottomrule\n\\end{tabular}\n%\\caption{PanelOLS Estimation Summary}\n\\end{center}\n\nF-test for Poolability: 2.3491 \\newline\n P-value: 0.0000 \\newline\n Distribution: F(2158,8625) \\newline\n  \\newline\n Included effects: Entity"
     },
     "execution_count": 115,
     "metadata": {},
     "output_type": "execute_result"
    }
   ],
   "source": [
    "# 选择2017年和2018年的数据作为子样本\n",
    "sub_data = data_with_dummies.loc[data_with_dummies.index.get_level_values('YEAR').isin([2017, 2018])]\n",
    "# 建立固定效应模型\n",
    "model_fe = PanelOLS(sub_data['BP'],\n",
    "                    sub_data[\n",
    "                        ['CSR', 'SIZE', 'LEV', 'TOBINQ', 'TOP10', 'SOE', 'IND', 'YEAR_2017', 'YEAR_2018']],\n",
    "                    entity_effects=True)  # 使用entity_effects参数启用固定效应\n",
    "# 拟合模型\n",
    "results_fe = model_fe.fit()\n",
    "# 查看回归结果\n",
    "results_fe.summary\n",
    "\n",
    "# 对CSR变量进行缩尾处理，去除上下1%的极端值\n",
    "from scipy.stats.mstats import winsorize\n",
    "\n",
    "data_with_dummies['CSR'] = winsorize(data_with_dummies['CSR'], limits=[0.01, 0.01])\n",
    "# 建立固定效应模型\n",
    "model_fe = PanelOLS(data_with_dummies['BP'],\n",
    "                    data_with_dummies[\n",
    "                        ['CSR', 'SIZE', 'LEV', 'TOBINQ', 'TOP10', 'SOE', 'IND', 'YEAR_2017', 'YEAR_2018',\n",
    "                         'YEAR_2019', 'YEAR_2020']],\n",
    "                    entity_effects=True)  # 使用entity_effects参数启用固定效应\n",
    "# 拟合模型\n",
    "results_fe = model_fe.fit()\n",
    "# 查看回归结果\n",
    "results_fe.summary\n"
   ],
   "metadata": {
    "collapsed": false,
    "ExecuteTime": {
     "end_time": "2023-05-23T11:15:59.481701900Z",
     "start_time": "2023-05-23T11:15:59.307479300Z"
    }
   }
  }
 ],
 "metadata": {
  "kernelspec": {
   "display_name": "Python 3 (ipykernel)",
   "language": "python",
   "name": "python3"
  },
  "language_info": {
   "codemirror_mode": {
    "name": "ipython",
    "version": 3
   },
   "file_extension": ".py",
   "mimetype": "text/x-python",
   "name": "python",
   "nbconvert_exporter": "python",
   "pygments_lexer": "ipython3",
   "version": "3.9.5"
  }
 },
 "nbformat": 4,
 "nbformat_minor": 1
}
