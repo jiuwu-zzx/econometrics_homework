{
 "cells": [
  {
   "cell_type": "code",
   "execution_count": 538,
   "metadata": {
    "collapsed": true,
    "pycharm": {
     "name": "#%%\n"
    },
    "ExecuteTime": {
     "end_time": "2023-05-21T02:04:33.287832800Z",
     "start_time": "2023-05-21T02:04:33.200816500Z"
    }
   },
   "outputs": [],
   "source": [
    "import pandas as pd\n",
    "import numpy as np\n",
    "import warnings\n",
    "\n",
    "warnings.filterwarnings('ignore')"
   ]
  },
  {
   "cell_type": "code",
   "execution_count": 539,
   "outputs": [],
   "source": [
    "YEAR = ['2016', '2017', '2018', '2019', '2020']"
   ],
   "metadata": {
    "collapsed": false,
    "ExecuteTime": {
     "end_time": "2023-05-21T02:04:33.361850600Z",
     "start_time": "2023-05-21T02:04:33.210817800Z"
    }
   }
  },
  {
   "cell_type": "markdown",
   "source": [
    "# CSR"
   ],
   "metadata": {
    "collapsed": false
   }
  },
  {
   "cell_type": "code",
   "execution_count": 540,
   "outputs": [],
   "source": [
    "csr = {}\n",
    "col = {}\n",
    "for i in range(len(YEAR)):\n",
    "    csr[i] = pd.read_excel('./社会责任评分/{}社会责任评分.xls'.format(YEAR[i]), dtype={\"代码\": str}).dropna().drop(\n",
    "        columns=['评分等级', '相关链接', '所属地区', '行业类别'])\n",
    "    csr[i]['代码'] = csr[i]['代码'].apply(lambda x: x[0:-3])\n",
    "    col[i] = set(csr[i]['代码'])\n",
    "\n",
    "common_index = list(col[0] & col[1] & col[2] & col[3] & col[4])\n",
    "# print(csr[1])"
   ],
   "metadata": {
    "collapsed": false,
    "ExecuteTime": {
     "end_time": "2023-05-21T02:04:33.924977Z",
     "start_time": "2023-05-21T02:04:33.227821Z"
    }
   }
  },
  {
   "cell_type": "code",
   "execution_count": 541,
   "outputs": [],
   "source": [
    "processed_csr = {}\n",
    "for i in range(len(YEAR)):\n",
    "    processed_csr[i] = csr[i][csr[i]['代码'].isin(common_index)].sort_values('代码')\n",
    "    processed_csr[i] = processed_csr[i][['代码', '总评分', '截止年份']]"
   ],
   "metadata": {
    "collapsed": false,
    "pycharm": {
     "name": "#%%\n"
    },
    "ExecuteTime": {
     "end_time": "2023-05-21T02:04:33.960985200Z",
     "start_time": "2023-05-21T02:04:33.924977Z"
    }
   }
  },
  {
   "cell_type": "code",
   "execution_count": 542,
   "outputs": [
    {
     "name": "stdout",
     "output_type": "stream",
     "text": [
      "          代码    总评分      年份\n",
      "111   000001  69.45  2016.0\n",
      "22    000002  76.52  2016.0\n",
      "1957  000004  21.30  2016.0\n",
      "2917  000005  16.33  2016.0\n",
      "247   000006  63.26  2016.0\n",
      "...      ...    ...     ...\n",
      "2789  688368  18.87  2020.0\n",
      "2803  688369  18.83  2020.0\n",
      "2053  688388  22.21  2020.0\n",
      "2480  688389  20.33  2020.0\n",
      "2     688399  44.93  2020.0\n",
      "\n",
      "[18080 rows x 3 columns]\n"
     ]
    }
   ],
   "source": [
    "panel_csr = processed_csr[0].append(processed_csr[1]).append(processed_csr[2]).append(processed_csr[3]).append(\n",
    "    processed_csr[4])\n",
    "panel_csr.rename(columns={'截止年份': '年份'}, inplace=True)\n",
    "print(panel_csr)\n",
    "panel_csr.to_excel('./社会责任评分/panel_csr.xls', index=False)"
   ],
   "metadata": {
    "collapsed": false,
    "ExecuteTime": {
     "end_time": "2023-05-21T02:04:34.525111600Z",
     "start_time": "2023-05-21T02:04:33.959985200Z"
    }
   }
  },
  {
   "cell_type": "markdown",
   "source": [
    "# 经营绩效"
   ],
   "metadata": {
    "collapsed": false
   }
  },
  {
   "cell_type": "code",
   "execution_count": 543,
   "outputs": [
    {
     "name": "stdout",
     "output_type": "stream",
     "text": [
      "           代码        BP    年份\n",
      "0      000002  0.175352  2016\n",
      "1      000002  0.199323  2017\n",
      "2      000002  0.209117  2018\n",
      "3      000002  0.203754  2019\n",
      "4      000002  0.169499  2020\n",
      "...       ...       ...   ...\n",
      "22502  900957  0.007674  2016\n",
      "22503  900957  0.070818  2017\n",
      "22504  900957  0.061314  2018\n",
      "22505  900957  0.053141  2019\n",
      "22506  900957  0.043829  2020\n",
      "\n",
      "[17767 rows x 3 columns]\n"
     ]
    }
   ],
   "source": [
    "new_bp = pd.read_excel('./盈利能力/FI_T5.xls', dtype={\"Stkcd\": str}).dropna()\n",
    "new_bp[\"年份\"] = new_bp[\"Accper\"].apply(lambda x: x[0:-6]).astype(int)\n",
    "new_bp = new_bp.drop(columns=[\"Accper\", \"ShortName\", \"Typrep\", \"F050201B\", \"F050502B\", \"F051201B\"]).rename(\n",
    "    columns={\"Stkcd\": \"代码\", 'F050501B': 'BP'})\n",
    "print(new_bp)"
   ],
   "metadata": {
    "collapsed": false,
    "ExecuteTime": {
     "end_time": "2023-05-21T02:04:35.164255500Z",
     "start_time": "2023-05-21T02:04:34.526119500Z"
    }
   }
  },
  {
   "cell_type": "markdown",
   "source": [
    "# 控制变量"
   ],
   "metadata": {
    "collapsed": false
   }
  },
  {
   "cell_type": "markdown",
   "source": [
    "## 资产负债率"
   ],
   "metadata": {
    "collapsed": false
   }
  },
  {
   "cell_type": "code",
   "execution_count": 544,
   "outputs": [
    {
     "name": "stdout",
     "output_type": "stream",
     "text": [
      "           代码       LEV    年份\n",
      "0      000002  0.805367  2016\n",
      "1      000002  0.839813  2017\n",
      "2      000002  0.845856  2018\n",
      "3      000002  0.843590  2019\n",
      "4      000002  0.812835  2020\n",
      "...       ...       ...   ...\n",
      "22502  900957  0.661961  2016\n",
      "22503  900957  0.584235  2017\n",
      "22504  900957  0.551612  2018\n",
      "22505  900957  0.531432  2019\n",
      "22506  900957  0.505506  2020\n",
      "\n",
      "[22507 rows x 3 columns]\n"
     ]
    }
   ],
   "source": [
    "debt = pd.read_excel('./资产负债率/FI_T1.xls', dtype={\"Stkcd\": str}).dropna()\n",
    "debt[\"年份\"] = debt[\"Accper\"].apply(lambda x: x[0:-6]).astype(int)\n",
    "debt = debt.drop(columns=[\"Accper\", \"ShortName\", \"Typrep\", \"F010101A\", \"F010201A\", \"F011401A\"]).rename(\n",
    "    columns={\"Stkcd\": \"代码\", 'F011201A': 'LEV'})\n",
    "print(debt)"
   ],
   "metadata": {
    "collapsed": false,
    "ExecuteTime": {
     "end_time": "2023-05-21T02:04:35.563345Z",
     "start_time": "2023-05-21T02:04:35.166257700Z"
    }
   }
  },
  {
   "cell_type": "markdown",
   "source": [
    "## 企业规模"
   ],
   "metadata": {
    "collapsed": false
   }
  },
  {
   "cell_type": "code",
   "execution_count": 545,
   "outputs": [
    {
     "name": "stdout",
     "output_type": "stream",
     "text": [
      "           代码    年份       企业规模\n",
      "0      000002  2016  27.445504\n",
      "1      000002  2017  27.784040\n",
      "2      000002  2018  28.055360\n",
      "3      000002  2019  28.179102\n",
      "4      000002  2020  28.256519\n",
      "...       ...   ...        ...\n",
      "17884  900957  2016  20.876016\n",
      "17885  900957  2017  20.742508\n",
      "17886  900957  2018  20.730243\n",
      "17887  900957  2019  20.740825\n",
      "17888  900957  2020  20.731791\n",
      "\n",
      "[17889 rows x 3 columns]\n"
     ]
    }
   ],
   "source": [
    "size = pd.read_excel('./控制变量/PT_LCMAINFIN.xls', dtype={\"Symbol\": str}).dropna()\n",
    "size[\"年份\"] = size[\"EndDate\"].apply(lambda x: x[0:-6]).astype(int)\n",
    "size[\"企业规模\"] = np.log(size[\"TotalAssets\"])\n",
    "size = size.drop(columns=[\"EndDate\", \"TotalAssets\", \"TotalLiability\"]).rename(columns={\"Symbol\": \"代码\"})\n",
    "print(size)"
   ],
   "metadata": {
    "collapsed": false,
    "ExecuteTime": {
     "end_time": "2023-05-21T02:04:35.738384800Z",
     "start_time": "2023-05-21T02:04:35.547341800Z"
    }
   }
  },
  {
   "cell_type": "markdown",
   "source": [
    "## 国有股持股比例"
   ],
   "metadata": {
    "collapsed": false
   }
  },
  {
   "cell_type": "code",
   "execution_count": 546,
   "outputs": [
    {
     "name": "stdout",
     "output_type": "stream",
     "text": [
      "           代码    年份  国有股持股比例\n",
      "0      000002  2016      0.0\n",
      "1      000002  2017      0.0\n",
      "2      000002  2018      0.0\n",
      "3      000002  2019      0.0\n",
      "4      000002  2020      0.0\n",
      "...       ...   ...      ...\n",
      "16939  900957  2016      0.0\n",
      "16940  900957  2017      0.0\n",
      "16941  900957  2018      0.0\n",
      "16942  900957  2019      0.0\n",
      "16943  900957  2020      0.0\n",
      "\n",
      "[16944 rows x 3 columns]\n"
     ]
    }
   ],
   "source": [
    "state = pd.read_excel('./控制变量/HLD_Capstru.xls', dtype={\"Stkcd\": str}).dropna()\n",
    "state[\"年份\"] = state[\"Reptdt\"].apply(lambda x: x[0:-6]).astype(int)\n",
    "state[\"国有股持股比例\"] = state[\"Nshrstt\"] / state[\"Nshrttl\"]\n",
    "state = state.drop(columns=[\"Reptdt\", \"Nshrstt\", \"Nshrttl\"]).rename(columns={\"Stkcd\": \"代码\"})\n",
    "print(state)"
   ],
   "metadata": {
    "collapsed": false,
    "ExecuteTime": {
     "end_time": "2023-05-21T02:04:35.945432600Z",
     "start_time": "2023-05-21T02:04:35.741385500Z"
    }
   }
  },
  {
   "cell_type": "markdown",
   "source": [
    "## 托宾-Q"
   ],
   "metadata": {
    "collapsed": false
   }
  },
  {
   "cell_type": "code",
   "execution_count": 547,
   "outputs": [
    {
     "name": "stdout",
     "output_type": "stream",
     "text": [
      "           代码    TOBINQ    年份\n",
      "0      000002  1.069010  2016\n",
      "1      000002  1.117963  2017\n",
      "2      000002  1.015736  2018\n",
      "3      000002  1.046272  2019\n",
      "4      000002  0.992654  2020\n",
      "...       ...       ...   ...\n",
      "16432  900957  2.057613  2016\n",
      "16433  900957  1.923619  2017\n",
      "16434  900957  1.536094  2018\n",
      "16435  900957  1.454232  2019\n",
      "16436  900957  1.338059  2020\n",
      "\n",
      "[16437 rows x 3 columns]\n"
     ]
    }
   ],
   "source": [
    "tobin = pd.read_excel('./相对价值指标/FI_T10.xls', dtype={\"Stkcd\": str}).dropna()\n",
    "tobin[\"年份\"] = tobin[\"Accper\"].apply(lambda x: x[0:-6]).astype(int)\n",
    "tobin = tobin.drop(columns=[\"Accper\", \"ShortName\"]).rename(columns={\"Stkcd\": \"代码\", 'F100901A': 'TOBINQ'})\n",
    "print(tobin)"
   ],
   "metadata": {
    "collapsed": false,
    "ExecuteTime": {
     "end_time": "2023-05-21T02:04:36.328518800Z",
     "start_time": "2023-05-21T02:04:35.948433200Z"
    }
   }
  },
  {
   "cell_type": "markdown",
   "source": [
    "## TOP10"
   ],
   "metadata": {
    "collapsed": false
   }
  },
  {
   "cell_type": "code",
   "execution_count": 548,
   "outputs": [
    {
     "name": "stdout",
     "output_type": "stream",
     "text": [
      "           代码  TopTenHoldersRate    年份\n",
      "0      000002              57.40  2016\n",
      "1      000002              68.53  2017\n",
      "2      000002              71.70  2018\n",
      "3      000002              64.24  2019\n",
      "4      000002              58.98  2020\n",
      "...       ...                ...   ...\n",
      "16938  900957              48.17  2016\n",
      "16939  900957              48.43  2017\n",
      "16940  900957              48.02  2018\n",
      "16941  900957              48.17  2019\n",
      "16942  900957              48.30  2020\n",
      "\n",
      "[16543 rows x 3 columns]\n"
     ]
    }
   ],
   "source": [
    "top10 = pd.read_excel('./股权性质/EN_EquityNatureAll.xls', dtype={\"Symbol\": str}).dropna()\n",
    "top10[\"年份\"] = top10[\"EndDate\"].apply(lambda x: x[0:-6]).astype(int)\n",
    "top10 = top10.drop(columns=[\"EndDate\", \"ShortName\", \"EquityNature\"]).rename(columns={\"Symbol\": \"代码\"})\n",
    "print(top10)"
   ],
   "metadata": {
    "collapsed": false,
    "ExecuteTime": {
     "end_time": "2023-05-21T02:04:36.550573200Z",
     "start_time": "2023-05-21T02:04:36.331519600Z"
    }
   }
  },
  {
   "cell_type": "markdown",
   "source": [
    "## 行业性质"
   ],
   "metadata": {
    "collapsed": false
   }
  },
  {
   "cell_type": "code",
   "execution_count": 549,
   "outputs": [
    {
     "name": "stdout",
     "output_type": "stream",
     "text": [
      "           代码    年份  上市日期 行业性质\n",
      "0      000002  2016  1991    0\n",
      "1      000002  2017  1991    0\n",
      "2      000002  2018  1991    0\n",
      "3      000002  2019  1991    0\n",
      "4      000002  2020  1991    0\n",
      "...       ...   ...   ...  ...\n",
      "17328  900957  2016  2000    0\n",
      "17329  900957  2017  2000    0\n",
      "17330  900957  2018  2000    0\n",
      "17331  900957  2019  2000    0\n",
      "17332  900957  2020  2000    0\n",
      "\n",
      "[17333 rows x 4 columns]\n"
     ]
    }
   ],
   "source": [
    "industry = pd.read_excel('./控制变量/STK_LISTEDCOINFOANL.xls', dtype={\"Symbol\": str}).dropna()\n",
    "industry[\"年份\"] = industry[\"EndDate\"].apply(lambda x: x[0:-6]).astype(int)\n",
    "industry[\"上市日期\"] = industry[\"LISTINGDATE\"].apply(lambda x: x[0:-6]).astype(int)\n",
    "industry[\"行业性质\"] = industry[\"IndustryCode\"].apply(lambda s: \"1\" if \"C\" in str(s) else \"0\")\n",
    "industry = industry.drop(\n",
    "    columns=[\"ShortName\", \"IndustryName\", \"EndDate\", \"LISTINGDATE\", \"IndustryCode\", \"LISTINGSTATE\"]).rename(\n",
    "    columns={\"Symbol\": \"代码\"})\n",
    "print(industry)"
   ],
   "metadata": {
    "collapsed": false,
    "ExecuteTime": {
     "end_time": "2023-05-21T02:04:36.823668100Z",
     "start_time": "2023-05-21T02:04:36.552568400Z"
    }
   }
  },
  {
   "cell_type": "markdown",
   "source": [
    "# 汇总数据"
   ],
   "metadata": {
    "collapsed": false
   }
  },
  {
   "cell_type": "code",
   "execution_count": 550,
   "outputs": [
    {
     "name": "stdout",
     "output_type": "stream",
     "text": [
      "           代码    CSR      年份  TopTenHoldersRate        BP    TOBINQ       LEV  \\\n",
      "0      000002  76.52  2016.0              57.40  0.175352  1.069010  0.805367   \n",
      "1      000006  63.26  2016.0              40.86  0.156705  1.576953  0.610499   \n",
      "2      000008  21.29  2016.0              40.42  0.085953  2.299946  0.246583   \n",
      "3      000009  60.48  2016.0              21.41  0.051567  1.644684  0.623791   \n",
      "4      000010  15.97  2016.0              44.33  0.017621  1.419832  0.544721   \n",
      "...       ...    ...     ...                ...       ...       ...       ...   \n",
      "14984  688368  18.87  2020.0              79.37  0.054641  2.408433  0.215698   \n",
      "14985  688369  18.83  2020.0              53.56  0.087473  2.888844  0.281210   \n",
      "14986  688388  22.21  2020.0              48.61  0.070881  5.316332  0.105585   \n",
      "14987  688389  20.33  2020.0              70.40  0.125895  3.199495  0.113203   \n",
      "14988  688399  44.93  2020.0              57.82  0.492381  3.428711  0.269212   \n",
      "\n",
      "            企业规模   国有股持股比例  上市日期 行业性质  \n",
      "0      27.445504  0.000000  1991    0  \n",
      "1      23.301237  0.000000  1992    0  \n",
      "2      22.826504  0.010889  1992    1  \n",
      "3      23.797020  0.000000  1991    0  \n",
      "4      22.302922  0.018431  1995    0  \n",
      "...          ...       ...   ...  ...  \n",
      "14984  21.210367  0.000000  2019    0  \n",
      "14985  21.334060  0.010519  2019    0  \n",
      "14986  21.802134  0.009196  2019    1  \n",
      "14987  20.977551  0.005092  2019    1  \n",
      "14988  21.546420  0.012504  2019    1  \n",
      "\n",
      "[14989 rows x 11 columns]\n"
     ]
    }
   ],
   "source": [
    "# 合并所有数据\n",
    "panel_raw_data = panel_csr.rename(columns={'总评分': 'CSR'})\n",
    "panel_raw_data = pd.merge(panel_raw_data, top10, on=[\"代码\", \"年份\"], how='inner')\n",
    "panel_raw_data = pd.merge(panel_raw_data, new_bp, on=[\"代码\", \"年份\"], how='inner')\n",
    "panel_raw_data = pd.merge(panel_raw_data, tobin, on=[\"代码\", \"年份\"], how='inner')\n",
    "panel_raw_data = pd.merge(panel_raw_data, debt, on=[\"代码\", \"年份\"], how='inner')\n",
    "panel_raw_data = pd.merge(panel_raw_data, size, on=[\"代码\", \"年份\"], how='inner')\n",
    "panel_raw_data = pd.merge(panel_raw_data, state, on=[\"代码\", \"年份\"], how='inner')\n",
    "panel_raw_data = pd.merge(panel_raw_data, industry, on=[\"代码\", \"年份\"], how='inner')\n",
    "print(panel_raw_data)"
   ],
   "metadata": {
    "collapsed": false,
    "ExecuteTime": {
     "end_time": "2023-05-21T02:04:36.918689200Z",
     "start_time": "2023-05-21T02:04:36.827680500Z"
    }
   }
  },
  {
   "cell_type": "code",
   "execution_count": 551,
   "outputs": [],
   "source": [
    "balance_index = panel_raw_data.groupby(by='代码')['年份'].count()[\n",
    "    panel_raw_data.groupby(by='代码')['年份'].count() == 5].index\n",
    "balance_data = panel_raw_data[panel_raw_data['代码'].isin(balance_index)]"
   ],
   "metadata": {
    "collapsed": false,
    "ExecuteTime": {
     "end_time": "2023-05-21T02:04:36.995904Z",
     "start_time": "2023-05-21T02:04:36.924690900Z"
    }
   }
  },
  {
   "cell_type": "markdown",
   "source": [
    "至此得到平衡面板数据balance_data\n",
    "\n",
    "下一步去除：\n",
    "1. 若数据缺失或有异常，则予以剔除\n",
    "2. 上市时间小于5的公司,为了避免IPO效应带来的影响，剔除2016年及之后上市的公司样本\n",
    "3. 所有“金融类”公司，鉴于金融行业具有普遍高负债等行业特性，剔除所有金融类公司\n",
    "4. 连续亏损的公司所存在的问题可能对论文研究造成一定影响，故剔除所有ST、SST、PT、\\*ST、S\\*ST公司"
   ],
   "metadata": {
    "collapsed": false
   }
  },
  {
   "cell_type": "markdown",
   "source": [
    "## 删除2016年及之后上市的公司"
   ],
   "metadata": {
    "collapsed": false
   }
  },
  {
   "cell_type": "code",
   "execution_count": 555,
   "outputs": [],
   "source": [
    "final_data = balance_data[balance_data['上市日期'] < 2016]"
   ],
   "metadata": {
    "collapsed": false,
    "ExecuteTime": {
     "end_time": "2023-05-21T02:04:37.020914800Z",
     "start_time": "2023-05-21T02:04:37.002909900Z"
    }
   }
  },
  {
   "cell_type": "code",
   "execution_count": 556,
   "outputs": [],
   "source": [
    "# 将代码、行业性质、股权性质转化为int类型，便于Stata识别\n",
    "final_data['IND'] = final_data['行业性质'].astype(int)\n",
    "# 改正performance,负债水平,股权性质\n",
    "final_data = final_data.drop(columns=['行业性质','上市日期']).rename(\n",
    "    columns={'代码': 'Stk_cd', '国有股持股比例': 'SOE', '企业规模': 'SIZE',\n",
    "             '年份': 'YEAR', 'TopTenHoldersRate': 'TOP10'})\n",
    "final_data.to_excel('./final_data.xls', index=False)\n",
    "# print(final_data)"
   ],
   "metadata": {
    "collapsed": false,
    "ExecuteTime": {
     "end_time": "2023-05-21T02:04:38.212112700Z",
     "start_time": "2023-05-21T02:04:37.015919400Z"
    }
   }
  },
  {
   "cell_type": "markdown",
   "source": [
    "## 检查是否有异常值或缺失值"
   ],
   "metadata": {
    "collapsed": false
   }
  },
  {
   "cell_type": "code",
   "execution_count": 557,
   "outputs": [
    {
     "name": "stdout",
     "output_type": "stream",
     "text": [
      "Index([], dtype='object', name='Stk_cd')\n",
      "无缺失值\n"
     ]
    }
   ],
   "source": [
    "# 检查是否平衡\n",
    "imbalance_index = final_data.groupby(by='Stk_cd')['YEAR'].count()[\n",
    "    final_data.groupby(by='Stk_cd')['YEAR'].count() != 5].index\n",
    "print(imbalance_index)\n",
    "# 检查是否有缺失值\n",
    "if final_data.isnull().values.any():\n",
    "    print(\"有缺失值\")\n",
    "else:\n",
    "    print(\"无缺失值\")\n",
    "\n",
    "# final_data[final_data.isnull().values==True]"
   ],
   "metadata": {
    "collapsed": false,
    "ExecuteTime": {
     "end_time": "2023-05-21T02:04:38.228217200Z",
     "start_time": "2023-05-21T02:04:38.214113100Z"
    }
   }
  },
  {
   "cell_type": "code",
   "execution_count": 558,
   "outputs": [
    {
     "name": "stdout",
     "output_type": "stream",
     "text": [
      "       Stk_cd    CSR    YEAR  TOP10        BP    TOBINQ       LEV       SIZE  \\\n",
      "0      000002  76.52  2016.0  57.40  0.175352  1.069010  0.805367  27.445504   \n",
      "2      000008  21.29  2016.0  40.42  0.085953  2.299946  0.246583  22.826504   \n",
      "4      000010  15.97  2016.0  44.33  0.017621  1.419832  0.544721  22.302922   \n",
      "5      000011  38.97  2016.0  66.55  0.147164  1.421490  0.637636  22.618538   \n",
      "6      000012  72.45  2016.0  32.13  0.098931  1.631295  0.525907  23.565078   \n",
      "...       ...    ...     ...    ...       ...       ...       ...        ...   \n",
      "14912  603989  25.51  2020.0  74.30  0.142083  2.821724  0.379898  22.193237   \n",
      "14915  603993  19.34  2020.0  79.28  0.052364  1.585558  0.613408  25.530897   \n",
      "14916  603997   7.29  2020.0  85.63 -0.074551  1.138218  0.736398  23.575464   \n",
      "14917  603998  27.31  2020.0  51.93  0.042487  1.582559  0.435642  21.530982   \n",
      "14918  603999  16.20  2020.0  64.62  0.042065  1.654336  0.166607  21.482746   \n",
      "\n",
      "            SOE  IND  \n",
      "0      0.000000    0  \n",
      "2      0.010889    1  \n",
      "4      0.018431    0  \n",
      "5      0.588242    0  \n",
      "6      0.000000    1  \n",
      "...         ...  ...  \n",
      "14912  0.000000    1  \n",
      "14915  0.000000    0  \n",
      "14916  0.000000    1  \n",
      "14917  0.000000    1  \n",
      "14918  0.000000    0  \n",
      "\n",
      "[10795 rows x 10 columns]\n"
     ]
    }
   ],
   "source": [
    "print(final_data)"
   ],
   "metadata": {
    "collapsed": false,
    "ExecuteTime": {
     "end_time": "2023-05-21T02:04:38.272248700Z",
     "start_time": "2023-05-21T02:04:38.228217200Z"
    }
   }
  }
 ],
 "metadata": {
  "kernelspec": {
   "display_name": "Python 3",
   "language": "python",
   "name": "python3"
  },
  "language_info": {
   "codemirror_mode": {
    "name": "ipython",
    "version": 2
   },
   "file_extension": ".py",
   "mimetype": "text/x-python",
   "name": "python",
   "nbconvert_exporter": "python",
   "pygments_lexer": "ipython2",
   "version": "2.7.6"
  }
 },
 "nbformat": 4,
 "nbformat_minor": 0
}
