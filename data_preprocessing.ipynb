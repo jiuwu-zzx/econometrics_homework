{
 "cells": [
  {
   "cell_type": "code",
   "execution_count": 391,
   "metadata": {
    "collapsed": true,
    "pycharm": {
     "name": "#%%\n"
    },
    "ExecuteTime": {
     "end_time": "2023-05-20T05:51:28.376944800Z",
     "start_time": "2023-05-20T05:51:28.284912900Z"
    }
   },
   "outputs": [],
   "source": [
    "import pandas as pd\n",
    "import numpy as np\n",
    "import warnings\n",
    "\n",
    "warnings.filterwarnings('ignore')"
   ]
  },
  {
   "cell_type": "code",
   "execution_count": 392,
   "outputs": [],
   "source": [
    "YEAR = ['2016', '2017', '2018', '2019', '2020']"
   ],
   "metadata": {
    "collapsed": false,
    "ExecuteTime": {
     "end_time": "2023-05-20T05:51:28.380935300Z",
     "start_time": "2023-05-20T05:51:28.304918Z"
    }
   }
  },
  {
   "cell_type": "markdown",
   "source": [
    "# CSR"
   ],
   "metadata": {
    "collapsed": false
   }
  },
  {
   "cell_type": "code",
   "execution_count": 393,
   "outputs": [],
   "source": [
    "csr = {}\n",
    "col = {}\n",
    "for i in range(len(YEAR)):\n",
    "    csr[i] = pd.read_excel('./社会责任评分/{}社会责任评分.xls'.format(YEAR[i])).dropna().drop(\n",
    "        columns=['评分等级', '相关链接', '所属地区', '行业类别'])\n",
    "    csr[i]['代码'] = csr[i]['代码'].apply(lambda x: x[0:-3])\n",
    "    col[i] = set(csr[i]['代码'])\n",
    "\n",
    "common_index = list(col[0] & col[1] & col[2] & col[3] & col[4])\n",
    "# print(csr[1])"
   ],
   "metadata": {
    "collapsed": false,
    "ExecuteTime": {
     "end_time": "2023-05-20T05:51:29.050090900Z",
     "start_time": "2023-05-20T05:51:28.325931900Z"
    }
   }
  },
  {
   "cell_type": "code",
   "execution_count": 394,
   "outputs": [],
   "source": [
    "processed_csr = {}\n",
    "for i in range(len(YEAR)):\n",
    "    processed_csr[i] = csr[i][csr[i]['代码'].isin(common_index)].sort_values('代码')\n",
    "    processed_csr[i] = processed_csr[i][['代码', '总评分', '截止年份']]"
   ],
   "metadata": {
    "collapsed": false,
    "pycharm": {
     "name": "#%%\n"
    },
    "ExecuteTime": {
     "end_time": "2023-05-20T05:51:29.097918600Z",
     "start_time": "2023-05-20T05:51:29.052093800Z"
    }
   }
  },
  {
   "cell_type": "code",
   "execution_count": 395,
   "outputs": [],
   "source": [
    "panel_csr = processed_csr[0].append(processed_csr[1]).append(processed_csr[2]).append(processed_csr[3]).append(\n",
    "    processed_csr[4])\n",
    "# print(processed_csr[1])\n",
    "panel_csr.to_excel('./社会责任评分/panel_csr.xls', index=False)"
   ],
   "metadata": {
    "collapsed": false,
    "ExecuteTime": {
     "end_time": "2023-05-20T05:51:29.937284300Z",
     "start_time": "2023-05-20T05:51:29.086917300Z"
    }
   }
  },
  {
   "cell_type": "markdown",
   "source": [
    "# 经营绩效"
   ],
   "metadata": {
    "collapsed": false
   }
  },
  {
   "cell_type": "code",
   "execution_count": 396,
   "outputs": [],
   "source": [
    "perform = {}\n",
    "proc_perform = {}\n",
    "for i in range(len(YEAR)):\n",
    "    perform[i] = pd.read_excel('./年股票综合数据/YRESSTK_{}.xls'.format(YEAR[i]), dtype={\"股票代码_Stkcd\": str})\n",
    "    proc_perform[i] = perform[i][\n",
    "        [\"股票代码_Stkcd\", \"公司国有股_Comstateshr\", \"总股数_Fullshr\", \"证监会行业门类代码_Csrciccd1\", \"截止日期_Enddt\",\n",
    "         \"每股收益(摊薄)(元/股)_EPS\", \"净资产收益率(摊薄)_ROE\"]]\n",
    "    proc_perform[i][\"Year\"] = proc_perform[i][\"截止日期_Enddt\"].apply(lambda x: x.year)\n",
    "    proc_perform[i][\"Performance\"] = proc_perform[i][\"每股收益(摊薄)(元/股)_EPS\"] * 0.99 + proc_perform[i][\n",
    "        \"净资产收益率(摊薄)_ROE\"] * 0.01\n",
    "    proc_perform[i][\"股权性质\"] = proc_perform[i][\"公司国有股_Comstateshr\"] / proc_perform[i][\"总股数_Fullshr\"]\n",
    "    proc_perform[i][\"行业\"] = proc_perform[i][\"证监会行业门类代码_Csrciccd1\"].apply(\n",
    "        lambda s: \"1\" if \"C\" in str(s) else \"0\")\n",
    "    proc_perform[i] = proc_perform[i].drop(\n",
    "        columns=[\"公司国有股_Comstateshr\", \"总股数_Fullshr\", \"证监会行业门类代码_Csrciccd1\", \"截止日期_Enddt\",\n",
    "                 \"每股收益(摊薄)(元/股)_EPS\", \"净资产收益率(摊薄)_ROE\"])"
   ],
   "metadata": {
    "collapsed": false,
    "ExecuteTime": {
     "end_time": "2023-05-20T05:51:30.459431300Z",
     "start_time": "2023-05-20T05:51:29.925270900Z"
    }
   }
  },
  {
   "cell_type": "code",
   "execution_count": 397,
   "outputs": [],
   "source": [
    "panel_perform = proc_perform[0].append(proc_perform[1]).append(proc_perform[2]).append(proc_perform[3]).append(\n",
    "    proc_perform[4])\n",
    "# print(proc_perform[1])\n",
    "panel_perform.to_excel('./年股票综合数据/panel_perform.xls', index=False)"
   ],
   "metadata": {
    "collapsed": false,
    "ExecuteTime": {
     "end_time": "2023-05-20T05:51:31.445652800Z",
     "start_time": "2023-05-20T05:51:30.460431800Z"
    }
   }
  },
  {
   "cell_type": "markdown",
   "source": [
    "# 控制变量"
   ],
   "metadata": {
    "collapsed": false
   }
  },
  {
   "cell_type": "code",
   "execution_count": 398,
   "outputs": [],
   "source": [
    "control = {}\n",
    "proc_control = {}\n",
    "for i in range(len(YEAR)):\n",
    "    control[i] = pd.read_excel('./资产负债表/BS_ALL_{}.xls'.format(YEAR[i]),\n",
    "                               dtype={\"A股股票代码_A_StkCd\": str}).dropna()\n",
    "    proc_control[i] = control[i][\n",
    "        ['A股股票代码_A_StkCd', '截止日期_EndDt', '资产总计(元)_TotAss', '负债合计(元)_TotLiab']]\n",
    "    proc_control[i]['规模'] = np.log(proc_control[i]['资产总计(元)_TotAss'])\n",
    "    proc_control[i]['负债水平'] = proc_control[i]['负债合计(元)_TotLiab'] / proc_control[i]['资产总计(元)_TotAss']\n",
    "    proc_control[i]['年份'] = proc_control[i][\"截止日期_EndDt\"].apply(lambda x: x.year)\n",
    "    proc_control[i] = proc_control[i].rename(columns={\"A股股票代码_A_StkCd\": \"股票代码\"}).drop(\n",
    "        columns=['资产总计(元)_TotAss', '负债合计(元)_TotLiab', '截止日期_EndDt'])"
   ],
   "metadata": {
    "collapsed": false,
    "ExecuteTime": {
     "end_time": "2023-05-20T05:51:32.238831800Z",
     "start_time": "2023-05-20T05:51:31.450656600Z"
    }
   }
  },
  {
   "cell_type": "code",
   "execution_count": 399,
   "outputs": [],
   "source": [
    "panel_control = proc_control[0].append(proc_control[1]).append(proc_control[2]).append(proc_control[3]).append(\n",
    "    proc_control[4])\n",
    "# print(proc_control[1])\n",
    "panel_control.to_excel('./资产负债表/panel_control.xls', index=False)"
   ],
   "metadata": {
    "collapsed": false,
    "ExecuteTime": {
     "end_time": "2023-05-20T05:51:33.065032100Z",
     "start_time": "2023-05-20T05:51:32.239831800Z"
    }
   }
  },
  {
   "cell_type": "markdown",
   "source": [
    "# 汇总数据"
   ],
   "metadata": {
    "collapsed": false
   }
  },
  {
   "cell_type": "code",
   "execution_count": 400,
   "outputs": [],
   "source": [
    "# 合并各年的数据\n",
    "temp = {}\n",
    "for i in range(len(YEAR)):\n",
    "    temp[i] = pd.merge(\n",
    "        processed_csr[i], proc_perform[i], left_on=\"代码\", right_on=\"股票代码_Stkcd\", how='inner')\n",
    "    temp[i] = temp[i].drop(columns=['股票代码_Stkcd', '截止年份']).rename(columns={'总评分': 'CSR'})\n",
    "\n",
    "    temp[i] = pd.merge(\n",
    "        temp[i], proc_control[i], left_on=\"代码\", right_on=\"股票代码\", how='inner')\n",
    "    temp[i] = temp[i].drop(columns=['股票代码', 'Year'])"
   ],
   "metadata": {
    "collapsed": false,
    "ExecuteTime": {
     "end_time": "2023-05-20T05:51:33.127250900Z",
     "start_time": "2023-05-20T05:51:33.066033100Z"
    }
   }
  },
  {
   "cell_type": "code",
   "execution_count": 401,
   "outputs": [
    {
     "name": "stdout",
     "output_type": "stream",
     "text": [
      "          代码    CSR  Performance  股权性质 行业         规模      负债水平    年份\n",
      "0     000002  76.52     0.824792   0.0  0  27.351214  0.810123  2016\n",
      "1     000004  21.30     0.330957   0.0  1  19.759923  0.552979  2016\n",
      "2     000005  16.33     0.015196   0.0  0  21.647456  0.462232  2016\n",
      "3     000006  63.26     0.012753   0.0  0  23.359293  0.681010  2016\n",
      "4     000007  10.14     0.124470   0.0  0  20.069592  0.195184  2016\n",
      "...      ...    ...          ...   ... ..        ...       ...   ...\n",
      "3192  603991   3.33    -0.568543   0.0  1  20.206846  0.357558  2020\n",
      "3193  603993  19.34     0.109168   0.0  0  25.544613  0.605590  2020\n",
      "3194  603997   7.29    -0.361137   0.0  1  23.579522  0.754537  2020\n",
      "3195  603998  27.31     0.191148   0.0  1  21.448076  0.408192  2020\n",
      "3196  603999  16.20     0.131931   0.0  0  21.472300  0.167235  2020\n",
      "\n",
      "[15572 rows x 8 columns]\n"
     ]
    }
   ],
   "source": [
    "panel_raw_data = temp[0].append(temp[1]).append(temp[2]).append(temp[3]).append(temp[4])\n",
    "print(panel_raw_data)"
   ],
   "metadata": {
    "collapsed": false,
    "ExecuteTime": {
     "end_time": "2023-05-20T05:51:33.188284900Z",
     "start_time": "2023-05-20T05:51:33.130258800Z"
    }
   }
  },
  {
   "cell_type": "code",
   "execution_count": 402,
   "outputs": [],
   "source": [
    "balance_index = panel_raw_data.groupby(by='代码')['年份'].count()[\n",
    "    panel_raw_data.groupby(by='代码')['年份'].count() == 5].index\n",
    "balance_data = panel_raw_data[panel_raw_data['代码'].isin(balance_index)]"
   ],
   "metadata": {
    "collapsed": false,
    "ExecuteTime": {
     "end_time": "2023-05-20T05:51:33.202282700Z",
     "start_time": "2023-05-20T05:51:33.162269800Z"
    }
   }
  },
  {
   "cell_type": "markdown",
   "source": [
    "至此得到平衡面板数据balance_data\n",
    "\n",
    "下一步去除：\n",
    "1. 若数据缺失或有异常，则予以剔除\n",
    "2. 上市时间小于5的公司,为了避免IPO效应带来的影响，剔除2016年及之后上市的公司样本\n",
    "3. 所有“金融类”公司，鉴于金融行业具有普遍高负债等行业特性，剔除所有金融类公司\n",
    "4. 连续亏损的公司所存在的问题可能对论文研究造成一定影响，故剔除所有ST、SST、PT、\\*ST、S\\*ST公司"
   ],
   "metadata": {
    "collapsed": false
   }
  },
  {
   "cell_type": "markdown",
   "source": [
    "## 删除2016年及之后上市的公司"
   ],
   "metadata": {
    "collapsed": false
   }
  },
  {
   "cell_type": "code",
   "execution_count": 403,
   "outputs": [],
   "source": [
    "data_year = pd.read_excel('./上市时间/Year.xls', dtype={'股票代码': str})\n",
    "data_year['上市年份'] = pd.to_datetime(data_year['首次上市日期']).apply(lambda x: x.year)\n",
    "data_year = data_year[data_year['上市年份'] > 2015]"
   ],
   "metadata": {
    "collapsed": false,
    "ExecuteTime": {
     "end_time": "2023-05-20T05:51:33.539363600Z",
     "start_time": "2023-05-20T05:51:33.192282200Z"
    }
   }
  },
  {
   "cell_type": "code",
   "execution_count": 404,
   "outputs": [],
   "source": [
    "data_year_ID_unique = data_year['股票代码'].unique()\n",
    "firm_TTM = pd.DataFrame(columns=['股票代码', '上市年份'])\n",
    "for code in data_year_ID_unique:\n",
    "    temp = data_year[data_year['股票代码'] == code]['上市年份'].min()\n",
    "    firm_TTM = firm_TTM.append({\"股票代码\": code, \"上市年份\": temp}, ignore_index=True)\n",
    "# print(firm_TTM)"
   ],
   "metadata": {
    "collapsed": false,
    "ExecuteTime": {
     "end_time": "2023-05-20T05:51:37.369231100Z",
     "start_time": "2023-05-20T05:51:33.551367300Z"
    }
   }
  },
  {
   "cell_type": "code",
   "execution_count": 405,
   "outputs": [],
   "source": [
    "new_firm_ID = firm_TTM['股票代码']\n",
    "final_data = balance_data[~balance_data['代码'].isin(new_firm_ID)]"
   ],
   "metadata": {
    "collapsed": false,
    "ExecuteTime": {
     "end_time": "2023-05-20T05:51:37.393235700Z",
     "start_time": "2023-05-20T05:51:37.368230300Z"
    }
   }
  },
  {
   "cell_type": "code",
   "execution_count": 406,
   "outputs": [],
   "source": [
    "# 将代码、行业性质、股权性质转化为int类型，便于Stata识别\n",
    "final_data['IND'] = final_data['行业'].astype(int)\n",
    "final_data = final_data.drop(columns=['行业']).rename(\n",
    "    columns={'代码': 'Stk_cd', 'Performance': 'BP', '股权性质': 'SOE', '规模': 'SIZE', '负债水平': 'LEV',\n",
    "             '年份': 'YEAR'})\n",
    "final_data.to_excel('./final_data.xls', index=False)\n",
    "# print(final_data)"
   ],
   "metadata": {
    "collapsed": false,
    "ExecuteTime": {
     "end_time": "2023-05-20T05:51:38.501484800Z",
     "start_time": "2023-05-20T05:51:37.386234900Z"
    }
   }
  },
  {
   "cell_type": "markdown",
   "source": [
    "## 检查是否有异常值或缺失值"
   ],
   "metadata": {
    "collapsed": false
   }
  },
  {
   "cell_type": "code",
   "execution_count": 407,
   "outputs": [
    {
     "name": "stdout",
     "output_type": "stream",
     "text": [
      "Index([], dtype='object', name='Stk_cd')\n",
      "无缺失值\n"
     ]
    }
   ],
   "source": [
    "# 检查是否平衡\n",
    "imbalance_index = final_data.groupby(by='Stk_cd')['YEAR'].count()[\n",
    "    final_data.groupby(by='Stk_cd')['YEAR'].count() != 5].index\n",
    "print(imbalance_index)\n",
    "# 检查是否有缺失值\n",
    "if final_data.isnull().values.any():\n",
    "    print(\"有缺失值\")\n",
    "else:\n",
    "    print(\"无缺失值\")"
   ],
   "metadata": {
    "collapsed": false,
    "ExecuteTime": {
     "end_time": "2023-05-20T05:51:38.588546Z",
     "start_time": "2023-05-20T05:51:38.497484700Z"
    }
   }
  },
  {
   "cell_type": "code",
   "execution_count": 408,
   "outputs": [
    {
     "name": "stdout",
     "output_type": "stream",
     "text": [
      "      Stk_cd    CSR        BP  SOE       SIZE       LEV  YEAR  IND\n",
      "0     000002  76.52  0.824792  0.0  27.351214  0.810123  2016    0\n",
      "1     000004  21.30  0.330957  0.0  19.759923  0.552979  2016    1\n",
      "2     000005  16.33  0.015196  0.0  21.647456  0.462232  2016    0\n",
      "3     000006  63.26  0.012753  0.0  23.359293  0.681010  2016    0\n",
      "4     000007  10.14  0.124470  0.0  20.069592  0.195184  2016    0\n",
      "...      ...    ...       ...  ...        ...       ...   ...  ...\n",
      "3189  603988  28.11  0.950113  0.0  21.002087  0.426588  2020    1\n",
      "3190  603989  25.51  0.778381  0.0  22.078823  0.334527  2020    1\n",
      "3194  603997   7.29 -0.361137  0.0  23.579522  0.754537  2020    1\n",
      "3195  603998  27.31  0.191148  0.0  21.448076  0.408192  2020    1\n",
      "3196  603999  16.20  0.131931  0.0  21.472300  0.167235  2020    0\n",
      "\n",
      "[11700 rows x 8 columns]\n"
     ]
    }
   ],
   "source": [
    "print(final_data)"
   ],
   "metadata": {
    "collapsed": false,
    "ExecuteTime": {
     "end_time": "2023-05-20T05:51:38.607550300Z",
     "start_time": "2023-05-20T05:51:38.529490500Z"
    }
   }
  }
 ],
 "metadata": {
  "kernelspec": {
   "display_name": "Python 3",
   "language": "python",
   "name": "python3"
  },
  "language_info": {
   "codemirror_mode": {
    "name": "ipython",
    "version": 2
   },
   "file_extension": ".py",
   "mimetype": "text/x-python",
   "name": "python",
   "nbconvert_exporter": "python",
   "pygments_lexer": "ipython2",
   "version": "2.7.6"
  }
 },
 "nbformat": 4,
 "nbformat_minor": 0
}
