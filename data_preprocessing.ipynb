{
 "cells": [
  {
   "cell_type": "code",
   "execution_count": 458,
   "metadata": {
    "collapsed": true,
    "pycharm": {
     "name": "#%%\n"
    },
    "ExecuteTime": {
     "end_time": "2023-05-21T01:01:29.062478100Z",
     "start_time": "2023-05-21T01:01:28.960747800Z"
    }
   },
   "outputs": [],
   "source": [
    "import pandas as pd\n",
    "import numpy as np\n",
    "import warnings\n",
    "\n",
    "warnings.filterwarnings('ignore')"
   ]
  },
  {
   "cell_type": "code",
   "execution_count": 459,
   "outputs": [],
   "source": [
    "YEAR = ['2016', '2017', '2018', '2019', '2020']"
   ],
   "metadata": {
    "collapsed": false,
    "ExecuteTime": {
     "end_time": "2023-05-21T01:01:29.171496300Z",
     "start_time": "2023-05-21T01:01:28.970750800Z"
    }
   }
  },
  {
   "cell_type": "markdown",
   "source": [
    "# CSR"
   ],
   "metadata": {
    "collapsed": false
   }
  },
  {
   "cell_type": "code",
   "execution_count": 460,
   "outputs": [],
   "source": [
    "csr = {}\n",
    "col = {}\n",
    "for i in range(len(YEAR)):\n",
    "    csr[i] = pd.read_excel('./社会责任评分/{}社会责任评分.xls'.format(YEAR[i])).dropna().drop(\n",
    "        columns=['评分等级', '相关链接', '所属地区', '行业类别'])\n",
    "    csr[i]['代码'] = csr[i]['代码'].apply(lambda x: x[0:-3])\n",
    "    col[i] = set(csr[i]['代码'])\n",
    "\n",
    "common_index = list(col[0] & col[1] & col[2] & col[3] & col[4])\n",
    "# print(csr[1])"
   ],
   "metadata": {
    "collapsed": false,
    "ExecuteTime": {
     "end_time": "2023-05-21T01:01:29.876443100Z",
     "start_time": "2023-05-21T01:01:28.990455600Z"
    }
   }
  },
  {
   "cell_type": "code",
   "execution_count": 461,
   "outputs": [],
   "source": [
    "processed_csr = {}\n",
    "for i in range(len(YEAR)):\n",
    "    processed_csr[i] = csr[i][csr[i]['代码'].isin(common_index)].sort_values('代码')\n",
    "    processed_csr[i] = processed_csr[i][['代码', '总评分', '截止年份']]"
   ],
   "metadata": {
    "collapsed": false,
    "pycharm": {
     "name": "#%%\n"
    },
    "ExecuteTime": {
     "end_time": "2023-05-21T01:01:29.932454500Z",
     "start_time": "2023-05-21T01:01:29.883444600Z"
    }
   }
  },
  {
   "cell_type": "code",
   "execution_count": 462,
   "outputs": [],
   "source": [
    "panel_csr = processed_csr[0].append(processed_csr[1]).append(processed_csr[2]).append(processed_csr[3]).append(\n",
    "    processed_csr[4])\n",
    "# print(processed_csr[1])\n",
    "panel_csr.to_excel('./社会责任评分/panel_csr.xls', index=False)"
   ],
   "metadata": {
    "collapsed": false,
    "ExecuteTime": {
     "end_time": "2023-05-21T01:01:30.526624700Z",
     "start_time": "2023-05-21T01:01:29.923453700Z"
    }
   }
  },
  {
   "cell_type": "markdown",
   "source": [
    "# 经营绩效"
   ],
   "metadata": {
    "collapsed": false
   }
  },
  {
   "cell_type": "code",
   "execution_count": 463,
   "outputs": [],
   "source": [
    "perform = {}\n",
    "proc_perform = {}\n",
    "for i in range(len(YEAR)):\n",
    "    perform[i] = pd.read_excel('./年股票综合数据/YRESSTK_{}.xls'.format(YEAR[i]), dtype={\"股票代码_Stkcd\": str})\n",
    "    proc_perform[i] = perform[i][\n",
    "        [\"股票代码_Stkcd\", \"公司国有股_Comstateshr\", \"总股数_Fullshr\", \"证监会行业门类代码_Csrciccd1\", \"截止日期_Enddt\",\n",
    "         \"每股收益(摊薄)(元/股)_EPS\", \"净资产收益率(摊薄)_ROE\"]]\n",
    "    proc_perform[i][\"Year\"] = proc_perform[i][\"截止日期_Enddt\"].apply(lambda x: x.year)\n",
    "    proc_perform[i][\"Performance\"] = proc_perform[i][\"每股收益(摊薄)(元/股)_EPS\"] * 0 + proc_perform[i][\n",
    "        \"净资产收益率(摊薄)_ROE\"] * 1\n",
    "    proc_perform[i][\"股权性质\"] = proc_perform[i][\"公司国有股_Comstateshr\"] / proc_perform[i][\"总股数_Fullshr\"]\n",
    "    proc_perform[i][\"行业\"] = proc_perform[i][\"证监会行业门类代码_Csrciccd1\"].apply(\n",
    "        lambda s: \"1\" if \"C\" in str(s) else \"0\")\n",
    "    proc_perform[i] = proc_perform[i].drop(\n",
    "        columns=[\"公司国有股_Comstateshr\", \"总股数_Fullshr\", \"证监会行业门类代码_Csrciccd1\", \"截止日期_Enddt\",\n",
    "                 \"每股收益(摊薄)(元/股)_EPS\", \"净资产收益率(摊薄)_ROE\"])"
   ],
   "metadata": {
    "collapsed": false,
    "ExecuteTime": {
     "end_time": "2023-05-21T01:01:31.034078900Z",
     "start_time": "2023-05-21T01:01:30.532625900Z"
    }
   }
  },
  {
   "cell_type": "code",
   "execution_count": 464,
   "outputs": [],
   "source": [
    "panel_perform = proc_perform[0].append(proc_perform[1]).append(proc_perform[2]).append(proc_perform[3]).append(\n",
    "    proc_perform[4])\n",
    "# print(proc_perform[1])\n",
    "panel_perform.to_excel('./年股票综合数据/panel_perform.xls', index=False)"
   ],
   "metadata": {
    "collapsed": false,
    "ExecuteTime": {
     "end_time": "2023-05-21T01:01:32.055976600Z",
     "start_time": "2023-05-21T01:01:31.036076400Z"
    }
   }
  },
  {
   "cell_type": "markdown",
   "source": [
    "# 控制变量"
   ],
   "metadata": {
    "collapsed": false
   }
  },
  {
   "cell_type": "code",
   "execution_count": 465,
   "outputs": [],
   "source": [
    "control = {}\n",
    "proc_control = {}\n",
    "for i in range(len(YEAR)):\n",
    "    control[i] = pd.read_excel('./资产负债表/BS_ALL_{}.xls'.format(YEAR[i]),\n",
    "                               dtype={\"A股股票代码_A_StkCd\": str}).dropna()\n",
    "    proc_control[i] = control[i][\n",
    "        ['A股股票代码_A_StkCd', '截止日期_EndDt', '资产总计(元)_TotAss', '负债合计(元)_TotLiab']]\n",
    "    proc_control[i]['规模'] = np.log(proc_control[i]['资产总计(元)_TotAss'])\n",
    "    proc_control[i]['负债水平'] = proc_control[i]['负债合计(元)_TotLiab'] / proc_control[i]['资产总计(元)_TotAss']\n",
    "    proc_control[i]['年份'] = proc_control[i][\"截止日期_EndDt\"].apply(lambda x: x.year)\n",
    "    proc_control[i] = proc_control[i].rename(columns={\"A股股票代码_A_StkCd\": \"股票代码\"}).drop(\n",
    "        columns=['资产总计(元)_TotAss', '负债合计(元)_TotLiab', '截止日期_EndDt'])"
   ],
   "metadata": {
    "collapsed": false,
    "ExecuteTime": {
     "end_time": "2023-05-21T01:01:32.627463900Z",
     "start_time": "2023-05-21T01:01:32.058970800Z"
    }
   }
  },
  {
   "cell_type": "code",
   "execution_count": 466,
   "outputs": [],
   "source": [
    "panel_control = proc_control[0].append(proc_control[1]).append(proc_control[2]).append(proc_control[3]).append(\n",
    "    proc_control[4])\n",
    "# print(proc_control[1])\n",
    "panel_control.to_excel('./资产负债表/panel_control.xls', index=False)"
   ],
   "metadata": {
    "collapsed": false,
    "ExecuteTime": {
     "end_time": "2023-05-21T01:01:33.540686Z",
     "start_time": "2023-05-21T01:01:32.630464600Z"
    }
   }
  },
  {
   "cell_type": "markdown",
   "source": [
    "## 资产负债率"
   ],
   "metadata": {
    "collapsed": false
   }
  },
  {
   "cell_type": "code",
   "execution_count": 467,
   "outputs": [
    {
     "name": "stdout",
     "output_type": "stream",
     "text": [
      "           代码  F010101A  F010201A  F011201A  F011401A    年份\n",
      "0      000002  1.243616  0.437819  0.805367  0.806787  2016\n",
      "1      000002  1.200857  0.495029  0.839813  0.840999  2017\n",
      "2      000002  1.154342  0.485571  0.845856  0.848727  2018\n",
      "3      000002  1.130738  0.425873  0.843590  0.846275  2019\n",
      "4      000002  1.174494  0.413910  0.812835  0.815581  2020\n",
      "...       ...       ...       ...       ...       ...   ...\n",
      "22502  900957  1.404382  1.404382  0.661961  0.666012  2016\n",
      "22503  900957  1.925383  1.925383  0.584235  0.588172  2017\n",
      "22504  900957  2.100740  2.100740  0.551612  0.555223  2018\n",
      "22505  900957  1.964754  1.964754  0.531432  0.534854  2019\n",
      "22506  900957  2.991174  2.991174  0.505506  0.508647  2020\n",
      "\n",
      "[22507 rows x 6 columns]\n"
     ]
    }
   ],
   "source": [
    "debt = pd.read_excel('./资产负债率/FI_T1.xls', dtype={\"Stkcd\": str}).dropna()\n",
    "debt[\"年份\"] = debt[\"Accper\"].apply(lambda x: x[0:-6]).astype(int)\n",
    "debt = debt.drop(columns=[\"Accper\", \"ShortName\", \"Typrep\"]).rename(columns={\"Stkcd\": \"代码\"})\n",
    "print(debt)"
   ],
   "metadata": {
    "collapsed": false,
    "ExecuteTime": {
     "end_time": "2023-05-21T01:01:33.923097800Z",
     "start_time": "2023-05-21T01:01:33.543686Z"
    }
   }
  },
  {
   "cell_type": "markdown",
   "source": [
    "## 企业规模"
   ],
   "metadata": {
    "collapsed": false
   }
  },
  {
   "cell_type": "code",
   "execution_count": 468,
   "outputs": [
    {
     "name": "stdout",
     "output_type": "stream",
     "text": [
      "           代码   TotalAssets  TotalLiability    年份       企业规模\n",
      "0      000002  8.306742e+11    6.689976e+11  2016  27.445504\n",
      "1      000002  1.165347e+12    9.786730e+11  2017  27.784040\n",
      "2      000002  1.528579e+12    1.292959e+12  2018  28.055360\n",
      "3      000002  1.729929e+12    1.459350e+12  2019  28.179102\n",
      "4      000002  1.869177e+12    1.519333e+12  2020  28.256519\n",
      "...       ...           ...             ...   ...        ...\n",
      "17884  900957  1.165033e+09    7.712067e+08  2016  20.876016\n",
      "17885  900957  1.019428e+09    5.955854e+08  2017  20.742508\n",
      "17886  900957  1.007002e+09    5.554740e+08  2018  20.730243\n",
      "17887  900957  1.017715e+09    5.408456e+08  2019  20.740825\n",
      "17888  900957  1.008562e+09    5.098344e+08  2020  20.731791\n",
      "\n",
      "[17889 rows x 5 columns]\n"
     ]
    }
   ],
   "source": [
    "size = pd.read_excel('./控制变量/PT_LCMAINFIN.xls', dtype={\"Symbol\": str}).dropna()\n",
    "size[\"年份\"] = size[\"EndDate\"].apply(lambda x: x[0:-6]).astype(int)\n",
    "size[\"企业规模\"] = np.log(size[\"TotalAssets\"])\n",
    "size = size.drop(columns=[\"EndDate\"]).rename(columns={\"Symbol\": \"代码\"})\n",
    "print(size)"
   ],
   "metadata": {
    "collapsed": false,
    "ExecuteTime": {
     "end_time": "2023-05-21T01:01:34.368224400Z",
     "start_time": "2023-05-21T01:01:33.924097800Z"
    }
   }
  },
  {
   "cell_type": "markdown",
   "source": [
    "## 国有股持股比例"
   ],
   "metadata": {
    "collapsed": false
   }
  },
  {
   "cell_type": "code",
   "execution_count": 469,
   "outputs": [
    {
     "name": "stdout",
     "output_type": "stream",
     "text": [
      "           代码    年份  国有股持股比例\n",
      "0      000002  2016      0.0\n",
      "1      000002  2017      0.0\n",
      "2      000002  2018      0.0\n",
      "3      000002  2019      0.0\n",
      "4      000002  2020      0.0\n",
      "...       ...   ...      ...\n",
      "16939  900957  2016      0.0\n",
      "16940  900957  2017      0.0\n",
      "16941  900957  2018      0.0\n",
      "16942  900957  2019      0.0\n",
      "16943  900957  2020      0.0\n",
      "\n",
      "[16944 rows x 3 columns]\n"
     ]
    }
   ],
   "source": [
    "state = pd.read_excel('./控制变量/HLD_Capstru.xls', dtype={\"Stkcd\": str}).dropna()\n",
    "state[\"年份\"] = state[\"Reptdt\"].apply(lambda x: x[0:-6]).astype(int)\n",
    "state[\"国有股持股比例\"] = state[\"Nshrstt\"] / state[\"Nshrttl\"]\n",
    "state = state.drop(columns=[\"Reptdt\", \"Nshrstt\", \"Nshrttl\"]).rename(columns={\"Stkcd\": \"代码\"})\n",
    "print(state)"
   ],
   "metadata": {
    "collapsed": false,
    "ExecuteTime": {
     "end_time": "2023-05-21T01:01:34.577271200Z",
     "start_time": "2023-05-21T01:01:34.372225400Z"
    }
   }
  },
  {
   "cell_type": "markdown",
   "source": [
    "## 托宾-Q"
   ],
   "metadata": {
    "collapsed": false
   }
  },
  {
   "cell_type": "code",
   "execution_count": 470,
   "outputs": [
    {
     "name": "stdout",
     "output_type": "stream",
     "text": [
      "           代码  F100901A    年份\n",
      "0      000002  1.069010  2016\n",
      "1      000002  1.117963  2017\n",
      "2      000002  1.015736  2018\n",
      "3      000002  1.046272  2019\n",
      "4      000002  0.992654  2020\n",
      "...       ...       ...   ...\n",
      "16432  900957  2.057613  2016\n",
      "16433  900957  1.923619  2017\n",
      "16434  900957  1.536094  2018\n",
      "16435  900957  1.454232  2019\n",
      "16436  900957  1.338059  2020\n",
      "\n",
      "[16437 rows x 3 columns]\n"
     ]
    }
   ],
   "source": [
    "tobin = pd.read_excel('./相对价值指标/FI_T10.xls', dtype={\"Stkcd\": str}).dropna()\n",
    "tobin[\"年份\"] = tobin[\"Accper\"].apply(lambda x: x[0:-6]).astype(int)\n",
    "tobin = tobin.drop(columns=[\"Accper\", \"ShortName\"]).rename(columns={\"Stkcd\": \"代码\"})\n",
    "print(tobin)"
   ],
   "metadata": {
    "collapsed": false,
    "ExecuteTime": {
     "end_time": "2023-05-21T01:01:34.769344400Z",
     "start_time": "2023-05-21T01:01:34.580271200Z"
    }
   }
  },
  {
   "cell_type": "code",
   "execution_count": 471,
   "outputs": [],
   "source": [
    "# tobin = {}\n",
    "# proc_tobin = {}\n",
    "# for i in range(len(YEAR)):\n",
    "#     tobin[i] = pd.read_excel('./相对价值指标/FI_T10_{}.xls'.format(YEAR[i]), dtype={\"Stkcd\": str}).dropna()\n",
    "#     proc_tobin[i] = tobin[i][[\"Stkcd\", \"Accper\", \"F100902A\"]]\n",
    "#     proc_tobin[i][\"Year\"] = proc_tobin[i][\"Accper\"].apply(lambda x: x[0:-6])\n",
    "#     proc_tobin[i] = proc_tobin[i].drop(columns=[\"Accper\"])"
   ],
   "metadata": {
    "collapsed": false,
    "ExecuteTime": {
     "end_time": "2023-05-21T01:01:34.813717400Z",
     "start_time": "2023-05-21T01:01:34.774339600Z"
    }
   }
  },
  {
   "cell_type": "code",
   "execution_count": 472,
   "outputs": [],
   "source": [
    "# panel_tobin = proc_tobin[0].append(proc_tobin[1]).append(proc_tobin[2]).append(proc_tobin[3]).append(\n",
    "#     proc_tobin[4])\n",
    "# # print(proc_tobin[1])\n",
    "# panel_tobin.to_excel('./相对价值指标/panel_tobin.xls', index=False)"
   ],
   "metadata": {
    "collapsed": false,
    "ExecuteTime": {
     "end_time": "2023-05-21T01:01:34.834717100Z",
     "start_time": "2023-05-21T01:01:34.787798300Z"
    }
   }
  },
  {
   "cell_type": "markdown",
   "source": [
    "## TOP10"
   ],
   "metadata": {
    "collapsed": false
   }
  },
  {
   "cell_type": "code",
   "execution_count": 473,
   "outputs": [
    {
     "name": "stdout",
     "output_type": "stream",
     "text": [
      "           代码  TopTenHoldersRate    年份\n",
      "0      000002              57.40  2016\n",
      "1      000002              68.53  2017\n",
      "2      000002              71.70  2018\n",
      "3      000002              64.24  2019\n",
      "4      000002              58.98  2020\n",
      "...       ...                ...   ...\n",
      "16938  900957              48.17  2016\n",
      "16939  900957              48.43  2017\n",
      "16940  900957              48.02  2018\n",
      "16941  900957              48.17  2019\n",
      "16942  900957              48.30  2020\n",
      "\n",
      "[16543 rows x 3 columns]\n"
     ]
    }
   ],
   "source": [
    "top10 = pd.read_excel('./股权性质/EN_EquityNatureAll.xls', dtype={\"Symbol\": str}).dropna()\n",
    "top10[\"年份\"] = top10[\"EndDate\"].apply(lambda x: x[0:-6]).astype(int)\n",
    "top10 = top10.drop(columns=[\"EndDate\", \"ShortName\", \"EquityNature\"]).rename(columns={\"Symbol\": \"代码\"})\n",
    "print(top10)"
   ],
   "metadata": {
    "collapsed": false,
    "ExecuteTime": {
     "end_time": "2023-05-21T01:01:35.025748300Z",
     "start_time": "2023-05-21T01:01:34.813717400Z"
    }
   }
  },
  {
   "cell_type": "code",
   "execution_count": 474,
   "outputs": [
    {
     "name": "stdout",
     "output_type": "stream",
     "text": [
      "           代码  F050201B  F050501B  F050502B  F051201B    年份\n",
      "0      000002  0.034129  0.175352  0.190279  0.100603  2016\n",
      "1      000002  0.031929  0.199323  0.213626  0.102409  2017\n",
      "2      000002  0.032234  0.209117  0.233355  0.113374  2018\n",
      "3      000002  0.031869  0.203754  0.217825  0.109815  2019\n",
      "4      000002  0.031724  0.169499  0.191154  0.101030  2020\n",
      "...       ...       ...       ...       ...       ...   ...\n",
      "22502  900957  0.002594  0.007674  0.007513  0.040471  2016\n",
      "22503  900957  0.029444  0.070818  0.073418  0.068340  2017\n",
      "22504  900957  0.027493  0.061314  0.063254  0.062421  2018\n",
      "22505  900957  0.024900  0.053141  0.054591  0.057661  2019\n",
      "22506  900957  0.021673  0.043829  0.044811  0.052138  2020\n",
      "\n",
      "[17767 rows x 6 columns]\n"
     ]
    }
   ],
   "source": [
    "# 试图篡改BP\n",
    "new_bp = pd.read_excel('./盈利能力/FI_T5.xls', dtype={\"Stkcd\": str}).dropna()\n",
    "new_bp[\"年份\"] = new_bp[\"Accper\"].apply(lambda x: x[0:-6]).astype(int)\n",
    "new_bp = new_bp.drop(columns=[\"Accper\", \"ShortName\", \"Typrep\"]).rename(columns={\"Stkcd\": \"代码\"})\n",
    "print(new_bp)"
   ],
   "metadata": {
    "collapsed": false,
    "ExecuteTime": {
     "end_time": "2023-05-21T01:01:35.612418500Z",
     "start_time": "2023-05-21T01:01:35.024747900Z"
    }
   }
  },
  {
   "cell_type": "markdown",
   "source": [
    "# 汇总数据"
   ],
   "metadata": {
    "collapsed": false
   }
  },
  {
   "cell_type": "code",
   "execution_count": 475,
   "outputs": [],
   "source": [
    "# 合并各年的数据\n",
    "temp = {}\n",
    "for i in range(len(YEAR)):\n",
    "    temp[i] = pd.merge(\n",
    "        processed_csr[i], proc_perform[i], left_on=\"代码\", right_on=\"股票代码_Stkcd\", how='inner')\n",
    "    temp[i] = temp[i].drop(columns=['股票代码_Stkcd', '截止年份']).rename(columns={'总评分': 'CSR'})\n",
    "\n",
    "    temp[i] = pd.merge(\n",
    "        temp[i], proc_control[i], left_on=\"代码\", right_on=\"股票代码\", how='inner')\n",
    "    temp[i] = temp[i].drop(columns=['股票代码', 'Year'])\n",
    "\n",
    "    # temp[i] = pd.merge(\n",
    "    #     temp[i], proc_tobin[i], left_on=\"代码\", right_on=\"Stkcd\", how='inner')\n",
    "    # temp[i] = temp[i].drop(columns=['Stkcd', 'Year'])"
   ],
   "metadata": {
    "collapsed": false,
    "ExecuteTime": {
     "end_time": "2023-05-21T01:01:35.689444300Z",
     "start_time": "2023-05-21T01:01:35.617419400Z"
    }
   }
  },
  {
   "cell_type": "code",
   "execution_count": 476,
   "outputs": [
    {
     "name": "stdout",
     "output_type": "stream",
     "text": [
      "           代码    CSR  Performance      股权性质 行业         规模      负债水平    年份  \\\n",
      "0      000002  76.52       8.2292  0.000000  0  27.351214  0.810123  2016   \n",
      "1      000006  63.26       0.2853  0.000000  0  23.359293  0.681010  2016   \n",
      "2      000008  21.29       3.0131  0.010889  1  22.692695  0.182457  2016   \n",
      "3      000009  60.48       4.6359  0.000000  0  23.693515  0.626512  2016   \n",
      "4      000010  15.97       0.9987  0.018431  0  22.266480  0.528967  2016   \n",
      "...       ...    ...          ...       ... ..        ...       ...   ...   \n",
      "14301  603991   3.33      -9.3343  0.000000  1  20.206846  0.357558  2020   \n",
      "14302  603993  19.34       3.9868  0.000000  0  25.544613  0.605590  2020   \n",
      "14303  603997   7.29      -7.4037  0.000000  1  23.579522  0.754537  2020   \n",
      "14304  603998  27.31       5.2548  0.000000  1  21.448076  0.408192  2020   \n",
      "14305  603999  16.20       3.2931  0.000000  0  21.472300  0.167235  2020   \n",
      "\n",
      "       TopTenHoldersRate  F050201B  ...  F051201B  F100901A  F010101A  \\\n",
      "0                  57.40  0.034129  ...  0.100603  1.069010  1.243616   \n",
      "1                  40.86  0.061037  ...  0.102488  1.576953  2.433239   \n",
      "2                  40.42  0.064758  ...  0.079899  2.299946  2.245238   \n",
      "3                  21.41  0.019400  ...  0.041349  1.644684  1.413740   \n",
      "4                  44.33  0.008022  ...  0.034961  1.419832  1.395223   \n",
      "...                  ...       ...  ...       ...       ...       ...   \n",
      "14301              60.84 -0.084098  ... -0.086173  5.486378  1.622607   \n",
      "14302              79.28  0.020244  ...  0.035697  1.585558  1.351332   \n",
      "14303              85.63 -0.019652  ...  0.000811  1.138218  0.971289   \n",
      "14304              51.93  0.023978  ...  0.037531  1.582559  0.907765   \n",
      "14305              64.62  0.035056  ...  0.030827  1.654336  5.265347   \n",
      "\n",
      "       F010201A  F011201A  F011401A   TotalAssets  TotalLiability       企业规模  \\\n",
      "0      0.437819  0.805367  0.806787  8.306742e+11    6.689976e+11  27.445504   \n",
      "1      0.742604  0.610499  0.610499  1.317039e+10    8.040510e+09  23.301237   \n",
      "2      1.948583  0.246583  0.392229  8.192657e+09    2.020171e+09  22.826504   \n",
      "3      0.632769  0.623791  0.665712  2.162293e+10    1.348819e+10  23.797020   \n",
      "4      0.566797  0.544721  0.638126  4.853288e+09    2.643687e+09  22.302922   \n",
      "...         ...       ...       ...           ...             ...        ...   \n",
      "14301  1.418039  0.351046  0.367747  5.717125e+08    2.006973e+08  20.164147   \n",
      "14302  0.851540  0.613408  0.747079  1.224412e+11    7.510639e+10  25.530897   \n",
      "14303  0.753287  0.736398  1.004167  1.732582e+10    1.275871e+10  23.575464   \n",
      "14304  0.668441  0.435642  0.553619  2.242781e+09    9.770498e+08  21.530982   \n",
      "14305  4.812836  0.166607  0.168986  2.137164e+09    3.560671e+08  21.482746   \n",
      "\n",
      "        国有股持股比例  \n",
      "0      0.000000  \n",
      "1      0.000000  \n",
      "2      0.010889  \n",
      "3      0.000000  \n",
      "4      0.018431  \n",
      "...         ...  \n",
      "14301  0.000000  \n",
      "14302  0.000000  \n",
      "14303  0.000000  \n",
      "14304  0.000000  \n",
      "14305  0.000000  \n",
      "\n",
      "[14306 rows x 22 columns]\n"
     ]
    }
   ],
   "source": [
    "panel_raw_data = temp[0].append(temp[1]).append(temp[2]).append(temp[3]).append(temp[4])\n",
    "panel_raw_data = pd.merge(panel_raw_data, top10, on=[\"代码\", \"年份\"], how='inner')\n",
    "panel_raw_data = pd.merge(panel_raw_data, new_bp, on=[\"代码\", \"年份\"], how='inner')\n",
    "panel_raw_data = pd.merge(panel_raw_data, tobin, on=[\"代码\", \"年份\"], how='inner')\n",
    "panel_raw_data = pd.merge(panel_raw_data, debt, on=[\"代码\", \"年份\"], how='inner')\n",
    "panel_raw_data = pd.merge(panel_raw_data, size, on=[\"代码\", \"年份\"], how='inner')\n",
    "panel_raw_data = pd.merge(panel_raw_data, state, on=[\"代码\", \"年份\"], how='inner')\n",
    "print(panel_raw_data)"
   ],
   "metadata": {
    "collapsed": false,
    "ExecuteTime": {
     "end_time": "2023-05-21T01:01:35.801179600Z",
     "start_time": "2023-05-21T01:01:35.680440800Z"
    }
   }
  },
  {
   "cell_type": "code",
   "execution_count": 477,
   "outputs": [],
   "source": [
    "balance_index = panel_raw_data.groupby(by='代码')['年份'].count()[\n",
    "    panel_raw_data.groupby(by='代码')['年份'].count() == 5].index\n",
    "balance_data = panel_raw_data[panel_raw_data['代码'].isin(balance_index)]"
   ],
   "metadata": {
    "collapsed": false,
    "ExecuteTime": {
     "end_time": "2023-05-21T01:01:35.848191200Z",
     "start_time": "2023-05-21T01:01:35.775456600Z"
    }
   }
  },
  {
   "cell_type": "markdown",
   "source": [
    "至此得到平衡面板数据balance_data\n",
    "\n",
    "下一步去除：\n",
    "1. 若数据缺失或有异常，则予以剔除\n",
    "2. 上市时间小于5的公司,为了避免IPO效应带来的影响，剔除2016年及之后上市的公司样本\n",
    "3. 所有“金融类”公司，鉴于金融行业具有普遍高负债等行业特性，剔除所有金融类公司\n",
    "4. 连续亏损的公司所存在的问题可能对论文研究造成一定影响，故剔除所有ST、SST、PT、\\*ST、S\\*ST公司"
   ],
   "metadata": {
    "collapsed": false
   }
  },
  {
   "cell_type": "markdown",
   "source": [
    "## 删除2016年及之后上市的公司"
   ],
   "metadata": {
    "collapsed": false
   }
  },
  {
   "cell_type": "code",
   "execution_count": 478,
   "outputs": [],
   "source": [
    "data_year = pd.read_excel('./上市时间/Year.xls', dtype={'股票代码': str})\n",
    "data_year['上市年份'] = pd.to_datetime(data_year['首次上市日期']).apply(lambda x: x.year)\n",
    "data_year = data_year[data_year['上市年份'] > 2015]"
   ],
   "metadata": {
    "collapsed": false,
    "ExecuteTime": {
     "end_time": "2023-05-21T01:01:36.171266Z",
     "start_time": "2023-05-21T01:01:35.807183Z"
    }
   }
  },
  {
   "cell_type": "code",
   "execution_count": 479,
   "outputs": [],
   "source": [
    "data_year_ID_unique = data_year['股票代码'].unique()\n",
    "firm_TTM = pd.DataFrame(columns=['股票代码', '上市年份'])\n",
    "for code in data_year_ID_unique:\n",
    "    temp = data_year[data_year['股票代码'] == code]['上市年份'].min()\n",
    "    firm_TTM = firm_TTM.append({\"股票代码\": code, \"上市年份\": temp}, ignore_index=True)\n",
    "# print(firm_TTM)"
   ],
   "metadata": {
    "collapsed": false,
    "ExecuteTime": {
     "end_time": "2023-05-21T01:01:39.636155300Z",
     "start_time": "2023-05-21T01:01:36.172266100Z"
    }
   }
  },
  {
   "cell_type": "code",
   "execution_count": 480,
   "outputs": [],
   "source": [
    "new_firm_ID = firm_TTM['股票代码']\n",
    "final_data = balance_data[~balance_data['代码'].isin(new_firm_ID)]"
   ],
   "metadata": {
    "collapsed": false,
    "ExecuteTime": {
     "end_time": "2023-05-21T01:01:39.650598600Z",
     "start_time": "2023-05-21T01:01:39.639155400Z"
    }
   }
  },
  {
   "cell_type": "code",
   "execution_count": 481,
   "outputs": [],
   "source": [
    "# 将代码、行业性质、股权性质转化为int类型，便于Stata识别\n",
    "final_data['IND'] = final_data['行业'].astype(int)\n",
    "# 改正performance,负债水平,股权性质\n",
    "final_data = final_data.drop(columns=['行业']).rename(\n",
    "    columns={'代码': 'Stk_cd', 'F050501B': 'BP', '国有股持股比例': 'SOE', '企业规模': 'SIZE', 'F011201A': 'LEV',\n",
    "             '年份': 'YEAR', 'F100901A': 'TOBINQ', 'TopTenHoldersRate': 'TOP10'})\n",
    "final_data.to_excel('./final_data.xls', index=False)\n",
    "# print(final_data)"
   ],
   "metadata": {
    "collapsed": false,
    "ExecuteTime": {
     "end_time": "2023-05-21T01:01:41.748906200Z",
     "start_time": "2023-05-21T01:01:39.654608300Z"
    }
   }
  },
  {
   "cell_type": "markdown",
   "source": [
    "## 检查是否有异常值或缺失值"
   ],
   "metadata": {
    "collapsed": false
   }
  },
  {
   "cell_type": "code",
   "execution_count": 482,
   "outputs": [
    {
     "name": "stdout",
     "output_type": "stream",
     "text": [
      "Index([], dtype='object', name='Stk_cd')\n",
      "无缺失值\n"
     ]
    }
   ],
   "source": [
    "# 检查是否平衡\n",
    "imbalance_index = final_data.groupby(by='Stk_cd')['YEAR'].count()[\n",
    "    final_data.groupby(by='Stk_cd')['YEAR'].count() != 5].index\n",
    "print(imbalance_index)\n",
    "# 检查是否有缺失值\n",
    "if final_data.isnull().values.any():\n",
    "    print(\"有缺失值\")\n",
    "else:\n",
    "    print(\"无缺失值\")\n",
    "\n",
    "# final_data[final_data.isnull().values==True]"
   ],
   "metadata": {
    "collapsed": false,
    "ExecuteTime": {
     "end_time": "2023-05-21T01:01:41.763909Z",
     "start_time": "2023-05-21T01:01:41.751906800Z"
    }
   }
  },
  {
   "cell_type": "code",
   "execution_count": 483,
   "outputs": [
    {
     "name": "stdout",
     "output_type": "stream",
     "text": [
      "       Stk_cd    CSR  Performance      股权性质         规模      负债水平  YEAR  TOP10  \\\n",
      "0      000002  76.52       8.2292  0.000000  27.351214  0.810123  2016  57.40   \n",
      "2      000008  21.29       3.0131  0.010889  22.692695  0.182457  2016  40.42   \n",
      "5      000011  38.97      -0.0955  0.663507  22.617843  0.692242  2016  66.55   \n",
      "6      000012  72.45       3.1158  0.000000  23.552240  0.513330  2016  32.13   \n",
      "7      000014  28.67      -1.0270  0.000000  21.498907  0.655892  2016  52.79   \n",
      "...       ...    ...          ...       ...        ...       ...   ...    ...   \n",
      "14298  603988  28.11      22.7413  0.000000  21.002087  0.426588  2020  67.87   \n",
      "14299  603989  25.51      10.5181  0.000000  22.078823  0.334527  2020  74.30   \n",
      "14303  603997   7.29      -7.4037  0.000000  23.579522  0.754537  2020  85.63   \n",
      "14304  603998  27.31       5.2548  0.000000  21.448076  0.408192  2020  51.93   \n",
      "14305  603999  16.20       3.2931  0.000000  21.472300  0.167235  2020  64.62   \n",
      "\n",
      "       F050201B        BP  ...    TOBINQ  F010101A  F010201A       LEV  \\\n",
      "0      0.034129  0.175352  ...  1.069010  1.243616  0.437819  0.805367   \n",
      "2      0.064758  0.085953  ...  2.299946  2.245238  1.948583  0.246583   \n",
      "5      0.053327  0.147164  ...  1.421490  1.370795  0.741017  0.637636   \n",
      "6      0.046902  0.098931  ...  1.631295  0.380342  0.311649  0.525907   \n",
      "7      0.015537  0.036639  ...  2.813874  2.264582  0.411903  0.575952   \n",
      "...         ...       ...  ...       ...       ...       ...       ...   \n",
      "14298  0.135289  0.226269  ...  2.697320  2.274847  1.681677  0.402089   \n",
      "14299  0.088106  0.142083  ...  2.821724  2.774127  2.276144  0.379898   \n",
      "14303 -0.019652 -0.074551  ...  1.138218  0.971289  0.753287  0.736398   \n",
      "14304  0.023978  0.042487  ...  1.582559  0.907765  0.668441  0.435642   \n",
      "14305  0.035056  0.042065  ...  1.654336  5.265347  4.812836  0.166607   \n",
      "\n",
      "       F011401A   TotalAssets  TotalLiability       SIZE       SOE  IND  \n",
      "0      0.806787  8.306742e+11    6.689976e+11  27.445504  0.000000    0  \n",
      "2      0.392229  8.192657e+09    2.020171e+09  22.826504  0.010889    1  \n",
      "5      0.645935  6.654356e+09    4.243059e+09  22.618538  0.588242    0  \n",
      "6      0.573751  1.714682e+10    9.017625e+09  23.565078  0.000000    1  \n",
      "7      0.576114  1.873814e+09    1.079228e+09  21.351242  0.000000    0  \n",
      "...         ...           ...             ...        ...       ...  ...  \n",
      "14298  0.411311  1.265546e+09    5.088617e+08  20.958769  0.000000    1  \n",
      "14299  0.382449  4.349108e+09    1.652216e+09  22.193237  0.000000    1  \n",
      "14303  1.004167  1.732582e+10    1.275871e+10  23.575464  0.000000    1  \n",
      "14304  0.553619  2.242781e+09    9.770498e+08  21.530982  0.000000    1  \n",
      "14305  0.168986  2.137164e+09    3.560671e+08  21.482746  0.000000    0  \n",
      "\n",
      "[9995 rows x 22 columns]\n"
     ]
    }
   ],
   "source": [
    "print(final_data)"
   ],
   "metadata": {
    "collapsed": false,
    "ExecuteTime": {
     "end_time": "2023-05-21T01:01:41.824826500Z",
     "start_time": "2023-05-21T01:01:41.765910300Z"
    }
   }
  }
 ],
 "metadata": {
  "kernelspec": {
   "display_name": "Python 3",
   "language": "python",
   "name": "python3"
  },
  "language_info": {
   "codemirror_mode": {
    "name": "ipython",
    "version": 2
   },
   "file_extension": ".py",
   "mimetype": "text/x-python",
   "name": "python",
   "nbconvert_exporter": "python",
   "pygments_lexer": "ipython2",
   "version": "2.7.6"
  }
 },
 "nbformat": 4,
 "nbformat_minor": 0
}
